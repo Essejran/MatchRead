{
 "cells": [
  {
   "cell_type": "code",
   "execution_count": 4,
   "metadata": {
    "execution": {
     "iopub.execute_input": "2024-09-07T17:00:30.286761Z",
     "iopub.status.busy": "2024-09-07T17:00:30.286208Z",
     "iopub.status.idle": "2024-09-07T17:00:31.216044Z",
     "shell.execute_reply": "2024-09-07T17:00:31.215646Z"
    }
   },
   "outputs": [],
   "source": [
    "import numpy as np\n",
    "import pandas as pd\n",
    "import matplotlib.pyplot as plt\n",
    "import seaborn as sns\n",
    "import pickle\n",
    "import sklearn\n",
    "# import pickleshare as ps"
   ]
  },
  {
   "cell_type": "code",
   "execution_count": 5,
   "metadata": {
    "execution": {
     "iopub.execute_input": "2024-09-07T17:00:31.217705Z",
     "iopub.status.busy": "2024-09-07T17:00:31.217576Z",
     "iopub.status.idle": "2024-09-07T17:00:33.056380Z",
     "shell.execute_reply": "2024-09-07T17:00:33.056102Z"
    }
   },
   "outputs": [
    {
     "name": "stdout",
     "output_type": "stream",
     "text": [
      "Continuing with existing version of data folder\n",
      "Goodreads dataset loaded successfully as books_goodreads\n",
      "Pandas dataframes (books_goodreads, books_big, book, users, ratings) loaded successfully\n",
      "Columns in DataFrames 'users' and 'ratings' renamed\n",
      "You can use the DataFrames 'books' or 'books_big' - they are exactly the same (big) dataset\n",
      "Ready to go!\n"
     ]
    }
   ],
   "source": [
    "%run import_data"
   ]
  },
  {
   "cell_type": "code",
   "execution_count": 6,
   "metadata": {
    "execution": {
     "iopub.execute_input": "2024-09-07T17:00:33.060755Z",
     "iopub.status.busy": "2024-09-07T17:00:33.060672Z",
     "iopub.status.idle": "2024-09-07T17:00:33.067268Z",
     "shell.execute_reply": "2024-09-07T17:00:33.067031Z"
    }
   },
   "outputs": [
    {
     "data": {
      "text/html": [
       "<div>\n",
       "<style scoped>\n",
       "    .dataframe tbody tr th:only-of-type {\n",
       "        vertical-align: middle;\n",
       "    }\n",
       "\n",
       "    .dataframe tbody tr th {\n",
       "        vertical-align: top;\n",
       "    }\n",
       "\n",
       "    .dataframe thead th {\n",
       "        text-align: right;\n",
       "    }\n",
       "</style>\n",
       "<table border=\"1\" class=\"dataframe\">\n",
       "  <thead>\n",
       "    <tr style=\"text-align: right;\">\n",
       "      <th></th>\n",
       "      <th>isbn</th>\n",
       "      <th>book_title</th>\n",
       "      <th>book_author</th>\n",
       "      <th>year_of_publication</th>\n",
       "      <th>publisher</th>\n",
       "      <th>image_url_s</th>\n",
       "      <th>image_url_m</th>\n",
       "      <th>image_url_l</th>\n",
       "      <th>genre</th>\n",
       "    </tr>\n",
       "  </thead>\n",
       "  <tbody>\n",
       "    <tr>\n",
       "      <th>0</th>\n",
       "      <td>590085417</td>\n",
       "      <td>Heidi</td>\n",
       "      <td>Johanna Spyri</td>\n",
       "      <td>2021</td>\n",
       "      <td>Scholastic</td>\n",
       "      <td>http://images.amazon.com/images/P/0590085417.0...</td>\n",
       "      <td>http://images.amazon.com/images/P/0590085417.0...</td>\n",
       "      <td>http://images.amazon.com/images/P/0590085417.0...</td>\n",
       "      <td>Johanna Spyri, Shirley Temple, Movie tie-in, C...</td>\n",
       "    </tr>\n",
       "    <tr>\n",
       "      <th>1</th>\n",
       "      <td>068160204X</td>\n",
       "      <td>The Royals</td>\n",
       "      <td>Kitty Kelley</td>\n",
       "      <td>2020</td>\n",
       "      <td>Bausch &amp; Lombard</td>\n",
       "      <td>http://images.amazon.com/images/P/068160204X.0...</td>\n",
       "      <td>http://images.amazon.com/images/P/068160204X.0...</td>\n",
       "      <td>http://images.amazon.com/images/P/068160204X.0...</td>\n",
       "      <td>NaN</td>\n",
       "    </tr>\n",
       "    <tr>\n",
       "      <th>2</th>\n",
       "      <td>068107468X</td>\n",
       "      <td>Edgar Allen Poe Collected Poems</td>\n",
       "      <td>Edgar Allan Poe</td>\n",
       "      <td>2020</td>\n",
       "      <td>Bausch &amp; Lombard</td>\n",
       "      <td>http://images.amazon.com/images/P/068107468X.0...</td>\n",
       "      <td>http://images.amazon.com/images/P/068107468X.0...</td>\n",
       "      <td>http://images.amazon.com/images/P/068107468X.0...</td>\n",
       "      <td>American Fantasy poetry</td>\n",
       "    </tr>\n",
       "    <tr>\n",
       "      <th>3</th>\n",
       "      <td>307124533</td>\n",
       "      <td>Owl's Amazing but True No. 2</td>\n",
       "      <td>Owl Magazine</td>\n",
       "      <td>2012</td>\n",
       "      <td>Golden Books</td>\n",
       "      <td>http://images.amazon.com/images/P/0307124533.0...</td>\n",
       "      <td>http://images.amazon.com/images/P/0307124533.0...</td>\n",
       "      <td>http://images.amazon.com/images/P/0307124533.0...</td>\n",
       "      <td>NaN</td>\n",
       "    </tr>\n",
       "    <tr>\n",
       "      <th>4</th>\n",
       "      <td>380816792</td>\n",
       "      <td>A Rose in Winter</td>\n",
       "      <td>Kathleen E. Woodiwiss</td>\n",
       "      <td>2011</td>\n",
       "      <td>Harper Mass Market Paperbacks</td>\n",
       "      <td>http://images.amazon.com/images/P/0380816792.0...</td>\n",
       "      <td>http://images.amazon.com/images/P/0380816792.0...</td>\n",
       "      <td>http://images.amazon.com/images/P/0380816792.0...</td>\n",
       "      <td>Fiction, Historical Fiction, Romance, Fiction,...</td>\n",
       "    </tr>\n",
       "  </tbody>\n",
       "</table>\n",
       "</div>"
      ],
      "text/plain": [
       "         isbn                       book_title            book_author  \\\n",
       "0   590085417                            Heidi          Johanna Spyri   \n",
       "1  068160204X                       The Royals           Kitty Kelley   \n",
       "2  068107468X  Edgar Allen Poe Collected Poems        Edgar Allan Poe   \n",
       "3   307124533     Owl's Amazing but True No. 2           Owl Magazine   \n",
       "4   380816792                 A Rose in Winter  Kathleen E. Woodiwiss   \n",
       "\n",
       "   year_of_publication                      publisher  \\\n",
       "0                 2021                     Scholastic   \n",
       "1                 2020               Bausch & Lombard   \n",
       "2                 2020               Bausch & Lombard   \n",
       "3                 2012                   Golden Books   \n",
       "4                 2011  Harper Mass Market Paperbacks   \n",
       "\n",
       "                                         image_url_s  \\\n",
       "0  http://images.amazon.com/images/P/0590085417.0...   \n",
       "1  http://images.amazon.com/images/P/068160204X.0...   \n",
       "2  http://images.amazon.com/images/P/068107468X.0...   \n",
       "3  http://images.amazon.com/images/P/0307124533.0...   \n",
       "4  http://images.amazon.com/images/P/0380816792.0...   \n",
       "\n",
       "                                         image_url_m  \\\n",
       "0  http://images.amazon.com/images/P/0590085417.0...   \n",
       "1  http://images.amazon.com/images/P/068160204X.0...   \n",
       "2  http://images.amazon.com/images/P/068107468X.0...   \n",
       "3  http://images.amazon.com/images/P/0307124533.0...   \n",
       "4  http://images.amazon.com/images/P/0380816792.0...   \n",
       "\n",
       "                                         image_url_l  \\\n",
       "0  http://images.amazon.com/images/P/0590085417.0...   \n",
       "1  http://images.amazon.com/images/P/068160204X.0...   \n",
       "2  http://images.amazon.com/images/P/068107468X.0...   \n",
       "3  http://images.amazon.com/images/P/0307124533.0...   \n",
       "4  http://images.amazon.com/images/P/0380816792.0...   \n",
       "\n",
       "                                               genre  \n",
       "0  Johanna Spyri, Shirley Temple, Movie tie-in, C...  \n",
       "1                                                NaN  \n",
       "2                            American Fantasy poetry  \n",
       "3                                                NaN  \n",
       "4  Fiction, Historical Fiction, Romance, Fiction,...  "
      ]
     },
     "execution_count": 6,
     "metadata": {},
     "output_type": "execute_result"
    }
   ],
   "source": [
    "books_big.head()"
   ]
  },
  {
   "cell_type": "code",
   "execution_count": 7,
   "metadata": {
    "execution": {
     "iopub.execute_input": "2024-09-07T17:00:33.068507Z",
     "iopub.status.busy": "2024-09-07T17:00:33.068420Z",
     "iopub.status.idle": "2024-09-07T17:00:33.083433Z",
     "shell.execute_reply": "2024-09-07T17:00:33.083153Z"
    }
   },
   "outputs": [
    {
     "data": {
      "text/html": [
       "<div>\n",
       "<style scoped>\n",
       "    .dataframe tbody tr th:only-of-type {\n",
       "        vertical-align: middle;\n",
       "    }\n",
       "\n",
       "    .dataframe tbody tr th {\n",
       "        vertical-align: top;\n",
       "    }\n",
       "\n",
       "    .dataframe thead th {\n",
       "        text-align: right;\n",
       "    }\n",
       "</style>\n",
       "<table border=\"1\" class=\"dataframe\">\n",
       "  <thead>\n",
       "    <tr style=\"text-align: right;\">\n",
       "      <th></th>\n",
       "      <th>isbn</th>\n",
       "      <th>book_title</th>\n",
       "      <th>book_author</th>\n",
       "      <th>year_of_publication</th>\n",
       "      <th>publisher</th>\n",
       "      <th>genre</th>\n",
       "    </tr>\n",
       "  </thead>\n",
       "  <tbody>\n",
       "    <tr>\n",
       "      <th>0</th>\n",
       "      <td>590085417</td>\n",
       "      <td>Heidi</td>\n",
       "      <td>Johanna Spyri</td>\n",
       "      <td>2021</td>\n",
       "      <td>Scholastic</td>\n",
       "      <td>Johanna Spyri, Shirley Temple, Movie tie-in, C...</td>\n",
       "    </tr>\n",
       "    <tr>\n",
       "      <th>1</th>\n",
       "      <td>068160204X</td>\n",
       "      <td>The Royals</td>\n",
       "      <td>Kitty Kelley</td>\n",
       "      <td>2020</td>\n",
       "      <td>Bausch &amp; Lombard</td>\n",
       "      <td>NaN</td>\n",
       "    </tr>\n",
       "    <tr>\n",
       "      <th>2</th>\n",
       "      <td>068107468X</td>\n",
       "      <td>Edgar Allen Poe Collected Poems</td>\n",
       "      <td>Edgar Allan Poe</td>\n",
       "      <td>2020</td>\n",
       "      <td>Bausch &amp; Lombard</td>\n",
       "      <td>American Fantasy poetry</td>\n",
       "    </tr>\n",
       "    <tr>\n",
       "      <th>3</th>\n",
       "      <td>307124533</td>\n",
       "      <td>Owl's Amazing but True No. 2</td>\n",
       "      <td>Owl Magazine</td>\n",
       "      <td>2012</td>\n",
       "      <td>Golden Books</td>\n",
       "      <td>NaN</td>\n",
       "    </tr>\n",
       "    <tr>\n",
       "      <th>4</th>\n",
       "      <td>380816792</td>\n",
       "      <td>A Rose in Winter</td>\n",
       "      <td>Kathleen E. Woodiwiss</td>\n",
       "      <td>2011</td>\n",
       "      <td>Harper Mass Market Paperbacks</td>\n",
       "      <td>Fiction, Historical Fiction, Romance, Fiction,...</td>\n",
       "    </tr>\n",
       "  </tbody>\n",
       "</table>\n",
       "</div>"
      ],
      "text/plain": [
       "         isbn                       book_title            book_author  \\\n",
       "0   590085417                            Heidi          Johanna Spyri   \n",
       "1  068160204X                       The Royals           Kitty Kelley   \n",
       "2  068107468X  Edgar Allen Poe Collected Poems        Edgar Allan Poe   \n",
       "3   307124533     Owl's Amazing but True No. 2           Owl Magazine   \n",
       "4   380816792                 A Rose in Winter  Kathleen E. Woodiwiss   \n",
       "\n",
       "   year_of_publication                      publisher  \\\n",
       "0                 2021                     Scholastic   \n",
       "1                 2020               Bausch & Lombard   \n",
       "2                 2020               Bausch & Lombard   \n",
       "3                 2012                   Golden Books   \n",
       "4                 2011  Harper Mass Market Paperbacks   \n",
       "\n",
       "                                               genre  \n",
       "0  Johanna Spyri, Shirley Temple, Movie tie-in, C...  \n",
       "1                                                NaN  \n",
       "2                            American Fantasy poetry  \n",
       "3                                                NaN  \n",
       "4  Fiction, Historical Fiction, Romance, Fiction,...  "
      ]
     },
     "execution_count": 7,
     "metadata": {},
     "output_type": "execute_result"
    }
   ],
   "source": [
    "# dropping URLS columns as they are not needed\n",
    "\n",
    "books_big.drop(['image_url_s', 'image_url_m', 'image_url_l'], axis=1, inplace=True)\n",
    "books_big.head()"
   ]
  },
  {
   "cell_type": "code",
   "execution_count": 8,
   "metadata": {
    "execution": {
     "iopub.execute_input": "2024-09-07T17:00:33.084913Z",
     "iopub.status.busy": "2024-09-07T17:00:33.084829Z",
     "iopub.status.idle": "2024-09-07T17:00:33.129668Z",
     "shell.execute_reply": "2024-09-07T17:00:33.129384Z"
    }
   },
   "outputs": [
    {
     "data": {
      "text/plain": [
       "202709"
      ]
     },
     "execution_count": 8,
     "metadata": {},
     "output_type": "execute_result"
    }
   ],
   "source": [
    "books_big.book_title.nunique()"
   ]
  },
  {
   "cell_type": "code",
   "execution_count": 9,
   "metadata": {
    "execution": {
     "iopub.execute_input": "2024-09-07T17:00:33.131054Z",
     "iopub.status.busy": "2024-09-07T17:00:33.130966Z",
     "iopub.status.idle": "2024-09-07T17:00:33.132996Z",
     "shell.execute_reply": "2024-09-07T17:00:33.132746Z"
    }
   },
   "outputs": [
    {
     "data": {
      "text/plain": [
       "(226493, 6)"
      ]
     },
     "execution_count": 9,
     "metadata": {},
     "output_type": "execute_result"
    }
   ],
   "source": [
    "books_big.shape"
   ]
  },
  {
   "cell_type": "code",
   "execution_count": 10,
   "metadata": {
    "execution": {
     "iopub.execute_input": "2024-09-07T17:00:33.134274Z",
     "iopub.status.busy": "2024-09-07T17:00:33.134173Z",
     "iopub.status.idle": "2024-09-07T17:00:33.137213Z",
     "shell.execute_reply": "2024-09-07T17:00:33.136970Z"
    }
   },
   "outputs": [
    {
     "data": {
      "text/html": [
       "<div>\n",
       "<style scoped>\n",
       "    .dataframe tbody tr th:only-of-type {\n",
       "        vertical-align: middle;\n",
       "    }\n",
       "\n",
       "    .dataframe tbody tr th {\n",
       "        vertical-align: top;\n",
       "    }\n",
       "\n",
       "    .dataframe thead th {\n",
       "        text-align: right;\n",
       "    }\n",
       "</style>\n",
       "<table border=\"1\" class=\"dataframe\">\n",
       "  <thead>\n",
       "    <tr style=\"text-align: right;\">\n",
       "      <th></th>\n",
       "      <th>user_id</th>\n",
       "      <th>isbn</th>\n",
       "      <th>book_rating</th>\n",
       "    </tr>\n",
       "  </thead>\n",
       "  <tbody>\n",
       "    <tr>\n",
       "      <th>0</th>\n",
       "      <td>276725</td>\n",
       "      <td>034545104X</td>\n",
       "      <td>0</td>\n",
       "    </tr>\n",
       "    <tr>\n",
       "      <th>1</th>\n",
       "      <td>276726</td>\n",
       "      <td>0155061224</td>\n",
       "      <td>5</td>\n",
       "    </tr>\n",
       "    <tr>\n",
       "      <th>2</th>\n",
       "      <td>276727</td>\n",
       "      <td>0446520802</td>\n",
       "      <td>0</td>\n",
       "    </tr>\n",
       "    <tr>\n",
       "      <th>3</th>\n",
       "      <td>276729</td>\n",
       "      <td>052165615X</td>\n",
       "      <td>3</td>\n",
       "    </tr>\n",
       "    <tr>\n",
       "      <th>4</th>\n",
       "      <td>276729</td>\n",
       "      <td>0521795028</td>\n",
       "      <td>6</td>\n",
       "    </tr>\n",
       "  </tbody>\n",
       "</table>\n",
       "</div>"
      ],
      "text/plain": [
       "   user_id        isbn  book_rating\n",
       "0   276725  034545104X            0\n",
       "1   276726  0155061224            5\n",
       "2   276727  0446520802            0\n",
       "3   276729  052165615X            3\n",
       "4   276729  0521795028            6"
      ]
     },
     "execution_count": 10,
     "metadata": {},
     "output_type": "execute_result"
    }
   ],
   "source": [
    "ratings.head()"
   ]
  },
  {
   "cell_type": "code",
   "execution_count": 11,
   "metadata": {
    "execution": {
     "iopub.execute_input": "2024-09-07T17:00:33.138394Z",
     "iopub.status.busy": "2024-09-07T17:00:33.138312Z",
     "iopub.status.idle": "2024-09-07T17:00:33.371359Z",
     "shell.execute_reply": "2024-09-07T17:00:33.371048Z"
    }
   },
   "outputs": [
    {
     "data": {
      "text/html": [
       "<div>\n",
       "<style scoped>\n",
       "    .dataframe tbody tr th:only-of-type {\n",
       "        vertical-align: middle;\n",
       "    }\n",
       "\n",
       "    .dataframe tbody tr th {\n",
       "        vertical-align: top;\n",
       "    }\n",
       "\n",
       "    .dataframe thead th {\n",
       "        text-align: right;\n",
       "    }\n",
       "</style>\n",
       "<table border=\"1\" class=\"dataframe\">\n",
       "  <thead>\n",
       "    <tr style=\"text-align: right;\">\n",
       "      <th></th>\n",
       "      <th>isbn</th>\n",
       "      <th>book_title</th>\n",
       "      <th>book_author</th>\n",
       "      <th>year_of_publication</th>\n",
       "      <th>publisher</th>\n",
       "      <th>genre</th>\n",
       "      <th>user_id</th>\n",
       "      <th>book_rating</th>\n",
       "    </tr>\n",
       "  </thead>\n",
       "  <tbody>\n",
       "    <tr>\n",
       "      <th>0</th>\n",
       "      <td>590085417</td>\n",
       "      <td>Heidi</td>\n",
       "      <td>Johanna Spyri</td>\n",
       "      <td>2021</td>\n",
       "      <td>Scholastic</td>\n",
       "      <td>Johanna Spyri, Shirley Temple, Movie tie-in, C...</td>\n",
       "      <td>NaN</td>\n",
       "      <td>NaN</td>\n",
       "    </tr>\n",
       "    <tr>\n",
       "      <th>1</th>\n",
       "      <td>068160204X</td>\n",
       "      <td>The Royals</td>\n",
       "      <td>Kitty Kelley</td>\n",
       "      <td>2020</td>\n",
       "      <td>Bausch &amp; Lombard</td>\n",
       "      <td>NaN</td>\n",
       "      <td>16634.0</td>\n",
       "      <td>0.0</td>\n",
       "    </tr>\n",
       "    <tr>\n",
       "      <th>2</th>\n",
       "      <td>068160204X</td>\n",
       "      <td>The Royals</td>\n",
       "      <td>Kitty Kelley</td>\n",
       "      <td>2020</td>\n",
       "      <td>Bausch &amp; Lombard</td>\n",
       "      <td>NaN</td>\n",
       "      <td>87141.0</td>\n",
       "      <td>0.0</td>\n",
       "    </tr>\n",
       "    <tr>\n",
       "      <th>3</th>\n",
       "      <td>068160204X</td>\n",
       "      <td>The Royals</td>\n",
       "      <td>Kitty Kelley</td>\n",
       "      <td>2020</td>\n",
       "      <td>Bausch &amp; Lombard</td>\n",
       "      <td>NaN</td>\n",
       "      <td>169736.0</td>\n",
       "      <td>7.0</td>\n",
       "    </tr>\n",
       "    <tr>\n",
       "      <th>4</th>\n",
       "      <td>068160204X</td>\n",
       "      <td>The Royals</td>\n",
       "      <td>Kitty Kelley</td>\n",
       "      <td>2020</td>\n",
       "      <td>Bausch &amp; Lombard</td>\n",
       "      <td>NaN</td>\n",
       "      <td>208406.0</td>\n",
       "      <td>0.0</td>\n",
       "    </tr>\n",
       "  </tbody>\n",
       "</table>\n",
       "</div>"
      ],
      "text/plain": [
       "         isbn  book_title    book_author  year_of_publication  \\\n",
       "0   590085417       Heidi  Johanna Spyri                 2021   \n",
       "1  068160204X  The Royals   Kitty Kelley                 2020   \n",
       "2  068160204X  The Royals   Kitty Kelley                 2020   \n",
       "3  068160204X  The Royals   Kitty Kelley                 2020   \n",
       "4  068160204X  The Royals   Kitty Kelley                 2020   \n",
       "\n",
       "          publisher                                              genre  \\\n",
       "0        Scholastic  Johanna Spyri, Shirley Temple, Movie tie-in, C...   \n",
       "1  Bausch & Lombard                                                NaN   \n",
       "2  Bausch & Lombard                                                NaN   \n",
       "3  Bausch & Lombard                                                NaN   \n",
       "4  Bausch & Lombard                                                NaN   \n",
       "\n",
       "    user_id  book_rating  \n",
       "0       NaN          NaN  \n",
       "1   16634.0          0.0  \n",
       "2   87141.0          0.0  \n",
       "3  169736.0          7.0  \n",
       "4  208406.0          0.0  "
      ]
     },
     "execution_count": 11,
     "metadata": {},
     "output_type": "execute_result"
    }
   ],
   "source": [
    "# merge books with ratings df\n",
    "books_ratings = pd.merge(books_big, ratings, on='isbn', how='left')\n",
    "books_ratings.head()"
   ]
  },
  {
   "cell_type": "code",
   "execution_count": 21,
   "metadata": {},
   "outputs": [
    {
     "name": "stdout",
     "output_type": "stream",
     "text": [
      "<class 'pandas.core.frame.DataFrame'>\n",
      "Index: 183600 entries, 1 to 350153\n",
      "Data columns (total 8 columns):\n",
      " #   Column               Non-Null Count   Dtype \n",
      "---  ------               --------------   ----- \n",
      " 0   isbn                 183600 non-null  object\n",
      " 1   book_title           183600 non-null  object\n",
      " 2   book_author          183537 non-null  object\n",
      " 3   year_of_publication  183600 non-null  int64 \n",
      " 4   publisher            183600 non-null  object\n",
      " 5   genre                152371 non-null  object\n",
      " 6   user_id              183600 non-null  int64 \n",
      " 7   book_rating          183600 non-null  int64 \n",
      "dtypes: int64(3), object(5)\n",
      "memory usage: 12.6+ MB\n"
     ]
    }
   ],
   "source": [
    "books_ratings.info()"
   ]
  },
  {
   "cell_type": "code",
   "execution_count": 12,
   "metadata": {
    "execution": {
     "iopub.execute_input": "2024-09-07T17:00:33.372794Z",
     "iopub.status.busy": "2024-09-07T17:00:33.372712Z",
     "iopub.status.idle": "2024-09-07T17:00:33.374810Z",
     "shell.execute_reply": "2024-09-07T17:00:33.374584Z"
    }
   },
   "outputs": [
    {
     "data": {
      "text/plain": [
       "(350155, 8)"
      ]
     },
     "execution_count": 12,
     "metadata": {},
     "output_type": "execute_result"
    }
   ],
   "source": [
    "books_ratings.shape"
   ]
  },
  {
   "cell_type": "code",
   "execution_count": 13,
   "metadata": {
    "execution": {
     "iopub.execute_input": "2024-09-07T17:00:33.376118Z",
     "iopub.status.busy": "2024-09-07T17:00:33.376012Z",
     "iopub.status.idle": "2024-09-07T17:00:33.430403Z",
     "shell.execute_reply": "2024-09-07T17:00:33.430109Z"
    }
   },
   "outputs": [
    {
     "data": {
      "text/plain": [
       "isbn                        0\n",
       "book_title                  0\n",
       "book_author               209\n",
       "year_of_publication         0\n",
       "publisher                   0\n",
       "genre                   45437\n",
       "user_id                166555\n",
       "book_rating            166555\n",
       "dtype: int64"
      ]
     },
     "execution_count": 13,
     "metadata": {},
     "output_type": "execute_result"
    }
   ],
   "source": [
    "books_ratings.isna().sum()"
   ]
  },
  {
   "cell_type": "code",
   "execution_count": 14,
   "metadata": {
    "execution": {
     "iopub.execute_input": "2024-09-07T17:00:33.431809Z",
     "iopub.status.busy": "2024-09-07T17:00:33.431731Z",
     "iopub.status.idle": "2024-09-07T17:00:33.446729Z",
     "shell.execute_reply": "2024-09-07T17:00:33.446491Z"
    }
   },
   "outputs": [
    {
     "data": {
      "text/html": [
       "<div>\n",
       "<style scoped>\n",
       "    .dataframe tbody tr th:only-of-type {\n",
       "        vertical-align: middle;\n",
       "    }\n",
       "\n",
       "    .dataframe tbody tr th {\n",
       "        vertical-align: top;\n",
       "    }\n",
       "\n",
       "    .dataframe thead th {\n",
       "        text-align: right;\n",
       "    }\n",
       "</style>\n",
       "<table border=\"1\" class=\"dataframe\">\n",
       "  <thead>\n",
       "    <tr style=\"text-align: right;\">\n",
       "      <th></th>\n",
       "      <th>isbn</th>\n",
       "      <th>book_title</th>\n",
       "      <th>book_author</th>\n",
       "      <th>year_of_publication</th>\n",
       "      <th>publisher</th>\n",
       "      <th>genre</th>\n",
       "      <th>user_id</th>\n",
       "      <th>book_rating</th>\n",
       "    </tr>\n",
       "  </thead>\n",
       "  <tbody>\n",
       "    <tr>\n",
       "      <th>1</th>\n",
       "      <td>068160204X</td>\n",
       "      <td>The Royals</td>\n",
       "      <td>Kitty Kelley</td>\n",
       "      <td>2020</td>\n",
       "      <td>Bausch &amp; Lombard</td>\n",
       "      <td>NaN</td>\n",
       "      <td>16634.0</td>\n",
       "      <td>0.0</td>\n",
       "    </tr>\n",
       "    <tr>\n",
       "      <th>2</th>\n",
       "      <td>068160204X</td>\n",
       "      <td>The Royals</td>\n",
       "      <td>Kitty Kelley</td>\n",
       "      <td>2020</td>\n",
       "      <td>Bausch &amp; Lombard</td>\n",
       "      <td>NaN</td>\n",
       "      <td>87141.0</td>\n",
       "      <td>0.0</td>\n",
       "    </tr>\n",
       "    <tr>\n",
       "      <th>3</th>\n",
       "      <td>068160204X</td>\n",
       "      <td>The Royals</td>\n",
       "      <td>Kitty Kelley</td>\n",
       "      <td>2020</td>\n",
       "      <td>Bausch &amp; Lombard</td>\n",
       "      <td>NaN</td>\n",
       "      <td>169736.0</td>\n",
       "      <td>7.0</td>\n",
       "    </tr>\n",
       "    <tr>\n",
       "      <th>4</th>\n",
       "      <td>068160204X</td>\n",
       "      <td>The Royals</td>\n",
       "      <td>Kitty Kelley</td>\n",
       "      <td>2020</td>\n",
       "      <td>Bausch &amp; Lombard</td>\n",
       "      <td>NaN</td>\n",
       "      <td>208406.0</td>\n",
       "      <td>0.0</td>\n",
       "    </tr>\n",
       "    <tr>\n",
       "      <th>5</th>\n",
       "      <td>068160204X</td>\n",
       "      <td>The Royals</td>\n",
       "      <td>Kitty Kelley</td>\n",
       "      <td>2020</td>\n",
       "      <td>Bausch &amp; Lombard</td>\n",
       "      <td>NaN</td>\n",
       "      <td>230496.0</td>\n",
       "      <td>0.0</td>\n",
       "    </tr>\n",
       "  </tbody>\n",
       "</table>\n",
       "</div>"
      ],
      "text/plain": [
       "         isbn  book_title   book_author  year_of_publication  \\\n",
       "1  068160204X  The Royals  Kitty Kelley                 2020   \n",
       "2  068160204X  The Royals  Kitty Kelley                 2020   \n",
       "3  068160204X  The Royals  Kitty Kelley                 2020   \n",
       "4  068160204X  The Royals  Kitty Kelley                 2020   \n",
       "5  068160204X  The Royals  Kitty Kelley                 2020   \n",
       "\n",
       "          publisher genre   user_id  book_rating  \n",
       "1  Bausch & Lombard   NaN   16634.0          0.0  \n",
       "2  Bausch & Lombard   NaN   87141.0          0.0  \n",
       "3  Bausch & Lombard   NaN  169736.0          7.0  \n",
       "4  Bausch & Lombard   NaN  208406.0          0.0  \n",
       "5  Bausch & Lombard   NaN  230496.0          0.0  "
      ]
     },
     "execution_count": 14,
     "metadata": {},
     "output_type": "execute_result"
    }
   ],
   "source": [
    "books_ratings.dropna(subset=['user_id'], inplace=True)          # drop rows with no user_id\n",
    "books_ratings.head()"
   ]
  },
  {
   "cell_type": "code",
   "execution_count": 15,
   "metadata": {
    "execution": {
     "iopub.execute_input": "2024-09-07T17:00:33.448086Z",
     "iopub.status.busy": "2024-09-07T17:00:33.448008Z",
     "iopub.status.idle": "2024-09-07T17:00:33.468446Z",
     "shell.execute_reply": "2024-09-07T17:00:33.468201Z"
    }
   },
   "outputs": [
    {
     "name": "stdout",
     "output_type": "stream",
     "text": [
      "<class 'pandas.core.frame.DataFrame'>\n",
      "Index: 183600 entries, 1 to 350153\n",
      "Data columns (total 8 columns):\n",
      " #   Column               Non-Null Count   Dtype  \n",
      "---  ------               --------------   -----  \n",
      " 0   isbn                 183600 non-null  object \n",
      " 1   book_title           183600 non-null  object \n",
      " 2   book_author          183537 non-null  object \n",
      " 3   year_of_publication  183600 non-null  int64  \n",
      " 4   publisher            183600 non-null  object \n",
      " 5   genre                152371 non-null  object \n",
      " 6   user_id              183600 non-null  float64\n",
      " 7   book_rating          183600 non-null  float64\n",
      "dtypes: float64(2), int64(1), object(5)\n",
      "memory usage: 12.6+ MB\n"
     ]
    }
   ],
   "source": [
    "books_ratings.info()"
   ]
  },
  {
   "cell_type": "code",
   "execution_count": 16,
   "metadata": {
    "execution": {
     "iopub.execute_input": "2024-09-07T17:00:33.469799Z",
     "iopub.status.busy": "2024-09-07T17:00:33.469722Z",
     "iopub.status.idle": "2024-09-07T17:00:33.471976Z",
     "shell.execute_reply": "2024-09-07T17:00:33.471752Z"
    }
   },
   "outputs": [],
   "source": [
    "books_ratings['user_id'] = books_ratings['user_id'].astype(int)\n",
    "books_ratings['book_rating'] = books_ratings['book_rating'].astype(int)"
   ]
  },
  {
   "cell_type": "code",
   "execution_count": 17,
   "metadata": {
    "execution": {
     "iopub.execute_input": "2024-09-07T17:00:33.473212Z",
     "iopub.status.busy": "2024-09-07T17:00:33.473139Z",
     "iopub.status.idle": "2024-09-07T17:00:34.303374Z",
     "shell.execute_reply": "2024-09-07T17:00:34.303099Z"
    }
   },
   "outputs": [],
   "source": [
    "books_ratings.to_csv('data/books_ratings.csv', index=False) # saving the merged dataframe to a csv file"
   ]
  },
  {
   "cell_type": "code",
   "execution_count": 18,
   "metadata": {
    "execution": {
     "iopub.execute_input": "2024-09-07T17:00:34.304903Z",
     "iopub.status.busy": "2024-09-07T17:00:34.304816Z",
     "iopub.status.idle": "2024-09-07T17:00:34.513138Z",
     "shell.execute_reply": "2024-09-07T17:00:34.511866Z"
    }
   },
   "outputs": [
    {
     "data": {
      "image/png": "[encoded data removed]",
      "text/plain": [
       "<Figure size 640x480 with 1 Axes>"
      ]
     },
     "metadata": {},
     "output_type": "display_data"
    }
   ],
   "source": [
    "# Group by 'isbn' and count the number of ratings for each ISBN\n",
    "isbn_rating_counts = books_ratings.groupby(['book_title', 'book_author', 'isbn']).size().reset_index(name='rating_count')\n",
    "\n",
    "# Display the DataFrame to verify the result\n",
    "ratings = isbn_rating_counts.sort_values('rating_count', ascending=False).head().plot(kind='bar', x='book_author', y='rating_count', color='skyblue')"
   ]
  },
  {
   "cell_type": "code",
   "execution_count": 19,
   "metadata": {
    "execution": {
     "iopub.execute_input": "2024-09-07T17:00:34.516091Z",
     "iopub.status.busy": "2024-09-07T17:00:34.515892Z",
     "iopub.status.idle": "2024-09-07T17:00:34.524385Z",
     "shell.execute_reply": "2024-09-07T17:00:34.523886Z"
    }
   },
   "outputs": [
    {
     "data": {
      "text/html": [
       "<div>\n",
       "<style scoped>\n",
       "    .dataframe tbody tr th:only-of-type {\n",
       "        vertical-align: middle;\n",
       "    }\n",
       "\n",
       "    .dataframe tbody tr th {\n",
       "        vertical-align: top;\n",
       "    }\n",
       "\n",
       "    .dataframe thead th {\n",
       "        text-align: right;\n",
       "    }\n",
       "</style>\n",
       "<table border=\"1\" class=\"dataframe\">\n",
       "  <thead>\n",
       "    <tr style=\"text-align: right;\">\n",
       "      <th></th>\n",
       "      <th>book_title</th>\n",
       "      <th>book_author</th>\n",
       "      <th>isbn</th>\n",
       "      <th>rating_count</th>\n",
       "    </tr>\n",
       "  </thead>\n",
       "  <tbody>\n",
       "    <tr>\n",
       "      <th>0</th>\n",
       "      <td>!%@ (A Nutshell handbook)</td>\n",
       "      <td>Donnalyn Frey</td>\n",
       "      <td>1565920317</td>\n",
       "      <td>1</td>\n",
       "    </tr>\n",
       "    <tr>\n",
       "      <th>1</th>\n",
       "      <td>!%@ (A Nutshell handbook)</td>\n",
       "      <td>Donnalyn Frey</td>\n",
       "      <td>1565920465</td>\n",
       "      <td>1</td>\n",
       "    </tr>\n",
       "    <tr>\n",
       "      <th>2</th>\n",
       "      <td>$30 Film School</td>\n",
       "      <td>Michael W. Dean</td>\n",
       "      <td>1592000673</td>\n",
       "      <td>1</td>\n",
       "    </tr>\n",
       "    <tr>\n",
       "      <th>3</th>\n",
       "      <td>$oft Money: The True Power in Our Nation's Cap...</td>\n",
       "      <td>E. L. Burton</td>\n",
       "      <td>1588204030</td>\n",
       "      <td>5</td>\n",
       "    </tr>\n",
       "    <tr>\n",
       "      <th>4</th>\n",
       "      <td>' Mein verwundetes Herz'. Das Leben der Lilli ...</td>\n",
       "      <td>Martin Doerry</td>\n",
       "      <td>342105634X</td>\n",
       "      <td>1</td>\n",
       "    </tr>\n",
       "  </tbody>\n",
       "</table>\n",
       "</div>"
      ],
      "text/plain": [
       "                                          book_title      book_author  \\\n",
       "0                          !%@ (A Nutshell handbook)    Donnalyn Frey   \n",
       "1                          !%@ (A Nutshell handbook)    Donnalyn Frey   \n",
       "2                                    $30 Film School  Michael W. Dean   \n",
       "3  $oft Money: The True Power in Our Nation's Cap...     E. L. Burton   \n",
       "4  ' Mein verwundetes Herz'. Das Leben der Lilli ...    Martin Doerry   \n",
       "\n",
       "         isbn  rating_count  \n",
       "0  1565920317             1  \n",
       "1  1565920465             1  \n",
       "2  1592000673             1  \n",
       "3  1588204030             5  \n",
       "4  342105634X             1  "
      ]
     },
     "execution_count": 19,
     "metadata": {},
     "output_type": "execute_result"
    }
   ],
   "source": [
    "isbn_rating_counts.head()"
   ]
  },
  {
   "cell_type": "code",
   "execution_count": 20,
   "metadata": {
    "execution": {
     "iopub.execute_input": "2024-09-07T17:00:34.526942Z",
     "iopub.status.busy": "2024-09-07T17:00:34.526785Z",
     "iopub.status.idle": "2024-09-07T17:00:34.632983Z",
     "shell.execute_reply": "2024-09-07T17:00:34.632464Z"
    }
   },
   "outputs": [
    {
     "data": {
      "text/html": [
       "<div>\n",
       "<style scoped>\n",
       "    .dataframe tbody tr th:only-of-type {\n",
       "        vertical-align: middle;\n",
       "    }\n",
       "\n",
       "    .dataframe tbody tr th {\n",
       "        vertical-align: top;\n",
       "    }\n",
       "\n",
       "    .dataframe thead th {\n",
       "        text-align: right;\n",
       "    }\n",
       "</style>\n",
       "<table border=\"1\" class=\"dataframe\">\n",
       "  <thead>\n",
       "    <tr style=\"text-align: right;\">\n",
       "      <th></th>\n",
       "      <th>book_title</th>\n",
       "      <th>book_author</th>\n",
       "      <th>isbn</th>\n",
       "      <th>rating_count</th>\n",
       "      <th>average_rating</th>\n",
       "    </tr>\n",
       "  </thead>\n",
       "  <tbody>\n",
       "    <tr>\n",
       "      <th>0</th>\n",
       "      <td>!%@ (A Nutshell handbook)</td>\n",
       "      <td>Donnalyn Frey</td>\n",
       "      <td>1565920317</td>\n",
       "      <td>1</td>\n",
       "      <td>6.0</td>\n",
       "    </tr>\n",
       "    <tr>\n",
       "      <th>1</th>\n",
       "      <td>!%@ (A Nutshell handbook)</td>\n",
       "      <td>Donnalyn Frey</td>\n",
       "      <td>1565920465</td>\n",
       "      <td>1</td>\n",
       "      <td>0.0</td>\n",
       "    </tr>\n",
       "    <tr>\n",
       "      <th>2</th>\n",
       "      <td>$30 Film School</td>\n",
       "      <td>Michael W. Dean</td>\n",
       "      <td>1592000673</td>\n",
       "      <td>1</td>\n",
       "      <td>8.0</td>\n",
       "    </tr>\n",
       "    <tr>\n",
       "      <th>3</th>\n",
       "      <td>$oft Money: The True Power in Our Nation's Cap...</td>\n",
       "      <td>E. L. Burton</td>\n",
       "      <td>1588204030</td>\n",
       "      <td>5</td>\n",
       "      <td>5.4</td>\n",
       "    </tr>\n",
       "    <tr>\n",
       "      <th>4</th>\n",
       "      <td>' Mein verwundetes Herz'. Das Leben der Lilli ...</td>\n",
       "      <td>Martin Doerry</td>\n",
       "      <td>342105634X</td>\n",
       "      <td>1</td>\n",
       "      <td>9.0</td>\n",
       "    </tr>\n",
       "  </tbody>\n",
       "</table>\n",
       "</div>"
      ],
      "text/plain": [
       "                                          book_title      book_author  \\\n",
       "0                          !%@ (A Nutshell handbook)    Donnalyn Frey   \n",
       "1                          !%@ (A Nutshell handbook)    Donnalyn Frey   \n",
       "2                                    $30 Film School  Michael W. Dean   \n",
       "3  $oft Money: The True Power in Our Nation's Cap...     E. L. Burton   \n",
       "4  ' Mein verwundetes Herz'. Das Leben der Lilli ...    Martin Doerry   \n",
       "\n",
       "         isbn  rating_count  average_rating  \n",
       "0  1565920317             1             6.0  \n",
       "1  1565920465             1             0.0  \n",
       "2  1592000673             1             8.0  \n",
       "3  1588204030             5             5.4  \n",
       "4  342105634X             1             9.0  "
      ]
     },
     "execution_count": 20,
     "metadata": {},
     "output_type": "execute_result"
    }
   ],
   "source": [
    "# including the average rating for each book\n",
    "# Calculate the average rating for each book\n",
    "\n",
    "to_be_rated = books_ratings[['isbn', 'book_rating']]\n",
    "averageRating = to_be_rated.groupby('isbn')['book_rating'].mean().round(1).reset_index()\n",
    "averageRating.rename(columns={'book_rating': 'average_rating'}, inplace=True)\n",
    "average_rating = averageRating[['isbn','average_rating']]\n",
    "\n",
    "# Merge the average ratings back with the original dataset\n",
    "averageRatingdf = pd.merge(isbn_rating_counts, average_rating, on='isbn', how='left')\n",
    "\n",
    "# Remove duplicate entries\n",
    "#averageRatingdf = averageRatingdf[['isbn', 'average_rating']].drop_duplicates(subset=['isbn'])\n",
    "\n",
    "averageRatingdf.head()  "
   ]
  },
  {
   "cell_type": "code",
   "execution_count": 18,
   "metadata": {
    "execution": {
     "iopub.execute_input": "2024-09-07T17:00:34.637024Z",
     "iopub.status.busy": "2024-09-07T17:00:34.636773Z",
     "iopub.status.idle": "2024-09-07T17:00:34.641533Z",
     "shell.execute_reply": "2024-09-07T17:00:34.641087Z"
    }
   },
   "outputs": [
    {
     "data": {
      "text/plain": [
       "(59913, 5)"
      ]
     },
     "execution_count": 18,
     "metadata": {},
     "output_type": "execute_result"
    }
   ],
   "source": [
    "averageRatingdf.shape"
   ]
  },
  {
   "cell_type": "markdown",
   "metadata": {},
   "source": [
    "### Creating a search engine ###"
   ]
  },
  {
   "cell_type": "code",
   "execution_count": 19,
   "metadata": {
    "execution": {
     "iopub.execute_input": "2024-09-07T17:00:34.644749Z",
     "iopub.status.busy": "2024-09-07T17:00:34.644577Z",
     "iopub.status.idle": "2024-09-07T17:00:34.735627Z",
     "shell.execute_reply": "2024-09-07T17:00:34.735376Z"
    }
   },
   "outputs": [
    {
     "data": {
      "text/html": [
       "<div>\n",
       "<style scoped>\n",
       "    .dataframe tbody tr th:only-of-type {\n",
       "        vertical-align: middle;\n",
       "    }\n",
       "\n",
       "    .dataframe tbody tr th {\n",
       "        vertical-align: top;\n",
       "    }\n",
       "\n",
       "    .dataframe thead th {\n",
       "        text-align: right;\n",
       "    }\n",
       "</style>\n",
       "<table border=\"1\" class=\"dataframe\">\n",
       "  <thead>\n",
       "    <tr style=\"text-align: right;\">\n",
       "      <th></th>\n",
       "      <th>book_title</th>\n",
       "      <th>book_author</th>\n",
       "      <th>isbn</th>\n",
       "      <th>rating_count</th>\n",
       "      <th>average_rating</th>\n",
       "      <th>mod_titles</th>\n",
       "    </tr>\n",
       "  </thead>\n",
       "  <tbody>\n",
       "    <tr>\n",
       "      <th>0</th>\n",
       "      <td>!%@ (A Nutshell handbook)</td>\n",
       "      <td>Donnalyn Frey</td>\n",
       "      <td>1565920317</td>\n",
       "      <td>1</td>\n",
       "      <td>6.0</td>\n",
       "      <td>A Nutshell handbook</td>\n",
       "    </tr>\n",
       "    <tr>\n",
       "      <th>1</th>\n",
       "      <td>!%@ (A Nutshell handbook)</td>\n",
       "      <td>Donnalyn Frey</td>\n",
       "      <td>1565920465</td>\n",
       "      <td>1</td>\n",
       "      <td>0.0</td>\n",
       "      <td>A Nutshell handbook</td>\n",
       "    </tr>\n",
       "    <tr>\n",
       "      <th>2</th>\n",
       "      <td>$30 Film School</td>\n",
       "      <td>Michael W. Dean</td>\n",
       "      <td>1592000673</td>\n",
       "      <td>1</td>\n",
       "      <td>8.0</td>\n",
       "      <td>30 Film School</td>\n",
       "    </tr>\n",
       "    <tr>\n",
       "      <th>3</th>\n",
       "      <td>$oft Money: The True Power in Our Nation's Cap...</td>\n",
       "      <td>E. L. Burton</td>\n",
       "      <td>1588204030</td>\n",
       "      <td>5</td>\n",
       "      <td>5.4</td>\n",
       "      <td>oft Money  The True Power in Our Nation s Cap...</td>\n",
       "    </tr>\n",
       "    <tr>\n",
       "      <th>4</th>\n",
       "      <td>' Mein verwundetes Herz'. Das Leben der Lilli ...</td>\n",
       "      <td>Martin Doerry</td>\n",
       "      <td>342105634X</td>\n",
       "      <td>1</td>\n",
       "      <td>9.0</td>\n",
       "      <td>Mein verwundetes Herz   Das Leben der Lilli ...</td>\n",
       "    </tr>\n",
       "  </tbody>\n",
       "</table>\n",
       "</div>"
      ],
      "text/plain": [
       "                                          book_title      book_author  \\\n",
       "0                          !%@ (A Nutshell handbook)    Donnalyn Frey   \n",
       "1                          !%@ (A Nutshell handbook)    Donnalyn Frey   \n",
       "2                                    $30 Film School  Michael W. Dean   \n",
       "3  $oft Money: The True Power in Our Nation's Cap...     E. L. Burton   \n",
       "4  ' Mein verwundetes Herz'. Das Leben der Lilli ...    Martin Doerry   \n",
       "\n",
       "         isbn  rating_count  average_rating  \\\n",
       "0  1565920317             1             6.0   \n",
       "1  1565920465             1             0.0   \n",
       "2  1592000673             1             8.0   \n",
       "3  1588204030             5             5.4   \n",
       "4  342105634X             1             9.0   \n",
       "\n",
       "                                          mod_titles  \n",
       "0                               A Nutshell handbook   \n",
       "1                               A Nutshell handbook   \n",
       "2                                     30 Film School  \n",
       "3   oft Money  The True Power in Our Nation s Cap...  \n",
       "4    Mein verwundetes Herz   Das Leben der Lilli ...  "
      ]
     },
     "execution_count": 19,
     "metadata": {},
     "output_type": "execute_result"
    }
   ],
   "source": [
    "averageRatingdf[\"mod_titles\"] = averageRatingdf['book_title'].str.replace(\"[^a-zA-Z0-9]\", \" \", regex=True)    #removing special characters from book titles   \n",
    "averageRatingdf.head()"
   ]
  },
  {
   "cell_type": "code",
   "execution_count": 20,
   "metadata": {
    "execution": {
     "iopub.execute_input": "2024-09-07T17:00:34.737010Z",
     "iopub.status.busy": "2024-09-07T17:00:34.736927Z",
     "iopub.status.idle": "2024-09-07T17:00:34.849583Z",
     "shell.execute_reply": "2024-09-07T17:00:34.849257Z"
    }
   },
   "outputs": [],
   "source": [
    "#saving the average rating dataframe to a csv file'\n",
    "averageRatingdf.to_csv('data/averageRatingdf.csv', index=False)"
   ]
  },
  {
   "cell_type": "code",
   "execution_count": 21,
   "metadata": {
    "execution": {
     "iopub.execute_input": "2024-09-07T17:00:34.851142Z",
     "iopub.status.busy": "2024-09-07T17:00:34.851060Z",
     "iopub.status.idle": "2024-09-07T17:00:34.864362Z",
     "shell.execute_reply": "2024-09-07T17:00:34.864095Z"
    }
   },
   "outputs": [
    {
     "data": {
      "text/html": [
       "<div>\n",
       "<style scoped>\n",
       "    .dataframe tbody tr th:only-of-type {\n",
       "        vertical-align: middle;\n",
       "    }\n",
       "\n",
       "    .dataframe tbody tr th {\n",
       "        vertical-align: top;\n",
       "    }\n",
       "\n",
       "    .dataframe thead th {\n",
       "        text-align: right;\n",
       "    }\n",
       "</style>\n",
       "<table border=\"1\" class=\"dataframe\">\n",
       "  <thead>\n",
       "    <tr style=\"text-align: right;\">\n",
       "      <th></th>\n",
       "      <th>book_title</th>\n",
       "      <th>book_author</th>\n",
       "      <th>isbn</th>\n",
       "      <th>rating_count</th>\n",
       "      <th>average_rating</th>\n",
       "      <th>mod_titles</th>\n",
       "    </tr>\n",
       "  </thead>\n",
       "  <tbody>\n",
       "    <tr>\n",
       "      <th>32558</th>\n",
       "      <td>Mango and Mimosa</td>\n",
       "      <td>Suzanne St Albans</td>\n",
       "      <td>1860498949</td>\n",
       "      <td>3</td>\n",
       "      <td>6.3</td>\n",
       "      <td>Mango and Mimosa</td>\n",
       "    </tr>\n",
       "    <tr>\n",
       "      <th>58109</th>\n",
       "      <td>When the Buck Stops With You: Harry S. Truman ...</td>\n",
       "      <td>Alan Axelrod</td>\n",
       "      <td>1591840287</td>\n",
       "      <td>1</td>\n",
       "      <td>0.0</td>\n",
       "      <td>When the Buck Stops With You  Harry S  Truman ...</td>\n",
       "    </tr>\n",
       "    <tr>\n",
       "      <th>50930</th>\n",
       "      <td>The Odyssey - Teacher Guide</td>\n",
       "      <td>Anc Staff Novel Units</td>\n",
       "      <td>1561377600</td>\n",
       "      <td>1</td>\n",
       "      <td>0.0</td>\n",
       "      <td>The Odyssey   Teacher Guide</td>\n",
       "    </tr>\n",
       "    <tr>\n",
       "      <th>49464</th>\n",
       "      <td>The Illustrated Lark Rise to Candleford: A Tri...</td>\n",
       "      <td>Flora Thompson</td>\n",
       "      <td>051755187X</td>\n",
       "      <td>2</td>\n",
       "      <td>8.0</td>\n",
       "      <td>The Illustrated Lark Rise to Candleford  A Tri...</td>\n",
       "    </tr>\n",
       "    <tr>\n",
       "      <th>34780</th>\n",
       "      <td>Muppet Manners: Or, the Night Gonzo Gave a Party</td>\n",
       "      <td>Pat Relf</td>\n",
       "      <td>039484713X</td>\n",
       "      <td>2</td>\n",
       "      <td>4.5</td>\n",
       "      <td>Muppet Manners  Or  the Night Gonzo Gave a Party</td>\n",
       "    </tr>\n",
       "    <tr>\n",
       "      <th>52592</th>\n",
       "      <td>The Sun Also Rises</td>\n",
       "      <td>Ernest Hemingway</td>\n",
       "      <td>684718081</td>\n",
       "      <td>1</td>\n",
       "      <td>0.0</td>\n",
       "      <td>The Sun Also Rises</td>\n",
       "    </tr>\n",
       "    <tr>\n",
       "      <th>25680</th>\n",
       "      <td>Jinx</td>\n",
       "      <td>Margaret Wild</td>\n",
       "      <td>1865082643</td>\n",
       "      <td>2</td>\n",
       "      <td>3.0</td>\n",
       "      <td>Jinx</td>\n",
       "    </tr>\n",
       "    <tr>\n",
       "      <th>59869</th>\n",
       "      <td>schwimmen gegen blond</td>\n",
       "      <td>Sandra Hoffmann</td>\n",
       "      <td>3406486983</td>\n",
       "      <td>1</td>\n",
       "      <td>1.0</td>\n",
       "      <td>schwimmen gegen blond</td>\n",
       "    </tr>\n",
       "    <tr>\n",
       "      <th>47914</th>\n",
       "      <td>The Death Prayer</td>\n",
       "      <td>David Bowker</td>\n",
       "      <td>1565048466</td>\n",
       "      <td>1</td>\n",
       "      <td>0.0</td>\n",
       "      <td>The Death Prayer</td>\n",
       "    </tr>\n",
       "    <tr>\n",
       "      <th>39394</th>\n",
       "      <td>Profecia, La - Vol. 2 - La Espada de Joram</td>\n",
       "      <td>Tracy Hickman</td>\n",
       "      <td>8448030389</td>\n",
       "      <td>2</td>\n",
       "      <td>6.5</td>\n",
       "      <td>Profecia  La   Vol  2   La Espada de Joram</td>\n",
       "    </tr>\n",
       "    <tr>\n",
       "      <th>45307</th>\n",
       "      <td>Sweet Indulgences</td>\n",
       "      <td>Norman Koplas</td>\n",
       "      <td>089586780X</td>\n",
       "      <td>1</td>\n",
       "      <td>7.0</td>\n",
       "      <td>Sweet Indulgences</td>\n",
       "    </tr>\n",
       "    <tr>\n",
       "      <th>14993</th>\n",
       "      <td>Drinking Coffee Elsewhere (Alex Awards (Awards))</td>\n",
       "      <td>ZZ Packer</td>\n",
       "      <td>1573222348</td>\n",
       "      <td>12</td>\n",
       "      <td>3.4</td>\n",
       "      <td>Drinking Coffee Elsewhere  Alex Awards  Awards</td>\n",
       "    </tr>\n",
       "    <tr>\n",
       "      <th>27870</th>\n",
       "      <td>La Princesa Luna y El Principe Sol</td>\n",
       "      <td>Fatima Garcia</td>\n",
       "      <td>8421632728</td>\n",
       "      <td>2</td>\n",
       "      <td>0.0</td>\n",
       "      <td>La Princesa Luna y El Principe Sol</td>\n",
       "    </tr>\n",
       "    <tr>\n",
       "      <th>21643</th>\n",
       "      <td>Happy Days: Giant Lift the Flaps (Giant Lift t...</td>\n",
       "      <td>Sarah Willson</td>\n",
       "      <td>1570827230</td>\n",
       "      <td>1</td>\n",
       "      <td>0.0</td>\n",
       "      <td>Happy Days  Giant Lift the Flaps  Giant Lift t...</td>\n",
       "    </tr>\n",
       "    <tr>\n",
       "      <th>41056</th>\n",
       "      <td>Rogue Force (Superbolan, No 8)</td>\n",
       "      <td>Dan Pendleton</td>\n",
       "      <td>037361408X</td>\n",
       "      <td>1</td>\n",
       "      <td>0.0</td>\n",
       "      <td>Rogue Force  Superbolan  No 8</td>\n",
       "    </tr>\n",
       "  </tbody>\n",
       "</table>\n",
       "</div>"
      ],
      "text/plain": [
       "                                              book_title  \\\n",
       "32558                                   Mango and Mimosa   \n",
       "58109  When the Buck Stops With You: Harry S. Truman ...   \n",
       "50930                        The Odyssey - Teacher Guide   \n",
       "49464  The Illustrated Lark Rise to Candleford: A Tri...   \n",
       "34780   Muppet Manners: Or, the Night Gonzo Gave a Party   \n",
       "52592                                 The Sun Also Rises   \n",
       "25680                                               Jinx   \n",
       "59869                              schwimmen gegen blond   \n",
       "47914                                   The Death Prayer   \n",
       "39394         Profecia, La - Vol. 2 - La Espada de Joram   \n",
       "45307                                  Sweet Indulgences   \n",
       "14993   Drinking Coffee Elsewhere (Alex Awards (Awards))   \n",
       "27870                 La Princesa Luna y El Principe Sol   \n",
       "21643  Happy Days: Giant Lift the Flaps (Giant Lift t...   \n",
       "41056                     Rogue Force (Superbolan, No 8)   \n",
       "\n",
       "                 book_author        isbn  rating_count  average_rating  \\\n",
       "32558      Suzanne St Albans  1860498949             3             6.3   \n",
       "58109           Alan Axelrod  1591840287             1             0.0   \n",
       "50930  Anc Staff Novel Units  1561377600             1             0.0   \n",
       "49464         Flora Thompson  051755187X             2             8.0   \n",
       "34780               Pat Relf  039484713X             2             4.5   \n",
       "52592       Ernest Hemingway   684718081             1             0.0   \n",
       "25680          Margaret Wild  1865082643             2             3.0   \n",
       "59869        Sandra Hoffmann  3406486983             1             1.0   \n",
       "47914           David Bowker  1565048466             1             0.0   \n",
       "39394          Tracy Hickman  8448030389             2             6.5   \n",
       "45307          Norman Koplas  089586780X             1             7.0   \n",
       "14993              ZZ Packer  1573222348            12             3.4   \n",
       "27870          Fatima Garcia  8421632728             2             0.0   \n",
       "21643          Sarah Willson  1570827230             1             0.0   \n",
       "41056          Dan Pendleton  037361408X             1             0.0   \n",
       "\n",
       "                                              mod_titles  \n",
       "32558                                   Mango and Mimosa  \n",
       "58109  When the Buck Stops With You  Harry S  Truman ...  \n",
       "50930                        The Odyssey   Teacher Guide  \n",
       "49464  The Illustrated Lark Rise to Candleford  A Tri...  \n",
       "34780   Muppet Manners  Or  the Night Gonzo Gave a Party  \n",
       "52592                                 The Sun Also Rises  \n",
       "25680                                               Jinx  \n",
       "59869                              schwimmen gegen blond  \n",
       "47914                                   The Death Prayer  \n",
       "39394         Profecia  La   Vol  2   La Espada de Joram  \n",
       "45307                                  Sweet Indulgences  \n",
       "14993   Drinking Coffee Elsewhere  Alex Awards  Awards    \n",
       "27870                 La Princesa Luna y El Principe Sol  \n",
       "21643  Happy Days  Giant Lift the Flaps  Giant Lift t...  \n",
       "41056                     Rogue Force  Superbolan  No 8   "
      ]
     },
     "execution_count": 21,
     "metadata": {},
     "output_type": "execute_result"
    }
   ],
   "source": [
    "averageRatingdf.sort_values('rating_count', ascending=False).sample(15)"
   ]
  },
  {
   "cell_type": "code",
   "execution_count": 22,
   "metadata": {
    "execution": {
     "iopub.execute_input": "2024-09-07T17:00:34.865662Z",
     "iopub.status.busy": "2024-09-07T17:00:34.865556Z",
     "iopub.status.idle": "2024-09-07T17:00:34.874388Z",
     "shell.execute_reply": "2024-09-07T17:00:34.874134Z"
    }
   },
   "outputs": [
    {
     "data": {
      "text/html": [
       "<div>\n",
       "<style scoped>\n",
       "    .dataframe tbody tr th:only-of-type {\n",
       "        vertical-align: middle;\n",
       "    }\n",
       "\n",
       "    .dataframe tbody tr th {\n",
       "        vertical-align: top;\n",
       "    }\n",
       "\n",
       "    .dataframe thead th {\n",
       "        text-align: right;\n",
       "    }\n",
       "</style>\n",
       "<table border=\"1\" class=\"dataframe\">\n",
       "  <thead>\n",
       "    <tr style=\"text-align: right;\">\n",
       "      <th></th>\n",
       "      <th>book_title</th>\n",
       "      <th>book_author</th>\n",
       "      <th>isbn</th>\n",
       "      <th>rating_count</th>\n",
       "      <th>average_rating</th>\n",
       "      <th>mod_titles</th>\n",
       "    </tr>\n",
       "  </thead>\n",
       "  <tbody>\n",
       "    <tr>\n",
       "      <th>5134</th>\n",
       "      <td>Betsy and Joe (Betsy &amp; Tacy)</td>\n",
       "      <td>Maud Hart Lovelace</td>\n",
       "      <td>006440546X</td>\n",
       "      <td>4</td>\n",
       "      <td>10.0</td>\n",
       "      <td>Betsy and Joe  Betsy   Tacy</td>\n",
       "    </tr>\n",
       "    <tr>\n",
       "      <th>6465</th>\n",
       "      <td>Bug, Witch and the Robot</td>\n",
       "      <td>Pete Abrams</td>\n",
       "      <td>1929462379</td>\n",
       "      <td>3</td>\n",
       "      <td>10.0</td>\n",
       "      <td>Bug  Witch and the Robot</td>\n",
       "    </tr>\n",
       "    <tr>\n",
       "      <th>9660</th>\n",
       "      <td>Culpeper's Complete Herbal: A Book of Natural ...</td>\n",
       "      <td>Nicholas Culpeper</td>\n",
       "      <td>1853263451</td>\n",
       "      <td>3</td>\n",
       "      <td>10.0</td>\n",
       "      <td>Culpeper s Complete Herbal  A Book of Natural ...</td>\n",
       "    </tr>\n",
       "    <tr>\n",
       "      <th>24717</th>\n",
       "      <td>Inside Avatar The Book: Achieving Enlightenment</td>\n",
       "      <td>Harry Palmer</td>\n",
       "      <td>1891575139</td>\n",
       "      <td>3</td>\n",
       "      <td>10.0</td>\n",
       "      <td>Inside Avatar The Book  Achieving Enlightenment</td>\n",
       "    </tr>\n",
       "    <tr>\n",
       "      <th>27290</th>\n",
       "      <td>LA Metamorfosis (Colecci?on Literaria Lyc (Lee...</td>\n",
       "      <td>Franz Kafka</td>\n",
       "      <td>9505811322</td>\n",
       "      <td>3</td>\n",
       "      <td>10.0</td>\n",
       "      <td>LA Metamorfosis  Colecci on Literaria Lyc  Lee...</td>\n",
       "    </tr>\n",
       "    <tr>\n",
       "      <th>32430</th>\n",
       "      <td>Mama, Do You Love Me?</td>\n",
       "      <td>Barbara M. Joosse</td>\n",
       "      <td>087701759X</td>\n",
       "      <td>3</td>\n",
       "      <td>10.0</td>\n",
       "      <td>Mama  Do You Love Me</td>\n",
       "    </tr>\n",
       "    <tr>\n",
       "      <th>35508</th>\n",
       "      <td>Nausicaa of the Valley of Wind (Nausicaa of th...</td>\n",
       "      <td>Hayao Miyazaki</td>\n",
       "      <td>092927959X</td>\n",
       "      <td>3</td>\n",
       "      <td>10.0</td>\n",
       "      <td>Nausicaa of the Valley of Wind  Nausicaa of th...</td>\n",
       "    </tr>\n",
       "    <tr>\n",
       "      <th>36700</th>\n",
       "      <td>Offerings at the Wall: Artifacts from the Viet...</td>\n",
       "      <td>Thomas B. Allen</td>\n",
       "      <td>1570360677</td>\n",
       "      <td>3</td>\n",
       "      <td>10.0</td>\n",
       "      <td>Offerings at the Wall  Artifacts from the Viet...</td>\n",
       "    </tr>\n",
       "    <tr>\n",
       "      <th>39057</th>\n",
       "      <td>Power vs. Force: The Hidden Determinants of Hu...</td>\n",
       "      <td>David R. Hawkins</td>\n",
       "      <td>1561709336</td>\n",
       "      <td>3</td>\n",
       "      <td>10.0</td>\n",
       "      <td>Power vs  Force  The Hidden Determinants of Hu...</td>\n",
       "    </tr>\n",
       "    <tr>\n",
       "      <th>39731</th>\n",
       "      <td>Quantum Psychology: How Brain Software Program...</td>\n",
       "      <td>Robert Anton Wilson</td>\n",
       "      <td>1561840718</td>\n",
       "      <td>3</td>\n",
       "      <td>10.0</td>\n",
       "      <td>Quantum Psychology  How Brain Software Program...</td>\n",
       "    </tr>\n",
       "  </tbody>\n",
       "</table>\n",
       "</div>"
      ],
      "text/plain": [
       "                                              book_title          book_author  \\\n",
       "5134                        Betsy and Joe (Betsy & Tacy)   Maud Hart Lovelace   \n",
       "6465                            Bug, Witch and the Robot          Pete Abrams   \n",
       "9660   Culpeper's Complete Herbal: A Book of Natural ...    Nicholas Culpeper   \n",
       "24717    Inside Avatar The Book: Achieving Enlightenment         Harry Palmer   \n",
       "27290  LA Metamorfosis (Colecci?on Literaria Lyc (Lee...          Franz Kafka   \n",
       "32430                              Mama, Do You Love Me?    Barbara M. Joosse   \n",
       "35508  Nausicaa of the Valley of Wind (Nausicaa of th...       Hayao Miyazaki   \n",
       "36700  Offerings at the Wall: Artifacts from the Viet...      Thomas B. Allen   \n",
       "39057  Power vs. Force: The Hidden Determinants of Hu...     David R. Hawkins   \n",
       "39731  Quantum Psychology: How Brain Software Program...  Robert Anton Wilson   \n",
       "\n",
       "             isbn  rating_count  average_rating  \\\n",
       "5134   006440546X             4            10.0   \n",
       "6465   1929462379             3            10.0   \n",
       "9660   1853263451             3            10.0   \n",
       "24717  1891575139             3            10.0   \n",
       "27290  9505811322             3            10.0   \n",
       "32430  087701759X             3            10.0   \n",
       "35508  092927959X             3            10.0   \n",
       "36700  1570360677             3            10.0   \n",
       "39057  1561709336             3            10.0   \n",
       "39731  1561840718             3            10.0   \n",
       "\n",
       "                                              mod_titles  \n",
       "5134                        Betsy and Joe  Betsy   Tacy   \n",
       "6465                            Bug  Witch and the Robot  \n",
       "9660   Culpeper s Complete Herbal  A Book of Natural ...  \n",
       "24717    Inside Avatar The Book  Achieving Enlightenment  \n",
       "27290  LA Metamorfosis  Colecci on Literaria Lyc  Lee...  \n",
       "32430                              Mama  Do You Love Me   \n",
       "35508  Nausicaa of the Valley of Wind  Nausicaa of th...  \n",
       "36700  Offerings at the Wall  Artifacts from the Viet...  \n",
       "39057  Power vs  Force  The Hidden Determinants of Hu...  \n",
       "39731  Quantum Psychology  How Brain Software Program...  "
      ]
     },
     "execution_count": 22,
     "metadata": {},
     "output_type": "execute_result"
    }
   ],
   "source": [
    "# Sort the DataFrame by 'average_rating' and 'rating_count' in descending order\n",
    "sorted_df = averageRatingdf.sort_values(by=['average_rating', 'rating_count'], ascending=[False, False]).head(10)\n",
    "\n",
    "# Display the top rows\n",
    "sorted_df"
   ]
  },
  {
   "cell_type": "code",
   "execution_count": 23,
   "metadata": {
    "execution": {
     "iopub.execute_input": "2024-09-07T17:00:34.875679Z",
     "iopub.status.busy": "2024-09-07T17:00:34.875599Z",
     "iopub.status.idle": "2024-09-07T17:00:35.015079Z",
     "shell.execute_reply": "2024-09-07T17:00:35.014836Z"
    }
   },
   "outputs": [
    {
     "data": {
      "text/plain": [
       "([0, 1, 2, 3, 4, 5, 6, 7, 8, 9],\n",
       " [Text(0, 0, 'Betsy and Joe  Betsy   Tacy '),\n",
       "  Text(1, 0, 'Bug  Witch and the Robot'),\n",
       "  Text(2, 0, 'Culpeper s Complete Herbal  A Book of Natural Remedies of Ancient Ills  The Wordsworth Collection Reference Library '),\n",
       "  Text(3, 0, 'Inside Avatar The Book  Achieving Enlightenment'),\n",
       "  Text(4, 0, 'LA Metamorfosis  Colecci on Literaria Lyc  Leer y Crear  '),\n",
       "  Text(5, 0, 'Mama  Do You Love Me '),\n",
       "  Text(6, 0, 'Nausicaa of the Valley of Wind  Nausicaa of the Valley of Wind  Graphic Novel '),\n",
       "  Text(7, 0, 'Offerings at the Wall  Artifacts from the Vietnam Veterans Memorial Collection'),\n",
       "  Text(8, 0, 'Power vs  Force  The Hidden Determinants of Human Behavior'),\n",
       "  Text(9, 0, 'Quantum Psychology  How Brain Software Programs You and Your World')])"
      ]
     },
     "execution_count": 23,
     "metadata": {},
     "output_type": "execute_result"
    },
    {
     "data": {
      "image/png": "[encoded data removed]",
      "text/plain": [
       "<Figure size 640x480 with 1 Axes>"
      ]
     },
     "metadata": {},
     "output_type": "display_data"
    }
   ],
   "source": [
    "# Plot the top rated books  with the highest rating count   \n",
    "\n",
    "sns.barplot(x='mod_titles', y='rating_count', hue='average_rating', data=sorted_df, palette='viridis')\n",
    "plt.xticks(rotation=90)"
   ]
  },
  {
   "cell_type": "code",
   "execution_count": 24,
   "metadata": {
    "execution": {
     "iopub.execute_input": "2024-09-07T17:00:35.016442Z",
     "iopub.status.busy": "2024-09-07T17:00:35.016361Z",
     "iopub.status.idle": "2024-09-07T17:00:35.023474Z",
     "shell.execute_reply": "2024-09-07T17:00:35.023250Z"
    }
   },
   "outputs": [],
   "source": [
    "averageRatingdf['mod_titles'] = averageRatingdf['mod_titles'].str.lower()    #converting book titles to lowercase"
   ]
  },
  {
   "cell_type": "code",
   "execution_count": 25,
   "metadata": {
    "execution": {
     "iopub.execute_input": "2024-09-07T17:00:35.024759Z",
     "iopub.status.busy": "2024-09-07T17:00:35.024681Z",
     "iopub.status.idle": "2024-09-07T17:00:35.094940Z",
     "shell.execute_reply": "2024-09-07T17:00:35.094704Z"
    }
   },
   "outputs": [],
   "source": [
    "averageRatingdf['mod_titles'] = averageRatingdf['mod_titles'].str.replace('\\s+', ' ', regex=True)    #removing extra spaces from book titles"
   ]
  },
  {
   "cell_type": "code",
   "execution_count": 26,
   "metadata": {
    "execution": {
     "iopub.execute_input": "2024-09-07T17:00:35.096272Z",
     "iopub.status.busy": "2024-09-07T17:00:35.096199Z",
     "iopub.status.idle": "2024-09-07T17:00:35.111196Z",
     "shell.execute_reply": "2024-09-07T17:00:35.110923Z"
    }
   },
   "outputs": [],
   "source": [
    "averageRatingdf = averageRatingdf[averageRatingdf['mod_titles'].str.len() > 0]    #removing rows with empty book titles"
   ]
  },
  {
   "cell_type": "code",
   "execution_count": 28,
   "metadata": {
    "execution": {
     "iopub.execute_input": "2024-09-07T17:00:35.112558Z",
     "iopub.status.busy": "2024-09-07T17:00:35.112482Z",
     "iopub.status.idle": "2024-09-07T17:00:35.113927Z",
     "shell.execute_reply": "2024-09-07T17:00:35.113706Z"
    }
   },
   "outputs": [],
   "source": [
    "#books_ratings.drop('user_id', axis=1, inplace=True)   #dropping user_id column"
   ]
  },
  {
   "cell_type": "code",
   "execution_count": 27,
   "metadata": {
    "execution": {
     "iopub.execute_input": "2024-09-07T17:00:35.115151Z",
     "iopub.status.busy": "2024-09-07T17:00:35.115078Z",
     "iopub.status.idle": "2024-09-07T17:00:35.145550Z",
     "shell.execute_reply": "2024-09-07T17:00:35.145307Z"
    }
   },
   "outputs": [
    {
     "data": {
      "text/plain": [
       "0"
      ]
     },
     "execution_count": 27,
     "metadata": {},
     "output_type": "execute_result"
    }
   ],
   "source": [
    "averageRatingdf.duplicated().sum()"
   ]
  },
  {
   "cell_type": "code",
   "execution_count": 28,
   "metadata": {
    "execution": {
     "iopub.execute_input": "2024-09-07T17:00:35.146936Z",
     "iopub.status.busy": "2024-09-07T17:00:35.146855Z",
     "iopub.status.idle": "2024-09-07T17:00:35.150561Z",
     "shell.execute_reply": "2024-09-07T17:00:35.150343Z"
    }
   },
   "outputs": [
    {
     "data": {
      "text/plain": [
       "count    59913.000000\n",
       "mean         3.063392\n",
       "std          9.876267\n",
       "min          1.000000\n",
       "25%          1.000000\n",
       "50%          1.000000\n",
       "75%          3.000000\n",
       "max        647.000000\n",
       "Name: rating_count, dtype: float64"
      ]
     },
     "execution_count": 28,
     "metadata": {},
     "output_type": "execute_result"
    }
   ],
   "source": [
    "averageRatingdf.rating_count.describe()"
   ]
  },
  {
   "cell_type": "code",
   "execution_count": 29,
   "metadata": {
    "execution": {
     "iopub.execute_input": "2024-09-07T17:00:35.151829Z",
     "iopub.status.busy": "2024-09-07T17:00:35.151758Z",
     "iopub.status.idle": "2024-09-07T17:00:35.244897Z",
     "shell.execute_reply": "2024-09-07T17:00:35.244651Z"
    }
   },
   "outputs": [
    {
     "data": {
      "text/plain": [
       "<Axes: ylabel='rating_count'>"
      ]
     },
     "execution_count": 29,
     "metadata": {},
     "output_type": "execute_result"
    },
    {
     "data": {
      "image/png": "[encoded data removed]",
      "text/plain": [
       "<Figure size 640x480 with 1 Axes>"
      ]
     },
     "metadata": {},
     "output_type": "display_data"
    }
   ],
   "source": [
    "sns.boxplot(averageRatingdf.rating_count)"
   ]
  },
  {
   "cell_type": "code",
   "execution_count": 30,
   "metadata": {
    "execution": {
     "iopub.execute_input": "2024-09-07T17:00:35.246365Z",
     "iopub.status.busy": "2024-09-07T17:00:35.246276Z",
     "iopub.status.idle": "2024-09-07T17:00:35.255331Z",
     "shell.execute_reply": "2024-09-07T17:00:35.255101Z"
    }
   },
   "outputs": [
    {
     "data": {
      "text/plain": [
       "57253"
      ]
     },
     "execution_count": 30,
     "metadata": {},
     "output_type": "execute_result"
    }
   ],
   "source": [
    "averageRatingdf['mod_titles'].nunique()"
   ]
  },
  {
   "cell_type": "markdown",
   "metadata": {},
   "source": [
    "#### Reducing shape of the dataframe ####"
   ]
  },
  {
   "cell_type": "code",
   "execution_count": 31,
   "metadata": {
    "execution": {
     "iopub.execute_input": "2024-09-07T17:00:35.256609Z",
     "iopub.status.busy": "2024-09-07T17:00:35.256536Z",
     "iopub.status.idle": "2024-09-07T17:00:35.258984Z",
     "shell.execute_reply": "2024-09-07T17:00:35.258772Z"
    }
   },
   "outputs": [
    {
     "data": {
      "text/plain": [
       "(1487, 6)"
      ]
     },
     "execution_count": 31,
     "metadata": {},
     "output_type": "execute_result"
    }
   ],
   "source": [
    "ratings = averageRatingdf[averageRatingdf['rating_count'] >= 15]    #filtering out books with less than 15 ratings\n",
    "ratings.shape"
   ]
  },
  {
   "cell_type": "markdown",
   "metadata": {},
   "source": [
    "#### Building a Term Frequency and then a Inverse Document Frequency matrix ####\n"
   ]
  },
  {
   "cell_type": "code",
   "execution_count": 32,
   "metadata": {
    "execution": {
     "iopub.execute_input": "2024-09-07T17:00:35.260379Z",
     "iopub.status.busy": "2024-09-07T17:00:35.260303Z",
     "iopub.status.idle": "2024-09-07T17:00:35.284473Z",
     "shell.execute_reply": "2024-09-07T17:00:35.284270Z"
    }
   },
   "outputs": [],
   "source": [
    "# turning titles into TD-IDF matrix => Term Frequency-Inverse Document Frequency\n",
    "from sklearn.feature_extraction.text import TfidfVectorizer\n",
    "\n",
    "# vectorizer takes a list of strings as input and turns it into a fd-idf matrix\n",
    "vectorizer = TfidfVectorizer()\n",
    "\n",
    "tdidf = vectorizer.fit_transform(ratings['mod_titles'])"
   ]
  },
  {
   "cell_type": "code",
   "execution_count": 33,
   "metadata": {
    "execution": {
     "iopub.execute_input": "2024-09-07T17:00:35.285785Z",
     "iopub.status.busy": "2024-09-07T17:00:35.285663Z",
     "iopub.status.idle": "2024-09-07T17:00:35.318427Z",
     "shell.execute_reply": "2024-09-07T17:00:35.318217Z"
    }
   },
   "outputs": [],
   "source": [
    "# to do comparison between books, we need to calculate the cosine similarity between the books\n",
    "\n",
    "from sklearn.metrics.pairwise import cosine_similarity\n",
    "import numpy as np\n",
    "import re\n",
    "\n",
    "\n",
    "# query function:\n",
    "\n",
    "def search(query, vectorizer):\n",
    "# setting up a search query\n",
    "\n",
    "    #query = 'The Hobbit'\n",
    "# preparing the string in the same way as the mod titles above\n",
    "    processed = re.sub('[^a-zA-Z0-9]', ' ', query.lower())\n",
    "\n",
    "# we need to turn the query into a vector using the vectorizer\n",
    "\n",
    "    query_vector = vectorizer.transform([processed])\n",
    "\n",
    "# to find the similarities we calculate the cosine similarity between the query vector and the tdidf matrix\n",
    "    similarity = cosine_similarity(query_vector, tdidf).flatten() # flatten is used to turn the matrix into a 1D array\n",
    "\n",
    "# to find the indices of the 10 largest similarities\n",
    "\n",
    "    indices = np.argpartition(similarity, -10)[-10:]\n",
    "\n",
    "# use indices to index the titles\n",
    "\n",
    "    results = ratings.iloc[indices]   \n",
    "\n",
    "# as there are many books with the title \"The Hobbit\", we only want those with the highest number of ratings\n",
    "\n",
    "    results = results.sort_values(by='rating_count', ascending=False)\n",
    "\n",
    "    return results.head(10)\n"
   ]
  },
  {
   "cell_type": "code",
   "execution_count": 34,
   "metadata": {
    "execution": {
     "iopub.execute_input": "2024-09-07T17:00:35.319828Z",
     "iopub.status.busy": "2024-09-07T17:00:35.319707Z",
     "iopub.status.idle": "2024-09-07T17:00:35.324602Z",
     "shell.execute_reply": "2024-09-07T17:00:35.324395Z"
    }
   },
   "outputs": [
    {
     "data": {
      "text/html": [
       "<div>\n",
       "<style scoped>\n",
       "    .dataframe tbody tr th:only-of-type {\n",
       "        vertical-align: middle;\n",
       "    }\n",
       "\n",
       "    .dataframe tbody tr th {\n",
       "        vertical-align: top;\n",
       "    }\n",
       "\n",
       "    .dataframe thead th {\n",
       "        text-align: right;\n",
       "    }\n",
       "</style>\n",
       "<table border=\"1\" class=\"dataframe\">\n",
       "  <thead>\n",
       "    <tr style=\"text-align: right;\">\n",
       "      <th></th>\n",
       "      <th>book_title</th>\n",
       "      <th>book_author</th>\n",
       "      <th>isbn</th>\n",
       "      <th>rating_count</th>\n",
       "      <th>average_rating</th>\n",
       "      <th>mod_titles</th>\n",
       "    </tr>\n",
       "  </thead>\n",
       "  <tbody>\n",
       "    <tr>\n",
       "      <th>48858</th>\n",
       "      <td>The Girls' Guide to Hunting and Fishing</td>\n",
       "      <td>Melissa Bank</td>\n",
       "      <td>067088300X</td>\n",
       "      <td>157</td>\n",
       "      <td>3.3</td>\n",
       "      <td>the girls guide to hunting and fishing</td>\n",
       "    </tr>\n",
       "    <tr>\n",
       "      <th>48677</th>\n",
       "      <td>The Four Agreements: A Practical Guide to Pers...</td>\n",
       "      <td>Don Miguel Ruiz</td>\n",
       "      <td>1878424319</td>\n",
       "      <td>133</td>\n",
       "      <td>3.5</td>\n",
       "      <td>the four agreements a practical guide to perso...</td>\n",
       "    </tr>\n",
       "    <tr>\n",
       "      <th>47831</th>\n",
       "      <td>The Dance of Anger: A Woman's Guide to Changin...</td>\n",
       "      <td>Harriet Lerner</td>\n",
       "      <td>006091565X</td>\n",
       "      <td>52</td>\n",
       "      <td>2.3</td>\n",
       "      <td>the dance of anger a woman s guide to changing...</td>\n",
       "    </tr>\n",
       "    <tr>\n",
       "      <th>51362</th>\n",
       "      <td>The Power of Now: A Guide to Spiritual Enlight...</td>\n",
       "      <td>Eckhart Tolle</td>\n",
       "      <td>1577311523</td>\n",
       "      <td>24</td>\n",
       "      <td>3.5</td>\n",
       "      <td>the power of now a guide to spiritual enlighte...</td>\n",
       "    </tr>\n",
       "    <tr>\n",
       "      <th>50426</th>\n",
       "      <td>The Mastery of Love: A Practical Guide to the ...</td>\n",
       "      <td>Miguel Ruiz</td>\n",
       "      <td>1878424424</td>\n",
       "      <td>21</td>\n",
       "      <td>3.9</td>\n",
       "      <td>the mastery of love a practical guide to the a...</td>\n",
       "    </tr>\n",
       "    <tr>\n",
       "      <th>51980</th>\n",
       "      <td>The Salmon of Doubt: Hitchhiking the Galaxy On...</td>\n",
       "      <td>DOUGLAS ADAMS</td>\n",
       "      <td>1400045088</td>\n",
       "      <td>21</td>\n",
       "      <td>3.6</td>\n",
       "      <td>the salmon of doubt hitchhiking the galaxy one...</td>\n",
       "    </tr>\n",
       "    <tr>\n",
       "      <th>36739</th>\n",
       "      <td>Oh, the Things I Know! A Guide to Success, or,...</td>\n",
       "      <td>Al Franken</td>\n",
       "      <td>052594673X</td>\n",
       "      <td>19</td>\n",
       "      <td>3.0</td>\n",
       "      <td>oh the things i know a guide to success or fai...</td>\n",
       "    </tr>\n",
       "    <tr>\n",
       "      <th>54502</th>\n",
       "      <td>To the Lighthouse</td>\n",
       "      <td>Virginia Woolf</td>\n",
       "      <td>1853260916</td>\n",
       "      <td>17</td>\n",
       "      <td>1.9</td>\n",
       "      <td>to the lighthouse</td>\n",
       "    </tr>\n",
       "    <tr>\n",
       "      <th>31028</th>\n",
       "      <td>Living the Simple Life: A Guide to Scaling Dow...</td>\n",
       "      <td>Elaine St. James</td>\n",
       "      <td>078686219X</td>\n",
       "      <td>17</td>\n",
       "      <td>3.4</td>\n",
       "      <td>living the simple life a guide to scaling down...</td>\n",
       "    </tr>\n",
       "    <tr>\n",
       "      <th>4568</th>\n",
       "      <td>Bart Simpson's Guide to Life: A Wee Handbook f...</td>\n",
       "      <td>Matt Groening</td>\n",
       "      <td>006096975X</td>\n",
       "      <td>15</td>\n",
       "      <td>4.3</td>\n",
       "      <td>bart simpson s guide to life a wee handbook fo...</td>\n",
       "    </tr>\n",
       "  </tbody>\n",
       "</table>\n",
       "</div>"
      ],
      "text/plain": [
       "                                              book_title       book_author  \\\n",
       "48858            The Girls' Guide to Hunting and Fishing      Melissa Bank   \n",
       "48677  The Four Agreements: A Practical Guide to Pers...   Don Miguel Ruiz   \n",
       "47831  The Dance of Anger: A Woman's Guide to Changin...    Harriet Lerner   \n",
       "51362  The Power of Now: A Guide to Spiritual Enlight...     Eckhart Tolle   \n",
       "50426  The Mastery of Love: A Practical Guide to the ...       Miguel Ruiz   \n",
       "51980  The Salmon of Doubt: Hitchhiking the Galaxy On...     DOUGLAS ADAMS   \n",
       "36739  Oh, the Things I Know! A Guide to Success, or,...        Al Franken   \n",
       "54502                                  To the Lighthouse    Virginia Woolf   \n",
       "31028  Living the Simple Life: A Guide to Scaling Dow...  Elaine St. James   \n",
       "4568   Bart Simpson's Guide to Life: A Wee Handbook f...     Matt Groening   \n",
       "\n",
       "             isbn  rating_count  average_rating  \\\n",
       "48858  067088300X           157             3.3   \n",
       "48677  1878424319           133             3.5   \n",
       "47831  006091565X            52             2.3   \n",
       "51362  1577311523            24             3.5   \n",
       "50426  1878424424            21             3.9   \n",
       "51980  1400045088            21             3.6   \n",
       "36739  052594673X            19             3.0   \n",
       "54502  1853260916            17             1.9   \n",
       "31028  078686219X            17             3.4   \n",
       "4568   006096975X            15             4.3   \n",
       "\n",
       "                                              mod_titles  \n",
       "48858             the girls guide to hunting and fishing  \n",
       "48677  the four agreements a practical guide to perso...  \n",
       "47831  the dance of anger a woman s guide to changing...  \n",
       "51362  the power of now a guide to spiritual enlighte...  \n",
       "50426  the mastery of love a practical guide to the a...  \n",
       "51980  the salmon of doubt hitchhiking the galaxy one...  \n",
       "36739  oh the things i know a guide to success or fai...  \n",
       "54502                                  to the lighthouse  \n",
       "31028  living the simple life a guide to scaling down...  \n",
       "4568   bart simpson s guide to life a wee handbook fo...  "
      ]
     },
     "execution_count": 34,
     "metadata": {},
     "output_type": "execute_result"
    }
   ],
   "source": [
    "search('the hitchhikers guide to the galaxy', vectorizer)"
   ]
  },
  {
   "cell_type": "code",
   "execution_count": 35,
   "metadata": {
    "execution": {
     "iopub.execute_input": "2024-09-07T17:00:35.325789Z",
     "iopub.status.busy": "2024-09-07T17:00:35.325708Z",
     "iopub.status.idle": "2024-09-07T17:00:35.328217Z",
     "shell.execute_reply": "2024-09-07T17:00:35.328002Z"
    }
   },
   "outputs": [
    {
     "data": {
      "text/plain": [
       "['006440546X',\n",
       " '1929462379',\n",
       " '1853263451',\n",
       " '1891575139',\n",
       " '9505811322',\n",
       " '1561840718']"
      ]
     },
     "execution_count": 35,
     "metadata": {},
     "output_type": "execute_result"
    }
   ],
   "source": [
    "# creating my list of liked books\n",
    "liked_books = ['006440546X', '1929462379', '1853263451', '1891575139', '9505811322', '1561840718']\n",
    "liked_books"
   ]
  },
  {
   "cell_type": "markdown",
   "metadata": {},
   "source": [
    "### Making recommendations based on my liked books ###"
   ]
  },
  {
   "cell_type": "markdown",
   "metadata": {},
   "source": [
    "#### step 1: find all the users that liked the same books as us ####"
   ]
  },
  {
   "cell_type": "code",
   "execution_count": 36,
   "metadata": {
    "execution": {
     "iopub.execute_input": "2024-09-07T17:00:35.329614Z",
     "iopub.status.busy": "2024-09-07T17:00:35.329520Z",
     "iopub.status.idle": "2024-09-07T17:00:35.332976Z",
     "shell.execute_reply": "2024-09-07T17:00:35.332724Z"
    }
   },
   "outputs": [
    {
     "data": {
      "text/html": [
       "<div>\n",
       "<style scoped>\n",
       "    .dataframe tbody tr th:only-of-type {\n",
       "        vertical-align: middle;\n",
       "    }\n",
       "\n",
       "    .dataframe tbody tr th {\n",
       "        vertical-align: top;\n",
       "    }\n",
       "\n",
       "    .dataframe thead th {\n",
       "        text-align: right;\n",
       "    }\n",
       "</style>\n",
       "<table border=\"1\" class=\"dataframe\">\n",
       "  <thead>\n",
       "    <tr style=\"text-align: right;\">\n",
       "      <th></th>\n",
       "      <th>book_title</th>\n",
       "      <th>book_author</th>\n",
       "      <th>isbn</th>\n",
       "      <th>rating_count</th>\n",
       "      <th>average_rating</th>\n",
       "      <th>mod_titles</th>\n",
       "    </tr>\n",
       "  </thead>\n",
       "  <tbody>\n",
       "    <tr>\n",
       "      <th>161</th>\n",
       "      <td>16 Lighthouse Road</td>\n",
       "      <td>Debbie Macomber</td>\n",
       "      <td>1551668300</td>\n",
       "      <td>65</td>\n",
       "      <td>1.9</td>\n",
       "      <td>16 lighthouse road</td>\n",
       "    </tr>\n",
       "    <tr>\n",
       "      <th>177</th>\n",
       "      <td>1984</td>\n",
       "      <td>George Orwell</td>\n",
       "      <td>207036822X</td>\n",
       "      <td>15</td>\n",
       "      <td>4.5</td>\n",
       "      <td>1984</td>\n",
       "    </tr>\n",
       "    <tr>\n",
       "      <th>200</th>\n",
       "      <td>20,000 Leagues Under the Sea (Wordsworth Colle...</td>\n",
       "      <td>Jules Verne</td>\n",
       "      <td>1853260312</td>\n",
       "      <td>24</td>\n",
       "      <td>2.3</td>\n",
       "      <td>20 000 leagues under the sea wordsworth collec...</td>\n",
       "    </tr>\n",
       "    <tr>\n",
       "      <th>230</th>\n",
       "      <td>204 Rosewood Lane</td>\n",
       "      <td>Debbie Macomber</td>\n",
       "      <td>1551669293</td>\n",
       "      <td>71</td>\n",
       "      <td>1.7</td>\n",
       "      <td>204 rosewood lane</td>\n",
       "    </tr>\n",
       "    <tr>\n",
       "      <th>272</th>\n",
       "      <td>311 Pelican Court</td>\n",
       "      <td>Debbie Macomber</td>\n",
       "      <td>1551667193</td>\n",
       "      <td>46</td>\n",
       "      <td>2.9</td>\n",
       "      <td>311 pelican court</td>\n",
       "    </tr>\n",
       "  </tbody>\n",
       "</table>\n",
       "</div>"
      ],
      "text/plain": [
       "                                            book_title      book_author  \\\n",
       "161                                 16 Lighthouse Road  Debbie Macomber   \n",
       "177                                               1984    George Orwell   \n",
       "200  20,000 Leagues Under the Sea (Wordsworth Colle...      Jules Verne   \n",
       "230                                  204 Rosewood Lane  Debbie Macomber   \n",
       "272                                  311 Pelican Court  Debbie Macomber   \n",
       "\n",
       "           isbn  rating_count  average_rating  \\\n",
       "161  1551668300            65             1.9   \n",
       "177  207036822X            15             4.5   \n",
       "200  1853260312            24             2.3   \n",
       "230  1551669293            71             1.7   \n",
       "272  1551667193            46             2.9   \n",
       "\n",
       "                                            mod_titles  \n",
       "161                                 16 lighthouse road  \n",
       "177                                               1984  \n",
       "200  20 000 leagues under the sea wordsworth collec...  \n",
       "230                                  204 rosewood lane  \n",
       "272                                  311 pelican court  "
      ]
     },
     "execution_count": 36,
     "metadata": {},
     "output_type": "execute_result"
    }
   ],
   "source": [
    "ratings.head()"
   ]
  },
  {
   "cell_type": "code",
   "execution_count": 37,
   "metadata": {
    "execution": {
     "iopub.execute_input": "2024-09-07T17:00:35.334210Z",
     "iopub.status.busy": "2024-09-07T17:00:35.334134Z",
     "iopub.status.idle": "2024-09-07T17:00:35.347384Z",
     "shell.execute_reply": "2024-09-07T17:00:35.347127Z"
    }
   },
   "outputs": [
    {
     "name": "stdout",
     "output_type": "stream",
     "text": [
      "(19, 4)\n"
     ]
    },
    {
     "data": {
      "text/plain": [
       "{(30735, '006440546X', 'Betsy and Joe (Betsy & Tacy)', 10),\n",
       " (56399,\n",
       "  '1853263451',\n",
       "  \"Culpeper's Complete Herbal: A Book of Natural Remedies of Ancient Ills (The Wordsworth Collection Reference Library)\",\n",
       "  10),\n",
       " (70464, '1891575139', 'Inside Avatar The Book: Achieving Enlightenment', 10),\n",
       " (75591, '006440546X', 'Betsy and Joe (Betsy & Tacy)', 10),\n",
       " (76626,\n",
       "  '1853263451',\n",
       "  \"Culpeper's Complete Herbal: A Book of Natural Remedies of Ancient Ills (The Wordsworth Collection Reference Library)\",\n",
       "  10),\n",
       " (83152, '1891575139', 'Inside Avatar The Book: Achieving Enlightenment', 10),\n",
       " (93426, '1929462379', 'Bug, Witch and the Robot', 10),\n",
       " (95359, '006440546X', 'Betsy and Joe (Betsy & Tacy)', 10),\n",
       " (97324,\n",
       "  '9505811322',\n",
       "  'LA Metamorfosis (Colecci?on Literaria Lyc (Leer y Crear))',\n",
       "  10),\n",
       " (141310,\n",
       "  '1561840718',\n",
       "  'Quantum Psychology: How Brain Software Programs You and Your World',\n",
       "  10),\n",
       " (141322,\n",
       "  '1561840718',\n",
       "  'Quantum Psychology: How Brain Software Programs You and Your World',\n",
       "  10),\n",
       " (156150, '006440546X', 'Betsy and Joe (Betsy & Tacy)', 10),\n",
       " (173660,\n",
       "  '1561840718',\n",
       "  'Quantum Psychology: How Brain Software Programs You and Your World',\n",
       "  10),\n",
       " (187810,\n",
       "  '9505811322',\n",
       "  'LA Metamorfosis (Colecci?on Literaria Lyc (Leer y Crear))',\n",
       "  10),\n",
       " (231977, '1891575139', 'Inside Avatar The Book: Achieving Enlightenment', 10),\n",
       " (248915, '1929462379', 'Bug, Witch and the Robot', 10),\n",
       " (254206, '1929462379', 'Bug, Witch and the Robot', 10),\n",
       " (265591,\n",
       "  '9505811322',\n",
       "  'LA Metamorfosis (Colecci?on Literaria Lyc (Leer y Crear))',\n",
       "  10),\n",
       " (273718,\n",
       "  '1853263451',\n",
       "  \"Culpeper's Complete Herbal: A Book of Natural Remedies of Ancient Ills (The Wordsworth Collection Reference Library)\",\n",
       "  10)}"
      ]
     },
     "execution_count": 37,
     "metadata": {},
     "output_type": "execute_result"
    }
   ],
   "source": [
    "# use original dataset to find users who liked the same books as me (including individual ratings)\n",
    "\n",
    "#books_ratings.head()\n",
    "\n",
    "books_ratings_short = books_ratings[['user_id', 'isbn', 'book_rating', 'book_title']]   \n",
    "\n",
    "books_ratings_short.head()\n",
    "\n",
    "filtered_ratings = books_ratings_short[books_ratings_short['isbn'].isin(liked_books) & (books_ratings_short['book_rating'] > 8)]  #filtering out books with ratings higher or equal  8   \n",
    "\n",
    "print(filtered_ratings.shape)\n",
    "\n",
    "# create a set with users who liked the same books as me\n",
    "\n",
    "overlap_users = set()\n",
    "\n",
    "# # Create tuples (user_id, isbn, book_rating) for the filtered rows\n",
    "overlap_users = set(filtered_ratings.apply(lambda row: (row['user_id'], row['isbn'],row['book_title'], row['book_rating']), axis=1))\n",
    "\n",
    "# # Display the overlap_users set\n",
    "overlap_users"
   ]
  },
  {
   "cell_type": "code",
   "execution_count": 38,
   "metadata": {
    "execution": {
     "iopub.execute_input": "2024-09-07T17:00:35.348664Z",
     "iopub.status.busy": "2024-09-07T17:00:35.348575Z",
     "iopub.status.idle": "2024-09-07T17:00:35.352152Z",
     "shell.execute_reply": "2024-09-07T17:00:35.351910Z"
    }
   },
   "outputs": [
    {
     "data": {
      "text/html": [
       "<div>\n",
       "<style scoped>\n",
       "    .dataframe tbody tr th:only-of-type {\n",
       "        vertical-align: middle;\n",
       "    }\n",
       "\n",
       "    .dataframe tbody tr th {\n",
       "        vertical-align: top;\n",
       "    }\n",
       "\n",
       "    .dataframe thead th {\n",
       "        text-align: right;\n",
       "    }\n",
       "</style>\n",
       "<table border=\"1\" class=\"dataframe\">\n",
       "  <thead>\n",
       "    <tr style=\"text-align: right;\">\n",
       "      <th></th>\n",
       "      <th>user_id</th>\n",
       "      <th>isbn</th>\n",
       "      <th>book_title</th>\n",
       "      <th>book_rating</th>\n",
       "    </tr>\n",
       "  </thead>\n",
       "  <tbody>\n",
       "    <tr>\n",
       "      <th>0</th>\n",
       "      <td>248915</td>\n",
       "      <td>1929462379</td>\n",
       "      <td>Bug, Witch and the Robot</td>\n",
       "      <td>10</td>\n",
       "    </tr>\n",
       "    <tr>\n",
       "      <th>1</th>\n",
       "      <td>187810</td>\n",
       "      <td>9505811322</td>\n",
       "      <td>LA Metamorfosis (Colecci?on Literaria Lyc (Lee...</td>\n",
       "      <td>10</td>\n",
       "    </tr>\n",
       "    <tr>\n",
       "      <th>2</th>\n",
       "      <td>231977</td>\n",
       "      <td>1891575139</td>\n",
       "      <td>Inside Avatar The Book: Achieving Enlightenment</td>\n",
       "      <td>10</td>\n",
       "    </tr>\n",
       "    <tr>\n",
       "      <th>3</th>\n",
       "      <td>93426</td>\n",
       "      <td>1929462379</td>\n",
       "      <td>Bug, Witch and the Robot</td>\n",
       "      <td>10</td>\n",
       "    </tr>\n",
       "    <tr>\n",
       "      <th>4</th>\n",
       "      <td>95359</td>\n",
       "      <td>006440546X</td>\n",
       "      <td>Betsy and Joe (Betsy &amp; Tacy)</td>\n",
       "      <td>10</td>\n",
       "    </tr>\n",
       "    <tr>\n",
       "      <th>5</th>\n",
       "      <td>83152</td>\n",
       "      <td>1891575139</td>\n",
       "      <td>Inside Avatar The Book: Achieving Enlightenment</td>\n",
       "      <td>10</td>\n",
       "    </tr>\n",
       "    <tr>\n",
       "      <th>6</th>\n",
       "      <td>254206</td>\n",
       "      <td>1929462379</td>\n",
       "      <td>Bug, Witch and the Robot</td>\n",
       "      <td>10</td>\n",
       "    </tr>\n",
       "    <tr>\n",
       "      <th>7</th>\n",
       "      <td>75591</td>\n",
       "      <td>006440546X</td>\n",
       "      <td>Betsy and Joe (Betsy &amp; Tacy)</td>\n",
       "      <td>10</td>\n",
       "    </tr>\n",
       "    <tr>\n",
       "      <th>8</th>\n",
       "      <td>56399</td>\n",
       "      <td>1853263451</td>\n",
       "      <td>Culpeper's Complete Herbal: A Book of Natural ...</td>\n",
       "      <td>10</td>\n",
       "    </tr>\n",
       "    <tr>\n",
       "      <th>9</th>\n",
       "      <td>76626</td>\n",
       "      <td>1853263451</td>\n",
       "      <td>Culpeper's Complete Herbal: A Book of Natural ...</td>\n",
       "      <td>10</td>\n",
       "    </tr>\n",
       "    <tr>\n",
       "      <th>10</th>\n",
       "      <td>173660</td>\n",
       "      <td>1561840718</td>\n",
       "      <td>Quantum Psychology: How Brain Software Program...</td>\n",
       "      <td>10</td>\n",
       "    </tr>\n",
       "    <tr>\n",
       "      <th>11</th>\n",
       "      <td>70464</td>\n",
       "      <td>1891575139</td>\n",
       "      <td>Inside Avatar The Book: Achieving Enlightenment</td>\n",
       "      <td>10</td>\n",
       "    </tr>\n",
       "    <tr>\n",
       "      <th>12</th>\n",
       "      <td>156150</td>\n",
       "      <td>006440546X</td>\n",
       "      <td>Betsy and Joe (Betsy &amp; Tacy)</td>\n",
       "      <td>10</td>\n",
       "    </tr>\n",
       "    <tr>\n",
       "      <th>13</th>\n",
       "      <td>265591</td>\n",
       "      <td>9505811322</td>\n",
       "      <td>LA Metamorfosis (Colecci?on Literaria Lyc (Lee...</td>\n",
       "      <td>10</td>\n",
       "    </tr>\n",
       "    <tr>\n",
       "      <th>14</th>\n",
       "      <td>30735</td>\n",
       "      <td>006440546X</td>\n",
       "      <td>Betsy and Joe (Betsy &amp; Tacy)</td>\n",
       "      <td>10</td>\n",
       "    </tr>\n",
       "    <tr>\n",
       "      <th>15</th>\n",
       "      <td>141310</td>\n",
       "      <td>1561840718</td>\n",
       "      <td>Quantum Psychology: How Brain Software Program...</td>\n",
       "      <td>10</td>\n",
       "    </tr>\n",
       "    <tr>\n",
       "      <th>16</th>\n",
       "      <td>97324</td>\n",
       "      <td>9505811322</td>\n",
       "      <td>LA Metamorfosis (Colecci?on Literaria Lyc (Lee...</td>\n",
       "      <td>10</td>\n",
       "    </tr>\n",
       "    <tr>\n",
       "      <th>17</th>\n",
       "      <td>141322</td>\n",
       "      <td>1561840718</td>\n",
       "      <td>Quantum Psychology: How Brain Software Program...</td>\n",
       "      <td>10</td>\n",
       "    </tr>\n",
       "    <tr>\n",
       "      <th>18</th>\n",
       "      <td>273718</td>\n",
       "      <td>1853263451</td>\n",
       "      <td>Culpeper's Complete Herbal: A Book of Natural ...</td>\n",
       "      <td>10</td>\n",
       "    </tr>\n",
       "  </tbody>\n",
       "</table>\n",
       "</div>"
      ],
      "text/plain": [
       "    user_id        isbn                                         book_title  \\\n",
       "0    248915  1929462379                           Bug, Witch and the Robot   \n",
       "1    187810  9505811322  LA Metamorfosis (Colecci?on Literaria Lyc (Lee...   \n",
       "2    231977  1891575139    Inside Avatar The Book: Achieving Enlightenment   \n",
       "3     93426  1929462379                           Bug, Witch and the Robot   \n",
       "4     95359  006440546X                       Betsy and Joe (Betsy & Tacy)   \n",
       "5     83152  1891575139    Inside Avatar The Book: Achieving Enlightenment   \n",
       "6    254206  1929462379                           Bug, Witch and the Robot   \n",
       "7     75591  006440546X                       Betsy and Joe (Betsy & Tacy)   \n",
       "8     56399  1853263451  Culpeper's Complete Herbal: A Book of Natural ...   \n",
       "9     76626  1853263451  Culpeper's Complete Herbal: A Book of Natural ...   \n",
       "10   173660  1561840718  Quantum Psychology: How Brain Software Program...   \n",
       "11    70464  1891575139    Inside Avatar The Book: Achieving Enlightenment   \n",
       "12   156150  006440546X                       Betsy and Joe (Betsy & Tacy)   \n",
       "13   265591  9505811322  LA Metamorfosis (Colecci?on Literaria Lyc (Lee...   \n",
       "14    30735  006440546X                       Betsy and Joe (Betsy & Tacy)   \n",
       "15   141310  1561840718  Quantum Psychology: How Brain Software Program...   \n",
       "16    97324  9505811322  LA Metamorfosis (Colecci?on Literaria Lyc (Lee...   \n",
       "17   141322  1561840718  Quantum Psychology: How Brain Software Program...   \n",
       "18   273718  1853263451  Culpeper's Complete Herbal: A Book of Natural ...   \n",
       "\n",
       "    book_rating  \n",
       "0            10  \n",
       "1            10  \n",
       "2            10  \n",
       "3            10  \n",
       "4            10  \n",
       "5            10  \n",
       "6            10  \n",
       "7            10  \n",
       "8            10  \n",
       "9            10  \n",
       "10           10  \n",
       "11           10  \n",
       "12           10  \n",
       "13           10  \n",
       "14           10  \n",
       "15           10  \n",
       "16           10  \n",
       "17           10  \n",
       "18           10  "
      ]
     },
     "execution_count": 38,
     "metadata": {},
     "output_type": "execute_result"
    }
   ],
   "source": [
    "# making set a dataframe containing any user who read the same book as us and rated the book higher than 8\n",
    "overlap_users_df = pd.DataFrame(list(overlap_users), columns=['user_id', 'isbn', 'book_title', 'book_rating'])\n",
    "overlap_users_df"
   ]
  },
  {
   "cell_type": "code",
   "execution_count": 39,
   "metadata": {
    "execution": {
     "iopub.execute_input": "2024-09-07T17:00:35.353365Z",
     "iopub.status.busy": "2024-09-07T17:00:35.353297Z",
     "iopub.status.idle": "2024-09-07T17:00:35.355139Z",
     "shell.execute_reply": "2024-09-07T17:00:35.354890Z"
    }
   },
   "outputs": [
    {
     "data": {
      "text/plain": [
       "19"
      ]
     },
     "execution_count": 39,
     "metadata": {},
     "output_type": "execute_result"
    }
   ],
   "source": [
    "len(overlap_users_df)"
   ]
  },
  {
   "cell_type": "code",
   "execution_count": 40,
   "metadata": {
    "execution": {
     "iopub.execute_input": "2024-09-07T17:00:35.356348Z",
     "iopub.status.busy": "2024-09-07T17:00:35.356274Z",
     "iopub.status.idle": "2024-09-07T17:00:35.357906Z",
     "shell.execute_reply": "2024-09-07T17:00:35.357695Z"
    }
   },
   "outputs": [],
   "source": [
    "overlap_users_df['isbn'] = overlap_users_df['isbn'].astype(str)   #converting isbn to string"
   ]
  },
  {
   "cell_type": "markdown",
   "metadata": {},
   "source": [
    "#### step 2: finding what those users liked ####"
   ]
  },
  {
   "cell_type": "code",
   "execution_count": 41,
   "metadata": {
    "execution": {
     "iopub.execute_input": "2024-09-07T17:00:35.359163Z",
     "iopub.status.busy": "2024-09-07T17:00:35.359077Z",
     "iopub.status.idle": "2024-09-07T17:00:35.364026Z",
     "shell.execute_reply": "2024-09-07T17:00:35.363805Z"
    }
   },
   "outputs": [],
   "source": [
    "# finding books that the users in the overlap_users_df have read and rated highly\n",
    "\n",
    "#filtering out books read by users in the overlap_users_df\n",
    "total_books = books_ratings_short[books_ratings_short['user_id'].isin(overlap_users_df['user_id'])]\n",
    "\n",
    "#filtering out books with ratings higher than 8\n",
    "total_books = total_books[total_books['book_rating'] > 8]\n",
    "\n",
    "#filtering out books that I have already liked\n",
    "recommended = total_books[~total_books['isbn'].isin(liked_books)]\n",
    "\n",
    "#finding the top 10 books that the users in the overlap_users_df have read and rated highly\n",
    "recommended_2 = recommended['isbn'].value_counts().head(10)"
   ]
  },
  {
   "cell_type": "code",
   "execution_count": 42,
   "metadata": {
    "execution": {
     "iopub.execute_input": "2024-09-07T17:00:35.365213Z",
     "iopub.status.busy": "2024-09-07T17:00:35.365140Z",
     "iopub.status.idle": "2024-09-07T17:00:35.367129Z",
     "shell.execute_reply": "2024-09-07T17:00:35.366921Z"
    }
   },
   "outputs": [
    {
     "data": {
      "text/plain": [
       "10"
      ]
     },
     "execution_count": 42,
     "metadata": {},
     "output_type": "execute_result"
    }
   ],
   "source": [
    "len(recommended_2)"
   ]
  },
  {
   "cell_type": "code",
   "execution_count": 43,
   "metadata": {
    "execution": {
     "iopub.execute_input": "2024-09-07T17:00:35.368324Z",
     "iopub.status.busy": "2024-09-07T17:00:35.368260Z",
     "iopub.status.idle": "2024-09-07T17:00:35.371202Z",
     "shell.execute_reply": "2024-09-07T17:00:35.371000Z"
    }
   },
   "outputs": [
    {
     "data": {
      "text/html": [
       "<div>\n",
       "<style scoped>\n",
       "    .dataframe tbody tr th:only-of-type {\n",
       "        vertical-align: middle;\n",
       "    }\n",
       "\n",
       "    .dataframe tbody tr th {\n",
       "        vertical-align: top;\n",
       "    }\n",
       "\n",
       "    .dataframe thead th {\n",
       "        text-align: right;\n",
       "    }\n",
       "</style>\n",
       "<table border=\"1\" class=\"dataframe\">\n",
       "  <thead>\n",
       "    <tr style=\"text-align: right;\">\n",
       "      <th></th>\n",
       "      <th>user_id</th>\n",
       "      <th>isbn</th>\n",
       "      <th>book_rating</th>\n",
       "      <th>book_title</th>\n",
       "    </tr>\n",
       "  </thead>\n",
       "  <tbody>\n",
       "    <tr>\n",
       "      <th>13</th>\n",
       "      <td>76626</td>\n",
       "      <td>1903436346</td>\n",
       "      <td>9</td>\n",
       "      <td>The Winter's Tale - Arden Shakespeare : Third ...</td>\n",
       "    </tr>\n",
       "    <tr>\n",
       "      <th>2441</th>\n",
       "      <td>56399</td>\n",
       "      <td>1561841625</td>\n",
       "      <td>10</td>\n",
       "      <td>The Earth Will Shake (Historical Illuminatus C...</td>\n",
       "    </tr>\n",
       "    <tr>\n",
       "      <th>5706</th>\n",
       "      <td>95359</td>\n",
       "      <td>193072229X</td>\n",
       "      <td>10</td>\n",
       "      <td>MoveOn's 50 Ways to Love Your Country: How to ...</td>\n",
       "    </tr>\n",
       "    <tr>\n",
       "      <th>5791</th>\n",
       "      <td>56399</td>\n",
       "      <td>1568821573</td>\n",
       "      <td>10</td>\n",
       "      <td>H. P. Lovecraft's Dreamlands (Call of Cthulhu ...</td>\n",
       "    </tr>\n",
       "    <tr>\n",
       "      <th>6664</th>\n",
       "      <td>156150</td>\n",
       "      <td>1400052971</td>\n",
       "      <td>9</td>\n",
       "      <td>The Last Good Time : Skinny D'Amato, the Notor...</td>\n",
       "    </tr>\n",
       "  </tbody>\n",
       "</table>\n",
       "</div>"
      ],
      "text/plain": [
       "      user_id        isbn  book_rating  \\\n",
       "13      76626  1903436346            9   \n",
       "2441    56399  1561841625           10   \n",
       "5706    95359  193072229X           10   \n",
       "5791    56399  1568821573           10   \n",
       "6664   156150  1400052971            9   \n",
       "\n",
       "                                             book_title  \n",
       "13    The Winter's Tale - Arden Shakespeare : Third ...  \n",
       "2441  The Earth Will Shake (Historical Illuminatus C...  \n",
       "5706  MoveOn's 50 Ways to Love Your Country: How to ...  \n",
       "5791  H. P. Lovecraft's Dreamlands (Call of Cthulhu ...  \n",
       "6664  The Last Good Time : Skinny D'Amato, the Notor...  "
      ]
     },
     "execution_count": 43,
     "metadata": {},
     "output_type": "execute_result"
    }
   ],
   "source": [
    "total_books.head()"
   ]
  },
  {
   "cell_type": "code",
   "execution_count": 44,
   "metadata": {
    "execution": {
     "iopub.execute_input": "2024-09-07T17:00:35.372392Z",
     "iopub.status.busy": "2024-09-07T17:00:35.372321Z",
     "iopub.status.idle": "2024-09-07T17:00:35.375321Z",
     "shell.execute_reply": "2024-09-07T17:00:35.375106Z"
    }
   },
   "outputs": [
    {
     "name": "stdout",
     "output_type": "stream",
     "text": [
      "<class 'pandas.core.frame.DataFrame'>\n",
      "Index: 385 entries, 13 to 349713\n",
      "Data columns (total 4 columns):\n",
      " #   Column       Non-Null Count  Dtype \n",
      "---  ------       --------------  ----- \n",
      " 0   user_id      385 non-null    int64 \n",
      " 1   isbn         385 non-null    object\n",
      " 2   book_rating  385 non-null    int64 \n",
      " 3   book_title   385 non-null    object\n",
      "dtypes: int64(2), object(2)\n",
      "memory usage: 15.0+ KB\n"
     ]
    }
   ],
   "source": [
    "total_books.info()"
   ]
  },
  {
   "cell_type": "code",
   "execution_count": 45,
   "metadata": {
    "execution": {
     "iopub.execute_input": "2024-09-07T17:00:35.376604Z",
     "iopub.status.busy": "2024-09-07T17:00:35.376529Z",
     "iopub.status.idle": "2024-09-07T17:00:35.378485Z",
     "shell.execute_reply": "2024-09-07T17:00:35.378276Z"
    }
   },
   "outputs": [],
   "source": [
    "# Convert recommended_2 Series to DataFrame\n",
    "recommended_2_df = recommended_2.reset_index()\n",
    "recommended_2_df.columns = ['isbn', 'count']\n",
    "\n"
   ]
  },
  {
   "cell_type": "code",
   "execution_count": 46,
   "metadata": {
    "execution": {
     "iopub.execute_input": "2024-09-07T17:00:35.379715Z",
     "iopub.status.busy": "2024-09-07T17:00:35.379639Z",
     "iopub.status.idle": "2024-09-07T17:00:35.382192Z",
     "shell.execute_reply": "2024-09-07T17:00:35.381974Z"
    }
   },
   "outputs": [
    {
     "data": {
      "text/html": [
       "<div>\n",
       "<style scoped>\n",
       "    .dataframe tbody tr th:only-of-type {\n",
       "        vertical-align: middle;\n",
       "    }\n",
       "\n",
       "    .dataframe tbody tr th {\n",
       "        vertical-align: top;\n",
       "    }\n",
       "\n",
       "    .dataframe thead th {\n",
       "        text-align: right;\n",
       "    }\n",
       "</style>\n",
       "<table border=\"1\" class=\"dataframe\">\n",
       "  <thead>\n",
       "    <tr style=\"text-align: right;\">\n",
       "      <th></th>\n",
       "      <th>isbn</th>\n",
       "      <th>count</th>\n",
       "    </tr>\n",
       "  </thead>\n",
       "  <tbody>\n",
       "    <tr>\n",
       "      <th>0</th>\n",
       "      <td>1929462093</td>\n",
       "      <td>3</td>\n",
       "    </tr>\n",
       "    <tr>\n",
       "      <th>1</th>\n",
       "      <td>192946200X</td>\n",
       "      <td>3</td>\n",
       "    </tr>\n",
       "    <tr>\n",
       "      <th>2</th>\n",
       "      <td>1929462239</td>\n",
       "      <td>3</td>\n",
       "    </tr>\n",
       "    <tr>\n",
       "      <th>3</th>\n",
       "      <td>1561840033</td>\n",
       "      <td>3</td>\n",
       "    </tr>\n",
       "    <tr>\n",
       "      <th>4</th>\n",
       "      <td>1561840564</td>\n",
       "      <td>3</td>\n",
       "    </tr>\n",
       "    <tr>\n",
       "      <th>5</th>\n",
       "      <td>044021985X</td>\n",
       "      <td>2</td>\n",
       "    </tr>\n",
       "    <tr>\n",
       "      <th>6</th>\n",
       "      <td>043935806X</td>\n",
       "      <td>2</td>\n",
       "    </tr>\n",
       "    <tr>\n",
       "      <th>7</th>\n",
       "      <td>042510429X</td>\n",
       "      <td>2</td>\n",
       "    </tr>\n",
       "    <tr>\n",
       "      <th>8</th>\n",
       "      <td>055357289X</td>\n",
       "      <td>2</td>\n",
       "    </tr>\n",
       "    <tr>\n",
       "      <th>9</th>\n",
       "      <td>031242227X</td>\n",
       "      <td>2</td>\n",
       "    </tr>\n",
       "  </tbody>\n",
       "</table>\n",
       "</div>"
      ],
      "text/plain": [
       "         isbn  count\n",
       "0  1929462093      3\n",
       "1  192946200X      3\n",
       "2  1929462239      3\n",
       "3  1561840033      3\n",
       "4  1561840564      3\n",
       "5  044021985X      2\n",
       "6  043935806X      2\n",
       "7  042510429X      2\n",
       "8  055357289X      2\n",
       "9  031242227X      2"
      ]
     },
     "execution_count": 46,
     "metadata": {},
     "output_type": "execute_result"
    }
   ],
   "source": [
    "recommended_2_df"
   ]
  },
  {
   "cell_type": "code",
   "execution_count": 47,
   "metadata": {
    "execution": {
     "iopub.execute_input": "2024-09-07T17:00:35.383371Z",
     "iopub.status.busy": "2024-09-07T17:00:35.383296Z",
     "iopub.status.idle": "2024-09-07T17:00:35.388035Z",
     "shell.execute_reply": "2024-09-07T17:00:35.387825Z"
    }
   },
   "outputs": [
    {
     "data": {
      "text/html": [
       "<div>\n",
       "<style scoped>\n",
       "    .dataframe tbody tr th:only-of-type {\n",
       "        vertical-align: middle;\n",
       "    }\n",
       "\n",
       "    .dataframe tbody tr th {\n",
       "        vertical-align: top;\n",
       "    }\n",
       "\n",
       "    .dataframe thead th {\n",
       "        text-align: right;\n",
       "    }\n",
       "</style>\n",
       "<table border=\"1\" class=\"dataframe\">\n",
       "  <thead>\n",
       "    <tr style=\"text-align: right;\">\n",
       "      <th></th>\n",
       "      <th>isbn</th>\n",
       "      <th>book_title</th>\n",
       "      <th>count</th>\n",
       "    </tr>\n",
       "  </thead>\n",
       "  <tbody>\n",
       "    <tr>\n",
       "      <th>0</th>\n",
       "      <td>1561840033</td>\n",
       "      <td>Cosmic Trigger I : Final Secret of the Illuminati</td>\n",
       "      <td>3</td>\n",
       "    </tr>\n",
       "    <tr>\n",
       "      <th>1</th>\n",
       "      <td>1561840564</td>\n",
       "      <td>Prometheus Rising</td>\n",
       "      <td>3</td>\n",
       "    </tr>\n",
       "    <tr>\n",
       "      <th>2</th>\n",
       "      <td>192946200X</td>\n",
       "      <td>Sluggy Freelance: When Holidays Attack! (Book 3)</td>\n",
       "      <td>3</td>\n",
       "    </tr>\n",
       "    <tr>\n",
       "      <th>3</th>\n",
       "      <td>1929462093</td>\n",
       "      <td>Sluggy Freelance: Game Called on Account of Na...</td>\n",
       "      <td>3</td>\n",
       "    </tr>\n",
       "    <tr>\n",
       "      <th>4</th>\n",
       "      <td>1929462239</td>\n",
       "      <td>Sluggy Freelance: Yippy Skippy, the Evil! (Boo...</td>\n",
       "      <td>3</td>\n",
       "    </tr>\n",
       "    <tr>\n",
       "      <th>5</th>\n",
       "      <td>031242227X</td>\n",
       "      <td>Running with Scissors: A Memoir</td>\n",
       "      <td>2</td>\n",
       "    </tr>\n",
       "    <tr>\n",
       "      <th>6</th>\n",
       "      <td>042510429X</td>\n",
       "      <td>The Third Deadly Sin</td>\n",
       "      <td>2</td>\n",
       "    </tr>\n",
       "    <tr>\n",
       "      <th>7</th>\n",
       "      <td>043935806X</td>\n",
       "      <td>Harry Potter and the Order of the Phoenix (Boo...</td>\n",
       "      <td>2</td>\n",
       "    </tr>\n",
       "    <tr>\n",
       "      <th>8</th>\n",
       "      <td>044021985X</td>\n",
       "      <td>Tomorrow, When The War Began</td>\n",
       "      <td>2</td>\n",
       "    </tr>\n",
       "    <tr>\n",
       "      <th>9</th>\n",
       "      <td>055357289X</td>\n",
       "      <td>Shadow Dawn (Chronicles of the Shadow War, Boo...</td>\n",
       "      <td>2</td>\n",
       "    </tr>\n",
       "  </tbody>\n",
       "</table>\n",
       "</div>"
      ],
      "text/plain": [
       "         isbn                                         book_title  count\n",
       "0  1561840033  Cosmic Trigger I : Final Secret of the Illuminati      3\n",
       "1  1561840564                                  Prometheus Rising      3\n",
       "2  192946200X   Sluggy Freelance: When Holidays Attack! (Book 3)      3\n",
       "3  1929462093  Sluggy Freelance: Game Called on Account of Na...      3\n",
       "4  1929462239  Sluggy Freelance: Yippy Skippy, the Evil! (Boo...      3\n",
       "5  031242227X                    Running with Scissors: A Memoir      2\n",
       "6  042510429X                               The Third Deadly Sin      2\n",
       "7  043935806X  Harry Potter and the Order of the Phoenix (Boo...      2\n",
       "8  044021985X                       Tomorrow, When The War Began      2\n",
       "9  055357289X  Shadow Dawn (Chronicles of the Shadow War, Boo...      2"
      ]
     },
     "execution_count": 47,
     "metadata": {},
     "output_type": "execute_result"
    }
   ],
   "source": [
    "# Merge with books DataFrame to get book titles\n",
    "recommended_with_titles = pd.merge(recommended_2_df, total_books[['isbn', 'book_title']], on='isbn', how='left')\n",
    "\n",
    "# Display the result\n",
    "recommended_with_titles[['isbn', 'book_title']].value_counts().reset_index(name='count')"
   ]
  },
  {
   "cell_type": "markdown",
   "metadata": {},
   "source": [
    "#### step 3: fine tuning the recommendations ####"
   ]
  },
  {
   "cell_type": "code",
   "execution_count": 48,
   "metadata": {
    "execution": {
     "iopub.execute_input": "2024-09-07T17:00:35.389306Z",
     "iopub.status.busy": "2024-09-07T17:00:35.389234Z",
     "iopub.status.idle": "2024-09-07T17:00:35.392222Z",
     "shell.execute_reply": "2024-09-07T17:00:35.392017Z"
    }
   },
   "outputs": [
    {
     "data": {
      "text/html": [
       "<div>\n",
       "<style scoped>\n",
       "    .dataframe tbody tr th:only-of-type {\n",
       "        vertical-align: middle;\n",
       "    }\n",
       "\n",
       "    .dataframe tbody tr th {\n",
       "        vertical-align: top;\n",
       "    }\n",
       "\n",
       "    .dataframe thead th {\n",
       "        text-align: right;\n",
       "    }\n",
       "</style>\n",
       "<table border=\"1\" class=\"dataframe\">\n",
       "  <thead>\n",
       "    <tr style=\"text-align: right;\">\n",
       "      <th></th>\n",
       "      <th>user_id</th>\n",
       "      <th>isbn</th>\n",
       "      <th>book_rating</th>\n",
       "      <th>book_title</th>\n",
       "    </tr>\n",
       "  </thead>\n",
       "  <tbody>\n",
       "    <tr>\n",
       "      <th>13</th>\n",
       "      <td>76626</td>\n",
       "      <td>1903436346</td>\n",
       "      <td>9</td>\n",
       "      <td>The Winter's Tale - Arden Shakespeare : Third ...</td>\n",
       "    </tr>\n",
       "    <tr>\n",
       "      <th>2441</th>\n",
       "      <td>56399</td>\n",
       "      <td>1561841625</td>\n",
       "      <td>10</td>\n",
       "      <td>The Earth Will Shake (Historical Illuminatus C...</td>\n",
       "    </tr>\n",
       "    <tr>\n",
       "      <th>5706</th>\n",
       "      <td>95359</td>\n",
       "      <td>193072229X</td>\n",
       "      <td>10</td>\n",
       "      <td>MoveOn's 50 Ways to Love Your Country: How to ...</td>\n",
       "    </tr>\n",
       "    <tr>\n",
       "      <th>5791</th>\n",
       "      <td>56399</td>\n",
       "      <td>1568821573</td>\n",
       "      <td>10</td>\n",
       "      <td>H. P. Lovecraft's Dreamlands (Call of Cthulhu ...</td>\n",
       "    </tr>\n",
       "    <tr>\n",
       "      <th>6664</th>\n",
       "      <td>156150</td>\n",
       "      <td>1400052971</td>\n",
       "      <td>9</td>\n",
       "      <td>The Last Good Time : Skinny D'Amato, the Notor...</td>\n",
       "    </tr>\n",
       "  </tbody>\n",
       "</table>\n",
       "</div>"
      ],
      "text/plain": [
       "      user_id        isbn  book_rating  \\\n",
       "13      76626  1903436346            9   \n",
       "2441    56399  1561841625           10   \n",
       "5706    95359  193072229X           10   \n",
       "5791    56399  1568821573           10   \n",
       "6664   156150  1400052971            9   \n",
       "\n",
       "                                             book_title  \n",
       "13    The Winter's Tale - Arden Shakespeare : Third ...  \n",
       "2441  The Earth Will Shake (Historical Illuminatus C...  \n",
       "5706  MoveOn's 50 Ways to Love Your Country: How to ...  \n",
       "5791  H. P. Lovecraft's Dreamlands (Call of Cthulhu ...  \n",
       "6664  The Last Good Time : Skinny D'Amato, the Notor...  "
      ]
     },
     "execution_count": 48,
     "metadata": {},
     "output_type": "execute_result"
    }
   ],
   "source": [
    "total_books.head()"
   ]
  },
  {
   "cell_type": "code",
   "execution_count": 49,
   "metadata": {
    "execution": {
     "iopub.execute_input": "2024-09-07T17:00:35.393494Z",
     "iopub.status.busy": "2024-09-07T17:00:35.393405Z",
     "iopub.status.idle": "2024-09-07T17:00:35.397165Z",
     "shell.execute_reply": "2024-09-07T17:00:35.396956Z"
    }
   },
   "outputs": [
    {
     "data": {
      "text/html": [
       "<div>\n",
       "<style scoped>\n",
       "    .dataframe tbody tr th:only-of-type {\n",
       "        vertical-align: middle;\n",
       "    }\n",
       "\n",
       "    .dataframe tbody tr th {\n",
       "        vertical-align: top;\n",
       "    }\n",
       "\n",
       "    .dataframe thead th {\n",
       "        text-align: right;\n",
       "    }\n",
       "</style>\n",
       "<table border=\"1\" class=\"dataframe\">\n",
       "  <thead>\n",
       "    <tr style=\"text-align: right;\">\n",
       "      <th></th>\n",
       "      <th>user_id</th>\n",
       "      <th>isbn</th>\n",
       "      <th>book_rating</th>\n",
       "      <th>book_title</th>\n",
       "      <th>book_count</th>\n",
       "    </tr>\n",
       "  </thead>\n",
       "  <tbody>\n",
       "    <tr>\n",
       "      <th>13</th>\n",
       "      <td>76626</td>\n",
       "      <td>1903436346</td>\n",
       "      <td>9</td>\n",
       "      <td>The Winter's Tale - Arden Shakespeare : Third ...</td>\n",
       "      <td>1</td>\n",
       "    </tr>\n",
       "    <tr>\n",
       "      <th>2441</th>\n",
       "      <td>56399</td>\n",
       "      <td>1561841625</td>\n",
       "      <td>10</td>\n",
       "      <td>The Earth Will Shake (Historical Illuminatus C...</td>\n",
       "      <td>1</td>\n",
       "    </tr>\n",
       "    <tr>\n",
       "      <th>5706</th>\n",
       "      <td>95359</td>\n",
       "      <td>193072229X</td>\n",
       "      <td>10</td>\n",
       "      <td>MoveOn's 50 Ways to Love Your Country: How to ...</td>\n",
       "      <td>1</td>\n",
       "    </tr>\n",
       "    <tr>\n",
       "      <th>5791</th>\n",
       "      <td>56399</td>\n",
       "      <td>1568821573</td>\n",
       "      <td>10</td>\n",
       "      <td>H. P. Lovecraft's Dreamlands (Call of Cthulhu ...</td>\n",
       "      <td>1</td>\n",
       "    </tr>\n",
       "    <tr>\n",
       "      <th>6664</th>\n",
       "      <td>156150</td>\n",
       "      <td>1400052971</td>\n",
       "      <td>9</td>\n",
       "      <td>The Last Good Time : Skinny D'Amato, the Notor...</td>\n",
       "      <td>1</td>\n",
       "    </tr>\n",
       "  </tbody>\n",
       "</table>\n",
       "</div>"
      ],
      "text/plain": [
       "      user_id        isbn  book_rating  \\\n",
       "13      76626  1903436346            9   \n",
       "2441    56399  1561841625           10   \n",
       "5706    95359  193072229X           10   \n",
       "5791    56399  1568821573           10   \n",
       "6664   156150  1400052971            9   \n",
       "\n",
       "                                             book_title  book_count  \n",
       "13    The Winter's Tale - Arden Shakespeare : Third ...           1  \n",
       "2441  The Earth Will Shake (Historical Illuminatus C...           1  \n",
       "5706  MoveOn's 50 Ways to Love Your Country: How to ...           1  \n",
       "5791  H. P. Lovecraft's Dreamlands (Call of Cthulhu ...           1  \n",
       "6664  The Last Good Time : Skinny D'Amato, the Notor...           1  "
      ]
     },
     "execution_count": 49,
     "metadata": {},
     "output_type": "execute_result"
    }
   ],
   "source": [
    "#creating a column book_count  \n",
    "recommended = recommended.copy() # this to handle the warning from pandas\n",
    "recommended.loc[:, 'book_count'] = recommended.groupby('isbn')['isbn'].transform('count')\n",
    "recommended.head()"
   ]
  },
  {
   "cell_type": "code",
   "execution_count": 50,
   "metadata": {
    "execution": {
     "iopub.execute_input": "2024-09-07T17:00:35.398362Z",
     "iopub.status.busy": "2024-09-07T17:00:35.398276Z",
     "iopub.status.idle": "2024-09-07T17:00:35.400306Z",
     "shell.execute_reply": "2024-09-07T17:00:35.400094Z"
    }
   },
   "outputs": [
    {
     "data": {
      "text/plain": [
       "array([1, 2, 3])"
      ]
     },
     "execution_count": 50,
     "metadata": {},
     "output_type": "execute_result"
    }
   ],
   "source": [
    "recommended.book_count.unique()"
   ]
  },
  {
   "cell_type": "code",
   "execution_count": 51,
   "metadata": {
    "execution": {
     "iopub.execute_input": "2024-09-07T17:00:35.401463Z",
     "iopub.status.busy": "2024-09-07T17:00:35.401396Z",
     "iopub.status.idle": "2024-09-07T17:00:35.404371Z",
     "shell.execute_reply": "2024-09-07T17:00:35.404151Z"
    }
   },
   "outputs": [
    {
     "data": {
      "text/html": [
       "<div>\n",
       "<style scoped>\n",
       "    .dataframe tbody tr th:only-of-type {\n",
       "        vertical-align: middle;\n",
       "    }\n",
       "\n",
       "    .dataframe tbody tr th {\n",
       "        vertical-align: top;\n",
       "    }\n",
       "\n",
       "    .dataframe thead th {\n",
       "        text-align: right;\n",
       "    }\n",
       "</style>\n",
       "<table border=\"1\" class=\"dataframe\">\n",
       "  <thead>\n",
       "    <tr style=\"text-align: right;\">\n",
       "      <th></th>\n",
       "      <th>user_id</th>\n",
       "      <th>isbn</th>\n",
       "      <th>book_rating</th>\n",
       "      <th>book_title</th>\n",
       "      <th>book_count</th>\n",
       "    </tr>\n",
       "  </thead>\n",
       "  <tbody>\n",
       "    <tr>\n",
       "      <th>13</th>\n",
       "      <td>76626</td>\n",
       "      <td>1903436346</td>\n",
       "      <td>9</td>\n",
       "      <td>The Winter's Tale - Arden Shakespeare : Third ...</td>\n",
       "      <td>1</td>\n",
       "    </tr>\n",
       "    <tr>\n",
       "      <th>2441</th>\n",
       "      <td>56399</td>\n",
       "      <td>1561841625</td>\n",
       "      <td>10</td>\n",
       "      <td>The Earth Will Shake (Historical Illuminatus C...</td>\n",
       "      <td>1</td>\n",
       "    </tr>\n",
       "    <tr>\n",
       "      <th>5706</th>\n",
       "      <td>95359</td>\n",
       "      <td>193072229X</td>\n",
       "      <td>10</td>\n",
       "      <td>MoveOn's 50 Ways to Love Your Country: How to ...</td>\n",
       "      <td>1</td>\n",
       "    </tr>\n",
       "    <tr>\n",
       "      <th>5791</th>\n",
       "      <td>56399</td>\n",
       "      <td>1568821573</td>\n",
       "      <td>10</td>\n",
       "      <td>H. P. Lovecraft's Dreamlands (Call of Cthulhu ...</td>\n",
       "      <td>1</td>\n",
       "    </tr>\n",
       "    <tr>\n",
       "      <th>6664</th>\n",
       "      <td>156150</td>\n",
       "      <td>1400052971</td>\n",
       "      <td>9</td>\n",
       "      <td>The Last Good Time : Skinny D'Amato, the Notor...</td>\n",
       "      <td>1</td>\n",
       "    </tr>\n",
       "  </tbody>\n",
       "</table>\n",
       "</div>"
      ],
      "text/plain": [
       "      user_id        isbn  book_rating  \\\n",
       "13      76626  1903436346            9   \n",
       "2441    56399  1561841625           10   \n",
       "5706    95359  193072229X           10   \n",
       "5791    56399  1568821573           10   \n",
       "6664   156150  1400052971            9   \n",
       "\n",
       "                                             book_title  book_count  \n",
       "13    The Winter's Tale - Arden Shakespeare : Third ...           1  \n",
       "2441  The Earth Will Shake (Historical Illuminatus C...           1  \n",
       "5706  MoveOn's 50 Ways to Love Your Country: How to ...           1  \n",
       "5791  H. P. Lovecraft's Dreamlands (Call of Cthulhu ...           1  \n",
       "6664  The Last Good Time : Skinny D'Amato, the Notor...           1  "
      ]
     },
     "execution_count": 51,
     "metadata": {},
     "output_type": "execute_result"
    }
   ],
   "source": [
    "recommended.head()"
   ]
  },
  {
   "cell_type": "code",
   "execution_count": 52,
   "metadata": {
    "execution": {
     "iopub.execute_input": "2024-09-07T17:00:35.405533Z",
     "iopub.status.busy": "2024-09-07T17:00:35.405462Z",
     "iopub.status.idle": "2024-09-07T17:00:35.409135Z",
     "shell.execute_reply": "2024-09-07T17:00:35.408918Z"
    }
   },
   "outputs": [
    {
     "data": {
      "text/html": [
       "<div>\n",
       "<style scoped>\n",
       "    .dataframe tbody tr th:only-of-type {\n",
       "        vertical-align: middle;\n",
       "    }\n",
       "\n",
       "    .dataframe tbody tr th {\n",
       "        vertical-align: top;\n",
       "    }\n",
       "\n",
       "    .dataframe thead th {\n",
       "        text-align: right;\n",
       "    }\n",
       "</style>\n",
       "<table border=\"1\" class=\"dataframe\">\n",
       "  <thead>\n",
       "    <tr style=\"text-align: right;\">\n",
       "      <th></th>\n",
       "      <th>user_id</th>\n",
       "      <th>isbn</th>\n",
       "      <th>book_rating</th>\n",
       "      <th>book_title</th>\n",
       "      <th>book_count</th>\n",
       "      <th>popularity</th>\n",
       "    </tr>\n",
       "  </thead>\n",
       "  <tbody>\n",
       "    <tr>\n",
       "      <th>13</th>\n",
       "      <td>76626</td>\n",
       "      <td>1903436346</td>\n",
       "      <td>9</td>\n",
       "      <td>The Winter's Tale - Arden Shakespeare : Third ...</td>\n",
       "      <td>1</td>\n",
       "      <td>0.111111</td>\n",
       "    </tr>\n",
       "    <tr>\n",
       "      <th>2441</th>\n",
       "      <td>56399</td>\n",
       "      <td>1561841625</td>\n",
       "      <td>10</td>\n",
       "      <td>The Earth Will Shake (Historical Illuminatus C...</td>\n",
       "      <td>1</td>\n",
       "      <td>0.100000</td>\n",
       "    </tr>\n",
       "    <tr>\n",
       "      <th>5706</th>\n",
       "      <td>95359</td>\n",
       "      <td>193072229X</td>\n",
       "      <td>10</td>\n",
       "      <td>MoveOn's 50 Ways to Love Your Country: How to ...</td>\n",
       "      <td>1</td>\n",
       "      <td>0.100000</td>\n",
       "    </tr>\n",
       "    <tr>\n",
       "      <th>5791</th>\n",
       "      <td>56399</td>\n",
       "      <td>1568821573</td>\n",
       "      <td>10</td>\n",
       "      <td>H. P. Lovecraft's Dreamlands (Call of Cthulhu ...</td>\n",
       "      <td>1</td>\n",
       "      <td>0.100000</td>\n",
       "    </tr>\n",
       "    <tr>\n",
       "      <th>6664</th>\n",
       "      <td>156150</td>\n",
       "      <td>1400052971</td>\n",
       "      <td>9</td>\n",
       "      <td>The Last Good Time : Skinny D'Amato, the Notor...</td>\n",
       "      <td>1</td>\n",
       "      <td>0.111111</td>\n",
       "    </tr>\n",
       "  </tbody>\n",
       "</table>\n",
       "</div>"
      ],
      "text/plain": [
       "      user_id        isbn  book_rating  \\\n",
       "13      76626  1903436346            9   \n",
       "2441    56399  1561841625           10   \n",
       "5706    95359  193072229X           10   \n",
       "5791    56399  1568821573           10   \n",
       "6664   156150  1400052971            9   \n",
       "\n",
       "                                             book_title  book_count  \\\n",
       "13    The Winter's Tale - Arden Shakespeare : Third ...           1   \n",
       "2441  The Earth Will Shake (Historical Illuminatus C...           1   \n",
       "5706  MoveOn's 50 Ways to Love Your Country: How to ...           1   \n",
       "5791  H. P. Lovecraft's Dreamlands (Call of Cthulhu ...           1   \n",
       "6664  The Last Good Time : Skinny D'Amato, the Notor...           1   \n",
       "\n",
       "      popularity  \n",
       "13      0.111111  \n",
       "2441    0.100000  \n",
       "5706    0.100000  \n",
       "5791    0.100000  \n",
       "6664    0.111111  "
      ]
     },
     "execution_count": 52,
     "metadata": {},
     "output_type": "execute_result"
    }
   ],
   "source": [
    "# creatig a popularity score for each book / we want to look for books that are popular among users like us\n",
    "recommended = recommended.copy() # this to handle the pandas warning\n",
    "recommended.loc[:, 'popularity'] = recommended['book_count'] * recommended['book_count'] / recommended['book_rating']\n",
    "recommended.head()"
   ]
  },
  {
   "cell_type": "code",
   "execution_count": 53,
   "metadata": {
    "execution": {
     "iopub.execute_input": "2024-09-07T17:00:35.410461Z",
     "iopub.status.busy": "2024-09-07T17:00:35.410388Z",
     "iopub.status.idle": "2024-09-07T17:00:35.413908Z",
     "shell.execute_reply": "2024-09-07T17:00:35.413694Z"
    }
   },
   "outputs": [
    {
     "data": {
      "text/html": [
       "<div>\n",
       "<style scoped>\n",
       "    .dataframe tbody tr th:only-of-type {\n",
       "        vertical-align: middle;\n",
       "    }\n",
       "\n",
       "    .dataframe tbody tr th {\n",
       "        vertical-align: top;\n",
       "    }\n",
       "\n",
       "    .dataframe thead th {\n",
       "        text-align: right;\n",
       "    }\n",
       "</style>\n",
       "<table border=\"1\" class=\"dataframe\">\n",
       "  <thead>\n",
       "    <tr style=\"text-align: right;\">\n",
       "      <th></th>\n",
       "      <th>user_id</th>\n",
       "      <th>isbn</th>\n",
       "      <th>book_rating</th>\n",
       "      <th>book_title</th>\n",
       "      <th>book_count</th>\n",
       "      <th>popularity</th>\n",
       "    </tr>\n",
       "  </thead>\n",
       "  <tbody>\n",
       "    <tr>\n",
       "      <th>117249</th>\n",
       "      <td>93426</td>\n",
       "      <td>192946200X</td>\n",
       "      <td>9</td>\n",
       "      <td>Sluggy Freelance: When Holidays Attack! (Book 3)</td>\n",
       "      <td>3</td>\n",
       "      <td>1.0</td>\n",
       "    </tr>\n",
       "    <tr>\n",
       "      <th>100504</th>\n",
       "      <td>93426</td>\n",
       "      <td>1929462093</td>\n",
       "      <td>9</td>\n",
       "      <td>Sluggy Freelance: Game Called on Account of Na...</td>\n",
       "      <td>3</td>\n",
       "      <td>1.0</td>\n",
       "    </tr>\n",
       "    <tr>\n",
       "      <th>246343</th>\n",
       "      <td>141322</td>\n",
       "      <td>1561840564</td>\n",
       "      <td>10</td>\n",
       "      <td>Prometheus Rising</td>\n",
       "      <td>3</td>\n",
       "      <td>0.9</td>\n",
       "    </tr>\n",
       "    <tr>\n",
       "      <th>75050</th>\n",
       "      <td>248915</td>\n",
       "      <td>1929462239</td>\n",
       "      <td>10</td>\n",
       "      <td>Sluggy Freelance: Yippy Skippy, the Evil! (Boo...</td>\n",
       "      <td>3</td>\n",
       "      <td>0.9</td>\n",
       "    </tr>\n",
       "    <tr>\n",
       "      <th>100506</th>\n",
       "      <td>254206</td>\n",
       "      <td>1929462093</td>\n",
       "      <td>10</td>\n",
       "      <td>Sluggy Freelance: Game Called on Account of Na...</td>\n",
       "      <td>3</td>\n",
       "      <td>0.9</td>\n",
       "    </tr>\n",
       "  </tbody>\n",
       "</table>\n",
       "</div>"
      ],
      "text/plain": [
       "        user_id        isbn  book_rating  \\\n",
       "117249    93426  192946200X            9   \n",
       "100504    93426  1929462093            9   \n",
       "246343   141322  1561840564           10   \n",
       "75050    248915  1929462239           10   \n",
       "100506   254206  1929462093           10   \n",
       "\n",
       "                                               book_title  book_count  \\\n",
       "117249   Sluggy Freelance: When Holidays Attack! (Book 3)           3   \n",
       "100504  Sluggy Freelance: Game Called on Account of Na...           3   \n",
       "246343                                  Prometheus Rising           3   \n",
       "75050   Sluggy Freelance: Yippy Skippy, the Evil! (Boo...           3   \n",
       "100506  Sluggy Freelance: Game Called on Account of Na...           3   \n",
       "\n",
       "        popularity  \n",
       "117249         1.0  \n",
       "100504         1.0  \n",
       "246343         0.9  \n",
       "75050          0.9  \n",
       "100506         0.9  "
      ]
     },
     "execution_count": 53,
     "metadata": {},
     "output_type": "execute_result"
    }
   ],
   "source": [
    "tailored_recs = recommended.sort_values('popularity', ascending=False)\n",
    "tailored_recs.head()"
   ]
  },
  {
   "cell_type": "code",
   "execution_count": 54,
   "metadata": {
    "execution": {
     "iopub.execute_input": "2024-09-07T17:00:35.415117Z",
     "iopub.status.busy": "2024-09-07T17:00:35.415029Z",
     "iopub.status.idle": "2024-09-07T17:00:35.419462Z",
     "shell.execute_reply": "2024-09-07T17:00:35.419252Z"
    }
   },
   "outputs": [
    {
     "data": {
      "text/html": [
       "<div>\n",
       "<style scoped>\n",
       "    .dataframe tbody tr th:only-of-type {\n",
       "        vertical-align: middle;\n",
       "    }\n",
       "\n",
       "    .dataframe tbody tr th {\n",
       "        vertical-align: top;\n",
       "    }\n",
       "\n",
       "    .dataframe thead th {\n",
       "        text-align: right;\n",
       "    }\n",
       "</style>\n",
       "<table border=\"1\" class=\"dataframe\">\n",
       "  <thead>\n",
       "    <tr style=\"text-align: right;\">\n",
       "      <th></th>\n",
       "      <th>isbn</th>\n",
       "      <th>book_title</th>\n",
       "      <th>popularity</th>\n",
       "      <th>count</th>\n",
       "    </tr>\n",
       "  </thead>\n",
       "  <tbody>\n",
       "    <tr>\n",
       "      <th>0</th>\n",
       "      <td>1561840033</td>\n",
       "      <td>Cosmic Trigger I : Final Secret of the Illuminati</td>\n",
       "      <td>0.900000</td>\n",
       "      <td>3</td>\n",
       "    </tr>\n",
       "    <tr>\n",
       "      <th>1</th>\n",
       "      <td>1561840564</td>\n",
       "      <td>Prometheus Rising</td>\n",
       "      <td>0.900000</td>\n",
       "      <td>3</td>\n",
       "    </tr>\n",
       "    <tr>\n",
       "      <th>2</th>\n",
       "      <td>1929462239</td>\n",
       "      <td>Sluggy Freelance: Yippy Skippy, the Evil! (Boo...</td>\n",
       "      <td>0.900000</td>\n",
       "      <td>3</td>\n",
       "    </tr>\n",
       "    <tr>\n",
       "      <th>3</th>\n",
       "      <td>059035342X</td>\n",
       "      <td>Harry Potter and the Sorcerer's Stone (Harry P...</td>\n",
       "      <td>0.400000</td>\n",
       "      <td>2</td>\n",
       "    </tr>\n",
       "    <tr>\n",
       "      <th>4</th>\n",
       "      <td>042510429X</td>\n",
       "      <td>The Third Deadly Sin</td>\n",
       "      <td>0.400000</td>\n",
       "      <td>2</td>\n",
       "    </tr>\n",
       "    <tr>\n",
       "      <th>5</th>\n",
       "      <td>043935806X</td>\n",
       "      <td>Harry Potter and the Order of the Phoenix (Boo...</td>\n",
       "      <td>0.400000</td>\n",
       "      <td>2</td>\n",
       "    </tr>\n",
       "    <tr>\n",
       "      <th>6</th>\n",
       "      <td>044021985X</td>\n",
       "      <td>Tomorrow, When The War Began</td>\n",
       "      <td>0.444444</td>\n",
       "      <td>2</td>\n",
       "    </tr>\n",
       "    <tr>\n",
       "      <th>7</th>\n",
       "      <td>031242227X</td>\n",
       "      <td>Running with Scissors: A Memoir</td>\n",
       "      <td>0.444444</td>\n",
       "      <td>2</td>\n",
       "    </tr>\n",
       "    <tr>\n",
       "      <th>8</th>\n",
       "      <td>192946200X</td>\n",
       "      <td>Sluggy Freelance: When Holidays Attack! (Book 3)</td>\n",
       "      <td>0.900000</td>\n",
       "      <td>2</td>\n",
       "    </tr>\n",
       "    <tr>\n",
       "      <th>9</th>\n",
       "      <td>1929462093</td>\n",
       "      <td>Sluggy Freelance: Game Called on Account of Na...</td>\n",
       "      <td>0.900000</td>\n",
       "      <td>2</td>\n",
       "    </tr>\n",
       "  </tbody>\n",
       "</table>\n",
       "</div>"
      ],
      "text/plain": [
       "         isbn                                         book_title  popularity  \\\n",
       "0  1561840033  Cosmic Trigger I : Final Secret of the Illuminati    0.900000   \n",
       "1  1561840564                                  Prometheus Rising    0.900000   \n",
       "2  1929462239  Sluggy Freelance: Yippy Skippy, the Evil! (Boo...    0.900000   \n",
       "3  059035342X  Harry Potter and the Sorcerer's Stone (Harry P...    0.400000   \n",
       "4  042510429X                               The Third Deadly Sin    0.400000   \n",
       "5  043935806X  Harry Potter and the Order of the Phoenix (Boo...    0.400000   \n",
       "6  044021985X                       Tomorrow, When The War Began    0.444444   \n",
       "7  031242227X                    Running with Scissors: A Memoir    0.444444   \n",
       "8  192946200X   Sluggy Freelance: When Holidays Attack! (Book 3)    0.900000   \n",
       "9  1929462093  Sluggy Freelance: Game Called on Account of Na...    0.900000   \n",
       "\n",
       "   count  \n",
       "0      3  \n",
       "1      3  \n",
       "2      3  \n",
       "3      2  \n",
       "4      2  \n",
       "5      2  \n",
       "6      2  \n",
       "7      2  \n",
       "8      2  \n",
       "9      2  "
      ]
     },
     "execution_count": 54,
     "metadata": {},
     "output_type": "execute_result"
    }
   ],
   "source": [
    "tailored_recs[['isbn', 'book_title', 'popularity']].value_counts().reset_index(name='count').head(10)"
   ]
  }
 ],
 "metadata": {
  "kernelspec": {
   "display_name": ".venv",
   "language": "python",
   "name": "python3"
  },
  "language_info": {
   "codemirror_mode": {
    "name": "ipython",
    "version": 3
   },
   "file_extension": ".py",
   "mimetype": "text/x-python",
   "name": "python",
   "nbconvert_exporter": "python",
   "pygments_lexer": "ipython3",
   "version": "3.11.3"
  }
 },
 "nbformat": 4,
 "nbformat_minor": 2
}
