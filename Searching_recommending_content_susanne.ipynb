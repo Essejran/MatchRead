{
 "cells": [
  {
   "cell_type": "code",
   "execution_count": null,
   "metadata": {},
   "outputs": [],
   "source": [
    "import numpy as np\n",
    "import pandas as pd\n",
    "import matplotlib.pyplot as plt\n",
    "import seaborn as sns\n",
    "import pickle\n",
    "import sklearn\n",
    "import pickleshare as ps"
   ]
  },
  {
   "cell_type": "code",
   "execution_count": null,
   "metadata": {},
   "outputs": [],
   "source": [
    "books_big = pd.read_csv('data/books2.csv', sep=',', header=0, low_memory=False)\n",
    "ratings = pd.read_csv('data/ratings.csv', sep=',', header=0)\n",
    "users = pd.read_csv('data/users.csv', sep=',', header=0)"
   ]
  },
  {
   "cell_type": "code",
   "execution_count": null,
   "metadata": {},
   "outputs": [],
   "source": [
    "books_big.head()"
   ]
  },
  {
   "cell_type": "code",
   "execution_count": null,
   "metadata": {},
   "outputs": [],
   "source": [
    "!ls -lh data/books2.csv"
   ]
  },
  {
   "cell_type": "code",
   "execution_count": null,
   "metadata": {},
   "outputs": [],
   "source": [
    "# dropping URLS columns as they are not needed\n",
    "\n",
    "books_big.drop(['Image-URL-S', 'Image-URL-M', 'Image-URL-L'], axis=1, inplace=True)\n",
    "books_big.head()"
   ]
  },
  {
   "cell_type": "code",
   "execution_count": null,
   "metadata": {},
   "outputs": [],
   "source": [
    "#making headers lowercase and snakecase\n",
    "\n",
    "books_big.columns = books_big.columns.str.lower()\n",
    "books_big.columns = books_big.columns.str.replace('-', '_')\n",
    "books_big.head()"
   ]
  },
  {
   "cell_type": "code",
   "execution_count": null,
   "metadata": {},
   "outputs": [],
   "source": [
    "# Define the specific ISBN numbers and the replacement publisher name\n",
    "isbn_to_replace = ['193169656X', '1931696993']  # Replace with actual ISBN numbers\n",
    "replacement_publisher = 'NovelBooks'\n",
    "\n",
    "# Replace the publisher name\n",
    "books_big.loc[books_big['isbn'].isin(isbn_to_replace), 'publisher'] = replacement_publisher\n",
    "\n",
    "print(books_big[books_big['isbn'].isin(isbn_to_replace)])"
   ]
  },
  {
   "cell_type": "code",
   "execution_count": null,
   "metadata": {},
   "outputs": [],
   "source": [
    "books_big.book_title.nunique()"
   ]
  },
  {
   "cell_type": "code",
   "execution_count": null,
   "metadata": {},
   "outputs": [],
   "source": [
    "books_big.shape"
   ]
  },
  {
   "cell_type": "code",
   "execution_count": null,
   "metadata": {},
   "outputs": [],
   "source": [
    "#making headers lowercase and snakecase\n",
    "\n",
    "ratings.columns = ratings.columns.str.lower()\n",
    "ratings.columns = ratings.columns.str.replace('-', '_')\n",
    "ratings.head()\n"
   ]
  },
  {
   "cell_type": "code",
   "execution_count": null,
   "metadata": {},
   "outputs": [],
   "source": [
    "# merge books with ratings df\n",
    "\n",
    "books_ratings = pd.merge(books_big, ratings, on='isbn', how='left')\n",
    "\n",
    "books_ratings.head()"
   ]
  },
  {
   "cell_type": "code",
   "execution_count": null,
   "metadata": {},
   "outputs": [],
   "source": [
    "books_ratings.shape"
   ]
  },
  {
   "cell_type": "code",
   "execution_count": null,
   "metadata": {},
   "outputs": [],
   "source": [
    "books_ratings.isna().sum()"
   ]
  },
  {
   "cell_type": "code",
   "execution_count": null,
   "metadata": {},
   "outputs": [],
   "source": [
    "books_ratings.dropna(subset=['user_id'], inplace=True)          # drop rows with no user_id\n",
    "books_ratings.head()"
   ]
  },
  {
   "cell_type": "code",
   "execution_count": null,
   "metadata": {},
   "outputs": [],
   "source": [
    "books_ratings.info()"
   ]
  },
  {
   "cell_type": "code",
   "execution_count": null,
   "metadata": {},
   "outputs": [],
   "source": [
    "books_ratings['user_id'] = books_ratings['user_id'].astype(int)\n",
    "books_ratings['book_rating'] = books_ratings['book_rating'].astype(int)"
   ]
  },
  {
   "cell_type": "code",
   "execution_count": null,
   "metadata": {},
   "outputs": [],
   "source": []
  },
  {
   "cell_type": "code",
   "execution_count": null,
   "metadata": {},
   "outputs": [],
   "source": [
    "books_ratings.to_csv('data/books_ratings.csv', index=False) # saving the merged dataframe to a csv file"
   ]
  },
  {
   "cell_type": "code",
   "execution_count": null,
   "metadata": {},
   "outputs": [],
   "source": [
    "# Group by 'isbn' and count the number of ratings for each ISBN\n",
    "isbn_rating_counts = books_ratings.groupby(['book_title', 'book_author', 'isbn']).size().reset_index(name='rating_count')\n",
    "\n",
    "# Display the DataFrame to verify the result\n",
    "ratings = isbn_rating_counts.sort_values('rating_count', ascending=False).head().plot(kind='bar', x='book_author', y='rating_count', color='skyblue')"
   ]
  },
  {
   "cell_type": "code",
   "execution_count": null,
   "metadata": {},
   "outputs": [],
   "source": [
    "isbn_rating_counts.head()"
   ]
  },
  {
   "cell_type": "code",
   "execution_count": null,
   "metadata": {},
   "outputs": [],
   "source": [
    "# including the average rating for each book\n",
    "# Calculate the average rating for each book\n",
    "\n",
    "to_be_rated = books_ratings[['isbn', 'book_rating']]\n",
    "averageRating = to_be_rated.groupby('isbn')['book_rating'].mean().round(1).reset_index()\n",
    "averageRating.rename(columns={'book_rating': 'average_rating'}, inplace=True)\n",
    "average_rating = averageRating[['isbn','average_rating']]\n",
    "\n",
    "# Merge the average ratings back with the original dataset\n",
    "averageRatingdf = pd.merge(isbn_rating_counts, average_rating, on='isbn', how='left')\n",
    "\n",
    "# Remove duplicate entries\n",
    "#averageRatingdf = averageRatingdf[['isbn', 'average_rating']].drop_duplicates(subset=['isbn'])\n",
    "\n",
    "averageRatingdf.head()  "
   ]
  },
  {
   "cell_type": "code",
   "execution_count": null,
   "metadata": {},
   "outputs": [],
   "source": [
    "averageRatingdf.shape"
   ]
  },
  {
   "cell_type": "code",
   "execution_count": null,
   "metadata": {},
   "outputs": [],
   "source": [
    "#saving the average rating dataframe to a csv file'\n",
    "\n",
    "averageRatingdf.to_csv('data/averageRatingdf.csv', index=False)"
   ]
  },
  {
   "cell_type": "markdown",
   "metadata": {},
   "source": [
    "### Creating a search engine ###"
   ]
  },
  {
   "cell_type": "code",
   "execution_count": null,
   "metadata": {},
   "outputs": [],
   "source": [
    "averageRatingdf[\"mod_titles\"] = averageRatingdf['book_title'].str.replace(\"[^a-zA-Z0-9]\", \" \", regex=True)    #removing special characters from book titles   \n",
    "averageRatingdf.head()"
   ]
  },
  {
   "cell_type": "code",
   "execution_count": null,
   "metadata": {},
   "outputs": [],
   "source": [
    "averageRatingdf.sort_values('rating_count', ascending=False).sample(15)"
   ]
  },
  {
   "cell_type": "code",
   "execution_count": null,
   "metadata": {},
   "outputs": [],
   "source": [
    "# Sort the DataFrame by 'average_rating' and 'rating_count' in descending order\n",
    "sorted_df = averageRatingdf.sort_values(by=['average_rating', 'rating_count'], ascending=[False, False]).head(10)\n",
    "\n",
    "# Display the top rows\n",
    "sorted_df"
   ]
  },
  {
   "cell_type": "code",
   "execution_count": null,
   "metadata": {},
   "outputs": [],
   "source": [
    "# Plot the top rated books  with the highest rating count   \n",
    "\n",
    "sns.barplot(x='mod_titles', y='rating_count', hue='average_rating', data=sorted_df, palette='viridis')\n",
    "plt.xticks(rotation=90)"
   ]
  },
  {
   "cell_type": "code",
   "execution_count": null,
   "metadata": {},
   "outputs": [],
   "source": [
    "averageRatingdf['mod_titles'] = averageRatingdf['mod_titles'].str.lower()    #converting book titles to lowercase"
   ]
  },
  {
   "cell_type": "code",
   "execution_count": null,
   "metadata": {},
   "outputs": [],
   "source": [
    "averageRatingdf['mod_titles'] = averageRatingdf['mod_titles'].str.replace('\\s+', ' ', regex=True)    #removing extra spaces from book titles"
   ]
  },
  {
   "cell_type": "code",
   "execution_count": null,
   "metadata": {},
   "outputs": [],
   "source": [
    "averageRatingdf = averageRatingdf[averageRatingdf['mod_titles'].str.len() > 0]    #removing rows with empty book titles"
   ]
  },
  {
   "cell_type": "code",
   "execution_count": null,
   "metadata": {},
   "outputs": [],
   "source": [
    "#books_ratings.drop('user_id', axis=1, inplace=True)   #dropping user_id column"
   ]
  },
  {
   "cell_type": "code",
   "execution_count": null,
   "metadata": {},
   "outputs": [],
   "source": [
    "averageRatingdf.duplicated().sum()"
   ]
  },
  {
   "cell_type": "code",
   "execution_count": null,
   "metadata": {},
   "outputs": [],
   "source": [
    "averageRatingdf.rating_count.describe()"
   ]
  },
  {
   "cell_type": "code",
   "execution_count": null,
   "metadata": {},
   "outputs": [],
   "source": [
    "sns.boxplot(averageRatingdf.rating_count)"
   ]
  },
  {
   "cell_type": "code",
   "execution_count": null,
   "metadata": {},
   "outputs": [],
   "source": [
    "averageRatingdf['mod_titles'].nunique()"
   ]
  },
  {
   "cell_type": "markdown",
   "metadata": {},
   "source": [
    "#### Reducing shape of the dataframe ####"
   ]
  },
  {
   "cell_type": "code",
   "execution_count": null,
   "metadata": {},
   "outputs": [],
   "source": [
    "ratings = averageRatingdf[averageRatingdf['rating_count'] >= 15]    #filtering out books with less than 15 ratings\n",
    "ratings.shape"
   ]
  },
  {
   "cell_type": "markdown",
   "metadata": {},
   "source": [
    "#### Building a Term Frequency and then a Inverse Document Frequency matrix ####\n"
   ]
  },
  {
   "cell_type": "code",
   "execution_count": null,
   "metadata": {},
   "outputs": [],
   "source": [
    "# turning titles into TD-IDF matrix => Term Frequency-Inverse Document Frequency\n",
    "from sklearn.feature_extraction.text import TfidfVectorizer\n",
    "\n",
    "# vectorizer takes a list of strings as input and turns it into a fd-idf matrix\n",
    "vectorizer = TfidfVectorizer()\n",
    "\n",
    "tdidf = vectorizer.fit_transform(ratings['mod_titles'])"
   ]
  },
  {
   "cell_type": "code",
   "execution_count": null,
   "metadata": {},
   "outputs": [],
   "source": [
    "# to do comparison between books, we need to calculate the cosine similarity between the books\n",
    "\n",
    "from sklearn.metrics.pairwise import cosine_similarity\n",
    "import numpy as np\n",
    "import re\n",
    "\n",
    "\n",
    "# query function:\n",
    "\n",
    "def search(query, vectorizer):\n",
    "# setting up a search query\n",
    "\n",
    "    #query = 'The Hobbit'\n",
    "# preparing the string in the same way as the mod titles above\n",
    "    processed = re.sub('[^a-zA-Z0-9]', ' ', query.lower())\n",
    "\n",
    "# we need to turn the query into a vector using the vectorizer\n",
    "\n",
    "    query_vector = vectorizer.transform([processed])\n",
    "\n",
    "# to find the similarities we calculate the cosine similarity between the query vector and the tdidf matrix\n",
    "    similarity = cosine_similarity(query_vector, tdidf).flatten() # flatten is used to turn the matrix into a 1D array\n",
    "\n",
    "# to find the indices of the 10 largest similarities\n",
    "\n",
    "    indices = np.argpartition(similarity, -10)[-10:]\n",
    "\n",
    "# use indices to index the titles\n",
    "\n",
    "    results = ratings.iloc[indices]   \n",
    "\n",
    "# as there are many books with the title \"The Hobbit\", we only want those with the highest number of ratings\n",
    "\n",
    "    results = results.sort_values(by='rating_count', ascending=False)\n",
    "\n",
    "    return results.head(10)\n"
   ]
  },
  {
   "cell_type": "code",
   "execution_count": null,
   "metadata": {},
   "outputs": [],
   "source": [
    "search('lord of the rings', vectorizer)    \n",
    "\n",
    "\n"
   ]
  },
  {
   "cell_type": "code",
   "execution_count": null,
   "metadata": {},
   "outputs": [],
   "source": [
    "# creating my list of liked books\n",
    "liked_books = [ '0451526341', '0553212419', '0140132708']\n",
    "liked_books"
   ]
  },
  {
   "cell_type": "markdown",
   "metadata": {},
   "source": [
    "### Making recommendations based on my liked books ###"
   ]
  },
  {
   "cell_type": "markdown",
   "metadata": {},
   "source": [
    "#### step 1: find all the users that liked the same books as us ####"
   ]
  },
  {
   "cell_type": "code",
   "execution_count": null,
   "metadata": {},
   "outputs": [],
   "source": [
    "ratings.head()"
   ]
  },
  {
   "cell_type": "code",
   "execution_count": null,
   "metadata": {},
   "outputs": [],
   "source": [
    "# use original dataset to find users who liked the same books as me (including individual ratings)\n",
    "\n",
    "#books_ratings.head()\n",
    "\n",
    "books_ratings_short = books_ratings[['user_id', 'isbn', 'book_rating', 'book_title']]   \n",
    "\n",
    "books_ratings_short.head()\n",
    "\n",
    "filtered_ratings = books_ratings_short[books_ratings_short['isbn'].isin(liked_books) & (books_ratings_short['book_rating'] > 8)]  #filtering out books with ratings higher or equal  8   \n",
    "\n",
    "filtered_ratings.shape\n",
    "\n",
    "# create a set with users who liked the same books as me\n",
    "\n",
    "overlap_users = set()\n",
    "\n",
    "# # Create tuples (user_id, isbn, book_rating) for the filtered rows\n",
    "overlap_users = set(filtered_ratings.apply(lambda row: (row['user_id'], row['isbn'],row['book_title'], row['book_rating']), axis=1))\n",
    "\n",
    "# # Display the overlap_users set\n",
    "overlap_users"
   ]
  },
  {
   "cell_type": "code",
   "execution_count": null,
   "metadata": {},
   "outputs": [],
   "source": [
    "# making set a dataframe containing any user who read the same book as us and rated the book higher than 8\n",
    "\n",
    "overlap_users_df = pd.DataFrame(list(overlap_users), columns=['user_id', 'isbn', 'book_title', 'book_rating'])\n",
    "overlap_users_df"
   ]
  },
  {
   "cell_type": "code",
   "execution_count": null,
   "metadata": {},
   "outputs": [],
   "source": [
    "len(overlap_users_df)"
   ]
  },
  {
   "cell_type": "code",
   "execution_count": null,
   "metadata": {},
   "outputs": [],
   "source": [
    "overlap_users_df['isbn'] = overlap_users_df['isbn'].astype(str)   #converting isbn to string"
   ]
  },
  {
   "cell_type": "markdown",
   "metadata": {},
   "source": [
    "#### step 2: finding what those users liked ####"
   ]
  },
  {
   "cell_type": "code",
   "execution_count": null,
   "metadata": {},
   "outputs": [],
   "source": [
    "# finding books that the users in the overlap_users_df have read and rated highly\n",
    "\n",
    "total_books = books_ratings_short[books_ratings_short['user_id'].isin(overlap_users_df['user_id'])]   #filtering out books read by users in the overlap_users_df\n",
    "total_books = total_books[total_books['book_rating'] > 8]   #filtering out books with ratings higher than 8\n",
    "recommended = total_books[~total_books['isbn'].isin(liked_books)]   #filtering out books that I have already liked\n",
    "recommended_2 = recommended['isbn'].value_counts().head(10)   #finding the top 10 books that the users in the overlap_users_df have read and rated highly\n",
    "\n"
   ]
  },
  {
   "cell_type": "code",
   "execution_count": null,
   "metadata": {},
   "outputs": [],
   "source": [
    "len(recommended_2)"
   ]
  },
  {
   "cell_type": "code",
   "execution_count": null,
   "metadata": {},
   "outputs": [],
   "source": [
    "total_books.head()"
   ]
  },
  {
   "cell_type": "code",
   "execution_count": null,
   "metadata": {},
   "outputs": [],
   "source": [
    "total_books['isbn'].astype(str)"
   ]
  },
  {
   "cell_type": "code",
   "execution_count": null,
   "metadata": {},
   "outputs": [],
   "source": [
    "# Convert recommended_2 Series to DataFrame\n",
    "recommended_2_df = recommended_2.reset_index()\n",
    "recommended_2_df.columns = ['isbn', 'count']\n",
    "\n"
   ]
  },
  {
   "cell_type": "code",
   "execution_count": null,
   "metadata": {},
   "outputs": [],
   "source": [
    "recommended_2_df"
   ]
  },
  {
   "cell_type": "code",
   "execution_count": null,
   "metadata": {},
   "outputs": [],
   "source": [
    "# Merge with books DataFrame to get book titles\n",
    "recommended_with_titles = pd.merge(recommended_2_df, total_books[['isbn', 'book_title']], on='isbn', how='left')\n",
    "\n",
    "# Display the result\n",
    "recommended_with_titles[['isbn', 'book_title']].value_counts().reset_index(name='count')"
   ]
  },
  {
   "cell_type": "markdown",
   "metadata": {},
   "source": [
    "#### step 3: fine tuning the recommendations ####"
   ]
  },
  {
   "cell_type": "code",
   "execution_count": null,
   "metadata": {},
   "outputs": [],
   "source": [
    "total_books.head()"
   ]
  },
  {
   "cell_type": "code",
   "execution_count": null,
   "metadata": {},
   "outputs": [],
   "source": [
    "#creating a column book_count  \n",
    "\n",
    "recommended['book_count'] = recommended.groupby('isbn')['isbn'].transform('count')\n",
    "recommended"
   ]
  },
  {
   "cell_type": "code",
   "execution_count": null,
   "metadata": {},
   "outputs": [],
   "source": [
    "# creatig a popularity score for each book / we want to look for books that are popular among users like us\n",
    "\n",
    "recommended['popularity'] = recommended['book_count'] * recommended['book_count'] / recommended['book_rating']\n",
    "recommended.head()"
   ]
  },
  {
   "cell_type": "code",
   "execution_count": null,
   "metadata": {},
   "outputs": [],
   "source": [
    "tailored_recs = recommended.sort_values('popularity', ascending=False)\n",
    "tailored_recs"
   ]
  },
  {
   "cell_type": "code",
   "execution_count": null,
   "metadata": {},
   "outputs": [],
   "source": [
    "tailored_recs[['isbn', 'book_title', 'popularity']].value_counts().reset_index(name='count').head(10)"
   ]
  }
 ],
 "metadata": {
  "kernelspec": {
   "display_name": ".venv",
   "language": "python",
   "name": "python3"
  },
  "language_info": {
   "codemirror_mode": {
    "name": "ipython",
    "version": 3
   },
   "file_extension": ".py",
   "mimetype": "text/x-python",
   "name": "python",
   "nbconvert_exporter": "python",
   "pygments_lexer": "ipython3",
   "version": "3.11.3"
  }
 },
 "nbformat": 4,
 "nbformat_minor": 2
}
