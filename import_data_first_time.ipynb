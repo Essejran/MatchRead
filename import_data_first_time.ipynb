{
 "cells": [
  {
   "cell_type": "code",
   "execution_count": 26,
   "metadata": {},
   "outputs": [],
   "source": [
    "# !unzip data.zip # (if you haven't already)"
   ]
  },
  {
   "cell_type": "code",
   "execution_count": 27,
   "metadata": {},
   "outputs": [],
   "source": [
    "import pandas as pd"
   ]
  },
  {
   "cell_type": "code",
   "execution_count": 28,
   "metadata": {},
   "outputs": [
    {
     "name": "stdout",
     "output_type": "stream",
     "text": [
      "Goodreads dataset loaded successfully as books_goodreads\n"
     ]
    }
   ],
   "source": [
    "books_goodreads = pd.read_csv('data/goodreads_detailed.csv', sep=',', header=0)\n",
    "print(\"Goodreads dataset loaded successfully as books_goodreads\")"
   ]
  },
  {
   "cell_type": "markdown",
   "metadata": {},
   "source": [
    "#### Import the large datasets found [here](https://drive.google.com/file/d/1JTY2O32QSn4L3UCB-BxeL0qY-5D1DCIz/view?usp=drive_link)"
   ]
  },
  {
   "cell_type": "code",
   "execution_count": 29,
   "metadata": {},
   "outputs": [],
   "source": [
    "import os\n",
    "import requests\n",
    "\n",
    "### THIS FILE IS MO LOMGER NEEDED ###\n",
    "\n",
    "# Direct download link (embed the file ID directly in the URL)\n",
    "# url = \"https://drive.google.com/uc?export=download&id=1JTY2O32QSn4L3UCB-BxeL0qY-5D1DCIz\"\n",
    "\n",
    "# Download and save the file in the 'data/' folder\n",
    "# with open(\"data/books2.csv\", \"wb\") as file:\n",
    "#     file.write(requests.get(url).content)\n",
    "\n",
    "# print(\"Dataset downloaded and saved as data/books2.csv\")"
   ]
  },
  {
   "cell_type": "markdown",
   "metadata": {},
   "source": [
    "## Uncomment this following cell if you're importing the data for the first time:"
   ]
  },
  {
   "cell_type": "code",
   "execution_count": 30,
   "metadata": {},
   "outputs": [],
   "source": [
    "# Users\n",
    "url = \"https://drive.google.com/uc?export=download&id=1i9xdUCFn052HqrFQXSYHEAo0_9vcZjgU\"\n",
    "\n",
    "# Download and save the file in the 'data/' folder\n",
    "with open(\"data/users.csv\", \"wb\") as file:\n",
    "    file.write(requests.get(url).content)\n",
    "\n",
    "print(\"Dataset downloaded and saved as data/users.csv\")"
   ]
  },
  {
   "cell_type": "markdown",
   "metadata": {},
   "source": [
    "## Uncomment this following cell if you're importing the data for the first time:"
   ]
  },
  {
   "cell_type": "code",
   "execution_count": 31,
   "metadata": {},
   "outputs": [],
   "source": [
    "# ratings\n",
    "url = \"https://drive.google.com/uc?export=download&id=11ckhvFWy_n4br-_UEZW3Aci3cgClYRqD\"\n",
    "\n",
    "# Download and save the file in the 'data/' folder\n",
    "with open(\"data/ratings.csv\", \"wb\") as file:\n",
    "    file.write(requests.get(url).content)\n",
    "\n",
    "print(\"Dataset downloaded and saved as data/ratings.csv\")"
   ]
  },
  {
   "cell_type": "code",
   "execution_count": 50,
   "metadata": {},
   "outputs": [
    {
     "name": "stdout",
     "output_type": "stream",
     "text": [
      "Pandas dataframes (books_df, books_big, users, ratings) loaded successfully\n"
     ]
    }
   ],
   "source": [
    "books_big = pd.read_csv(\"data/df_clean.csv\", sep=\";\", encoding=\"utf-8\", engine=\"python\", na_filter=True)\n",
    "ratings = pd.read_csv('data/ratings.csv', sep=',', header=0)\n",
    "users = pd.read_csv('data/users.csv', sep=',', header=0)\n",
    "print(\"Pandas dataframes (books_df, books_big, users, ratings) loaded successfully\")"
   ]
  },
  {
   "cell_type": "markdown",
   "metadata": {},
   "source": [
    "## Cleaning the column names:"
   ]
  },
  {
   "cell_type": "code",
   "execution_count": 51,
   "metadata": {},
   "outputs": [
    {
     "name": "stdout",
     "output_type": "stream",
     "text": [
      "Columns renamed\n"
     ]
    }
   ],
   "source": [
    "users.columns = users.columns.str.lower().str.replace('-', '_')\n",
    "ratings.columns = ratings.columns.str.lower().str.replace('-', '_')\n",
    "print(\"Columns renamed\")"
   ]
  },
  {
   "cell_type": "code",
   "execution_count": 52,
   "metadata": {},
   "outputs": [
    {
     "data": {
      "text/plain": [
       "0"
      ]
     },
     "execution_count": 52,
     "metadata": {},
     "output_type": "execute_result"
    }
   ],
   "source": [
    "books_big.book_author[books_big['book_author'] == ''].count()"
   ]
  },
  {
   "cell_type": "code",
   "execution_count": 53,
   "metadata": {},
   "outputs": [
    {
     "data": {
      "text/plain": [
       "171"
      ]
     },
     "execution_count": 53,
     "metadata": {},
     "output_type": "execute_result"
    }
   ],
   "source": [
    "books_big.book_author.isnull().sum()"
   ]
  },
  {
   "cell_type": "code",
   "execution_count": 54,
   "metadata": {},
   "outputs": [
    {
     "name": "stdout",
     "output_type": "stream",
     "text": [
      "dataframe books copied from books_big for ease of use\n"
     ]
    }
   ],
   "source": [
    "books = books_big.copy()\n",
    "print(\"dataframe books copied from books_big for ease of use\")"
   ]
  },
  {
   "cell_type": "code",
   "execution_count": 56,
   "metadata": {},
   "outputs": [],
   "source": [
    "books_big = books.copy()"
   ]
  },
  {
   "cell_type": "code",
   "execution_count": 57,
   "metadata": {},
   "outputs": [
    {
     "name": "stdout",
     "output_type": "stream",
     "text": [
      "missing values in books dataframe turned into pd.NA for more accurate analysis\n"
     ]
    }
   ],
   "source": [
    "print(\"missing values in books dataframe turned into pd.NA for more accurate analysis\")"
   ]
  },
  {
   "cell_type": "code",
   "execution_count": 92,
   "metadata": {},
   "outputs": [
    {
     "name": "stdout",
     "output_type": "stream",
     "text": [
      "Ready to go!\n"
     ]
    }
   ],
   "source": [
    "print(\"Ready to go!\")"
   ]
  }
 ],
 "metadata": {
  "kernelspec": {
   "display_name": ".venv",
   "language": "python",
   "name": "python3"
  },
  "language_info": {
   "codemirror_mode": {
    "name": "ipython",
    "version": 3
   },
   "file_extension": ".py",
   "mimetype": "text/x-python",
   "name": "python",
   "nbconvert_exporter": "python",
   "pygments_lexer": "ipython3",
   "version": "3.11.3"
  }
 },
 "nbformat": 4,
 "nbformat_minor": 2
}
