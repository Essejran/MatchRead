{
 "cells": [
  {
   "cell_type": "code",
   "execution_count": 46,
   "metadata": {},
   "outputs": [],
   "source": [
    "# !unzip data.zip # (if you haven't already)"
   ]
  },
  {
   "cell_type": "code",
   "execution_count": 47,
   "metadata": {},
   "outputs": [],
   "source": [
    "import pandas as pd"
   ]
  },
  {
   "cell_type": "code",
   "execution_count": 48,
   "metadata": {},
   "outputs": [
    {
     "name": "stdout",
     "output_type": "stream",
     "text": [
      "Dataset books.csv loaded successfully\n"
     ]
    }
   ],
   "source": [
    "# Load the dataset\n",
    "books_df = pd.read_csv('data/books.csv', sep=',', header=0)\n",
    "# Error while loading the data pointed out some commas in the Author column, \n",
    "# after removing those commas (or replacing them with a \"/\"), the data loaded correctly\n",
    "print(\"Dataset books.csv loaded successfully\")"
   ]
  },
  {
   "cell_type": "code",
   "execution_count": 49,
   "metadata": {},
   "outputs": [],
   "source": [
    "# the \\t\\t\\t at the end of the publisher column seems to be a parsing error, let's have a look\n",
    "# print(books_df.columns)  # Check column names\n",
    "# print(books_df.head())   # Check the first few rows"
   ]
  },
  {
   "cell_type": "code",
   "execution_count": 50,
   "metadata": {},
   "outputs": [],
   "source": [
    "# Since we don't seem to have lost any data, let's remove the \\t\\t\\t from the publisher column\n",
    "books_df.rename(columns=lambda x: x.strip().replace('\\t\\t\\t', ''), inplace=True)\n",
    "books_df['publisher'] = books_df['publisher'].str.replace('\\t\\t\\t', '').str.strip()\n",
    "\n",
    "# print(books_df.columns)  # Check column names\n",
    "# print(books_df.head())   # Check the first few rows"
   ]
  },
  {
   "cell_type": "code",
   "execution_count": 51,
   "metadata": {},
   "outputs": [],
   "source": [
    "# Since there seems to be several spellings/wordings for the same publisher, \n",
    "# let's have a look at the unique values in the publisher column\n",
    "# unique_publishers = sorted(books_df['publisher'].unique().tolist())\n",
    "# for publisher in unique_publishers:\n",
    "#    print(publisher)\n",
    "# Looks like a lot of the publishers are the same, but with different spellings or wordings\n",
    "# Perhaps some approach like stemming would work well"
   ]
  },
  {
   "cell_type": "code",
   "execution_count": 52,
   "metadata": {},
   "outputs": [
    {
     "name": "stdout",
     "output_type": "stream",
     "text": [
      "isbn column dropped, isbn13 column kept\n"
     ]
    }
   ],
   "source": [
    "# Since isbn and isbn13 are the same thing and isbn13 is the newer, \n",
    "# globally applied format, we will drop isbn and keep isbn13\n",
    "books_df.drop('isbn', axis=1, inplace=True)\n",
    "print(\"isbn column dropped, isbn13 column kept\")"
   ]
  },
  {
   "cell_type": "code",
   "execution_count": 53,
   "metadata": {},
   "outputs": [
    {
     "name": "stdout",
     "output_type": "stream",
     "text": [
      "Language codes eng, en-US, en-GB, en-CA unified to 'en'\n"
     ]
    }
   ],
   "source": [
    "# Replace language codes with 'en'\n",
    "books_df['language_code'] = books_df['language_code'].replace({'en-US': 'en', 'en-GB': 'en', 'en-CA': 'en', 'eng': 'en'})\n",
    "print(\"Language codes eng, en-US, en-GB, en-CA unified to 'en'\")"
   ]
  },
  {
   "cell_type": "code",
   "execution_count": 54,
   "metadata": {},
   "outputs": [
    {
     "name": "stdout",
     "output_type": "stream",
     "text": [
      "Missing publication dates filled in\n",
      "2nd (large) dataset is being loaded...\n"
     ]
    }
   ],
   "source": [
    "# Looked up the publication dates for the books with missing publication dates\n",
    "books_df.iloc[books_df[books_df['isbn13'] == 9780553575101].index, books_df.columns.get_loc('publication_date')] = '10/31/2000'\n",
    "books_df.iloc[books_df[books_df['isbn13'] == 9782070323289].index, books_df.columns.get_loc('publication_date')] = '06/01/1982'\n",
    "print(\"Missing publication dates filled in\")\n",
    "print(\"2nd (large) dataset is being loaded...\")"
   ]
  },
  {
   "cell_type": "markdown",
   "metadata": {},
   "source": [
    "#### Import the large datasets found [here](https://drive.google.com/file/d/1JTY2O32QSn4L3UCB-BxeL0qY-5D1DCIz/view?usp=drive_link)"
   ]
  },
  {
   "cell_type": "code",
   "execution_count": 55,
   "metadata": {},
   "outputs": [],
   "source": [
    "import os\n",
    "import requests"
   ]
  },
  {
   "cell_type": "markdown",
   "metadata": {},
   "source": [
    "#### We're no longer using books2.csv, as we've scraped more data and saved the updated version into df_clean.csv"
   ]
  },
  {
   "cell_type": "code",
   "execution_count": null,
   "metadata": {},
   "outputs": [],
   "source": [
    "# Direct download link (embed the file ID directly in the URL)\n",
    "# url = \"https://drive.google.com/uc?export=download&id=1JTY2O32QSn4L3UCB-BxeL0qY-5D1DCIz\"\n",
    "\n",
    "# Download and save the file in the 'data/' folder\n",
    "# with open(\"data/books2.csv\", \"wb\") as file:\n",
    "#     file.write(requests.get(url).content)\n",
    "\n",
    "# print(\"Dataset downloaded and saved as data/books2.csv\")"
   ]
  },
  {
   "cell_type": "markdown",
   "metadata": {},
   "source": [
    "## Uncomment this following cell if you're importing the data for the first time:"
   ]
  },
  {
   "cell_type": "code",
   "execution_count": 56,
   "metadata": {},
   "outputs": [],
   "source": [
    "# Users\n",
    "url = \"https://drive.google.com/uc?export=download&id=1i9xdUCFn052HqrFQXSYHEAo0_9vcZjgU\"\n",
    "\n",
    "# Download and save the file in the 'data/' folder\n",
    "with open(\"data/users.csv\", \"wb\") as file:\n",
    "    file.write(requests.get(url).content)\n",
    "\n",
    "print(\"Dataset downloaded and saved as data/users.csv\")"
   ]
  },
  {
   "cell_type": "markdown",
   "metadata": {},
   "source": [
    "## Uncomment this following cell if you're importing the data for the first time:"
   ]
  },
  {
   "cell_type": "code",
   "execution_count": 57,
   "metadata": {},
   "outputs": [],
   "source": [
    "# ratings\n",
    "url = \"https://drive.google.com/uc?export=download&id=11ckhvFWy_n4br-_UEZW3Aci3cgClYRqD\"\n",
    "\n",
    "# Download and save the file in the 'data/' folder\n",
    "with open(\"data/ratings.csv\", \"wb\") as file:\n",
    "    file.write(requests.get(url).content)\n",
    "\n",
    "print(\"Dataset downloaded and saved as data/ratings.csv\")"
   ]
  },
  {
   "cell_type": "markdown",
   "metadata": {},
   "source": [
    "## Changed to df_clean.csv instead of books2.csv after scraping and cleaning:"
   ]
  },
  {
   "cell_type": "code",
   "execution_count": 58,
   "metadata": {},
   "outputs": [
    {
     "name": "stdout",
     "output_type": "stream",
     "text": [
      "Pandas dataframes (books_df, books_big, users, ratings) loaded successfully\n"
     ]
    }
   ],
   "source": [
    "# books_big = pd.read_csv('data/books2.csv', sep=',', header=0, low_memory=False)\n",
    "# (Use the scraped and cleaned dataset instead of original books2.csv)\n",
    "books_big = pd.read_csv(\"data/df_clean.csv\", sep=\";\", encoding=\"utf-8\", engine=\"python\", na_filter=False)\n",
    "ratings = pd.read_csv('data/ratings.csv', sep=',', header=0)\n",
    "users = pd.read_csv('data/users.csv', sep=',', header=0)\n",
    "print(\"Pandas dataframes (books_df, books_big, users, ratings) loaded successfully\")"
   ]
  },
  {
   "cell_type": "markdown",
   "metadata": {},
   "source": [
    "## Cleaning the column names:"
   ]
  },
  {
   "cell_type": "code",
   "execution_count": 59,
   "metadata": {},
   "outputs": [
    {
     "name": "stdout",
     "output_type": "stream",
     "text": [
      "Columns renamed and dates converted to dtype: datetime\n"
     ]
    }
   ],
   "source": [
    "# books_big.columns = books_big.columns.str.lower().str.replace('-', '_') # done in df_clean.csv\n",
    "books_df.columns = books_df.columns.str.lower().str.replace('-', '_')\n",
    "users.columns = users.columns.str.lower().str.replace('-', '_')\n",
    "ratings.columns = ratings.columns.str.lower().str.replace('-', '_')\n",
    "books_big['year_of_publication'] = pd.to_datetime(books_big['year_of_publication'], format='%Y-%m-%d', errors='coerce').dt.year\n",
    "books_df['publication_date'] = pd.to_datetime(books_df['publication_date'], format='%m/%d/%Y', errors='coerce')\n",
    "\n",
    "print(\"Columns renamed and dates converted to dtype: datetime\")"
   ]
  },
  {
   "cell_type": "markdown",
   "metadata": {},
   "source": [
    "## Replacing \"No author found\" and \"Error fetching author\" with pd.NA:"
   ]
  },
  {
   "cell_type": "code",
   "execution_count": null,
   "metadata": {},
   "outputs": [],
   "source": [
    "print(\"replacing author fetching errors and missing values with NA\")"
   ]
  },
  {
   "cell_type": "code",
   "execution_count": 60,
   "metadata": {},
   "outputs": [
    {
     "data": {
      "text/plain": [
       "5530    No author found\n",
       "Name: book_author, dtype: object"
      ]
     },
     "execution_count": 60,
     "metadata": {},
     "output_type": "execute_result"
    }
   ],
   "source": [
    "books_big.book_author[books_big['isbn'] == '738702943']"
   ]
  },
  {
   "cell_type": "code",
   "execution_count": 62,
   "metadata": {},
   "outputs": [
    {
     "data": {
      "text/plain": [
       "90"
      ]
     },
     "execution_count": 62,
     "metadata": {},
     "output_type": "execute_result"
    }
   ],
   "source": [
    "books_big.book_author[books_big['book_author'] == 'No author found'].count()"
   ]
  },
  {
   "cell_type": "code",
   "execution_count": 63,
   "metadata": {},
   "outputs": [
    {
     "name": "stdout",
     "output_type": "stream",
     "text": [
      "dataframe books copied from books_big for ease of use\n"
     ]
    }
   ],
   "source": [
    "books = books_big.copy()\n",
    "print(\"dataframe books copied from books_big for ease of use\")"
   ]
  },
  {
   "cell_type": "code",
   "execution_count": 64,
   "metadata": {},
   "outputs": [
    {
     "data": {
      "text/plain": [
       "90"
      ]
     },
     "execution_count": 64,
     "metadata": {},
     "output_type": "execute_result"
    }
   ],
   "source": [
    "# books.book_author[books_big['book_author'] == 'No author found'].count()"
   ]
  },
  {
   "cell_type": "code",
   "execution_count": 65,
   "metadata": {},
   "outputs": [
    {
     "data": {
      "text/plain": [
       "0"
      ]
     },
     "execution_count": 65,
     "metadata": {},
     "output_type": "execute_result"
    }
   ],
   "source": [
    "# books.book_author[books_big['book_author'] == 'Error fetching data'].count()"
   ]
  },
  {
   "cell_type": "code",
   "execution_count": 66,
   "metadata": {},
   "outputs": [
    {
     "data": {
      "text/plain": [
       "81"
      ]
     },
     "execution_count": 66,
     "metadata": {},
     "output_type": "execute_result"
    }
   ],
   "source": [
    "# books.book_author[books_big['book_author'] == 'Error fetching author'].count()"
   ]
  },
  {
   "cell_type": "code",
   "execution_count": 67,
   "metadata": {},
   "outputs": [
    {
     "data": {
      "text/plain": [
       "0"
      ]
     },
     "execution_count": 67,
     "metadata": {},
     "output_type": "execute_result"
    }
   ],
   "source": [
    "# books.book_author[books_big['book_author'] == pd.NA].count()"
   ]
  },
  {
   "cell_type": "code",
   "execution_count": 68,
   "metadata": {},
   "outputs": [],
   "source": [
    "# Replace 'No author found' with NA in the 'book_author' column\n",
    "books['book_author'] = books['book_author'].replace('No author found', pd.NA)"
   ]
  },
  {
   "cell_type": "code",
   "execution_count": 69,
   "metadata": {},
   "outputs": [
    {
     "data": {
      "text/plain": [
       "0"
      ]
     },
     "execution_count": 69,
     "metadata": {},
     "output_type": "execute_result"
    }
   ],
   "source": [
    "# books.book_author[books_big['book_author'] == 'No author found'].count()"
   ]
  },
  {
   "cell_type": "code",
   "execution_count": 70,
   "metadata": {},
   "outputs": [],
   "source": [
    "books['book_author'] = books['book_author'].replace('Error fetching author', pd.NA)"
   ]
  },
  {
   "cell_type": "code",
   "execution_count": 71,
   "metadata": {},
   "outputs": [
    {
     "data": {
      "text/plain": [
       "0"
      ]
     },
     "execution_count": 71,
     "metadata": {},
     "output_type": "execute_result"
    }
   ],
   "source": [
    "# books.book_author[books_big['book_author'] == 'Error fetching author'].count()"
   ]
  },
  {
   "cell_type": "code",
   "execution_count": 72,
   "metadata": {},
   "outputs": [
    {
     "data": {
      "text/plain": [
       "171"
      ]
     },
     "execution_count": 72,
     "metadata": {},
     "output_type": "execute_result"
    }
   ],
   "source": [
    "# books.book_author.isna().sum()"
   ]
  },
  {
   "cell_type": "code",
   "execution_count": 22,
   "metadata": {},
   "outputs": [
    {
     "name": "stdout",
     "output_type": "stream",
     "text": [
      "<class 'pandas.core.frame.DataFrame'>\n",
      "RangeIndex: 226493 entries, 0 to 226492\n",
      "Data columns (total 9 columns):\n",
      " #   Column               Non-Null Count   Dtype \n",
      "---  ------               --------------   ----- \n",
      " 0   isbn                 226493 non-null  object\n",
      " 1   book_title           226493 non-null  object\n",
      " 2   book_author          226403 non-null  object\n",
      " 3   year_of_publication  226493 non-null  int32 \n",
      " 4   publisher            226493 non-null  object\n",
      " 5   image_url_s          226493 non-null  object\n",
      " 6   image_url_m          226493 non-null  object\n",
      " 7   image_url_l          226493 non-null  object\n",
      " 8   genre                226493 non-null  object\n",
      "dtypes: int32(1), object(8)\n",
      "memory usage: 14.7+ MB\n"
     ]
    }
   ],
   "source": [
    "# books.info()"
   ]
  },
  {
   "cell_type": "code",
   "execution_count": 91,
   "metadata": {},
   "outputs": [
    {
     "data": {
      "text/plain": [
       "0"
      ]
     },
     "execution_count": 91,
     "metadata": {},
     "output_type": "execute_result"
    }
   ],
   "source": [
    "# books.isbn[books['book_author'] == 'No author found'].count()"
   ]
  },
  {
   "cell_type": "code",
   "execution_count": 26,
   "metadata": {},
   "outputs": [
    {
     "data": {
      "text/plain": [
       "0"
      ]
     },
     "execution_count": 26,
     "metadata": {},
     "output_type": "execute_result"
    }
   ],
   "source": [
    "# books.book_author[books['book_author'] == pd.NA].count()"
   ]
  },
  {
   "cell_type": "markdown",
   "metadata": {},
   "source": [
    "## Replacing genre \"Error fetching data\" with pd.NA:"
   ]
  },
  {
   "cell_type": "code",
   "execution_count": null,
   "metadata": {},
   "outputs": [],
   "source": [
    "print(\"replacing genre fetching errors with NA\")"
   ]
  },
  {
   "cell_type": "code",
   "execution_count": 75,
   "metadata": {},
   "outputs": [
    {
     "data": {
      "text/plain": [
       "903"
      ]
     },
     "execution_count": 75,
     "metadata": {},
     "output_type": "execute_result"
    }
   ],
   "source": [
    "# books.isbn[books['genre'] == 'Error fetching data'].count()"
   ]
  },
  {
   "cell_type": "code",
   "execution_count": 76,
   "metadata": {},
   "outputs": [
    {
     "data": {
      "text/plain": [
       "0"
      ]
     },
     "execution_count": 76,
     "metadata": {},
     "output_type": "execute_result"
    }
   ],
   "source": [
    "# books.genre.isna().sum()"
   ]
  },
  {
   "cell_type": "code",
   "execution_count": 77,
   "metadata": {},
   "outputs": [],
   "source": [
    "books['genre'] = books['genre'].replace('Error fetching data', pd.NA)"
   ]
  },
  {
   "cell_type": "code",
   "execution_count": 78,
   "metadata": {},
   "outputs": [
    {
     "data": {
      "text/plain": [
       "903"
      ]
     },
     "execution_count": 78,
     "metadata": {},
     "output_type": "execute_result"
    }
   ],
   "source": [
    "# books.genre.isna().sum()"
   ]
  },
  {
   "cell_type": "code",
   "execution_count": 79,
   "metadata": {},
   "outputs": [
    {
     "data": {
      "text/plain": [
       "0"
      ]
     },
     "execution_count": 79,
     "metadata": {},
     "output_type": "execute_result"
    }
   ],
   "source": [
    "# books.isbn[books['genre'] == 'Error fetching data'].count()"
   ]
  },
  {
   "cell_type": "code",
   "execution_count": 80,
   "metadata": {},
   "outputs": [
    {
     "name": "stdout",
     "output_type": "stream",
     "text": [
      "<class 'pandas.core.frame.DataFrame'>\n",
      "RangeIndex: 226493 entries, 0 to 226492\n",
      "Data columns (total 9 columns):\n",
      " #   Column               Non-Null Count   Dtype \n",
      "---  ------               --------------   ----- \n",
      " 0   isbn                 226493 non-null  object\n",
      " 1   book_title           226493 non-null  object\n",
      " 2   book_author          226322 non-null  object\n",
      " 3   year_of_publication  226493 non-null  int32 \n",
      " 4   publisher            226493 non-null  object\n",
      " 5   image_url_s          226493 non-null  object\n",
      " 6   image_url_m          226493 non-null  object\n",
      " 7   image_url_l          226493 non-null  object\n",
      " 8   genre                225590 non-null  object\n",
      "dtypes: int32(1), object(8)\n",
      "memory usage: 14.7+ MB\n"
     ]
    }
   ],
   "source": [
    "# books.info()"
   ]
  },
  {
   "cell_type": "markdown",
   "metadata": {},
   "source": [
    "## Checking for any further relevant values that are actually missing:"
   ]
  },
  {
   "cell_type": "code",
   "execution_count": 81,
   "metadata": {},
   "outputs": [
    {
     "data": {
      "text/plain": [
       "0"
      ]
     },
     "execution_count": 81,
     "metadata": {},
     "output_type": "execute_result"
    }
   ],
   "source": [
    "# books.year_of_publication.isna().sum()"
   ]
  },
  {
   "cell_type": "code",
   "execution_count": 82,
   "metadata": {},
   "outputs": [
    {
     "data": {
      "text/plain": [
       "count    226493.000000\n",
       "mean       1993.548105\n",
       "std           8.496009\n",
       "min        1806.000000\n",
       "25%        1989.000000\n",
       "50%        1996.000000\n",
       "75%        2000.000000\n",
       "max        2021.000000\n",
       "Name: year_of_publication, dtype: float64"
      ]
     },
     "execution_count": 82,
     "metadata": {},
     "output_type": "execute_result"
    }
   ],
   "source": [
    "# books.year_of_publication.describe()"
   ]
  },
  {
   "cell_type": "code",
   "execution_count": 83,
   "metadata": {},
   "outputs": [
    {
     "data": {
      "text/plain": [
       "0"
      ]
     },
     "execution_count": 83,
     "metadata": {},
     "output_type": "execute_result"
    }
   ],
   "source": [
    "# books.publisher.isna().sum()"
   ]
  },
  {
   "cell_type": "code",
   "execution_count": 86,
   "metadata": {},
   "outputs": [
    {
     "data": {
      "text/plain": [
       "0"
      ]
     },
     "execution_count": 86,
     "metadata": {},
     "output_type": "execute_result"
    }
   ],
   "source": [
    "# books.publisher[books['publisher'].str.contains('error', case=False, na=False)].count()"
   ]
  },
  {
   "cell_type": "code",
   "execution_count": 87,
   "metadata": {},
   "outputs": [
    {
     "name": "stdout",
     "output_type": "stream",
     "text": [
      "<class 'pandas.core.frame.DataFrame'>\n",
      "RangeIndex: 226493 entries, 0 to 226492\n",
      "Data columns (total 9 columns):\n",
      " #   Column               Non-Null Count   Dtype \n",
      "---  ------               --------------   ----- \n",
      " 0   isbn                 226493 non-null  object\n",
      " 1   book_title           226493 non-null  object\n",
      " 2   book_author          226322 non-null  object\n",
      " 3   year_of_publication  226493 non-null  int32 \n",
      " 4   publisher            226493 non-null  object\n",
      " 5   image_url_s          226493 non-null  object\n",
      " 6   image_url_m          226493 non-null  object\n",
      " 7   image_url_l          226493 non-null  object\n",
      " 8   genre                225590 non-null  object\n",
      "dtypes: int32(1), object(8)\n",
      "memory usage: 14.7+ MB\n"
     ]
    }
   ],
   "source": [
    "# books.info()"
   ]
  },
  {
   "cell_type": "markdown",
   "metadata": {},
   "source": [
    "## Now books.info() has become less misleading."
   ]
  },
  {
   "cell_type": "code",
   "execution_count": 89,
   "metadata": {},
   "outputs": [],
   "source": [
    "books_big = books.copy()"
   ]
  },
  {
   "cell_type": "code",
   "execution_count": null,
   "metadata": {},
   "outputs": [],
   "source": [
    "print(\"missing values in books dataframe turned into pd.NA for more accurate analysis\")"
   ]
  },
  {
   "cell_type": "code",
   "execution_count": 90,
   "metadata": {},
   "outputs": [
    {
     "name": "stdout",
     "output_type": "stream",
     "text": [
      "<class 'pandas.core.frame.DataFrame'>\n",
      "RangeIndex: 226493 entries, 0 to 226492\n",
      "Data columns (total 9 columns):\n",
      " #   Column               Non-Null Count   Dtype \n",
      "---  ------               --------------   ----- \n",
      " 0   isbn                 226493 non-null  object\n",
      " 1   book_title           226493 non-null  object\n",
      " 2   book_author          226322 non-null  object\n",
      " 3   year_of_publication  226493 non-null  int32 \n",
      " 4   publisher            226493 non-null  object\n",
      " 5   image_url_s          226493 non-null  object\n",
      " 6   image_url_m          226493 non-null  object\n",
      " 7   image_url_l          226493 non-null  object\n",
      " 8   genre                225590 non-null  object\n",
      "dtypes: int32(1), object(8)\n",
      "memory usage: 14.7+ MB\n"
     ]
    }
   ],
   "source": [
    "# books_big.info()"
   ]
  },
  {
   "cell_type": "code",
   "execution_count": 19,
   "metadata": {},
   "outputs": [
    {
     "name": "stdout",
     "output_type": "stream",
     "text": [
      "Ready to go!\n"
     ]
    }
   ],
   "source": [
    "print(\"Ready to go!\")"
   ]
  }
 ],
 "metadata": {
  "kernelspec": {
   "display_name": ".venv",
   "language": "python",
   "name": "python3"
  },
  "language_info": {
   "codemirror_mode": {
    "name": "ipython",
    "version": 3
   },
   "file_extension": ".py",
   "mimetype": "text/x-python",
   "name": "python",
   "nbconvert_exporter": "python",
   "pygments_lexer": "ipython3",
   "version": "3.11.3"
  }
 },
 "nbformat": 4,
 "nbformat_minor": 2
}
