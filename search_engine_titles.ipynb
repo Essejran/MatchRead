{
 "cells": [
  {
   "cell_type": "markdown",
   "metadata": {},
   "source": [
    "## Creating search engine for book title ##"
   ]
  },
  {
   "cell_type": "code",
   "execution_count": 2,
   "metadata": {},
   "outputs": [],
   "source": [
    "import numpy as np\n",
    "import pandas as pd\n",
    "import matplotlib.pyplot as plt\n",
    "import seaborn as sns\n",
    "import pickle\n",
    "import sklearn\n",
    "# import pickleshare as ps"
   ]
  },
  {
   "cell_type": "code",
   "execution_count": 3,
   "metadata": {},
   "outputs": [
    {
     "name": "stdout",
     "output_type": "stream",
     "text": [
      "<class 'pandas.core.frame.DataFrame'>\n",
      "RangeIndex: 183600 entries, 0 to 183599\n",
      "Data columns (total 19 columns):\n",
      " #   Column               Non-Null Count   Dtype  \n",
      "---  ------               --------------   -----  \n",
      " 0   isbn                 183600 non-null  object \n",
      " 1   book_title           183600 non-null  object \n",
      " 2   book_author          183600 non-null  object \n",
      " 3   year_of_publication  183600 non-null  object \n",
      " 4   publisher            183600 non-null  object \n",
      " 5   genre                183600 non-null  object \n",
      " 6   user_id              183600 non-null  float64\n",
      " 7   book_rating          183600 non-null  float64\n",
      " 8   location             183600 non-null  object \n",
      " 9   age                  183600 non-null  object \n",
      " 10  age_numeric          137577 non-null  float64\n",
      " 11  age_bins             183600 non-null  object \n",
      " 12  mod_book_author      183600 non-null  object \n",
      " 13  mod_book_title       183600 non-null  object \n",
      " 14  mod_publisher        183600 non-null  object \n",
      " 15  country              176767 non-null  object \n",
      " 16  name_surname         183600 non-null  object \n",
      " 17  surname              183563 non-null  object \n",
      " 18  categorized_genre    183600 non-null  object \n",
      "dtypes: float64(3), object(16)\n",
      "memory usage: 26.6+ MB\n"
     ]
    }
   ],
   "source": [
    "# df created in notebooks Bias_authors_countries and Genre_susanne \n",
    "clean_names_genre = pd.read_csv('data/clean_names_genre.csv')\n",
    "clean_names_genre.info()"
   ]
  },
  {
   "cell_type": "code",
   "execution_count": 4,
   "metadata": {},
   "outputs": [],
   "source": [
    "clean_names_genre['user_id'] = clean_names_genre['user_id'].astype(int)\n",
    "clean_names_genre['book_rating'] = clean_names_genre['book_rating'].astype(int)"
   ]
  },
  {
   "cell_type": "markdown",
   "metadata": {},
   "source": [
    "### 1. Search engine - book title ###"
   ]
  },
  {
   "cell_type": "markdown",
   "metadata": {},
   "source": [
    "#### pre-processing data ####"
   ]
  },
  {
   "cell_type": "code",
   "execution_count": 7,
   "metadata": {},
   "outputs": [],
   "source": [
    "# dropping columns that are not needed\n",
    "\n",
    "data_kept = clean_names_genre.drop(['book_title', 'book_author', 'genre', 'location', 'age', 'age_numeric', 'age_bins', 'country', 'name_surname', 'surname'], axis=1)\n"
   ]
  },
  {
   "cell_type": "code",
   "execution_count": 8,
   "metadata": {},
   "outputs": [
    {
     "name": "stdout",
     "output_type": "stream",
     "text": [
      "<class 'pandas.core.frame.DataFrame'>\n",
      "RangeIndex: 183600 entries, 0 to 183599\n",
      "Data columns (total 9 columns):\n",
      " #   Column               Non-Null Count   Dtype \n",
      "---  ------               --------------   ----- \n",
      " 0   isbn                 183600 non-null  object\n",
      " 1   year_of_publication  183600 non-null  object\n",
      " 2   publisher            183600 non-null  object\n",
      " 3   user_id              183600 non-null  int64 \n",
      " 4   book_rating          183600 non-null  int64 \n",
      " 5   mod_book_author      183600 non-null  object\n",
      " 6   mod_book_title       183600 non-null  object\n",
      " 7   mod_publisher        183600 non-null  object\n",
      " 8   categorized_genre    183600 non-null  object\n",
      "dtypes: int64(2), object(7)\n",
      "memory usage: 12.6+ MB\n"
     ]
    }
   ],
   "source": [
    "data_kept.info()"
   ]
  },
  {
   "cell_type": "code",
   "execution_count": 10,
   "metadata": {},
   "outputs": [
    {
     "data": {
      "image/png": "[encoded data removed]",
      "text/plain": [
       "<Figure size 640x480 with 1 Axes>"
      ]
     },
     "metadata": {},
     "output_type": "display_data"
    }
   ],
   "source": [
    "# calculate the rating count for each book and the average rating for each book\n",
    "# 1. Group by 'isbn' and count the number of ratings for each ISBN\n",
    "isbn_rating_counts = data_kept.groupby(['mod_book_title', 'mod_book_author', 'isbn']).size().reset_index(name='rating_count')\n",
    "\n",
    "# Display the DataFrame to verify the result\n",
    "ratings = isbn_rating_counts.sort_values('rating_count', ascending=False).head().plot(kind='bar', x='mod_book_author', y='rating_count', color='skyblue')"
   ]
  },
  {
   "cell_type": "code",
   "execution_count": 11,
   "metadata": {},
   "outputs": [
    {
     "data": {
      "text/html": [
       "<div>\n",
       "<style scoped>\n",
       "    .dataframe tbody tr th:only-of-type {\n",
       "        vertical-align: middle;\n",
       "    }\n",
       "\n",
       "    .dataframe tbody tr th {\n",
       "        vertical-align: top;\n",
       "    }\n",
       "\n",
       "    .dataframe thead th {\n",
       "        text-align: right;\n",
       "    }\n",
       "</style>\n",
       "<table border=\"1\" class=\"dataframe\">\n",
       "  <thead>\n",
       "    <tr style=\"text-align: right;\">\n",
       "      <th></th>\n",
       "      <th>mod_book_title</th>\n",
       "      <th>mod_book_author</th>\n",
       "      <th>isbn</th>\n",
       "      <th>rating_count</th>\n",
       "      <th>average_rating</th>\n",
       "    </tr>\n",
       "  </thead>\n",
       "  <tbody>\n",
       "    <tr>\n",
       "      <th>0</th>\n",
       "      <td>0815 heute</td>\n",
       "      <td>kirst</td>\n",
       "      <td>3442013453</td>\n",
       "      <td>1</td>\n",
       "      <td>7.0</td>\n",
       "    </tr>\n",
       "    <tr>\n",
       "      <th>1</th>\n",
       "      <td>1 2 3</td>\n",
       "      <td>tana hoban</td>\n",
       "      <td>068802579X</td>\n",
       "      <td>3</td>\n",
       "      <td>5.3</td>\n",
       "    </tr>\n",
       "    <tr>\n",
       "      <th>2</th>\n",
       "      <td>10 000 dreams interpreted</td>\n",
       "      <td>gustavus hindman miller</td>\n",
       "      <td>1862044082</td>\n",
       "      <td>1</td>\n",
       "      <td>0.0</td>\n",
       "    </tr>\n",
       "    <tr>\n",
       "      <th>3</th>\n",
       "      <td>100 chocolate</td>\n",
       "      <td>katherine khodorowsky</td>\n",
       "      <td>1577173074</td>\n",
       "      <td>1</td>\n",
       "      <td>0.0</td>\n",
       "    </tr>\n",
       "    <tr>\n",
       "      <th>4</th>\n",
       "      <td>1000 years 1000 people ranking the men and wom...</td>\n",
       "      <td>agnes hooper gottlieb</td>\n",
       "      <td>1568362536</td>\n",
       "      <td>4</td>\n",
       "      <td>6.8</td>\n",
       "    </tr>\n",
       "  </tbody>\n",
       "</table>\n",
       "</div>"
      ],
      "text/plain": [
       "                                      mod_book_title          mod_book_author  \\\n",
       "0                                         0815 heute                    kirst   \n",
       "1                                              1 2 3               tana hoban   \n",
       "2                          10 000 dreams interpreted  gustavus hindman miller   \n",
       "3                                      100 chocolate    katherine khodorowsky   \n",
       "4  1000 years 1000 people ranking the men and wom...    agnes hooper gottlieb   \n",
       "\n",
       "         isbn  rating_count  average_rating  \n",
       "0  3442013453             1             7.0  \n",
       "1  068802579X             3             5.3  \n",
       "2  1862044082             1             0.0  \n",
       "3  1577173074             1             0.0  \n",
       "4  1568362536             4             6.8  "
      ]
     },
     "execution_count": 11,
     "metadata": {},
     "output_type": "execute_result"
    }
   ],
   "source": [
    "# 2. Calculate the average rating for each book\n",
    "\n",
    "to_be_rated = data_kept[['isbn', 'book_rating']]\n",
    "averageRating = to_be_rated.groupby('isbn')['book_rating'].mean().round(1).reset_index()\n",
    "averageRating.rename(columns={'book_rating': 'average_rating'}, inplace=True)\n",
    "average_rating = averageRating[['isbn','average_rating']]\n",
    "\n",
    "# Merge the average ratings back with the original dataset\n",
    "averageRatingdf = pd.merge(isbn_rating_counts, average_rating, on='isbn', how='left')\n",
    "\n",
    "# Remove duplicate entries\n",
    "#averageRatingdf = averageRatingdf[['isbn', 'average_rating']].drop_duplicates(subset=['isbn'])\n",
    "\n",
    "averageRatingdf.head() "
   ]
  },
  {
   "cell_type": "code",
   "execution_count": 12,
   "metadata": {},
   "outputs": [
    {
     "data": {
      "text/html": [
       "<div>\n",
       "<style scoped>\n",
       "    .dataframe tbody tr th:only-of-type {\n",
       "        vertical-align: middle;\n",
       "    }\n",
       "\n",
       "    .dataframe tbody tr th {\n",
       "        vertical-align: top;\n",
       "    }\n",
       "\n",
       "    .dataframe thead th {\n",
       "        text-align: right;\n",
       "    }\n",
       "</style>\n",
       "<table border=\"1\" class=\"dataframe\">\n",
       "  <thead>\n",
       "    <tr style=\"text-align: right;\">\n",
       "      <th></th>\n",
       "      <th>mod_book_title</th>\n",
       "      <th>mod_book_author</th>\n",
       "      <th>isbn</th>\n",
       "      <th>rating_count</th>\n",
       "      <th>average_rating</th>\n",
       "    </tr>\n",
       "  </thead>\n",
       "  <tbody>\n",
       "    <tr>\n",
       "      <th>0</th>\n",
       "      <td>0815 heute</td>\n",
       "      <td>kirst</td>\n",
       "      <td>3442013453</td>\n",
       "      <td>1</td>\n",
       "      <td>7.0</td>\n",
       "    </tr>\n",
       "    <tr>\n",
       "      <th>1</th>\n",
       "      <td>1 2 3</td>\n",
       "      <td>tana hoban</td>\n",
       "      <td>068802579X</td>\n",
       "      <td>3</td>\n",
       "      <td>5.3</td>\n",
       "    </tr>\n",
       "    <tr>\n",
       "      <th>2</th>\n",
       "      <td>10 000 dreams interpreted</td>\n",
       "      <td>gustavus hindman miller</td>\n",
       "      <td>1862044082</td>\n",
       "      <td>1</td>\n",
       "      <td>0.0</td>\n",
       "    </tr>\n",
       "    <tr>\n",
       "      <th>3</th>\n",
       "      <td>100 chocolate</td>\n",
       "      <td>katherine khodorowsky</td>\n",
       "      <td>1577173074</td>\n",
       "      <td>1</td>\n",
       "      <td>0.0</td>\n",
       "    </tr>\n",
       "    <tr>\n",
       "      <th>4</th>\n",
       "      <td>1000 years 1000 people ranking the men and wom...</td>\n",
       "      <td>agnes hooper gottlieb</td>\n",
       "      <td>1568362536</td>\n",
       "      <td>4</td>\n",
       "      <td>6.8</td>\n",
       "    </tr>\n",
       "  </tbody>\n",
       "</table>\n",
       "</div>"
      ],
      "text/plain": [
       "                                      mod_book_title          mod_book_author  \\\n",
       "0                                         0815 heute                    kirst   \n",
       "1                                              1 2 3               tana hoban   \n",
       "2                          10 000 dreams interpreted  gustavus hindman miller   \n",
       "3                                      100 chocolate    katherine khodorowsky   \n",
       "4  1000 years 1000 people ranking the men and wom...    agnes hooper gottlieb   \n",
       "\n",
       "         isbn  rating_count  average_rating  \n",
       "0  3442013453             1             7.0  \n",
       "1  068802579X             3             5.3  \n",
       "2  1862044082             1             0.0  \n",
       "3  1577173074             1             0.0  \n",
       "4  1568362536             4             6.8  "
      ]
     },
     "execution_count": 12,
     "metadata": {},
     "output_type": "execute_result"
    }
   ],
   "source": [
    "averageRatingdf[\"mod_book_title\"] = averageRatingdf['mod_book_title'].str.replace(\"[^a-zA-Z0-9]\", \" \", regex=True)    #removing special characters from book titles   \n",
    "averageRatingdf.head()"
   ]
  },
  {
   "cell_type": "code",
   "execution_count": 13,
   "metadata": {},
   "outputs": [],
   "source": [
    "averageRatingdf['mod_book_title'] = averageRatingdf['mod_book_title'].str.replace('\\s+', ' ', regex=True)    #removing extra spaces from book titles"
   ]
  },
  {
   "cell_type": "code",
   "execution_count": 14,
   "metadata": {},
   "outputs": [],
   "source": [
    "averageRatingdf = averageRatingdf[averageRatingdf['mod_book_title'].str.len() > 0]    #removing rows with empty book titles"
   ]
  },
  {
   "cell_type": "code",
   "execution_count": 15,
   "metadata": {},
   "outputs": [
    {
     "data": {
      "text/plain": [
       "<Axes: ylabel='rating_count'>"
      ]
     },
     "execution_count": 15,
     "metadata": {},
     "output_type": "execute_result"
    },
    {
     "data": {
      "image/png": "[encoded data removed]",
      "text/plain": [
       "<Figure size 640x480 with 1 Axes>"
      ]
     },
     "metadata": {},
     "output_type": "display_data"
    }
   ],
   "source": [
    "sns.boxplot(averageRatingdf.rating_count)"
   ]
  },
  {
   "cell_type": "code",
   "execution_count": 16,
   "metadata": {},
   "outputs": [
    {
     "data": {
      "text/plain": [
       "57107"
      ]
     },
     "execution_count": 16,
     "metadata": {},
     "output_type": "execute_result"
    }
   ],
   "source": [
    "averageRatingdf['mod_book_title'].nunique()"
   ]
  },
  {
   "cell_type": "code",
   "execution_count": 17,
   "metadata": {},
   "outputs": [
    {
     "data": {
      "text/plain": [
       "(1488, 5)"
      ]
     },
     "execution_count": 17,
     "metadata": {},
     "output_type": "execute_result"
    }
   ],
   "source": [
    "ratings = averageRatingdf[averageRatingdf['rating_count'] >= 15]    #filtering out books with less than 15 ratings\n",
    "ratings.shape"
   ]
  },
  {
   "cell_type": "markdown",
   "metadata": {},
   "source": [
    "### creating the search engine ###"
   ]
  },
  {
   "cell_type": "markdown",
   "metadata": {},
   "source": [
    "#### Building a Term Frequency and then a Inverse Document Frequency matrix ####"
   ]
  },
  {
   "cell_type": "code",
   "execution_count": 18,
   "metadata": {},
   "outputs": [],
   "source": [
    "# turning titles into TD-IDF matrix => Term Frequency-Inverse Document Frequency\n",
    "from sklearn.feature_extraction.text import TfidfVectorizer\n",
    "\n",
    "# vectorizer takes a list of strings as input and turns it into a fd-idf matrix\n",
    "vectorizer = TfidfVectorizer()\n",
    "\n",
    "tdidf = vectorizer.fit_transform(ratings['mod_book_title'])"
   ]
  },
  {
   "cell_type": "code",
   "execution_count": 19,
   "metadata": {},
   "outputs": [],
   "source": [
    "# to do comparison between books, we need to calculate the cosine similarity between the books\n",
    "\n",
    "from sklearn.metrics.pairwise import cosine_similarity\n",
    "import numpy as np\n",
    "import re\n",
    "\n",
    "\n",
    "# query function:\n",
    "\n",
    "def search(query, vectorizer):\n",
    "# setting up a search query\n",
    "\n",
    "    #query = 'The Hobbit'\n",
    "# preparing the string in the same way as the mod titles above\n",
    "    processed = re.sub('[^a-zA-Z0-9]', ' ', query.lower())\n",
    "\n",
    "# we need to turn the query into a vector using the vectorizer\n",
    "\n",
    "    query_vector = vectorizer.transform([processed])\n",
    "\n",
    "# to find the similarities we calculate the cosine similarity between the query vector and the tdidf matrix\n",
    "    similarity = cosine_similarity(query_vector, tdidf).flatten() # flatten is used to turn the matrix into a 1D array\n",
    "\n",
    "# to find the indices of the 10 largest similarities\n",
    "\n",
    "    indices = np.argpartition(similarity, -10)[-10:]\n",
    "\n",
    "# use indices to index the titles\n",
    "\n",
    "    results = ratings.iloc[indices]   \n",
    "\n",
    "# as there are many books with the title \"The Hobbit\", we only want those with the highest number of ratings\n",
    "\n",
    "    results = results.sort_values(by='rating_count', ascending=False)\n",
    "\n",
    "    return results.head(10)\n"
   ]
  },
  {
   "cell_type": "code",
   "execution_count": 20,
   "metadata": {},
   "outputs": [
    {
     "data": {
      "text/html": [
       "<div>\n",
       "<style scoped>\n",
       "    .dataframe tbody tr th:only-of-type {\n",
       "        vertical-align: middle;\n",
       "    }\n",
       "\n",
       "    .dataframe tbody tr th {\n",
       "        vertical-align: top;\n",
       "    }\n",
       "\n",
       "    .dataframe thead th {\n",
       "        text-align: right;\n",
       "    }\n",
       "</style>\n",
       "<table border=\"1\" class=\"dataframe\">\n",
       "  <thead>\n",
       "    <tr style=\"text-align: right;\">\n",
       "      <th></th>\n",
       "      <th>mod_book_title</th>\n",
       "      <th>mod_book_author</th>\n",
       "      <th>isbn</th>\n",
       "      <th>rating_count</th>\n",
       "      <th>average_rating</th>\n",
       "    </tr>\n",
       "  </thead>\n",
       "  <tbody>\n",
       "    <tr>\n",
       "      <th>48930</th>\n",
       "      <td>the girls guide to hunting and fishing</td>\n",
       "      <td>melissa bank</td>\n",
       "      <td>067088300X</td>\n",
       "      <td>157</td>\n",
       "      <td>3.3</td>\n",
       "    </tr>\n",
       "    <tr>\n",
       "      <th>48749</th>\n",
       "      <td>the four agreements a practical guide to perso...</td>\n",
       "      <td>don miguel ruiz</td>\n",
       "      <td>1878424319</td>\n",
       "      <td>133</td>\n",
       "      <td>3.5</td>\n",
       "    </tr>\n",
       "    <tr>\n",
       "      <th>47883</th>\n",
       "      <td>the dance of anger a womans guide to changing ...</td>\n",
       "      <td>harriet lerner</td>\n",
       "      <td>006091565X</td>\n",
       "      <td>52</td>\n",
       "      <td>2.3</td>\n",
       "    </tr>\n",
       "    <tr>\n",
       "      <th>51504</th>\n",
       "      <td>the power of now a guide to spiritual enlighte...</td>\n",
       "      <td>eckhart tolle</td>\n",
       "      <td>1577311523</td>\n",
       "      <td>24</td>\n",
       "      <td>3.5</td>\n",
       "    </tr>\n",
       "    <tr>\n",
       "      <th>52130</th>\n",
       "      <td>the salmon of doubt hitchhiking the galaxy one...</td>\n",
       "      <td>douglas adams</td>\n",
       "      <td>1400045088</td>\n",
       "      <td>21</td>\n",
       "      <td>3.6</td>\n",
       "    </tr>\n",
       "    <tr>\n",
       "      <th>50540</th>\n",
       "      <td>the mastery of love a practical guide to the a...</td>\n",
       "      <td>miguel ruiz</td>\n",
       "      <td>1878424424</td>\n",
       "      <td>21</td>\n",
       "      <td>3.9</td>\n",
       "    </tr>\n",
       "    <tr>\n",
       "      <th>36659</th>\n",
       "      <td>oh the things i know a guide to success or fai...</td>\n",
       "      <td>al franken</td>\n",
       "      <td>052594673X</td>\n",
       "      <td>19</td>\n",
       "      <td>3.0</td>\n",
       "    </tr>\n",
       "    <tr>\n",
       "      <th>30833</th>\n",
       "      <td>living the simple life a guide to scaling down...</td>\n",
       "      <td>elaine st james</td>\n",
       "      <td>078686219X</td>\n",
       "      <td>17</td>\n",
       "      <td>3.4</td>\n",
       "    </tr>\n",
       "    <tr>\n",
       "      <th>54561</th>\n",
       "      <td>to the lighthouse</td>\n",
       "      <td>virginia woolf</td>\n",
       "      <td>1853260916</td>\n",
       "      <td>17</td>\n",
       "      <td>1.9</td>\n",
       "    </tr>\n",
       "    <tr>\n",
       "      <th>4229</th>\n",
       "      <td>bart simpsons guide to life a wee handbook for...</td>\n",
       "      <td>matt groening</td>\n",
       "      <td>006096975X</td>\n",
       "      <td>15</td>\n",
       "      <td>4.3</td>\n",
       "    </tr>\n",
       "  </tbody>\n",
       "</table>\n",
       "</div>"
      ],
      "text/plain": [
       "                                          mod_book_title  mod_book_author  \\\n",
       "48930             the girls guide to hunting and fishing     melissa bank   \n",
       "48749  the four agreements a practical guide to perso...  don miguel ruiz   \n",
       "47883  the dance of anger a womans guide to changing ...   harriet lerner   \n",
       "51504  the power of now a guide to spiritual enlighte...    eckhart tolle   \n",
       "52130  the salmon of doubt hitchhiking the galaxy one...    douglas adams   \n",
       "50540  the mastery of love a practical guide to the a...      miguel ruiz   \n",
       "36659  oh the things i know a guide to success or fai...       al franken   \n",
       "30833  living the simple life a guide to scaling down...  elaine st james   \n",
       "54561                                  to the lighthouse   virginia woolf   \n",
       "4229   bart simpsons guide to life a wee handbook for...    matt groening   \n",
       "\n",
       "             isbn  rating_count  average_rating  \n",
       "48930  067088300X           157             3.3  \n",
       "48749  1878424319           133             3.5  \n",
       "47883  006091565X            52             2.3  \n",
       "51504  1577311523            24             3.5  \n",
       "52130  1400045088            21             3.6  \n",
       "50540  1878424424            21             3.9  \n",
       "36659  052594673X            19             3.0  \n",
       "30833  078686219X            17             3.4  \n",
       "54561  1853260916            17             1.9  \n",
       "4229   006096975X            15             4.3  "
      ]
     },
     "execution_count": 20,
     "metadata": {},
     "output_type": "execute_result"
    }
   ],
   "source": [
    "search('the hitchhikers guide to the galaxy', vectorizer)"
   ]
  }
 ],
 "metadata": {
  "kernelspec": {
   "display_name": ".venv",
   "language": "python",
   "name": "python3"
  },
  "language_info": {
   "codemirror_mode": {
    "name": "ipython",
    "version": 3
   },
   "file_extension": ".py",
   "mimetype": "text/x-python",
   "name": "python",
   "nbconvert_exporter": "python",
   "pygments_lexer": "ipython3",
   "version": "3.11.3"
  }
 },
 "nbformat": 4,
 "nbformat_minor": 2
}
