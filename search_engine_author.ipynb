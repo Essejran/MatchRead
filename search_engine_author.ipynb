{
 "cells": [
  {
   "cell_type": "markdown",
   "metadata": {},
   "source": [
    "## Creating search engine for book authors ##"
   ]
  },
  {
   "cell_type": "code",
   "execution_count": 1,
   "metadata": {},
   "outputs": [],
   "source": [
    "import numpy as np\n",
    "import pandas as pd\n",
    "import matplotlib.pyplot as plt\n",
    "import seaborn as sns\n",
    "import pickle\n",
    "import sklearn\n",
    "# import pickleshare as ps"
   ]
  },
  {
   "cell_type": "code",
   "execution_count": 2,
   "metadata": {},
   "outputs": [
    {
     "name": "stdout",
     "output_type": "stream",
     "text": [
      "<class 'pandas.core.frame.DataFrame'>\n",
      "RangeIndex: 183600 entries, 0 to 183599\n",
      "Data columns (total 19 columns):\n",
      " #   Column               Non-Null Count   Dtype  \n",
      "---  ------               --------------   -----  \n",
      " 0   isbn                 183600 non-null  object \n",
      " 1   book_title           183600 non-null  object \n",
      " 2   book_author          183600 non-null  object \n",
      " 3   year_of_publication  183600 non-null  object \n",
      " 4   publisher            183600 non-null  object \n",
      " 5   genre                183600 non-null  object \n",
      " 6   user_id              183600 non-null  float64\n",
      " 7   book_rating          183600 non-null  float64\n",
      " 8   location             183600 non-null  object \n",
      " 9   age                  183600 non-null  object \n",
      " 10  age_numeric          137577 non-null  float64\n",
      " 11  age_bins             183600 non-null  object \n",
      " 12  mod_book_author      183600 non-null  object \n",
      " 13  mod_book_title       183600 non-null  object \n",
      " 14  mod_publisher        183600 non-null  object \n",
      " 15  country              176767 non-null  object \n",
      " 16  name_surname         183600 non-null  object \n",
      " 17  surname              183563 non-null  object \n",
      " 18  categorized_genre    183600 non-null  object \n",
      "dtypes: float64(3), object(16)\n",
      "memory usage: 26.6+ MB\n"
     ]
    }
   ],
   "source": [
    "# df created in notebooks Bias_authors_countries and Genre_susanne \n",
    "clean_names_genre = pd.read_csv('data/clean_names_genre.csv')\n",
    "clean_names_genre.info()"
   ]
  },
  {
   "cell_type": "markdown",
   "metadata": {},
   "source": [
    "### Pre-processing ###"
   ]
  },
  {
   "cell_type": "code",
   "execution_count": 3,
   "metadata": {},
   "outputs": [],
   "source": [
    "\n",
    "clean_names_genre['book_rating'] = clean_names_genre['book_rating'].astype(int)"
   ]
  },
  {
   "cell_type": "code",
   "execution_count": 4,
   "metadata": {},
   "outputs": [],
   "source": [
    "data_kept = clean_names_genre.drop(['user_id', 'surname', 'name_surname', 'book_title', 'book_author', 'genre', 'location', 'age', 'age_numeric', 'age_bins', 'country', 'name_surname', 'surname'], axis=1)"
   ]
  },
  {
   "cell_type": "code",
   "execution_count": 5,
   "metadata": {},
   "outputs": [
    {
     "name": "stdout",
     "output_type": "stream",
     "text": [
      "<class 'pandas.core.frame.DataFrame'>\n",
      "RangeIndex: 183600 entries, 0 to 183599\n",
      "Data columns (total 8 columns):\n",
      " #   Column               Non-Null Count   Dtype \n",
      "---  ------               --------------   ----- \n",
      " 0   isbn                 183600 non-null  object\n",
      " 1   year_of_publication  183600 non-null  object\n",
      " 2   publisher            183600 non-null  object\n",
      " 3   book_rating          183600 non-null  int64 \n",
      " 4   mod_book_author      183600 non-null  object\n",
      " 5   mod_book_title       183600 non-null  object\n",
      " 6   mod_publisher        183600 non-null  object\n",
      " 7   categorized_genre    183600 non-null  object\n",
      "dtypes: int64(1), object(7)\n",
      "memory usage: 11.2+ MB\n"
     ]
    }
   ],
   "source": [
    "data_kept.info()"
   ]
  },
  {
   "cell_type": "code",
   "execution_count": 6,
   "metadata": {},
   "outputs": [],
   "source": [
    "# calculate the rating count for each book and the average rating for each book\n",
    "# 1. Group by 'isbn' and count the number of ratings for each ISBN\n",
    "isbn_rating_counts = data_kept.groupby(['mod_book_title', 'mod_book_author', 'isbn']).size().reset_index(name='rating_count')\n"
   ]
  },
  {
   "cell_type": "code",
   "execution_count": 7,
   "metadata": {},
   "outputs": [
    {
     "data": {
      "text/html": [
       "<div>\n",
       "<style scoped>\n",
       "    .dataframe tbody tr th:only-of-type {\n",
       "        vertical-align: middle;\n",
       "    }\n",
       "\n",
       "    .dataframe tbody tr th {\n",
       "        vertical-align: top;\n",
       "    }\n",
       "\n",
       "    .dataframe thead th {\n",
       "        text-align: right;\n",
       "    }\n",
       "</style>\n",
       "<table border=\"1\" class=\"dataframe\">\n",
       "  <thead>\n",
       "    <tr style=\"text-align: right;\">\n",
       "      <th></th>\n",
       "      <th>mod_book_title</th>\n",
       "      <th>mod_book_author</th>\n",
       "      <th>isbn</th>\n",
       "      <th>rating_count</th>\n",
       "      <th>average_rating</th>\n",
       "    </tr>\n",
       "  </thead>\n",
       "  <tbody>\n",
       "    <tr>\n",
       "      <th>0</th>\n",
       "      <td>0815 heute</td>\n",
       "      <td>kirst</td>\n",
       "      <td>3442013453</td>\n",
       "      <td>1</td>\n",
       "      <td>7.0</td>\n",
       "    </tr>\n",
       "    <tr>\n",
       "      <th>1</th>\n",
       "      <td>1 2 3</td>\n",
       "      <td>tana hoban</td>\n",
       "      <td>068802579X</td>\n",
       "      <td>3</td>\n",
       "      <td>5.3</td>\n",
       "    </tr>\n",
       "    <tr>\n",
       "      <th>2</th>\n",
       "      <td>10 000 dreams interpreted</td>\n",
       "      <td>gustavus hindman miller</td>\n",
       "      <td>1862044082</td>\n",
       "      <td>1</td>\n",
       "      <td>0.0</td>\n",
       "    </tr>\n",
       "    <tr>\n",
       "      <th>3</th>\n",
       "      <td>100 chocolate</td>\n",
       "      <td>katherine khodorowsky</td>\n",
       "      <td>1577173074</td>\n",
       "      <td>1</td>\n",
       "      <td>0.0</td>\n",
       "    </tr>\n",
       "    <tr>\n",
       "      <th>4</th>\n",
       "      <td>1000 years 1000 people ranking the men and wom...</td>\n",
       "      <td>agnes hooper gottlieb</td>\n",
       "      <td>1568362536</td>\n",
       "      <td>4</td>\n",
       "      <td>6.8</td>\n",
       "    </tr>\n",
       "  </tbody>\n",
       "</table>\n",
       "</div>"
      ],
      "text/plain": [
       "                                      mod_book_title          mod_book_author  \\\n",
       "0                                         0815 heute                    kirst   \n",
       "1                                              1 2 3               tana hoban   \n",
       "2                          10 000 dreams interpreted  gustavus hindman miller   \n",
       "3                                      100 chocolate    katherine khodorowsky   \n",
       "4  1000 years 1000 people ranking the men and wom...    agnes hooper gottlieb   \n",
       "\n",
       "         isbn  rating_count  average_rating  \n",
       "0  3442013453             1             7.0  \n",
       "1  068802579X             3             5.3  \n",
       "2  1862044082             1             0.0  \n",
       "3  1577173074             1             0.0  \n",
       "4  1568362536             4             6.8  "
      ]
     },
     "execution_count": 7,
     "metadata": {},
     "output_type": "execute_result"
    }
   ],
   "source": [
    "# 2. Calculate the average rating for each book\n",
    "\n",
    "to_be_rated = data_kept[['isbn', 'book_rating']]\n",
    "averageRating = to_be_rated.groupby('isbn')['book_rating'].mean().round(1).reset_index()\n",
    "averageRating.rename(columns={'book_rating': 'average_rating'}, inplace=True)\n",
    "average_rating = averageRating[['isbn','average_rating']]\n",
    "\n",
    "# Merge the average ratings back with the original dataset\n",
    "averageRatingdf = pd.merge(isbn_rating_counts, average_rating, on='isbn', how='left')\n",
    "\n",
    "# Remove duplicate entries\n",
    "#averageRatingdf = averageRatingdf[['isbn', 'average_rating']].drop_duplicates(subset=['isbn'])\n",
    "\n",
    "averageRatingdf.head() "
   ]
  },
  {
   "cell_type": "code",
   "execution_count": 8,
   "metadata": {},
   "outputs": [
    {
     "data": {
      "text/html": [
       "<div>\n",
       "<style scoped>\n",
       "    .dataframe tbody tr th:only-of-type {\n",
       "        vertical-align: middle;\n",
       "    }\n",
       "\n",
       "    .dataframe tbody tr th {\n",
       "        vertical-align: top;\n",
       "    }\n",
       "\n",
       "    .dataframe thead th {\n",
       "        text-align: right;\n",
       "    }\n",
       "</style>\n",
       "<table border=\"1\" class=\"dataframe\">\n",
       "  <thead>\n",
       "    <tr style=\"text-align: right;\">\n",
       "      <th></th>\n",
       "      <th>mod_book_title</th>\n",
       "      <th>mod_book_author</th>\n",
       "      <th>isbn</th>\n",
       "      <th>rating_count</th>\n",
       "      <th>average_rating</th>\n",
       "    </tr>\n",
       "  </thead>\n",
       "  <tbody>\n",
       "    <tr>\n",
       "      <th>0</th>\n",
       "      <td>0815 heute</td>\n",
       "      <td>kirst</td>\n",
       "      <td>3442013453</td>\n",
       "      <td>1</td>\n",
       "      <td>7.0</td>\n",
       "    </tr>\n",
       "    <tr>\n",
       "      <th>1</th>\n",
       "      <td>1 2 3</td>\n",
       "      <td>tana hoban</td>\n",
       "      <td>068802579X</td>\n",
       "      <td>3</td>\n",
       "      <td>5.3</td>\n",
       "    </tr>\n",
       "    <tr>\n",
       "      <th>2</th>\n",
       "      <td>10 000 dreams interpreted</td>\n",
       "      <td>gustavus hindman miller</td>\n",
       "      <td>1862044082</td>\n",
       "      <td>1</td>\n",
       "      <td>0.0</td>\n",
       "    </tr>\n",
       "    <tr>\n",
       "      <th>3</th>\n",
       "      <td>100 chocolate</td>\n",
       "      <td>katherine khodorowsky</td>\n",
       "      <td>1577173074</td>\n",
       "      <td>1</td>\n",
       "      <td>0.0</td>\n",
       "    </tr>\n",
       "    <tr>\n",
       "      <th>4</th>\n",
       "      <td>1000 years 1000 people ranking the men and wom...</td>\n",
       "      <td>agnes hooper gottlieb</td>\n",
       "      <td>1568362536</td>\n",
       "      <td>4</td>\n",
       "      <td>6.8</td>\n",
       "    </tr>\n",
       "  </tbody>\n",
       "</table>\n",
       "</div>"
      ],
      "text/plain": [
       "                                      mod_book_title          mod_book_author  \\\n",
       "0                                         0815 heute                    kirst   \n",
       "1                                              1 2 3               tana hoban   \n",
       "2                          10 000 dreams interpreted  gustavus hindman miller   \n",
       "3                                      100 chocolate    katherine khodorowsky   \n",
       "4  1000 years 1000 people ranking the men and wom...    agnes hooper gottlieb   \n",
       "\n",
       "         isbn  rating_count  average_rating  \n",
       "0  3442013453             1             7.0  \n",
       "1  068802579X             3             5.3  \n",
       "2  1862044082             1             0.0  \n",
       "3  1577173074             1             0.0  \n",
       "4  1568362536             4             6.8  "
      ]
     },
     "execution_count": 8,
     "metadata": {},
     "output_type": "execute_result"
    }
   ],
   "source": [
    "averageRatingdf[\"mod_book_author\"] = averageRatingdf['mod_book_author'].str.replace(\"[^a-zA-Z0-9]\", \" \", regex=True)    #removing special characters from authors \n",
    "averageRatingdf.head()"
   ]
  },
  {
   "cell_type": "code",
   "execution_count": 11,
   "metadata": {},
   "outputs": [],
   "source": [
    "averageRatingdf['mod_book_author'] = averageRatingdf['mod_book_author'].str.replace('\\s+', ' ', regex=True)    #removing extra spaces from book authors"
   ]
  },
  {
   "cell_type": "code",
   "execution_count": 12,
   "metadata": {},
   "outputs": [],
   "source": [
    "averageRatingdf = averageRatingdf[averageRatingdf['mod_book_author'].str.len() > 0]    #removing rows with empty authors"
   ]
  },
  {
   "cell_type": "code",
   "execution_count": 13,
   "metadata": {},
   "outputs": [
    {
     "data": {
      "text/plain": [
       "(1488, 5)"
      ]
     },
     "execution_count": 13,
     "metadata": {},
     "output_type": "execute_result"
    }
   ],
   "source": [
    "ratings = averageRatingdf[averageRatingdf['rating_count'] >= 15]    #filtering out books with less than 15 ratings\n",
    "ratings.shape"
   ]
  },
  {
   "cell_type": "markdown",
   "metadata": {},
   "source": [
    "### Creating search engine ###"
   ]
  },
  {
   "cell_type": "code",
   "execution_count": 14,
   "metadata": {},
   "outputs": [],
   "source": [
    "# turning authors into TD-IDF matrix => Term Frequency-Inverse Document Frequency\n",
    "from sklearn.feature_extraction.text import TfidfVectorizer\n",
    "\n",
    "# vectorizer takes a list of strings as input and turns it into a fd-idf matrix\n",
    "vectorizer = TfidfVectorizer()\n",
    "\n",
    "tdidf = vectorizer.fit_transform(ratings['mod_book_author'])"
   ]
  },
  {
   "cell_type": "code",
   "execution_count": 19,
   "metadata": {},
   "outputs": [],
   "source": [
    "# to do comparison between authors, we need to calculate the cosine similarity between the authors\n",
    "\n",
    "from sklearn.metrics.pairwise import cosine_similarity\n",
    "import numpy as np\n",
    "import re\n",
    "\n",
    "\n",
    "# query function:\n",
    "\n",
    "def search(query, vectorizer):\n",
    "# setting up a search query\n",
    "\n",
    "    #query = 'The Hobbit'\n",
    "# preparing the string in the same way as the mod authors above\n",
    "    processed = re.sub('[^a-zA-Z0-9]', ' ', query.lower())\n",
    "\n",
    "# we need to turn the query into a vector using the vectorizer\n",
    "\n",
    "    query_vector = vectorizer.transform([processed])\n",
    "\n",
    "# to find the similarities we calculate the cosine similarity between the query vector and the tdidf matrix\n",
    "    similarity = cosine_similarity(query_vector, tdidf).flatten() # flatten is used to turn the matrix into a 1D array\n",
    "\n",
    "# to find the indices of the 10 largest similarities\n",
    "\n",
    "    indices = np.argpartition(similarity, -10)[-10:]\n",
    "\n",
    "# use indices to index the titles\n",
    "\n",
    "    results = ratings.iloc[indices]   \n",
    "\n",
    "#  we only want authors with books with the highest number of ratings\n",
    "\n",
    "    # results = results.sort_values(by='rating_count', ascending=False)\n",
    "\n",
    "    return results.head(10)\n"
   ]
  },
  {
   "cell_type": "code",
   "execution_count": 24,
   "metadata": {},
   "outputs": [
    {
     "data": {
      "text/html": [
       "<div>\n",
       "<style scoped>\n",
       "    .dataframe tbody tr th:only-of-type {\n",
       "        vertical-align: middle;\n",
       "    }\n",
       "\n",
       "    .dataframe tbody tr th {\n",
       "        vertical-align: top;\n",
       "    }\n",
       "\n",
       "    .dataframe thead th {\n",
       "        text-align: right;\n",
       "    }\n",
       "</style>\n",
       "<table border=\"1\" class=\"dataframe\">\n",
       "  <thead>\n",
       "    <tr style=\"text-align: right;\">\n",
       "      <th></th>\n",
       "      <th>mod_book_title</th>\n",
       "      <th>mod_book_author</th>\n",
       "      <th>isbn</th>\n",
       "      <th>rating_count</th>\n",
       "      <th>average_rating</th>\n",
       "    </tr>\n",
       "  </thead>\n",
       "  <tbody>\n",
       "    <tr>\n",
       "      <th>19142</th>\n",
       "      <td>free</td>\n",
       "      <td>paul vincent</td>\n",
       "      <td>1844262553</td>\n",
       "      <td>54</td>\n",
       "      <td>8.0</td>\n",
       "    </tr>\n",
       "    <tr>\n",
       "      <th>19076</th>\n",
       "      <td>frankenstein doesnt plant petunias adventures ...</td>\n",
       "      <td>debbie dadey</td>\n",
       "      <td>059047071X</td>\n",
       "      <td>15</td>\n",
       "      <td>0.9</td>\n",
       "    </tr>\n",
       "    <tr>\n",
       "      <th>19014</th>\n",
       "      <td>fowl prey bedandbreakfast mysteries paperback</td>\n",
       "      <td>mary daheim</td>\n",
       "      <td>038076296X</td>\n",
       "      <td>20</td>\n",
       "      <td>2.0</td>\n",
       "    </tr>\n",
       "    <tr>\n",
       "      <th>19016</th>\n",
       "      <td>fox river</td>\n",
       "      <td>emilie richards</td>\n",
       "      <td>1551668068</td>\n",
       "      <td>33</td>\n",
       "      <td>2.2</td>\n",
       "    </tr>\n",
       "    <tr>\n",
       "      <th>19002</th>\n",
       "      <td>four seasons</td>\n",
       "      <td>mary alice monroe</td>\n",
       "      <td>1551667894</td>\n",
       "      <td>39</td>\n",
       "      <td>2.4</td>\n",
       "    </tr>\n",
       "    <tr>\n",
       "      <th>19085</th>\n",
       "      <td>frankenstein wordsworth classics</td>\n",
       "      <td>mary wollstonecraft shelley</td>\n",
       "      <td>1853260231</td>\n",
       "      <td>30</td>\n",
       "      <td>4.3</td>\n",
       "    </tr>\n",
       "    <tr>\n",
       "      <th>19251</th>\n",
       "      <td>friedhof der kuscheltiere roman</td>\n",
       "      <td>stephen king</td>\n",
       "      <td>3453007867</td>\n",
       "      <td>34</td>\n",
       "      <td>4.3</td>\n",
       "    </tr>\n",
       "    <tr>\n",
       "      <th>19204</th>\n",
       "      <td>french for cats all the french your cat will e...</td>\n",
       "      <td>henri de la barbe</td>\n",
       "      <td>067940676X</td>\n",
       "      <td>15</td>\n",
       "      <td>4.7</td>\n",
       "    </tr>\n",
       "    <tr>\n",
       "      <th>19243</th>\n",
       "      <td>friday</td>\n",
       "      <td>robert heinlein</td>\n",
       "      <td>034530988X</td>\n",
       "      <td>51</td>\n",
       "      <td>3.6</td>\n",
       "    </tr>\n",
       "    <tr>\n",
       "      <th>59934</th>\n",
       "      <td>zwlf</td>\n",
       "      <td>nick mcdonell</td>\n",
       "      <td>3462032283</td>\n",
       "      <td>27</td>\n",
       "      <td>2.9</td>\n",
       "    </tr>\n",
       "  </tbody>\n",
       "</table>\n",
       "</div>"
      ],
      "text/plain": [
       "                                          mod_book_title  \\\n",
       "19142                                               free   \n",
       "19076  frankenstein doesnt plant petunias adventures ...   \n",
       "19014      fowl prey bedandbreakfast mysteries paperback   \n",
       "19016                                          fox river   \n",
       "19002                                       four seasons   \n",
       "19085                   frankenstein wordsworth classics   \n",
       "19251                    friedhof der kuscheltiere roman   \n",
       "19204  french for cats all the french your cat will e...   \n",
       "19243                                             friday   \n",
       "59934                                               zwlf   \n",
       "\n",
       "                   mod_book_author        isbn  rating_count  average_rating  \n",
       "19142                 paul vincent  1844262553            54             8.0  \n",
       "19076                 debbie dadey  059047071X            15             0.9  \n",
       "19014                  mary daheim  038076296X            20             2.0  \n",
       "19016              emilie richards  1551668068            33             2.2  \n",
       "19002            mary alice monroe  1551667894            39             2.4  \n",
       "19085  mary wollstonecraft shelley  1853260231            30             4.3  \n",
       "19251                 stephen king  3453007867            34             4.3  \n",
       "19204            henri de la barbe  067940676X            15             4.7  \n",
       "19243              robert heinlein  034530988X            51             3.6  \n",
       "59934                nick mcdonell  3462032283            27             2.9  "
      ]
     },
     "execution_count": 24,
     "metadata": {},
     "output_type": "execute_result"
    }
   ],
   "source": [
    "search('gottlieb', vectorizer)"
   ]
  }
 ],
 "metadata": {
  "kernelspec": {
   "display_name": ".venv",
   "language": "python",
   "name": "python3"
  },
  "language_info": {
   "codemirror_mode": {
    "name": "ipython",
    "version": 3
   },
   "file_extension": ".py",
   "mimetype": "text/x-python",
   "name": "python",
   "nbconvert_exporter": "python",
   "pygments_lexer": "ipython3",
   "version": "3.11.3"
  }
 },
 "nbformat": 4,
 "nbformat_minor": 2
}
