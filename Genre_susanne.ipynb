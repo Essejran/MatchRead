{
 "cells": [
  {
   "cell_type": "markdown",
   "metadata": {},
   "source": [
    "### checking the genre column ###"
   ]
  },
  {
   "cell_type": "code",
   "execution_count": 1,
   "metadata": {},
   "outputs": [],
   "source": [
    "import pandas as pd\n",
    "import numpy as np\n",
    "import matplotlib.pyplot as plt\n",
    "import seaborn as sns"
   ]
  },
  {
   "cell_type": "code",
   "execution_count": 2,
   "metadata": {},
   "outputs": [],
   "source": [
    "all_cleaned = pd.read_csv('data/all_cleaned.csv')"
   ]
  },
  {
   "cell_type": "code",
   "execution_count": 3,
   "metadata": {},
   "outputs": [
    {
     "data": {
      "text/plain": [
       "genre\n",
       "unknown                                                                                                                                                                                                                                                                                                                                                                                                                                                                                                                         30097\n",
       "Fiction, general                                                                                                                                                                                                                                                                                                                                                                                                                                                                                                                 1340\n",
       "Error fetching data                                                                                                                                                                                                                                                                                                                                                                                                                                                                                                              1132\n",
       "Fiction, romance, general                                                                                                                                                                                                                                                                                                                                                                                                                                                                                                         844\n",
       "Boys, Cotton farmers, Migrant labor, Nineteen fifties, Farm life, Fiction, Large type books, Rural families, Arkansas, fiction, Fiction, historical, New York Times reviewed, American fiction, Bildungsromans, Fiction, historical, general, Fiction, thrillers, suspense, Muchachos, Ficción, Vida agrícola, Familias rurales, Granjeros de algodón, Domestic fiction, Cotton growing, Tenant farmers, Mexican American migrant agricultural laborers, Migrant agricultural laborers, Baseball stories, Children's secrets      840\n",
       "                                                                                                                                                                                                                                                                                                                                                                                                                                                                                                                                ...  \n",
       "Brothers, Persian Gulf War, 1991, War, Mental illness, Fiction, Juvenile fiction, Children's literature, Dreams, Children's fiction, War, fiction, Brothers and sisters, fiction, Mentally ill, fiction, Siblings, fiction                                                                                                                                                                                                                                                                                                          1\n",
       "Guidebooks, Automobile travel, Tours, Ozark mountains region, Automobile travel, guidebooks, Automobile travel -- Ozark Mountains -- Guidebooks, Automobile travel -- Ouachita Mountains (Ark. and Okla.) -- Guidebooks, Ozark Mountains -- Tours, Ouachita Mountains (Ark. and Okla.) -- Tours                                                                                                                                                                                                                                     1\n",
       "Bicycle trails, All terrain cycling, Guidebooks, Mountain biking, Bicycle touring, guidebooks, Southern states, guidebooks                                                                                                                                                                                                                                                                                                                                                                                                          1\n",
       "Automobile travel, Guidebooks, Tours, Montana, description and travel, Automobile travel, guidebooks                                                                                                                                                                                                                                                                                                                                                                                                                                1\n",
       "Collections, Texts, Ballads, Spanish, Songs, Spanish, Spanish poetry, Ballads, Folk songs, Spanish, Spanish ballads and songs, Spanish Ballads, Spanish Songs, Spanish Folk songs                                                                                                                                                                                                                                                                                                                                                   1\n",
       "Name: count, Length: 34926, dtype: int64"
      ]
     },
     "execution_count": 3,
     "metadata": {},
     "output_type": "execute_result"
    }
   ],
   "source": [
    "all_cleaned.genre.value_counts()"
   ]
  },
  {
   "cell_type": "code",
   "execution_count": 4,
   "metadata": {},
   "outputs": [
    {
     "name": "stdout",
     "output_type": "stream",
     "text": [
      "                                                    genre categorized_genre\n",
      "0                                                 unknown           Unknown\n",
      "1                                                 unknown           Unknown\n",
      "2                                                 unknown           Unknown\n",
      "3                                                 unknown           Unknown\n",
      "4                                                 unknown           Unknown\n",
      "...                                                   ...               ...\n",
      "183595  Accident victims, American fiction (fictional ...           Fiction\n",
      "183596  Open Library Staff Picks, Satire, War stories,...           Fiction\n",
      "183597                                Error fetching data           Unknown\n",
      "183598  Bicycle touring, Description and travel, Journ...        Guidebooks\n",
      "183599  Bicycle touring, Description and travel, Journ...        Guidebooks\n",
      "\n",
      "[183600 rows x 2 columns]\n"
     ]
    }
   ],
   "source": [
    "# Define the genre mapping\n",
    "genre_mapping = {\n",
    "    'fiction': 'Fiction',\n",
    "    'romance': 'Romance',\n",
    "    'historical': 'Historical Fiction',\n",
    "    'thrillers': 'Thriller',\n",
    "    'suspense': 'Suspense',\n",
    "    'juvenile fiction': 'Juvenile Fiction',\n",
    "    'children\\'s literature': 'Children\\'s Literature',\n",
    "    'guidebooks': 'Guidebooks',\n",
    "    'poetry': 'Poetry',\n",
    "    'songs': 'Music',\n",
    "    'ballads': 'Music',\n",
    "    'unknown': 'Unknown',\n",
    "    'error fetching data': 'Unknown'\n",
    "}\n",
    "\n",
    "# Function to categorize genres\n",
    "def categorize_genre(genre):\n",
    "    genre_lower = genre.lower()\n",
    "    for keyword, category in genre_mapping.items():\n",
    "        if keyword in genre_lower:\n",
    "            return category\n",
    "    return 'Other'\n",
    "\n",
    "# Apply the function to the genre column\n",
    "all_cleaned['categorized_genre'] = all_cleaned['genre'].apply(categorize_genre)\n",
    "\n",
    "print(all_cleaned[['genre', 'categorized_genre']])"
   ]
  },
  {
   "cell_type": "code",
   "execution_count": 5,
   "metadata": {},
   "outputs": [
    {
     "data": {
      "text/plain": [
       "categorized_genre\n",
       "Fiction                  108689\n",
       "Other                     41134\n",
       "Unknown                   31410\n",
       "Poetry                      994\n",
       "Guidebooks                  826\n",
       "Romance                     357\n",
       "Music                        72\n",
       "Historical Fiction           63\n",
       "Children's Literature        51\n",
       "Suspense                      4\n",
       "Name: count, dtype: int64"
      ]
     },
     "execution_count": 5,
     "metadata": {},
     "output_type": "execute_result"
    }
   ],
   "source": [
    "all_cleaned['categorized_genre'].value_counts()"
   ]
  },
  {
   "cell_type": "code",
   "execution_count": 6,
   "metadata": {},
   "outputs": [
    {
     "name": "stdout",
     "output_type": "stream",
     "text": [
      "<class 'pandas.core.frame.DataFrame'>\n",
      "RangeIndex: 183600 entries, 0 to 183599\n",
      "Data columns (total 19 columns):\n",
      " #   Column               Non-Null Count   Dtype  \n",
      "---  ------               --------------   -----  \n",
      " 0   isbn                 183600 non-null  object \n",
      " 1   book_title           183600 non-null  object \n",
      " 2   book_author          183600 non-null  object \n",
      " 3   year_of_publication  183600 non-null  object \n",
      " 4   publisher            183600 non-null  object \n",
      " 5   genre                183600 non-null  object \n",
      " 6   user_id              183600 non-null  float64\n",
      " 7   book_rating          183600 non-null  float64\n",
      " 8   location             183600 non-null  object \n",
      " 9   age                  183600 non-null  object \n",
      " 10  age_numeric          137577 non-null  float64\n",
      " 11  age_bins             183600 non-null  object \n",
      " 12  mod_book_author      183600 non-null  object \n",
      " 13  mod_book_title       183600 non-null  object \n",
      " 14  mod_publisher        183600 non-null  object \n",
      " 15  country              176767 non-null  object \n",
      " 16  name_surname         183600 non-null  object \n",
      " 17  surname              183563 non-null  object \n",
      " 18  categorized_genre    183600 non-null  object \n",
      "dtypes: float64(3), object(16)\n",
      "memory usage: 26.6+ MB\n"
     ]
    }
   ],
   "source": [
    "all_cleaned.info()"
   ]
  },
  {
   "cell_type": "code",
   "execution_count": 7,
   "metadata": {},
   "outputs": [],
   "source": [
    "# save dataframe to csv\n",
    "\n",
    "clean_names_genre = all_cleaned \n",
    "clean_names_genre.to_csv('data/clean_names_genre.csv', index=False) "
   ]
  }
 ],
 "metadata": {
  "kernelspec": {
   "display_name": ".venv",
   "language": "python",
   "name": "python3"
  },
  "language_info": {
   "codemirror_mode": {
    "name": "ipython",
    "version": 3
   },
   "file_extension": ".py",
   "mimetype": "text/x-python",
   "name": "python",
   "nbconvert_exporter": "python",
   "pygments_lexer": "ipython3",
   "version": "3.11.3"
  }
 },
 "nbformat": 4,
 "nbformat_minor": 2
}
