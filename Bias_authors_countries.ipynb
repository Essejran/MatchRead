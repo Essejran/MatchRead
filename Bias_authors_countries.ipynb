{
 "cells": [
  {
   "cell_type": "markdown",
   "metadata": {},
   "source": [
    "## Checking Bias in the data ##"
   ]
  },
  {
   "cell_type": "markdown",
   "metadata": {},
   "source": [
    "### Results: ###\n",
    "### Western / US authors have the highest share among authors in the dataset. ###\n",
    "### Most readers report that they are located in Western countries / USA ###"
   ]
  },
  {
   "cell_type": "code",
   "execution_count": 1,
   "metadata": {},
   "outputs": [],
   "source": [
    "import pandas as pd\n",
    "import numpy as np\n",
    "import matplotlib.pyplot as plt\n",
    "import seaborn as sns"
   ]
  },
  {
   "cell_type": "code",
   "execution_count": null,
   "metadata": {},
   "outputs": [],
   "source": [
    "%run import_data"
   ]
  },
  {
   "cell_type": "code",
   "execution_count": null,
   "metadata": {},
   "outputs": [],
   "source": [
    "all_cleaned = pd.read_csv('data/all_cleaned.csv')\n",
    "all_cleaned.head()"
   ]
  },
  {
   "cell_type": "markdown",
   "metadata": {},
   "source": [
    "#### The countries are in different languages and a couple of unclean data are still in the list; nevertheless, most readers are located in Western countries ####"
   ]
  },
  {
   "cell_type": "code",
   "execution_count": null,
   "metadata": {},
   "outputs": [],
   "source": [
    "print(all_cleaned['country'].value_counts().to_string())"
   ]
  },
  {
   "cell_type": "code",
   "execution_count": null,
   "metadata": {},
   "outputs": [],
   "source": [
    "print(all_cleaned['mod_book_author'].value_counts().to_string())"
   ]
  },
  {
   "cell_type": "markdown",
   "metadata": {},
   "source": [
    "#### the most prevalent book authors are US authors and the most prevalent country is the US  ####"
   ]
  },
  {
   "cell_type": "code",
   "execution_count": null,
   "metadata": {},
   "outputs": [],
   "source": [
    "top_authors = all_cleaned['mod_book_author'].value_counts().head(10).plot(kind='bar')"
   ]
  },
  {
   "cell_type": "code",
   "execution_count": null,
   "metadata": {},
   "outputs": [],
   "source": [
    "all_cleaned[all_cleaned['mod_book_author'] == 'zev ben shimon halevi']"
   ]
  },
  {
   "cell_type": "code",
   "execution_count": null,
   "metadata": {},
   "outputs": [],
   "source": [
    "# cleaning data: extracting surname, name from author and removing additional abbreviations \n",
    "!pip install nameparser\n"
   ]
  },
  {
   "cell_type": "code",
   "execution_count": 9,
   "metadata": {},
   "outputs": [],
   "source": [
    "from nameparser import HumanName\n",
    "\n",
    "# Function to extract surname and given name\n",
    "def extract_name_surname(full_name):\n",
    "    name = HumanName(full_name)\n",
    "    return f\"{name.first} {name.last}\""
   ]
  },
  {
   "cell_type": "code",
   "execution_count": null,
   "metadata": {},
   "outputs": [],
   "source": [
    "# Apply the function to create the new column\n",
    "all_cleaned['name_surname'] = all_cleaned['mod_book_author'].apply(extract_name_surname)\n",
    "all_cleaned.head()"
   ]
  },
  {
   "cell_type": "code",
   "execution_count": null,
   "metadata": {},
   "outputs": [],
   "source": [
    "print(all_cleaned['name_surname'].value_counts().to_string())"
   ]
  },
  {
   "cell_type": "code",
   "execution_count": null,
   "metadata": {},
   "outputs": [],
   "source": [
    "print(all_cleaned['mod_book_author'].value_counts().to_string())"
   ]
  },
  {
   "cell_type": "code",
   "execution_count": null,
   "metadata": {},
   "outputs": [],
   "source": [
    "all_cleaned[all_cleaned['mod_book_author'] == 'dean r koontz']  "
   ]
  },
  {
   "cell_type": "code",
   "execution_count": null,
   "metadata": {},
   "outputs": [],
   "source": [
    "all_cleaned[all_cleaned['mod_book_author'] == 'dean koontz']  "
   ]
  },
  {
   "cell_type": "code",
   "execution_count": null,
   "metadata": {},
   "outputs": [],
   "source": [
    "all_cleaned[all_cleaned['mod_book_author'] == 'dr koontz']  "
   ]
  },
  {
   "cell_type": "code",
   "execution_count": null,
   "metadata": {},
   "outputs": [],
   "source": [
    "# checking koontz name variations\n",
    "pattern = r'\\bkoontz\\b'\n",
    "\n",
    "# Filter the DataFrame\n",
    "koontz_authors = all_cleaned[all_cleaned['mod_book_author'].str.contains(pattern, case=False, regex=True)]\n",
    "\n",
    "print(koontz_authors)"
   ]
  },
  {
   "cell_type": "code",
   "execution_count": null,
   "metadata": {},
   "outputs": [],
   "source": [
    "# checking rowling name variations\n",
    "pattern = r'\\browling\\b'\n",
    "\n",
    "# Filter the DataFrame\n",
    "rowling_authors = all_cleaned[all_cleaned['mod_book_author'].str.contains(pattern, case=False, regex=True)]\n",
    "\n",
    "print(rowling_authors)"
   ]
  },
  {
   "cell_type": "code",
   "execution_count": null,
   "metadata": {},
   "outputs": [],
   "source": [
    "all_cleaned['name_surname'].nunique()"
   ]
  },
  {
   "cell_type": "code",
   "execution_count": null,
   "metadata": {},
   "outputs": [],
   "source": [
    "top_authors = all_cleaned['name_surname'].value_counts().head(10).plot(kind='bar')"
   ]
  },
  {
   "cell_type": "code",
   "execution_count": null,
   "metadata": {},
   "outputs": [],
   "source": [
    "# checking duplicates of author names\n",
    "\n",
    "all_cleaned['surname'] = all_cleaned['name_surname'].apply(lambda x: x.split()[-1] if x.strip() else '')\n",
    "#all_cleaned\n",
    "\n",
    "\n",
    "# Group by surname and count unique names\n",
    "surname_counts = all_cleaned.groupby('surname')['name_surname'].value_counts().sort_values(ascending=False)\n",
    "print(surname_counts)"
   ]
  },
  {
   "cell_type": "code",
   "execution_count": 21,
   "metadata": {},
   "outputs": [],
   "source": [
    "# save data to csv\n",
    "all_cleaned.to_csv('data/all_cleaned.csv', index=False) "
   ]
  }
 ],
 "metadata": {
  "kernelspec": {
   "display_name": ".venv",
   "language": "python",
   "name": "python3"
  },
  "language_info": {
   "codemirror_mode": {
    "name": "ipython",
    "version": 3
   },
   "file_extension": ".py",
   "mimetype": "text/x-python",
   "name": "python",
   "nbconvert_exporter": "python",
   "pygments_lexer": "ipython3",
   "version": "3.11.3"
  }
 },
 "nbformat": 4,
 "nbformat_minor": 2
}
