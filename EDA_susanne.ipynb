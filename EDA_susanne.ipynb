{
 "cells": [
  {
   "cell_type": "code",
   "execution_count": null,
   "metadata": {},
   "outputs": [],
   "source": [
    "import numpy as np\n",
    "import pandas as pd\n",
    "import matplotlib.pyplot as plt\n",
    "import seaborn as sns\n",
    "import pickle\n",
    "import sklearn"
   ]
  },
  {
   "cell_type": "code",
   "execution_count": null,
   "metadata": {},
   "outputs": [],
   "source": [
    "books_big = pd.read_csv('data/books2.csv', sep=',', header=0, low_memory=False)\n",
    "ratings = pd.read_csv('data/ratings.csv', sep=',', header=0)\n",
    "users = pd.read_csv('data/users.csv', sep=',', header=0)"
   ]
  },
  {
   "cell_type": "code",
   "execution_count": null,
   "metadata": {},
   "outputs": [],
   "source": [
    "books_big.head()"
   ]
  },
  {
   "cell_type": "code",
   "execution_count": null,
   "metadata": {},
   "outputs": [],
   "source": [
    "books_big.columns = books_big.columns.str.lower().str.replace('-', '_')\n",
    "books_big.head()"
   ]
  },
  {
   "cell_type": "code",
   "execution_count": null,
   "metadata": {},
   "outputs": [],
   "source": [
    "users.columns = users.columns.str.lower().str.replace('-', '_')\n",
    "users.head()"
   ]
  },
  {
   "cell_type": "code",
   "execution_count": null,
   "metadata": {},
   "outputs": [],
   "source": [
    "ratings.columns = ratings.columns.str.lower().str.replace('-', '_')\n",
    "ratings.head()"
   ]
  },
  {
   "cell_type": "code",
   "execution_count": null,
   "metadata": {},
   "outputs": [],
   "source": [
    "ratings['book_rating'].value_counts()"
   ]
  },
  {
   "cell_type": "code",
   "execution_count": null,
   "metadata": {},
   "outputs": [],
   "source": [
    "print(books_big.shape)\n",
    "print(users.shape)\n",
    "print(ratings.shape)"
   ]
  },
  {
   "cell_type": "code",
   "execution_count": null,
   "metadata": {},
   "outputs": [],
   "source": [
    "books_big.isnull().sum()"
   ]
  },
  {
   "cell_type": "code",
   "execution_count": null,
   "metadata": {},
   "outputs": [],
   "source": [
    "books_big.duplicated().sum()"
   ]
  },
  {
   "cell_type": "code",
   "execution_count": null,
   "metadata": {},
   "outputs": [],
   "source": [
    "users.isnull().sum()"
   ]
  },
  {
   "cell_type": "code",
   "execution_count": null,
   "metadata": {},
   "outputs": [],
   "source": [
    "# Excluding missings in age?\n",
    "# Calculate the total number of rows\n",
    "total_rows = len(users)\n",
    "\n",
    "# Calculate the number of rows with missing values in the 'age' column\n",
    "missing_age_rows = users['age'].isna().sum()\n",
    "\n",
    "# Calculate the percentage of rows with missing values in the 'age' column\n",
    "percentage_missing = (missing_age_rows / total_rows) * 100\n",
    "\n",
    "print(f\"Percentage of data that would be excluded: {percentage_missing:.2f}%\")\n",
    "\n",
    "# too many missing values, so we will not exclude them"
   ]
  },
  {
   "cell_type": "code",
   "execution_count": null,
   "metadata": {},
   "outputs": [],
   "source": [
    "users.drop('age', axis=1, inplace=True)\n",
    "users.head()"
   ]
  },
  {
   "cell_type": "code",
   "execution_count": null,
   "metadata": {},
   "outputs": [],
   "source": [
    "users.shape"
   ]
  },
  {
   "cell_type": "code",
   "execution_count": null,
   "metadata": {},
   "outputs": [],
   "source": [
    "users.duplicated().sum()"
   ]
  },
  {
   "cell_type": "code",
   "execution_count": null,
   "metadata": {},
   "outputs": [],
   "source": [
    "ratings.isnull().sum()"
   ]
  },
  {
   "cell_type": "code",
   "execution_count": null,
   "metadata": {},
   "outputs": [],
   "source": [
    "ratings.duplicated().sum()"
   ]
  },
  {
   "cell_type": "markdown",
   "metadata": {},
   "source": [
    "#### For these two boks no authors can be found https://www.amazon.co.uk/Quiz-Masters-Earth-None/dp/0751352497, https://www.amazon.co.uk/Credit-Suisse-Managing-Personal-Wealth/dp/9627982032/ref=sr_1_1?crid=1ZD3GAL212RZG&dib=eyJ2IjoiMSJ9.UgZXUfNuNIEGkJXoAHTOAw.rcIwc5TfpSJLdjSRThEQIELLHu0EXsupGqO51xk30Hg&dib_tag=se&keywords=9627982032&qid=1724760906&s=books&sprefix=9627982032%2Cstripbooks%2C92&sr=1-1"
   ]
  },
  {
   "cell_type": "code",
   "execution_count": null,
   "metadata": {},
   "outputs": [],
   "source": [
    "print(books_big[books_big['book_author'].isnull()])"
   ]
  },
  {
   "cell_type": "markdown",
   "metadata": {},
   "source": [
    "#### Replacing missing publishers: Tyrant Moon: publisher is NovelBooks, Finders Keepers: publisher is NovelBooks"
   ]
  },
  {
   "cell_type": "code",
   "execution_count": null,
   "metadata": {},
   "outputs": [],
   "source": [
    "print(books_big[books_big['publisher'].isnull()])"
   ]
  },
  {
   "cell_type": "code",
   "execution_count": null,
   "metadata": {},
   "outputs": [],
   "source": [
    "# Define the specific ISBN numbers and the replacement publisher name\n",
    "isbn_to_replace = ['193169656X', '1931696993']  # Replace with actual ISBN numbers\n",
    "replacement_publisher = 'NovelBooks'\n",
    "\n",
    "# Replace the publisher name\n",
    "books_big.loc[books_big['isbn'].isin(isbn_to_replace), 'publisher'] = replacement_publisher\n",
    "\n",
    "print(books_big[books_big['isbn'].isin(isbn_to_replace)])"
   ]
  },
  {
   "cell_type": "code",
   "execution_count": null,
   "metadata": {},
   "outputs": [],
   "source": [
    "# Count the occurrences of each author and sort them in descending order\n",
    "author_counts = books_big['book_author'].value_counts().head(50)\n",
    "\n",
    "# Plot the top 25 authors with the highest number of books\n",
    "author_counts.plot(kind='barh', figsize=(12, 10))\n",
    "plt.xlabel('Number of Books')\n",
    "plt.ylabel('Book Author')\n",
    "plt.title('Top 50 Authors with the Highest Number of Books')\n",
    "plt.show()"
   ]
  },
  {
   "cell_type": "code",
   "execution_count": null,
   "metadata": {},
   "outputs": [],
   "source": [
    "# Count the occurrences of each publisher and sort them in descending order\n",
    "publication_counts = books_big['publisher'].value_counts().head(50)\n",
    "\n",
    "# Plot the top 25 authors with the highest number of books\n",
    "publication_counts.plot(kind='barh', figsize=(12, 10))\n",
    "plt.xlabel('Number of Books')\n",
    "plt.ylabel('Publisher')\n",
    "plt.title('Top 50 Publishers with the Highest Number of Books')\n",
    "plt.show()"
   ]
  },
  {
   "cell_type": "code",
   "execution_count": null,
   "metadata": {},
   "outputs": [],
   "source": [
    "# Publications per year\n",
    "\n",
    "books_big[books_big['year_of_publication']=='0'].describe()"
   ]
  },
  {
   "cell_type": "code",
   "execution_count": null,
   "metadata": {},
   "outputs": [],
   "source": [
    "books_big['year_of_publication'].unique()"
   ]
  },
  {
   "cell_type": "code",
   "execution_count": null,
   "metadata": {},
   "outputs": [],
   "source": [
    "years_to_ckeck = ['0','DK Publishing Inc', 'Gallimard', '1378', '1919', '1922', '1897', '2024', '1376', '2037']   "
   ]
  },
  {
   "cell_type": "code",
   "execution_count": null,
   "metadata": {},
   "outputs": [],
   "source": [
    "books_big.loc[books_big['year_of_publication'].isin(years_to_ckeck)]"
   ]
  },
  {
   "cell_type": "code",
   "execution_count": null,
   "metadata": {},
   "outputs": [],
   "source": [
    "#plotting books per year\n",
    "books_big['year_of_publication'].value_counts().plot(kind='bar', figsize=(12, 16))"
   ]
  },
  {
   "cell_type": "code",
   "execution_count": null,
   "metadata": {},
   "outputs": [],
   "source": [
    "# what should we do with all the '0' years?"
   ]
  },
  {
   "cell_type": "code",
   "execution_count": null,
   "metadata": {},
   "outputs": [],
   "source": [
    "#Average book ratings\n",
    "\n",
    "# Merge ratings and books_big on 'isbn'\n",
    "bookRating = pd.merge(ratings, books_big, on=\"isbn\")\n",
    "\n",
    "# Drop unnecessary columns\n",
    "bookRating.drop(columns=['image_url_s', 'image_url_m', 'image_url_l'], inplace=True)\n",
    "\n",
    "# Calculate the average rating for each book\n",
    "averageRating = bookRating.groupby('isbn')['book_rating'].mean().round(1).reset_index()\n",
    "averageRating.rename(columns={'book_rating': 'average_rating'}, inplace=True)\n",
    "\n",
    "# Merge the average ratings back with the original dataset\n",
    "averageRatingdf = pd.merge(bookRating, averageRating, on='isbn')\n",
    "\n",
    "# Remove duplicate entries\n",
    "averageRatingUnique = averageRatingdf[['isbn', 'average_rating']].drop_duplicates(subset=['isbn'])\n",
    "\n",
    "# Merge the cleaned dataset with the original books dataset\n",
    "ratingBooks = pd.merge(books_big, averageRatingUnique, on='isbn', how='inner')\n",
    "\n",
    "# Optional: If you need another DataFrame with books and their average ratings\n",
    "books_with_rating = pd.merge(books_big, averageRatingUnique, on='isbn')"
   ]
  },
  {
   "cell_type": "code",
   "execution_count": null,
   "metadata": {},
   "outputs": [],
   "source": [
    "books_with_rating.head()"
   ]
  },
  {
   "cell_type": "code",
   "execution_count": null,
   "metadata": {},
   "outputs": [],
   "source": [
    "books_with_rating[books_with_rating['average_rating']==10.0].describe()"
   ]
  },
  {
   "cell_type": "code",
   "execution_count": null,
   "metadata": {},
   "outputs": [],
   "source": [
    "#plot number of books with their average ratings\n",
    "\n",
    "books_with_rating['average_rating'].value_counts().plot(kind='bar', figsize=(12, 16))"
   ]
  },
  {
   "cell_type": "code",
   "execution_count": null,
   "metadata": {},
   "outputs": [],
   "source": [
    "import matplotlib.pyplot as plt\n",
    "\n",
    "# Get the value counts and sort them by index (rating)\n",
    "rating_counts = books_with_rating['average_rating'].value_counts().sort_index()\n",
    "\n",
    "# Plot the sorted value counts with broader bars and additional customizations\n",
    "rating_counts.plot(\n",
    "    kind='bar', \n",
    "    figsize=(16, 8),  # Adjust the figure size for better spacing\n",
    "    width=0.99,  # Adjust the width of the bars for better spacing\n",
    "    color='skyblue'  # Customize the color of the bars\n",
    ")\n",
    "\n",
    "# Add title and labels\n",
    "plt.title('Distribution of Average Book Ratings')\n",
    "plt.xlabel('Average Rating')\n",
    "plt.ylabel('Frequency')\n",
    "\n",
    "# Set the x-axis labels to be the sorted ratings\n",
    "plt.xticks(rotation=90)  # Rotate x-axis labels for better readability\n",
    "\n",
    "# Show the plot\n",
    "plt.show()"
   ]
  },
  {
   "cell_type": "code",
   "execution_count": null,
   "metadata": {},
   "outputs": [],
   "source": [
    "# plot book titles with highest ratings\n",
    "books_with_rating.sort_values('average_rating', ascending=False).head(50).plot(kind='barh', x='book_title', y='average_rating', figsize=(12, 10))"
   ]
  },
  {
   "cell_type": "code",
   "execution_count": null,
   "metadata": {},
   "outputs": [],
   "source": [
    "small = pd.read_csv('data/books.csv', sep=',', header=0, low_memory=False)  "
   ]
  },
  {
   "cell_type": "code",
   "execution_count": null,
   "metadata": {},
   "outputs": [],
   "source": [
    "small.head()"
   ]
  },
  {
   "cell_type": "code",
   "execution_count": null,
   "metadata": {},
   "outputs": [],
   "source": [
    "small.shape"
   ]
  }
 ],
 "metadata": {
  "kernelspec": {
   "display_name": ".venv",
   "language": "python",
   "name": "python3"
  },
  "language_info": {
   "codemirror_mode": {
    "name": "ipython",
    "version": 3
   },
   "file_extension": ".py",
   "mimetype": "text/x-python",
   "name": "python",
   "nbconvert_exporter": "python",
   "pygments_lexer": "ipython3",
   "version": "3.11.3"
  }
 },
 "nbformat": 4,
 "nbformat_minor": 2
}
