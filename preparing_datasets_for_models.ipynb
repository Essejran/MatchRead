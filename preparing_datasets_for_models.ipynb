{
 "cells": [
  {
   "cell_type": "markdown",
   "metadata": {},
   "source": [
    "\n",
    "### What's different here:\n",
    "* Data frames are made differently here (e.g. average rating no longer takes zero-ratings into account)\n",
    "* __averageRatingdf__ is now called __books_rated__\n",
    "* __ratings__ is now called __readers_15plus__\n",
    "* __books_ratings__ has all the ratings aggregated in the new columns, so no user_id, and is saved to books_rated.csv\n",
    "* __books_users_ratings__ has all the aggregated ratings columns as well as user_id and individual ratings, saved to books_users_ratings.csv\n",
    "* __books_rated__ is then joined again with __ratings__ (right join) to have all the info needed for collaborative filtering"
   ]
  },
  {
   "cell_type": "code",
   "execution_count": 155,
   "metadata": {
    "execution": {
     "iopub.execute_input": "2024-09-07T17:00:30.286761Z",
     "iopub.status.busy": "2024-09-07T17:00:30.286208Z",
     "iopub.status.idle": "2024-09-07T17:00:31.216044Z",
     "shell.execute_reply": "2024-09-07T17:00:31.215646Z"
    }
   },
   "outputs": [],
   "source": [
    "import numpy as np\n",
    "import pandas as pd\n",
    "import matplotlib.pyplot as plt\n",
    "import seaborn as sns\n",
    "import pickle\n",
    "import sklearn\n",
    "# import pickleshare as ps"
   ]
  },
  {
   "cell_type": "code",
   "execution_count": 156,
   "metadata": {
    "execution": {
     "iopub.execute_input": "2024-09-07T17:00:31.217705Z",
     "iopub.status.busy": "2024-09-07T17:00:31.217576Z",
     "iopub.status.idle": "2024-09-07T17:00:33.056380Z",
     "shell.execute_reply": "2024-09-07T17:00:33.056102Z"
    }
   },
   "outputs": [
    {
     "name": "stdout",
     "output_type": "stream",
     "text": [
      "Continuing with existing version of data folder\n",
      "Goodreads dataset loaded successfully as books_goodreads\n",
      "Pandas dataframes (books_goodreads, books_big, book, users, ratings) loaded successfully\n",
      "Columns in DataFrames 'users' and 'ratings' renamed\n",
      "You can use the DataFrames 'books' or 'books_big' - they are exactly the same (big) dataset\n",
      "Ready to go!\n"
     ]
    }
   ],
   "source": [
    "# %run import_data"
   ]
  },
  {
   "cell_type": "code",
   "execution_count": 158,
   "metadata": {
    "execution": {
     "iopub.execute_input": "2024-09-07T17:00:33.060755Z",
     "iopub.status.busy": "2024-09-07T17:00:33.060672Z",
     "iopub.status.idle": "2024-09-07T17:00:33.067268Z",
     "shell.execute_reply": "2024-09-07T17:00:33.067031Z"
    }
   },
   "outputs": [
    {
     "data": {
      "text/html": [
       "<div>\n",
       "<style scoped>\n",
       "    .dataframe tbody tr th:only-of-type {\n",
       "        vertical-align: middle;\n",
       "    }\n",
       "\n",
       "    .dataframe tbody tr th {\n",
       "        vertical-align: top;\n",
       "    }\n",
       "\n",
       "    .dataframe thead th {\n",
       "        text-align: right;\n",
       "    }\n",
       "</style>\n",
       "<table border=\"1\" class=\"dataframe\">\n",
       "  <thead>\n",
       "    <tr style=\"text-align: right;\">\n",
       "      <th></th>\n",
       "      <th>isbn</th>\n",
       "      <th>book_title</th>\n",
       "      <th>book_author</th>\n",
       "      <th>year_of_publication</th>\n",
       "      <th>publisher</th>\n",
       "      <th>image_url_s</th>\n",
       "      <th>image_url_m</th>\n",
       "      <th>image_url_l</th>\n",
       "      <th>genre</th>\n",
       "    </tr>\n",
       "  </thead>\n",
       "  <tbody>\n",
       "    <tr>\n",
       "      <th>0</th>\n",
       "      <td>590085417</td>\n",
       "      <td>Heidi</td>\n",
       "      <td>Johanna Spyri</td>\n",
       "      <td>2021</td>\n",
       "      <td>Scholastic</td>\n",
       "      <td>http://images.amazon.com/images/P/0590085417.0...</td>\n",
       "      <td>http://images.amazon.com/images/P/0590085417.0...</td>\n",
       "      <td>http://images.amazon.com/images/P/0590085417.0...</td>\n",
       "      <td>Johanna Spyri, Shirley Temple, Movie tie-in, C...</td>\n",
       "    </tr>\n",
       "    <tr>\n",
       "      <th>1</th>\n",
       "      <td>068160204X</td>\n",
       "      <td>The Royals</td>\n",
       "      <td>Kitty Kelley</td>\n",
       "      <td>2020</td>\n",
       "      <td>Bausch &amp; Lombard</td>\n",
       "      <td>http://images.amazon.com/images/P/068160204X.0...</td>\n",
       "      <td>http://images.amazon.com/images/P/068160204X.0...</td>\n",
       "      <td>http://images.amazon.com/images/P/068160204X.0...</td>\n",
       "      <td>NaN</td>\n",
       "    </tr>\n",
       "    <tr>\n",
       "      <th>2</th>\n",
       "      <td>068107468X</td>\n",
       "      <td>Edgar Allen Poe Collected Poems</td>\n",
       "      <td>Edgar Allan Poe</td>\n",
       "      <td>2020</td>\n",
       "      <td>Bausch &amp; Lombard</td>\n",
       "      <td>http://images.amazon.com/images/P/068107468X.0...</td>\n",
       "      <td>http://images.amazon.com/images/P/068107468X.0...</td>\n",
       "      <td>http://images.amazon.com/images/P/068107468X.0...</td>\n",
       "      <td>American Fantasy poetry</td>\n",
       "    </tr>\n",
       "    <tr>\n",
       "      <th>3</th>\n",
       "      <td>307124533</td>\n",
       "      <td>Owl's Amazing but True No. 2</td>\n",
       "      <td>Owl Magazine</td>\n",
       "      <td>2012</td>\n",
       "      <td>Golden Books</td>\n",
       "      <td>http://images.amazon.com/images/P/0307124533.0...</td>\n",
       "      <td>http://images.amazon.com/images/P/0307124533.0...</td>\n",
       "      <td>http://images.amazon.com/images/P/0307124533.0...</td>\n",
       "      <td>NaN</td>\n",
       "    </tr>\n",
       "    <tr>\n",
       "      <th>4</th>\n",
       "      <td>380816792</td>\n",
       "      <td>A Rose in Winter</td>\n",
       "      <td>Kathleen E. Woodiwiss</td>\n",
       "      <td>2011</td>\n",
       "      <td>Harper Mass Market Paperbacks</td>\n",
       "      <td>http://images.amazon.com/images/P/0380816792.0...</td>\n",
       "      <td>http://images.amazon.com/images/P/0380816792.0...</td>\n",
       "      <td>http://images.amazon.com/images/P/0380816792.0...</td>\n",
       "      <td>Fiction, Historical Fiction, Romance, Fiction,...</td>\n",
       "    </tr>\n",
       "  </tbody>\n",
       "</table>\n",
       "</div>"
      ],
      "text/plain": [
       "         isbn                       book_title            book_author  \\\n",
       "0   590085417                            Heidi          Johanna Spyri   \n",
       "1  068160204X                       The Royals           Kitty Kelley   \n",
       "2  068107468X  Edgar Allen Poe Collected Poems        Edgar Allan Poe   \n",
       "3   307124533     Owl's Amazing but True No. 2           Owl Magazine   \n",
       "4   380816792                 A Rose in Winter  Kathleen E. Woodiwiss   \n",
       "\n",
       "   year_of_publication                      publisher  \\\n",
       "0                 2021                     Scholastic   \n",
       "1                 2020               Bausch & Lombard   \n",
       "2                 2020               Bausch & Lombard   \n",
       "3                 2012                   Golden Books   \n",
       "4                 2011  Harper Mass Market Paperbacks   \n",
       "\n",
       "                                         image_url_s  \\\n",
       "0  http://images.amazon.com/images/P/0590085417.0...   \n",
       "1  http://images.amazon.com/images/P/068160204X.0...   \n",
       "2  http://images.amazon.com/images/P/068107468X.0...   \n",
       "3  http://images.amazon.com/images/P/0307124533.0...   \n",
       "4  http://images.amazon.com/images/P/0380816792.0...   \n",
       "\n",
       "                                         image_url_m  \\\n",
       "0  http://images.amazon.com/images/P/0590085417.0...   \n",
       "1  http://images.amazon.com/images/P/068160204X.0...   \n",
       "2  http://images.amazon.com/images/P/068107468X.0...   \n",
       "3  http://images.amazon.com/images/P/0307124533.0...   \n",
       "4  http://images.amazon.com/images/P/0380816792.0...   \n",
       "\n",
       "                                         image_url_l  \\\n",
       "0  http://images.amazon.com/images/P/0590085417.0...   \n",
       "1  http://images.amazon.com/images/P/068160204X.0...   \n",
       "2  http://images.amazon.com/images/P/068107468X.0...   \n",
       "3  http://images.amazon.com/images/P/0307124533.0...   \n",
       "4  http://images.amazon.com/images/P/0380816792.0...   \n",
       "\n",
       "                                               genre  \n",
       "0  Johanna Spyri, Shirley Temple, Movie tie-in, C...  \n",
       "1                                                NaN  \n",
       "2                            American Fantasy poetry  \n",
       "3                                                NaN  \n",
       "4  Fiction, Historical Fiction, Romance, Fiction,...  "
      ]
     },
     "execution_count": 158,
     "metadata": {},
     "output_type": "execute_result"
    }
   ],
   "source": [
    "books.head()"
   ]
  },
  {
   "cell_type": "markdown",
   "metadata": {},
   "source": [
    "### Cleaning 'isbn' before merging books with ratings\n",
    "(This is so that the merge successfully finds 917916 matching rows instead of only 183600)"
   ]
  },
  {
   "cell_type": "code",
   "execution_count": 115,
   "metadata": {},
   "outputs": [],
   "source": [
    "# Function to remove leading zeros from ISBNs\n",
    "def remove_leading_zeros(isbn):\n",
    "    return isbn.lstrip('0') if isbn else isbn\n",
    "\n",
    "# Apply the function to both DataFrames\n",
    "books['isbn'] = books['isbn'].astype(str).apply(remove_leading_zeros)\n",
    "ratings['isbn'] = ratings['isbn'].astype(str).apply(remove_leading_zeros)\n",
    "\n",
    "# Now perform the join\n",
    "books_users_ratings = books.merge(ratings, on='isbn', how='left')\n"
   ]
  },
  {
   "cell_type": "code",
   "execution_count": 116,
   "metadata": {},
   "outputs": [
    {
     "data": {
      "text/plain": [
       "226493"
      ]
     },
     "execution_count": 116,
     "metadata": {},
     "output_type": "execute_result"
    }
   ],
   "source": [
    "books_users_ratings.isbn.nunique()"
   ]
  },
  {
   "cell_type": "code",
   "execution_count": 117,
   "metadata": {
    "execution": {
     "iopub.execute_input": "2024-09-07T17:00:33.138394Z",
     "iopub.status.busy": "2024-09-07T17:00:33.138312Z",
     "iopub.status.idle": "2024-09-07T17:00:33.371359Z",
     "shell.execute_reply": "2024-09-07T17:00:33.371048Z"
    }
   },
   "outputs": [
    {
     "data": {
      "text/html": [
       "<div>\n",
       "<style scoped>\n",
       "    .dataframe tbody tr th:only-of-type {\n",
       "        vertical-align: middle;\n",
       "    }\n",
       "\n",
       "    .dataframe tbody tr th {\n",
       "        vertical-align: top;\n",
       "    }\n",
       "\n",
       "    .dataframe thead th {\n",
       "        text-align: right;\n",
       "    }\n",
       "</style>\n",
       "<table border=\"1\" class=\"dataframe\">\n",
       "  <thead>\n",
       "    <tr style=\"text-align: right;\">\n",
       "      <th></th>\n",
       "      <th>isbn</th>\n",
       "      <th>book_title</th>\n",
       "      <th>book_author</th>\n",
       "      <th>year_of_publication</th>\n",
       "      <th>publisher</th>\n",
       "      <th>image_url_s</th>\n",
       "      <th>image_url_m</th>\n",
       "      <th>image_url_l</th>\n",
       "      <th>genre</th>\n",
       "      <th>user_id</th>\n",
       "      <th>book_rating</th>\n",
       "    </tr>\n",
       "  </thead>\n",
       "  <tbody>\n",
       "    <tr>\n",
       "      <th>0</th>\n",
       "      <td>590085417</td>\n",
       "      <td>Heidi</td>\n",
       "      <td>Johanna Spyri</td>\n",
       "      <td>2021</td>\n",
       "      <td>Scholastic</td>\n",
       "      <td>http://images.amazon.com/images/P/0590085417.0...</td>\n",
       "      <td>http://images.amazon.com/images/P/0590085417.0...</td>\n",
       "      <td>http://images.amazon.com/images/P/0590085417.0...</td>\n",
       "      <td>Johanna Spyri, Shirley Temple, Movie tie-in, C...</td>\n",
       "      <td>102967.0</td>\n",
       "      <td>8.0</td>\n",
       "    </tr>\n",
       "    <tr>\n",
       "      <th>1</th>\n",
       "      <td>590085417</td>\n",
       "      <td>Heidi</td>\n",
       "      <td>Johanna Spyri</td>\n",
       "      <td>2021</td>\n",
       "      <td>Scholastic</td>\n",
       "      <td>http://images.amazon.com/images/P/0590085417.0...</td>\n",
       "      <td>http://images.amazon.com/images/P/0590085417.0...</td>\n",
       "      <td>http://images.amazon.com/images/P/0590085417.0...</td>\n",
       "      <td>Johanna Spyri, Shirley Temple, Movie tie-in, C...</td>\n",
       "      <td>111702.0</td>\n",
       "      <td>8.0</td>\n",
       "    </tr>\n",
       "    <tr>\n",
       "      <th>2</th>\n",
       "      <td>590085417</td>\n",
       "      <td>Heidi</td>\n",
       "      <td>Johanna Spyri</td>\n",
       "      <td>2021</td>\n",
       "      <td>Scholastic</td>\n",
       "      <td>http://images.amazon.com/images/P/0590085417.0...</td>\n",
       "      <td>http://images.amazon.com/images/P/0590085417.0...</td>\n",
       "      <td>http://images.amazon.com/images/P/0590085417.0...</td>\n",
       "      <td>Johanna Spyri, Shirley Temple, Movie tie-in, C...</td>\n",
       "      <td>135473.0</td>\n",
       "      <td>0.0</td>\n",
       "    </tr>\n",
       "    <tr>\n",
       "      <th>3</th>\n",
       "      <td>68160204X</td>\n",
       "      <td>The Royals</td>\n",
       "      <td>Kitty Kelley</td>\n",
       "      <td>2020</td>\n",
       "      <td>Bausch &amp; Lombard</td>\n",
       "      <td>http://images.amazon.com/images/P/068160204X.0...</td>\n",
       "      <td>http://images.amazon.com/images/P/068160204X.0...</td>\n",
       "      <td>http://images.amazon.com/images/P/068160204X.0...</td>\n",
       "      <td>NaN</td>\n",
       "      <td>16634.0</td>\n",
       "      <td>0.0</td>\n",
       "    </tr>\n",
       "    <tr>\n",
       "      <th>4</th>\n",
       "      <td>68160204X</td>\n",
       "      <td>The Royals</td>\n",
       "      <td>Kitty Kelley</td>\n",
       "      <td>2020</td>\n",
       "      <td>Bausch &amp; Lombard</td>\n",
       "      <td>http://images.amazon.com/images/P/068160204X.0...</td>\n",
       "      <td>http://images.amazon.com/images/P/068160204X.0...</td>\n",
       "      <td>http://images.amazon.com/images/P/068160204X.0...</td>\n",
       "      <td>NaN</td>\n",
       "      <td>87141.0</td>\n",
       "      <td>0.0</td>\n",
       "    </tr>\n",
       "  </tbody>\n",
       "</table>\n",
       "</div>"
      ],
      "text/plain": [
       "        isbn  book_title    book_author  year_of_publication  \\\n",
       "0  590085417       Heidi  Johanna Spyri                 2021   \n",
       "1  590085417       Heidi  Johanna Spyri                 2021   \n",
       "2  590085417       Heidi  Johanna Spyri                 2021   \n",
       "3  68160204X  The Royals   Kitty Kelley                 2020   \n",
       "4  68160204X  The Royals   Kitty Kelley                 2020   \n",
       "\n",
       "          publisher                                        image_url_s  \\\n",
       "0        Scholastic  http://images.amazon.com/images/P/0590085417.0...   \n",
       "1        Scholastic  http://images.amazon.com/images/P/0590085417.0...   \n",
       "2        Scholastic  http://images.amazon.com/images/P/0590085417.0...   \n",
       "3  Bausch & Lombard  http://images.amazon.com/images/P/068160204X.0...   \n",
       "4  Bausch & Lombard  http://images.amazon.com/images/P/068160204X.0...   \n",
       "\n",
       "                                         image_url_m  \\\n",
       "0  http://images.amazon.com/images/P/0590085417.0...   \n",
       "1  http://images.amazon.com/images/P/0590085417.0...   \n",
       "2  http://images.amazon.com/images/P/0590085417.0...   \n",
       "3  http://images.amazon.com/images/P/068160204X.0...   \n",
       "4  http://images.amazon.com/images/P/068160204X.0...   \n",
       "\n",
       "                                         image_url_l  \\\n",
       "0  http://images.amazon.com/images/P/0590085417.0...   \n",
       "1  http://images.amazon.com/images/P/0590085417.0...   \n",
       "2  http://images.amazon.com/images/P/0590085417.0...   \n",
       "3  http://images.amazon.com/images/P/068160204X.0...   \n",
       "4  http://images.amazon.com/images/P/068160204X.0...   \n",
       "\n",
       "                                               genre   user_id  book_rating  \n",
       "0  Johanna Spyri, Shirley Temple, Movie tie-in, C...  102967.0          8.0  \n",
       "1  Johanna Spyri, Shirley Temple, Movie tie-in, C...  111702.0          8.0  \n",
       "2  Johanna Spyri, Shirley Temple, Movie tie-in, C...  135473.0          0.0  \n",
       "3                                                NaN   16634.0          0.0  \n",
       "4                                                NaN   87141.0          0.0  "
      ]
     },
     "execution_count": 117,
     "metadata": {},
     "output_type": "execute_result"
    }
   ],
   "source": [
    "# merge books with ratings df\n",
    "# books_ratings = pd.merge(books_big, ratings, on='isbn', how='left')\n",
    "books_users_ratings.head()"
   ]
  },
  {
   "cell_type": "code",
   "execution_count": 118,
   "metadata": {
    "execution": {
     "iopub.execute_input": "2024-09-07T17:00:33.372794Z",
     "iopub.status.busy": "2024-09-07T17:00:33.372712Z",
     "iopub.status.idle": "2024-09-07T17:00:33.374810Z",
     "shell.execute_reply": "2024-09-07T17:00:33.374584Z"
    }
   },
   "outputs": [
    {
     "data": {
      "text/plain": [
       "(982098, 11)"
      ]
     },
     "execution_count": 118,
     "metadata": {},
     "output_type": "execute_result"
    }
   ],
   "source": [
    "books_users_ratings.shape"
   ]
  },
  {
   "cell_type": "code",
   "execution_count": 119,
   "metadata": {
    "execution": {
     "iopub.execute_input": "2024-09-07T17:00:33.376118Z",
     "iopub.status.busy": "2024-09-07T17:00:33.376012Z",
     "iopub.status.idle": "2024-09-07T17:00:33.430403Z",
     "shell.execute_reply": "2024-09-07T17:00:33.430109Z"
    }
   },
   "outputs": [
    {
     "data": {
      "text/plain": [
       "isbn                       0\n",
       "book_title                 0\n",
       "book_author              291\n",
       "year_of_publication        0\n",
       "publisher                  0\n",
       "image_url_s                0\n",
       "image_url_m                0\n",
       "image_url_l                0\n",
       "genre                  63767\n",
       "user_id                  238\n",
       "book_rating              238\n",
       "dtype: int64"
      ]
     },
     "execution_count": 119,
     "metadata": {},
     "output_type": "execute_result"
    }
   ],
   "source": [
    "books_users_ratings.isna().sum()"
   ]
  },
  {
   "cell_type": "code",
   "execution_count": 120,
   "metadata": {
    "execution": {
     "iopub.execute_input": "2024-09-07T17:00:33.431809Z",
     "iopub.status.busy": "2024-09-07T17:00:33.431731Z",
     "iopub.status.idle": "2024-09-07T17:00:33.446729Z",
     "shell.execute_reply": "2024-09-07T17:00:33.446491Z"
    }
   },
   "outputs": [],
   "source": [
    "books_users_ratings.dropna(subset=['user_id', 'book_author', 'genre'], inplace=True) \n",
    "# drop rows with missings in important columns for our recommender"
   ]
  },
  {
   "cell_type": "code",
   "execution_count": 121,
   "metadata": {
    "execution": {
     "iopub.execute_input": "2024-09-07T17:00:33.448086Z",
     "iopub.status.busy": "2024-09-07T17:00:33.448008Z",
     "iopub.status.idle": "2024-09-07T17:00:33.468446Z",
     "shell.execute_reply": "2024-09-07T17:00:33.468201Z"
    }
   },
   "outputs": [
    {
     "name": "stdout",
     "output_type": "stream",
     "text": [
      "<class 'pandas.core.frame.DataFrame'>\n",
      "Index: 917916 entries, 0 to 982096\n",
      "Data columns (total 11 columns):\n",
      " #   Column               Non-Null Count   Dtype  \n",
      "---  ------               --------------   -----  \n",
      " 0   isbn                 917916 non-null  object \n",
      " 1   book_title           917916 non-null  object \n",
      " 2   book_author          917916 non-null  object \n",
      " 3   year_of_publication  917916 non-null  int64  \n",
      " 4   publisher            917916 non-null  object \n",
      " 5   image_url_s          917916 non-null  object \n",
      " 6   image_url_m          917916 non-null  object \n",
      " 7   image_url_l          917916 non-null  object \n",
      " 8   genre                917916 non-null  object \n",
      " 9   user_id              917916 non-null  float64\n",
      " 10  book_rating          917916 non-null  float64\n",
      "dtypes: float64(2), int64(1), object(8)\n",
      "memory usage: 84.0+ MB\n"
     ]
    }
   ],
   "source": [
    "books_users_ratings.info()"
   ]
  },
  {
   "cell_type": "code",
   "execution_count": 122,
   "metadata": {},
   "outputs": [],
   "source": [
    "# In the original notebook, books_ratings was only able to find \n",
    "# 183600 rows where books and ratings match on isbn\n",
    "# This is possibly due to leading zeros in many isbn's in one df,\n",
    "# but not in the other\n",
    "#\n",
    "# In the original notebook, this is the output for\n",
    "# books_ratings.info()\n",
    "# \n",
    "# # Index: 183600 entries, 1 to 350153\n",
    "# Data columns (total 8 columns):\n",
    "#  #   Column               Non-Null Count   Dtype \n",
    "# ---  ------               --------------   ----- \n",
    "#  0   isbn                 183600 non-null  object\n",
    "#  1   book_title           183600 non-null  object\n",
    "#  2   book_author          183537 non-null  object\n",
    "#  3   year_of_publication  183600 non-null  int64 \n",
    "#  4   publisher            183600 non-null  object\n",
    "#  5   genre                152371 non-null  object\n",
    "#  6   user_id              183600 non-null  int64 \n",
    "#  7   book_rating          183600 non-null  int64 "
   ]
  },
  {
   "cell_type": "code",
   "execution_count": 124,
   "metadata": {},
   "outputs": [
    {
     "data": {
      "text/html": [
       "<div>\n",
       "<style scoped>\n",
       "    .dataframe tbody tr th:only-of-type {\n",
       "        vertical-align: middle;\n",
       "    }\n",
       "\n",
       "    .dataframe tbody tr th {\n",
       "        vertical-align: top;\n",
       "    }\n",
       "\n",
       "    .dataframe thead th {\n",
       "        text-align: right;\n",
       "    }\n",
       "</style>\n",
       "<table border=\"1\" class=\"dataframe\">\n",
       "  <thead>\n",
       "    <tr style=\"text-align: right;\">\n",
       "      <th></th>\n",
       "      <th>isbn</th>\n",
       "      <th>book_title</th>\n",
       "      <th>book_author</th>\n",
       "      <th>year_of_publication</th>\n",
       "      <th>publisher</th>\n",
       "      <th>image_url_s</th>\n",
       "      <th>image_url_m</th>\n",
       "      <th>image_url_l</th>\n",
       "      <th>genre</th>\n",
       "      <th>readers</th>\n",
       "      <th>active_ratings</th>\n",
       "      <th>avg_rating</th>\n",
       "    </tr>\n",
       "  </thead>\n",
       "  <tbody>\n",
       "    <tr>\n",
       "      <th>0</th>\n",
       "      <td>1010565</td>\n",
       "      <td>Mog's Christmas</td>\n",
       "      <td>Judith Kerr</td>\n",
       "      <td>1992</td>\n",
       "      <td>Collins</td>\n",
       "      <td>http://images.amazon.com/images/P/0001010565.0...</td>\n",
       "      <td>http://images.amazon.com/images/P/0001010565.0...</td>\n",
       "      <td>http://images.amazon.com/images/P/0001010565.0...</td>\n",
       "      <td>Children's fiction, Cats, fiction, Christmas, ...</td>\n",
       "      <td>2</td>\n",
       "      <td>0</td>\n",
       "      <td>0.0</td>\n",
       "    </tr>\n",
       "    <tr>\n",
       "      <th>1</th>\n",
       "      <td>1046438</td>\n",
       "      <td>Liar</td>\n",
       "      <td>Stephen Fry</td>\n",
       "      <td>1970</td>\n",
       "      <td>Harpercollins Uk</td>\n",
       "      <td>http://images.amazon.com/images/P/0001046438.0...</td>\n",
       "      <td>http://images.amazon.com/images/P/0001046438.0...</td>\n",
       "      <td>http://images.amazon.com/images/P/0001046438.0...</td>\n",
       "      <td>Truthfulness and falsehood, Fiction, Murder, I...</td>\n",
       "      <td>1</td>\n",
       "      <td>1</td>\n",
       "      <td>9.0</td>\n",
       "    </tr>\n",
       "    <tr>\n",
       "      <th>2</th>\n",
       "      <td>1046713</td>\n",
       "      <td>Twopence to Cross the Mersey</td>\n",
       "      <td>Helen Forrester</td>\n",
       "      <td>1992</td>\n",
       "      <td>HarperCollins Publishers</td>\n",
       "      <td>http://images.amazon.com/images/P/0001046713.0...</td>\n",
       "      <td>http://images.amazon.com/images/P/0001046713.0...</td>\n",
       "      <td>http://images.amazon.com/images/P/0001046713.0...</td>\n",
       "      <td>Biographies, Biography, Childhood and youth, E...</td>\n",
       "      <td>1</td>\n",
       "      <td>0</td>\n",
       "      <td>0.0</td>\n",
       "    </tr>\n",
       "    <tr>\n",
       "      <th>3</th>\n",
       "      <td>1046934</td>\n",
       "      <td>The Prime of Miss Jean Brodie</td>\n",
       "      <td>Muriel Spark</td>\n",
       "      <td>1999</td>\n",
       "      <td>Trafalgar Square Publishing</td>\n",
       "      <td>http://images.amazon.com/images/P/0001046934.0...</td>\n",
       "      <td>http://images.amazon.com/images/P/0001046934.0...</td>\n",
       "      <td>http://images.amazon.com/images/P/0001046934.0...</td>\n",
       "      <td>Teacher-student relationships, Women teachers,...</td>\n",
       "      <td>1</td>\n",
       "      <td>0</td>\n",
       "      <td>0.0</td>\n",
       "    </tr>\n",
       "    <tr>\n",
       "      <th>4</th>\n",
       "      <td>1047213</td>\n",
       "      <td>The Fighting Man</td>\n",
       "      <td>Gerald Seymour</td>\n",
       "      <td>1993</td>\n",
       "      <td>HarperCollins Publishers</td>\n",
       "      <td>http://images.amazon.com/images/P/0001047213.0...</td>\n",
       "      <td>http://images.amazon.com/images/P/0001047213.0...</td>\n",
       "      <td>http://images.amazon.com/images/P/0001047213.0...</td>\n",
       "      <td>Fiction, thrillers, suspense, Fiction, thrille...</td>\n",
       "      <td>1</td>\n",
       "      <td>1</td>\n",
       "      <td>9.0</td>\n",
       "    </tr>\n",
       "  </tbody>\n",
       "</table>\n",
       "</div>"
      ],
      "text/plain": [
       "      isbn                     book_title      book_author  \\\n",
       "0  1010565                Mog's Christmas      Judith Kerr   \n",
       "1  1046438                           Liar      Stephen Fry   \n",
       "2  1046713   Twopence to Cross the Mersey  Helen Forrester   \n",
       "3  1046934  The Prime of Miss Jean Brodie     Muriel Spark   \n",
       "4  1047213               The Fighting Man   Gerald Seymour   \n",
       "\n",
       "   year_of_publication                    publisher  \\\n",
       "0                 1992                      Collins   \n",
       "1                 1970             Harpercollins Uk   \n",
       "2                 1992     HarperCollins Publishers   \n",
       "3                 1999  Trafalgar Square Publishing   \n",
       "4                 1993     HarperCollins Publishers   \n",
       "\n",
       "                                         image_url_s  \\\n",
       "0  http://images.amazon.com/images/P/0001010565.0...   \n",
       "1  http://images.amazon.com/images/P/0001046438.0...   \n",
       "2  http://images.amazon.com/images/P/0001046713.0...   \n",
       "3  http://images.amazon.com/images/P/0001046934.0...   \n",
       "4  http://images.amazon.com/images/P/0001047213.0...   \n",
       "\n",
       "                                         image_url_m  \\\n",
       "0  http://images.amazon.com/images/P/0001010565.0...   \n",
       "1  http://images.amazon.com/images/P/0001046438.0...   \n",
       "2  http://images.amazon.com/images/P/0001046713.0...   \n",
       "3  http://images.amazon.com/images/P/0001046934.0...   \n",
       "4  http://images.amazon.com/images/P/0001047213.0...   \n",
       "\n",
       "                                         image_url_l  \\\n",
       "0  http://images.amazon.com/images/P/0001010565.0...   \n",
       "1  http://images.amazon.com/images/P/0001046438.0...   \n",
       "2  http://images.amazon.com/images/P/0001046713.0...   \n",
       "3  http://images.amazon.com/images/P/0001046934.0...   \n",
       "4  http://images.amazon.com/images/P/0001047213.0...   \n",
       "\n",
       "                                               genre  readers  active_ratings  \\\n",
       "0  Children's fiction, Cats, fiction, Christmas, ...        2               0   \n",
       "1  Truthfulness and falsehood, Fiction, Murder, I...        1               1   \n",
       "2  Biographies, Biography, Childhood and youth, E...        1               0   \n",
       "3  Teacher-student relationships, Women teachers,...        1               0   \n",
       "4  Fiction, thrillers, suspense, Fiction, thrille...        1               1   \n",
       "\n",
       "   avg_rating  \n",
       "0         0.0  \n",
       "1         9.0  \n",
       "2         0.0  \n",
       "3         0.0  \n",
       "4         9.0  "
      ]
     },
     "execution_count": 124,
     "metadata": {},
     "output_type": "execute_result"
    }
   ],
   "source": [
    "# Now let's create a data frame containing only the books,\n",
    "# their respective info and their aggregated popularity functions\n",
    "# These functions are avg_rating (mean of non-zero ratings)\n",
    "# and readers (simple count of all readers per book)\n",
    "# This is based on the info that book_rating = 0\n",
    "# means the user acquired the book but never rated it\n",
    "# So from our stakeholder's point of view, a zero rating\n",
    "# is still a sale, albeit one with no particular feedback\n",
    "\n",
    "\n",
    "# Create the dataset blueprint by copying books_users_ratings:\n",
    "books_ratings = books_users_ratings.copy()\n",
    "\n",
    "# Add empty columns 'readers' and 'avg_rating'\n",
    "books_ratings['readers'] = np.nan\n",
    "books_ratings['avg_rating'] = np.nan\n",
    "books_ratings['active_ratings'] = np.nan\n",
    "\n",
    "\n",
    "# Custom function to calculate mean of non-zero ratings\n",
    "def mean_non_zero(series):\n",
    "    non_zero_ratings = series[series != 0]  # Filter out zero ratings\n",
    "    return non_zero_ratings.mean() if len(non_zero_ratings) > 0 else 0\n",
    "\n",
    "# Custom function to count non-zero ratings\n",
    "def count_non_zero(series):\n",
    "    non_zero_ratings = series[series != 0]  # Filter out zero ratings\n",
    "    return non_zero_ratings.count() if len(non_zero_ratings) > 0 else 0\n",
    "\n",
    "# Group by 'isbn' and apply aggregation\n",
    "books_ratings = books_ratings.groupby('isbn').agg(\n",
    "    book_title=('book_title', 'first'),\n",
    "    book_author=('book_author', 'first'),\n",
    "    year_of_publication=('year_of_publication', 'first'),\n",
    "    publisher=('publisher', 'first'),\n",
    "    image_url_s=('image_url_s', 'first'),\n",
    "    image_url_m=('image_url_m', 'first'),\n",
    "    image_url_l=('image_url_l', 'first'),\n",
    "    genre=('genre', 'first'),\n",
    "    readers=('book_rating', 'count'),  # Count of non-null values in 'book_rating'\n",
    "    active_ratings=('book_rating', count_non_zero),  # Mean of non-zero values\n",
    "    avg_rating=('book_rating', mean_non_zero)  # Mean of non-zero values\n",
    ").reset_index()\n",
    "\n",
    "books_ratings.head()\n"
   ]
  },
  {
   "cell_type": "code",
   "execution_count": 125,
   "metadata": {},
   "outputs": [
    {
     "name": "stdout",
     "output_type": "stream",
     "text": [
      "<class 'pandas.core.frame.DataFrame'>\n",
      "RangeIndex: 195390 entries, 0 to 195389\n",
      "Data columns (total 12 columns):\n",
      " #   Column               Non-Null Count   Dtype  \n",
      "---  ------               --------------   -----  \n",
      " 0   isbn                 195390 non-null  object \n",
      " 1   book_title           195390 non-null  object \n",
      " 2   book_author          195390 non-null  object \n",
      " 3   year_of_publication  195390 non-null  int64  \n",
      " 4   publisher            195390 non-null  object \n",
      " 5   image_url_s          195390 non-null  object \n",
      " 6   image_url_m          195390 non-null  object \n",
      " 7   image_url_l          195390 non-null  object \n",
      " 8   genre                195390 non-null  object \n",
      " 9   readers              195390 non-null  int64  \n",
      " 10  active_ratings       195390 non-null  int64  \n",
      " 11  avg_rating           195390 non-null  float64\n",
      "dtypes: float64(1), int64(3), object(8)\n",
      "memory usage: 17.9+ MB\n"
     ]
    }
   ],
   "source": [
    "books_ratings.info()"
   ]
  },
  {
   "cell_type": "code",
   "execution_count": 126,
   "metadata": {},
   "outputs": [
    {
     "data": {
      "text/plain": [
       "isbn                   0\n",
       "book_title             0\n",
       "book_author            0\n",
       "year_of_publication    0\n",
       "publisher              0\n",
       "image_url_s            0\n",
       "image_url_m            0\n",
       "image_url_l            0\n",
       "genre                  0\n",
       "readers                0\n",
       "active_ratings         0\n",
       "avg_rating             0\n",
       "dtype: int64"
      ]
     },
     "execution_count": 126,
     "metadata": {},
     "output_type": "execute_result"
    }
   ],
   "source": [
    "books_ratings.isna().sum()"
   ]
  },
  {
   "cell_type": "code",
   "execution_count": 127,
   "metadata": {},
   "outputs": [
    {
     "data": {
      "text/plain": [
       "0"
      ]
     },
     "execution_count": 127,
     "metadata": {},
     "output_type": "execute_result"
    }
   ],
   "source": [
    "books_ratings.duplicated().sum()"
   ]
  },
  {
   "cell_type": "code",
   "execution_count": 128,
   "metadata": {},
   "outputs": [
    {
     "data": {
      "text/html": [
       "<div>\n",
       "<style scoped>\n",
       "    .dataframe tbody tr th:only-of-type {\n",
       "        vertical-align: middle;\n",
       "    }\n",
       "\n",
       "    .dataframe tbody tr th {\n",
       "        vertical-align: top;\n",
       "    }\n",
       "\n",
       "    .dataframe thead th {\n",
       "        text-align: right;\n",
       "    }\n",
       "</style>\n",
       "<table border=\"1\" class=\"dataframe\">\n",
       "  <thead>\n",
       "    <tr style=\"text-align: right;\">\n",
       "      <th></th>\n",
       "      <th>count</th>\n",
       "      <th>mean</th>\n",
       "      <th>std</th>\n",
       "      <th>min</th>\n",
       "      <th>25%</th>\n",
       "      <th>50%</th>\n",
       "      <th>75%</th>\n",
       "      <th>max</th>\n",
       "    </tr>\n",
       "  </thead>\n",
       "  <tbody>\n",
       "    <tr>\n",
       "      <th>year_of_publication</th>\n",
       "      <td>195390.0</td>\n",
       "      <td>1993.619085</td>\n",
       "      <td>8.409454</td>\n",
       "      <td>1900.0</td>\n",
       "      <td>1989.0</td>\n",
       "      <td>1996.0</td>\n",
       "      <td>2000.0</td>\n",
       "      <td>2021.0</td>\n",
       "    </tr>\n",
       "    <tr>\n",
       "      <th>readers</th>\n",
       "      <td>195390.0</td>\n",
       "      <td>4.697866</td>\n",
       "      <td>16.078477</td>\n",
       "      <td>1.0</td>\n",
       "      <td>1.0</td>\n",
       "      <td>2.0</td>\n",
       "      <td>4.0</td>\n",
       "      <td>2504.0</td>\n",
       "    </tr>\n",
       "    <tr>\n",
       "      <th>active_ratings</th>\n",
       "      <td>195390.0</td>\n",
       "      <td>1.760059</td>\n",
       "      <td>6.672956</td>\n",
       "      <td>0.0</td>\n",
       "      <td>0.0</td>\n",
       "      <td>1.0</td>\n",
       "      <td>1.0</td>\n",
       "      <td>707.0</td>\n",
       "    </tr>\n",
       "    <tr>\n",
       "      <th>avg_rating</th>\n",
       "      <td>195390.0</td>\n",
       "      <td>4.570947</td>\n",
       "      <td>3.904373</td>\n",
       "      <td>0.0</td>\n",
       "      <td>0.0</td>\n",
       "      <td>6.0</td>\n",
       "      <td>8.0</td>\n",
       "      <td>10.0</td>\n",
       "    </tr>\n",
       "  </tbody>\n",
       "</table>\n",
       "</div>"
      ],
      "text/plain": [
       "                        count         mean        std     min     25%     50%  \\\n",
       "year_of_publication  195390.0  1993.619085   8.409454  1900.0  1989.0  1996.0   \n",
       "readers              195390.0     4.697866  16.078477     1.0     1.0     2.0   \n",
       "active_ratings       195390.0     1.760059   6.672956     0.0     0.0     1.0   \n",
       "avg_rating           195390.0     4.570947   3.904373     0.0     0.0     6.0   \n",
       "\n",
       "                        75%     max  \n",
       "year_of_publication  2000.0  2021.0  \n",
       "readers                 4.0  2504.0  \n",
       "active_ratings          1.0   707.0  \n",
       "avg_rating              8.0    10.0  "
      ]
     },
     "execution_count": 128,
     "metadata": {},
     "output_type": "execute_result"
    }
   ],
   "source": [
    "books_ratings.describe().T"
   ]
  },
  {
   "cell_type": "code",
   "execution_count": 129,
   "metadata": {},
   "outputs": [
    {
     "name": "stdout",
     "output_type": "stream",
     "text": [
      "<class 'pandas.core.frame.DataFrame'>\n",
      "RangeIndex: 195390 entries, 0 to 195389\n",
      "Data columns (total 12 columns):\n",
      " #   Column               Non-Null Count   Dtype  \n",
      "---  ------               --------------   -----  \n",
      " 0   isbn                 195390 non-null  object \n",
      " 1   book_title           195390 non-null  object \n",
      " 2   book_author          195390 non-null  object \n",
      " 3   year_of_publication  195390 non-null  int64  \n",
      " 4   publisher            195390 non-null  object \n",
      " 5   image_url_s          195390 non-null  object \n",
      " 6   image_url_m          195390 non-null  object \n",
      " 7   image_url_l          195390 non-null  object \n",
      " 8   genre                195390 non-null  object \n",
      " 9   readers              195390 non-null  int64  \n",
      " 10  active_ratings       195390 non-null  int64  \n",
      " 11  avg_rating           195390 non-null  float64\n",
      "dtypes: float64(1), int64(3), object(8)\n",
      "memory usage: 17.9+ MB\n"
     ]
    }
   ],
   "source": [
    "books_ratings.info()"
   ]
  },
  {
   "cell_type": "code",
   "execution_count": 131,
   "metadata": {},
   "outputs": [],
   "source": [
    "books_ratings = books_ratings.sort_values(by=['readers','active_ratings', 'avg_rating'], ascending=[False, False, False])"
   ]
  },
  {
   "cell_type": "code",
   "execution_count": 132,
   "metadata": {},
   "outputs": [
    {
     "data": {
      "text/html": [
       "<div>\n",
       "<style scoped>\n",
       "    .dataframe tbody tr th:only-of-type {\n",
       "        vertical-align: middle;\n",
       "    }\n",
       "\n",
       "    .dataframe tbody tr th {\n",
       "        vertical-align: top;\n",
       "    }\n",
       "\n",
       "    .dataframe thead th {\n",
       "        text-align: right;\n",
       "    }\n",
       "</style>\n",
       "<table border=\"1\" class=\"dataframe\">\n",
       "  <thead>\n",
       "    <tr style=\"text-align: right;\">\n",
       "      <th></th>\n",
       "      <th>isbn</th>\n",
       "      <th>book_title</th>\n",
       "      <th>book_author</th>\n",
       "      <th>year_of_publication</th>\n",
       "      <th>publisher</th>\n",
       "      <th>image_url_s</th>\n",
       "      <th>image_url_m</th>\n",
       "      <th>image_url_l</th>\n",
       "      <th>genre</th>\n",
       "      <th>readers</th>\n",
       "      <th>active_ratings</th>\n",
       "      <th>avg_rating</th>\n",
       "    </tr>\n",
       "  </thead>\n",
       "  <tbody>\n",
       "    <tr>\n",
       "      <th>194925</th>\n",
       "      <td>971880107</td>\n",
       "      <td>Wild Animus</td>\n",
       "      <td>Rich Shapero</td>\n",
       "      <td>2004</td>\n",
       "      <td>Too Far</td>\n",
       "      <td>http://images.amazon.com/images/P/0971880107.0...</td>\n",
       "      <td>http://images.amazon.com/images/P/0971880107.0...</td>\n",
       "      <td>http://images.amazon.com/images/P/0971880107.0...</td>\n",
       "      <td>Fiction, Spiritual life, Metaphysics, Adventur...</td>\n",
       "      <td>2504</td>\n",
       "      <td>581</td>\n",
       "      <td>4.390706</td>\n",
       "    </tr>\n",
       "    <tr>\n",
       "      <th>44934</th>\n",
       "      <td>316666343</td>\n",
       "      <td>The Lovely Bones: A Novel</td>\n",
       "      <td>Alice Sebold</td>\n",
       "      <td>2002</td>\n",
       "      <td>Little, Brown</td>\n",
       "      <td>http://images.amazon.com/images/P/0316666343.0...</td>\n",
       "      <td>http://images.amazon.com/images/P/0316666343.0...</td>\n",
       "      <td>http://images.amazon.com/images/P/0316666343.0...</td>\n",
       "      <td>Murder, Psychological fiction, Teenage girls, ...</td>\n",
       "      <td>1295</td>\n",
       "      <td>707</td>\n",
       "      <td>8.185290</td>\n",
       "    </tr>\n",
       "    <tr>\n",
       "      <th>73823</th>\n",
       "      <td>385504209</td>\n",
       "      <td>The Da Vinci Code</td>\n",
       "      <td>Dan Brown</td>\n",
       "      <td>2003</td>\n",
       "      <td>Doubleday</td>\n",
       "      <td>http://images.amazon.com/images/P/0385504209.0...</td>\n",
       "      <td>http://images.amazon.com/images/P/0385504209.0...</td>\n",
       "      <td>http://images.amazon.com/images/P/0385504209.0...</td>\n",
       "      <td>Suspense &amp; Thriller, Spiritual Fiction, hieros...</td>\n",
       "      <td>885</td>\n",
       "      <td>489</td>\n",
       "      <td>8.437628</td>\n",
       "    </tr>\n",
       "    <tr>\n",
       "      <th>122481</th>\n",
       "      <td>60928336</td>\n",
       "      <td>Divine Secrets of the Ya-Ya Sisterhood: A Novel</td>\n",
       "      <td>Rebecca Wells</td>\n",
       "      <td>1997</td>\n",
       "      <td>Perennial</td>\n",
       "      <td>http://images.amazon.com/images/P/0060928336.0...</td>\n",
       "      <td>http://images.amazon.com/images/P/0060928336.0...</td>\n",
       "      <td>http://images.amazon.com/images/P/0060928336.0...</td>\n",
       "      <td>Fiction, Literature, Conflict of generations, ...</td>\n",
       "      <td>732</td>\n",
       "      <td>320</td>\n",
       "      <td>7.887500</td>\n",
       "    </tr>\n",
       "    <tr>\n",
       "      <th>39439</th>\n",
       "      <td>312195516</td>\n",
       "      <td>The Red Tent (Bestselling Backlist)</td>\n",
       "      <td>Anita Diamant</td>\n",
       "      <td>1998</td>\n",
       "      <td>Picador USA</td>\n",
       "      <td>http://images.amazon.com/images/P/0312195516.0...</td>\n",
       "      <td>http://images.amazon.com/images/P/0312195516.0...</td>\n",
       "      <td>http://images.amazon.com/images/P/0312195516.0...</td>\n",
       "      <td>Women in the Bible, Fiction, Religious fiction...</td>\n",
       "      <td>724</td>\n",
       "      <td>384</td>\n",
       "      <td>8.182292</td>\n",
       "    </tr>\n",
       "  </tbody>\n",
       "</table>\n",
       "</div>"
      ],
      "text/plain": [
       "             isbn                                       book_title  \\\n",
       "194925  971880107                                      Wild Animus   \n",
       "44934   316666343                        The Lovely Bones: A Novel   \n",
       "73823   385504209                                The Da Vinci Code   \n",
       "122481   60928336  Divine Secrets of the Ya-Ya Sisterhood: A Novel   \n",
       "39439   312195516              The Red Tent (Bestselling Backlist)   \n",
       "\n",
       "          book_author  year_of_publication      publisher  \\\n",
       "194925   Rich Shapero                 2004        Too Far   \n",
       "44934    Alice Sebold                 2002  Little, Brown   \n",
       "73823       Dan Brown                 2003      Doubleday   \n",
       "122481  Rebecca Wells                 1997      Perennial   \n",
       "39439   Anita Diamant                 1998    Picador USA   \n",
       "\n",
       "                                              image_url_s  \\\n",
       "194925  http://images.amazon.com/images/P/0971880107.0...   \n",
       "44934   http://images.amazon.com/images/P/0316666343.0...   \n",
       "73823   http://images.amazon.com/images/P/0385504209.0...   \n",
       "122481  http://images.amazon.com/images/P/0060928336.0...   \n",
       "39439   http://images.amazon.com/images/P/0312195516.0...   \n",
       "\n",
       "                                              image_url_m  \\\n",
       "194925  http://images.amazon.com/images/P/0971880107.0...   \n",
       "44934   http://images.amazon.com/images/P/0316666343.0...   \n",
       "73823   http://images.amazon.com/images/P/0385504209.0...   \n",
       "122481  http://images.amazon.com/images/P/0060928336.0...   \n",
       "39439   http://images.amazon.com/images/P/0312195516.0...   \n",
       "\n",
       "                                              image_url_l  \\\n",
       "194925  http://images.amazon.com/images/P/0971880107.0...   \n",
       "44934   http://images.amazon.com/images/P/0316666343.0...   \n",
       "73823   http://images.amazon.com/images/P/0385504209.0...   \n",
       "122481  http://images.amazon.com/images/P/0060928336.0...   \n",
       "39439   http://images.amazon.com/images/P/0312195516.0...   \n",
       "\n",
       "                                                    genre  readers  \\\n",
       "194925  Fiction, Spiritual life, Metaphysics, Adventur...     2504   \n",
       "44934   Murder, Psychological fiction, Teenage girls, ...     1295   \n",
       "73823   Suspense & Thriller, Spiritual Fiction, hieros...      885   \n",
       "122481  Fiction, Literature, Conflict of generations, ...      732   \n",
       "39439   Women in the Bible, Fiction, Religious fiction...      724   \n",
       "\n",
       "        active_ratings  avg_rating  \n",
       "194925             581    4.390706  \n",
       "44934              707    8.185290  \n",
       "73823              489    8.437628  \n",
       "122481             320    7.887500  \n",
       "39439              384    8.182292  "
      ]
     },
     "execution_count": 132,
     "metadata": {},
     "output_type": "execute_result"
    }
   ],
   "source": [
    "books_ratings.head()"
   ]
  },
  {
   "cell_type": "code",
   "execution_count": 133,
   "metadata": {},
   "outputs": [
    {
     "name": "stdout",
     "output_type": "stream",
     "text": [
      "<class 'pandas.core.frame.DataFrame'>\n",
      "Index: 195390 entries, 194925 to 195388\n",
      "Data columns (total 12 columns):\n",
      " #   Column               Non-Null Count   Dtype  \n",
      "---  ------               --------------   -----  \n",
      " 0   isbn                 195390 non-null  object \n",
      " 1   book_title           195390 non-null  object \n",
      " 2   book_author          195390 non-null  object \n",
      " 3   year_of_publication  195390 non-null  int64  \n",
      " 4   publisher            195390 non-null  object \n",
      " 5   image_url_s          195390 non-null  object \n",
      " 6   image_url_m          195390 non-null  object \n",
      " 7   image_url_l          195390 non-null  object \n",
      " 8   genre                195390 non-null  object \n",
      " 9   readers              195390 non-null  int64  \n",
      " 10  active_ratings       195390 non-null  int64  \n",
      " 11  avg_rating           195390 non-null  float64\n",
      "dtypes: float64(1), int64(3), object(8)\n",
      "memory usage: 19.4+ MB\n"
     ]
    }
   ],
   "source": [
    "books_ratings.info()"
   ]
  },
  {
   "cell_type": "code",
   "execution_count": 134,
   "metadata": {},
   "outputs": [],
   "source": [
    "books_ratings.to_csv('data/books_rated.csv', sep=';', encoding='utf-8-sig', index=False)"
   ]
  },
  {
   "cell_type": "code",
   "execution_count": 135,
   "metadata": {},
   "outputs": [],
   "source": [
    "books_ratings = pd.read_csv('data/books_rated.csv', sep=\";\", encoding='utf-8-sig')"
   ]
  },
  {
   "cell_type": "code",
   "execution_count": 136,
   "metadata": {},
   "outputs": [
    {
     "name": "stdout",
     "output_type": "stream",
     "text": [
      "<class 'pandas.core.frame.DataFrame'>\n",
      "RangeIndex: 195390 entries, 0 to 195389\n",
      "Data columns (total 12 columns):\n",
      " #   Column               Non-Null Count   Dtype  \n",
      "---  ------               --------------   -----  \n",
      " 0   isbn                 195390 non-null  object \n",
      " 1   book_title           195390 non-null  object \n",
      " 2   book_author          195390 non-null  object \n",
      " 3   year_of_publication  195390 non-null  int64  \n",
      " 4   publisher            195390 non-null  object \n",
      " 5   image_url_s          195390 non-null  object \n",
      " 6   image_url_m          195390 non-null  object \n",
      " 7   image_url_l          195390 non-null  object \n",
      " 8   genre                195390 non-null  object \n",
      " 9   readers              195390 non-null  int64  \n",
      " 10  active_ratings       195390 non-null  int64  \n",
      " 11  avg_rating           195390 non-null  float64\n",
      "dtypes: float64(1), int64(3), object(8)\n",
      "memory usage: 17.9+ MB\n"
     ]
    }
   ],
   "source": [
    "books_ratings.info()"
   ]
  },
  {
   "cell_type": "markdown",
   "metadata": {},
   "source": [
    "### Creating 'mod_titles' for Search Engine"
   ]
  },
  {
   "cell_type": "code",
   "execution_count": 137,
   "metadata": {
    "execution": {
     "iopub.execute_input": "2024-09-07T17:00:34.644749Z",
     "iopub.status.busy": "2024-09-07T17:00:34.644577Z",
     "iopub.status.idle": "2024-09-07T17:00:34.735627Z",
     "shell.execute_reply": "2024-09-07T17:00:34.735376Z"
    }
   },
   "outputs": [
    {
     "data": {
      "text/html": [
       "<div>\n",
       "<style scoped>\n",
       "    .dataframe tbody tr th:only-of-type {\n",
       "        vertical-align: middle;\n",
       "    }\n",
       "\n",
       "    .dataframe tbody tr th {\n",
       "        vertical-align: top;\n",
       "    }\n",
       "\n",
       "    .dataframe thead th {\n",
       "        text-align: right;\n",
       "    }\n",
       "</style>\n",
       "<table border=\"1\" class=\"dataframe\">\n",
       "  <thead>\n",
       "    <tr style=\"text-align: right;\">\n",
       "      <th></th>\n",
       "      <th>isbn</th>\n",
       "      <th>book_title</th>\n",
       "      <th>book_author</th>\n",
       "      <th>year_of_publication</th>\n",
       "      <th>publisher</th>\n",
       "      <th>image_url_s</th>\n",
       "      <th>image_url_m</th>\n",
       "      <th>image_url_l</th>\n",
       "      <th>genre</th>\n",
       "      <th>readers</th>\n",
       "      <th>active_ratings</th>\n",
       "      <th>avg_rating</th>\n",
       "      <th>mod_titles</th>\n",
       "    </tr>\n",
       "  </thead>\n",
       "  <tbody>\n",
       "    <tr>\n",
       "      <th>0</th>\n",
       "      <td>971880107</td>\n",
       "      <td>Wild Animus</td>\n",
       "      <td>Rich Shapero</td>\n",
       "      <td>2004</td>\n",
       "      <td>Too Far</td>\n",
       "      <td>http://images.amazon.com/images/P/0971880107.0...</td>\n",
       "      <td>http://images.amazon.com/images/P/0971880107.0...</td>\n",
       "      <td>http://images.amazon.com/images/P/0971880107.0...</td>\n",
       "      <td>Fiction, Spiritual life, Metaphysics, Adventur...</td>\n",
       "      <td>2504</td>\n",
       "      <td>581</td>\n",
       "      <td>4.390706</td>\n",
       "      <td>Wild Animus</td>\n",
       "    </tr>\n",
       "    <tr>\n",
       "      <th>1</th>\n",
       "      <td>316666343</td>\n",
       "      <td>The Lovely Bones: A Novel</td>\n",
       "      <td>Alice Sebold</td>\n",
       "      <td>2002</td>\n",
       "      <td>Little, Brown</td>\n",
       "      <td>http://images.amazon.com/images/P/0316666343.0...</td>\n",
       "      <td>http://images.amazon.com/images/P/0316666343.0...</td>\n",
       "      <td>http://images.amazon.com/images/P/0316666343.0...</td>\n",
       "      <td>Murder, Psychological fiction, Teenage girls, ...</td>\n",
       "      <td>1295</td>\n",
       "      <td>707</td>\n",
       "      <td>8.185290</td>\n",
       "      <td>The Lovely Bones  A Novel</td>\n",
       "    </tr>\n",
       "    <tr>\n",
       "      <th>2</th>\n",
       "      <td>385504209</td>\n",
       "      <td>The Da Vinci Code</td>\n",
       "      <td>Dan Brown</td>\n",
       "      <td>2003</td>\n",
       "      <td>Doubleday</td>\n",
       "      <td>http://images.amazon.com/images/P/0385504209.0...</td>\n",
       "      <td>http://images.amazon.com/images/P/0385504209.0...</td>\n",
       "      <td>http://images.amazon.com/images/P/0385504209.0...</td>\n",
       "      <td>Suspense &amp; Thriller, Spiritual Fiction, hieros...</td>\n",
       "      <td>885</td>\n",
       "      <td>489</td>\n",
       "      <td>8.437628</td>\n",
       "      <td>The Da Vinci Code</td>\n",
       "    </tr>\n",
       "    <tr>\n",
       "      <th>3</th>\n",
       "      <td>60928336</td>\n",
       "      <td>Divine Secrets of the Ya-Ya Sisterhood: A Novel</td>\n",
       "      <td>Rebecca Wells</td>\n",
       "      <td>1997</td>\n",
       "      <td>Perennial</td>\n",
       "      <td>http://images.amazon.com/images/P/0060928336.0...</td>\n",
       "      <td>http://images.amazon.com/images/P/0060928336.0...</td>\n",
       "      <td>http://images.amazon.com/images/P/0060928336.0...</td>\n",
       "      <td>Fiction, Literature, Conflict of generations, ...</td>\n",
       "      <td>732</td>\n",
       "      <td>320</td>\n",
       "      <td>7.887500</td>\n",
       "      <td>Divine Secrets of the Ya Ya Sisterhood  A Novel</td>\n",
       "    </tr>\n",
       "    <tr>\n",
       "      <th>4</th>\n",
       "      <td>312195516</td>\n",
       "      <td>The Red Tent (Bestselling Backlist)</td>\n",
       "      <td>Anita Diamant</td>\n",
       "      <td>1998</td>\n",
       "      <td>Picador USA</td>\n",
       "      <td>http://images.amazon.com/images/P/0312195516.0...</td>\n",
       "      <td>http://images.amazon.com/images/P/0312195516.0...</td>\n",
       "      <td>http://images.amazon.com/images/P/0312195516.0...</td>\n",
       "      <td>Women in the Bible, Fiction, Religious fiction...</td>\n",
       "      <td>724</td>\n",
       "      <td>384</td>\n",
       "      <td>8.182292</td>\n",
       "      <td>The Red Tent  Bestselling Backlist</td>\n",
       "    </tr>\n",
       "  </tbody>\n",
       "</table>\n",
       "</div>"
      ],
      "text/plain": [
       "        isbn                                       book_title    book_author  \\\n",
       "0  971880107                                      Wild Animus   Rich Shapero   \n",
       "1  316666343                        The Lovely Bones: A Novel   Alice Sebold   \n",
       "2  385504209                                The Da Vinci Code      Dan Brown   \n",
       "3   60928336  Divine Secrets of the Ya-Ya Sisterhood: A Novel  Rebecca Wells   \n",
       "4  312195516              The Red Tent (Bestselling Backlist)  Anita Diamant   \n",
       "\n",
       "   year_of_publication      publisher  \\\n",
       "0                 2004        Too Far   \n",
       "1                 2002  Little, Brown   \n",
       "2                 2003      Doubleday   \n",
       "3                 1997      Perennial   \n",
       "4                 1998    Picador USA   \n",
       "\n",
       "                                         image_url_s  \\\n",
       "0  http://images.amazon.com/images/P/0971880107.0...   \n",
       "1  http://images.amazon.com/images/P/0316666343.0...   \n",
       "2  http://images.amazon.com/images/P/0385504209.0...   \n",
       "3  http://images.amazon.com/images/P/0060928336.0...   \n",
       "4  http://images.amazon.com/images/P/0312195516.0...   \n",
       "\n",
       "                                         image_url_m  \\\n",
       "0  http://images.amazon.com/images/P/0971880107.0...   \n",
       "1  http://images.amazon.com/images/P/0316666343.0...   \n",
       "2  http://images.amazon.com/images/P/0385504209.0...   \n",
       "3  http://images.amazon.com/images/P/0060928336.0...   \n",
       "4  http://images.amazon.com/images/P/0312195516.0...   \n",
       "\n",
       "                                         image_url_l  \\\n",
       "0  http://images.amazon.com/images/P/0971880107.0...   \n",
       "1  http://images.amazon.com/images/P/0316666343.0...   \n",
       "2  http://images.amazon.com/images/P/0385504209.0...   \n",
       "3  http://images.amazon.com/images/P/0060928336.0...   \n",
       "4  http://images.amazon.com/images/P/0312195516.0...   \n",
       "\n",
       "                                               genre  readers  active_ratings  \\\n",
       "0  Fiction, Spiritual life, Metaphysics, Adventur...     2504             581   \n",
       "1  Murder, Psychological fiction, Teenage girls, ...     1295             707   \n",
       "2  Suspense & Thriller, Spiritual Fiction, hieros...      885             489   \n",
       "3  Fiction, Literature, Conflict of generations, ...      732             320   \n",
       "4  Women in the Bible, Fiction, Religious fiction...      724             384   \n",
       "\n",
       "   avg_rating                                       mod_titles  \n",
       "0    4.390706                                      Wild Animus  \n",
       "1    8.185290                        The Lovely Bones  A Novel  \n",
       "2    8.437628                                The Da Vinci Code  \n",
       "3    7.887500  Divine Secrets of the Ya Ya Sisterhood  A Novel  \n",
       "4    8.182292              The Red Tent  Bestselling Backlist   "
      ]
     },
     "execution_count": 137,
     "metadata": {},
     "output_type": "execute_result"
    }
   ],
   "source": [
    "books_ratings[\"mod_titles\"] = books_ratings['book_title'].str.replace(\"[^a-zA-Z0-9]\", \" \", regex=True)    #removing special characters from book titles   \n",
    "books_ratings.head()"
   ]
  },
  {
   "cell_type": "code",
   "execution_count": 138,
   "metadata": {},
   "outputs": [],
   "source": [
    "books_ratings['mod_titles'] = books_ratings['mod_titles'].str.lower()    #converting book titles to lowercase\n",
    "books_ratings['mod_titles'] = books_ratings['mod_titles'].str.replace('\\s+', ' ', regex=True)    #removing extra spaces from book titles\n",
    "books_ratings = books_ratings[books_ratings['mod_titles'].str.len() > 0]    #removing rows with empty book titles"
   ]
  },
  {
   "cell_type": "code",
   "execution_count": 139,
   "metadata": {
    "execution": {
     "iopub.execute_input": "2024-09-07T17:00:34.737010Z",
     "iopub.status.busy": "2024-09-07T17:00:34.736927Z",
     "iopub.status.idle": "2024-09-07T17:00:34.849583Z",
     "shell.execute_reply": "2024-09-07T17:00:34.849257Z"
    }
   },
   "outputs": [],
   "source": [
    "#saving the average rating dataframe to a csv file'\n",
    "books_ratings.to_csv('data/books_rated.csv', sep=';', encoding='utf-8-sig', index=False)"
   ]
  },
  {
   "cell_type": "code",
   "execution_count": 141,
   "metadata": {},
   "outputs": [
    {
     "name": "stdout",
     "output_type": "stream",
     "text": [
      "<class 'pandas.core.frame.DataFrame'>\n",
      "RangeIndex: 195390 entries, 0 to 195389\n",
      "Data columns (total 13 columns):\n",
      " #   Column               Non-Null Count   Dtype  \n",
      "---  ------               --------------   -----  \n",
      " 0   isbn                 195390 non-null  object \n",
      " 1   book_title           195390 non-null  object \n",
      " 2   book_author          195390 non-null  object \n",
      " 3   year_of_publication  195390 non-null  int64  \n",
      " 4   publisher            195390 non-null  object \n",
      " 5   image_url_s          195390 non-null  object \n",
      " 6   image_url_m          195390 non-null  object \n",
      " 7   image_url_l          195390 non-null  object \n",
      " 8   genre                195390 non-null  object \n",
      " 9   readers              195390 non-null  int64  \n",
      " 10  active_ratings       195390 non-null  int64  \n",
      " 11  avg_rating           195390 non-null  float64\n",
      " 12  mod_titles           195390 non-null  object \n",
      "dtypes: float64(1), int64(3), object(9)\n",
      "memory usage: 19.4+ MB\n"
     ]
    }
   ],
   "source": [
    "books_ratings.info()"
   ]
  },
  {
   "cell_type": "code",
   "execution_count": 77,
   "metadata": {},
   "outputs": [],
   "source": [
    "books_sorted_readers = books_ratings.sort_values(by='readers', ascending=False)"
   ]
  },
  {
   "cell_type": "code",
   "execution_count": 44,
   "metadata": {
    "execution": {
     "iopub.execute_input": "2024-09-07T17:00:34.875679Z",
     "iopub.status.busy": "2024-09-07T17:00:34.875599Z",
     "iopub.status.idle": "2024-09-07T17:00:35.015079Z",
     "shell.execute_reply": "2024-09-07T17:00:35.014836Z"
    }
   },
   "outputs": [],
   "source": [
    "# # Plot the top rated books  with the highest rating count   \n",
    "# sns.barplot(x='mod_titles', y='readers', hue='avg_rating', data=books_sorted_readers, palette='viridis')\n",
    "# # plt.xticks(rotation=90)"
   ]
  },
  {
   "cell_type": "code",
   "execution_count": 28,
   "metadata": {
    "execution": {
     "iopub.execute_input": "2024-09-07T17:00:35.112558Z",
     "iopub.status.busy": "2024-09-07T17:00:35.112482Z",
     "iopub.status.idle": "2024-09-07T17:00:35.113927Z",
     "shell.execute_reply": "2024-09-07T17:00:35.113706Z"
    }
   },
   "outputs": [],
   "source": [
    "#books_ratings.drop('user_id', axis=1, inplace=True)   #dropping user_id column"
   ]
  },
  {
   "cell_type": "code",
   "execution_count": 78,
   "metadata": {
    "execution": {
     "iopub.execute_input": "2024-09-07T17:00:35.115151Z",
     "iopub.status.busy": "2024-09-07T17:00:35.115078Z",
     "iopub.status.idle": "2024-09-07T17:00:35.145550Z",
     "shell.execute_reply": "2024-09-07T17:00:35.145307Z"
    }
   },
   "outputs": [
    {
     "data": {
      "text/plain": [
       "0"
      ]
     },
     "execution_count": 78,
     "metadata": {},
     "output_type": "execute_result"
    }
   ],
   "source": [
    "books_ratings.duplicated().sum()"
   ]
  },
  {
   "cell_type": "code",
   "execution_count": 79,
   "metadata": {
    "execution": {
     "iopub.execute_input": "2024-09-07T17:00:35.146936Z",
     "iopub.status.busy": "2024-09-07T17:00:35.146855Z",
     "iopub.status.idle": "2024-09-07T17:00:35.150561Z",
     "shell.execute_reply": "2024-09-07T17:00:35.150343Z"
    }
   },
   "outputs": [
    {
     "data": {
      "text/plain": [
       "count    195390.000000\n",
       "mean          4.697866\n",
       "std          16.078477\n",
       "min           1.000000\n",
       "25%           1.000000\n",
       "50%           2.000000\n",
       "75%           4.000000\n",
       "max        2504.000000\n",
       "Name: readers, dtype: float64"
      ]
     },
     "execution_count": 79,
     "metadata": {},
     "output_type": "execute_result"
    }
   ],
   "source": [
    "books_ratings.readers.describe()"
   ]
  },
  {
   "cell_type": "code",
   "execution_count": 80,
   "metadata": {
    "execution": {
     "iopub.execute_input": "2024-09-07T17:00:35.151829Z",
     "iopub.status.busy": "2024-09-07T17:00:35.151758Z",
     "iopub.status.idle": "2024-09-07T17:00:35.244897Z",
     "shell.execute_reply": "2024-09-07T17:00:35.244651Z"
    }
   },
   "outputs": [
    {
     "data": {
      "text/plain": [
       "<Axes: ylabel='readers'>"
      ]
     },
     "execution_count": 80,
     "metadata": {},
     "output_type": "execute_result"
    },
    {
     "data": {
      "image/png": "[encoded data removed]",
      "text/plain": [
       "<Figure size 640x480 with 1 Axes>"
      ]
     },
     "metadata": {},
     "output_type": "display_data"
    }
   ],
   "source": [
    "sns.boxplot(books_ratings.readers)"
   ]
  },
  {
   "cell_type": "code",
   "execution_count": 142,
   "metadata": {
    "execution": {
     "iopub.execute_input": "2024-09-07T17:00:35.246365Z",
     "iopub.status.busy": "2024-09-07T17:00:35.246276Z",
     "iopub.status.idle": "2024-09-07T17:00:35.255331Z",
     "shell.execute_reply": "2024-09-07T17:00:35.255101Z"
    }
   },
   "outputs": [
    {
     "data": {
      "text/plain": [
       "171073"
      ]
     },
     "execution_count": 142,
     "metadata": {},
     "output_type": "execute_result"
    }
   ],
   "source": [
    "books_ratings['mod_titles'].nunique()"
   ]
  }
 ],
 "metadata": {
  "kernelspec": {
   "display_name": ".venv",
   "language": "python",
   "name": "python3"
  },
  "language_info": {
   "codemirror_mode": {
    "name": "ipython",
    "version": 3
   },
   "file_extension": ".py",
   "mimetype": "text/x-python",
   "name": "python",
   "nbconvert_exporter": "python",
   "pygments_lexer": "ipython3",
   "version": "3.11.3"
  }
 },
 "nbformat": 4,
 "nbformat_minor": 2
}
