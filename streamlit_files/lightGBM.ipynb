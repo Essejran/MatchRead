{
 "cells": [
  {
   "cell_type": "code",
   "execution_count": 4,
   "metadata": {},
   "outputs": [],
   "source": [
    "from sklearn.linear_model import LogisticRegression\n",
    "from sklearn.model_selection import train_test_split\n",
    "from sklearn.metrics import roc_auc_score, recall_score\n",
    "from scipy.sparse import csr_matrix\n",
    "import pandas as pd\n",
    "from sklearn.decomposition import PCA\n",
    "from loading_datasets import load_data"
   ]
  },
  {
   "cell_type": "code",
   "execution_count": 5,
   "metadata": {},
   "outputs": [],
   "source": [
    "# Load the dataset\n",
    "books_users_ratings = load_data()[1]\n",
    "\n",
    "# Convert 'user_id', 'isbn', and 'year_of_publication' to strings\n",
    "books_users_ratings['user_id'] = books_users_ratings['user_id'].astype(int).astype(str)\n",
    "books_users_ratings['isbn'] = books_users_ratings['isbn'].astype(str)\n",
    "books_users_ratings['year_of_publication'] = books_users_ratings['year_of_publication'].astype(str)\n",
    "books_users_ratings['individual_rating'] = books_users_ratings['individual_rating'].astype('int32')\n",
    "books_users_ratings['avg_rating'] = books_users_ratings['avg_rating'].astype('int32')\n",
    "books_users_ratings['nr_ratings'] = books_users_ratings['nr_ratings'].astype('int32')"
   ]
  },
  {
   "cell_type": "code",
   "execution_count": 6,
   "metadata": {},
   "outputs": [],
   "source": [
    "df = books_users_ratings.copy()"
   ]
  },
  {
   "cell_type": "code",
   "execution_count": 7,
   "metadata": {},
   "outputs": [
    {
     "ename": "",
     "evalue": "",
     "output_type": "error",
     "traceback": [
      "\u001b[1;31mThe Kernel crashed while executing code in the current cell or a previous cell. \n",
      "\u001b[1;31mPlease review the code in the cell(s) to identify a possible cause of the failure. \n",
      "\u001b[1;31mClick <a href='https://aka.ms/vscodeJupyterKernelCrash'>here</a> for more info. \n",
      "\u001b[1;31mView Jupyter <a href='command:jupyter.viewOutput'>log</a> for further details."
     ]
    }
   ],
   "source": [
    "# Prepare features and target\n",
    "X = df[['user_id', 'isbn', 'genre', \"book_author\", \"avg_rating\", \"nr_ratings\"]]\n",
    "\n",
    "# Convert categorical features to numeric\n",
    "X = pd.get_dummies(X)\n",
    "\n",
    "# Convert to sparse csr matrix\n",
    "X = csr_matrix(X)"
   ]
  },
  {
   "cell_type": "code",
   "execution_count": 4,
   "metadata": {},
   "outputs": [],
   "source": [
    "# Apply PCA to reduce dimensionality\n",
    "pca = PCA(n_components=5)  # Adjust the number of components as needed\n",
    "X = pca.fit_transform(X)\n",
    "\n",
    "# Convert continuous target to binary (e.g., 1 for ratings >= 7, 0 for the rest)\n",
    "y = (df['individual_rating'] >= 7).astype('int32')\n",
    "\n",
    "# Train-test split\n",
    "X_train, X_test, y_train, y_test = train_test_split(X, y, test_size=0.2, random_state=42)"
   ]
  }
 ],
 "metadata": {
  "kernelspec": {
   "display_name": ".venv",
   "language": "python",
   "name": "python3"
  },
  "language_info": {
   "codemirror_mode": {
    "name": "ipython",
    "version": 3
   },
   "file_extension": ".py",
   "mimetype": "text/x-python",
   "name": "python",
   "nbconvert_exporter": "python",
   "pygments_lexer": "ipython3",
   "version": "3.11.3"
  }
 },
 "nbformat": 4,
 "nbformat_minor": 2
}
