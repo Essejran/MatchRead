{
 "cells": [
  {
   "cell_type": "code",
   "execution_count": 1,
   "metadata": {},
   "outputs": [
    {
     "name": "stderr",
     "output_type": "stream",
     "text": [
      "/Users/susanneferschl/neuefische2/MatchRead/.venv/lib/python3.11/site-packages/lightfm/_lightfm_fast.py:9: UserWarning: LightFM was compiled without OpenMP support. Only a single thread will be used.\n",
      "  warnings.warn(\n"
     ]
    }
   ],
   "source": [
    "import pandas as pd\n",
    "from lightfm import LightFM\n",
    "from lightfm.data import Dataset\n",
    "import numpy as np\n",
    "\n",
    "# Load the dataset\n",
    "all_cleaned = pd.read_csv('data/all_cleaned.csv', usecols=['user_id', 'isbn', 'book_rating', 'mod_book_title', 'mod_book_author', 'genre'])\n",
    "\n",
    "# Convert 'user_id' and 'isbn' to strings to ensure compatibility with LightFM\n",
    "all_cleaned['user_id'] = all_cleaned['user_id'].astype(str)\n",
    "all_cleaned['isbn'] = all_cleaned['isbn'].astype(str)\n"
   ]
  },
  {
   "cell_type": "code",
   "execution_count": 2,
   "metadata": {},
   "outputs": [
    {
     "name": "stdout",
     "output_type": "stream",
     "text": [
      "                                                    genre categorized_genre\n",
      "0                                                 unknown           Unknown\n",
      "1                                                 unknown           Unknown\n",
      "2                                                 unknown           Unknown\n",
      "3                                                 unknown           Unknown\n",
      "4                                                 unknown           Unknown\n",
      "...                                                   ...               ...\n",
      "183595  Accident victims, American fiction (fictional ...           Fiction\n",
      "183596  Open Library Staff Picks, Satire, War stories,...           Fiction\n",
      "183597                                Error fetching data           Unknown\n",
      "183598  Bicycle touring, Description and travel, Journ...        Guidebooks\n",
      "183599  Bicycle touring, Description and travel, Journ...        Guidebooks\n",
      "\n",
      "[183600 rows x 2 columns]\n"
     ]
    }
   ],
   "source": [
    "# categorize genre\n",
    "\n",
    "# Define the genre mapping\n",
    "genre_mapping = {\n",
    "    'fiction': 'Fiction',\n",
    "    'romance': 'Romance',\n",
    "    'historical': 'Historical Fiction',\n",
    "    'thrillers': 'Thriller',\n",
    "    'suspense': 'Suspense',\n",
    "    'juvenile fiction': 'Juvenile Fiction',\n",
    "    'children\\'s literature': 'Children\\'s Literature',\n",
    "    'guidebooks': 'Guidebooks',\n",
    "    'poetry': 'Poetry',\n",
    "    'songs': 'Music',\n",
    "    'ballads': 'Music',\n",
    "    'unknown': 'Unknown',\n",
    "    'error fetching data': 'Unknown'\n",
    "}\n",
    "\n",
    "# Function to categorize genres\n",
    "def categorize_genre(genre):\n",
    "    genre_lower = genre.lower()\n",
    "    for keyword, category in genre_mapping.items():\n",
    "        if keyword in genre_lower:\n",
    "            return category\n",
    "    return 'Other'\n",
    "\n",
    "# Apply the function to the genre column\n",
    "all_cleaned['categorized_genre'] = all_cleaned['genre'].apply(categorize_genre)\n",
    "\n",
    "print(all_cleaned[['genre', 'categorized_genre']])"
   ]
  },
  {
   "cell_type": "code",
   "execution_count": 3,
   "metadata": {},
   "outputs": [
    {
     "name": "stdout",
     "output_type": "stream",
     "text": [
      "<class 'pandas.core.frame.DataFrame'>\n",
      "RangeIndex: 183600 entries, 0 to 183599\n",
      "Data columns (total 6 columns):\n",
      " #   Column             Non-Null Count   Dtype  \n",
      "---  ------             --------------   -----  \n",
      " 0   isbn               183600 non-null  object \n",
      " 1   user_id            183600 non-null  object \n",
      " 2   book_rating        183600 non-null  float64\n",
      " 3   mod_book_author    183600 non-null  object \n",
      " 4   mod_book_title     183600 non-null  object \n",
      " 5   categorized_genre  183600 non-null  object \n",
      "dtypes: float64(1), object(5)\n",
      "memory usage: 8.4+ MB\n"
     ]
    }
   ],
   "source": [
    "# dropping the genre column\n",
    "all_cleaned = all_cleaned.drop(columns=['genre'])\n",
    "all_cleaned.info()"
   ]
  },
  {
   "cell_type": "code",
   "execution_count": 4,
   "metadata": {},
   "outputs": [],
   "source": [
    "# Create a LightFM dataset object\n",
    "dataset = Dataset()\n",
    "\n",
    "# Fit the dataset to include all unique users, items, and item features\n",
    "dataset.fit(\n",
    "    users=all_cleaned['user_id'].unique(),\n",
    "    items=all_cleaned['isbn'].unique(),\n",
    "    item_features=(all_cleaned['mod_book_author'].unique().tolist() + \n",
    "                   all_cleaned['categorized_genre'].unique().tolist())\n",
    ")\n",
    "\n",
    "# Build the user-item interaction matrix based on explicit feedback (book_rating)\n",
    "(interactions, weights) = dataset.build_interactions(\n",
    "    [(x[0], x[1], x[2]) for x in all_cleaned[['user_id', 'isbn', 'book_rating']].values]\n",
    "\n",
    ")\n",
    "\n",
    "# Retrieve user and item mappings\n",
    "\n",
    "user_mapping = {user_id: idx for idx, user_id in enumerate(all_cleaned['user_id'].unique())}\n",
    "item_mapping = {isbn: idx for idx, isbn in enumerate(all_cleaned['isbn'].unique())}\n",
    "isbn_info = {row['isbn']: {'mod_book_title': row['mod_book_title'], 'mod_book_author': row['mod_book_author']} for _, row in all_cleaned.iterrows()}\n",
    "\n"
   ]
  },
  {
   "cell_type": "code",
   "execution_count": 6,
   "metadata": {},
   "outputs": [],
   "source": [
    "#Create item features by combining author and genre\n",
    "item_features = dataset.build_item_features(\n",
    "    [(row['isbn'], [row['mod_book_author'], row['categorized_genre']]) for _, row in all_cleaned.iterrows()]\n",
    ")\n"
   ]
  },
  {
   "cell_type": "code",
   "execution_count": 7,
   "metadata": {},
   "outputs": [
    {
     "data": {
      "text/plain": [
       "<lightfm.lightfm.LightFM at 0x108440790>"
      ]
     },
     "execution_count": 7,
     "metadata": {},
     "output_type": "execute_result"
    }
   ],
   "source": [
    "# Define the LightFM model using the logistic loss function for explicit feedback\n",
    "model = LightFM(loss='logistic')\n",
    "\n",
    "# Train the model on the interactions matrix with item features\n",
    "model.fit(interactions, item_features=item_features, epochs=30, num_threads=2)\n"
   ]
  },
  {
   "cell_type": "code",
   "execution_count": 7,
   "metadata": {},
   "outputs": [
    {
     "data": {
      "text/plain": [
       "0     16634.0\n",
       "1     87141.0\n",
       "2    169736.0\n",
       "3    208406.0\n",
       "4    230496.0\n",
       "Name: user_id, dtype: object"
      ]
     },
     "execution_count": 7,
     "metadata": {},
     "output_type": "execute_result"
    }
   ],
   "source": [
    "all_cleaned.user_id.head()"
   ]
  },
  {
   "cell_type": "code",
   "execution_count": 8,
   "metadata": {},
   "outputs": [],
   "source": [
    "# Define the recommend_books function\n",
    "def recommend_books(model, interactions, user_id, user_mapping, item_mapping, isbn_info, num_recommendations=5):\n",
    "    # Ensure the user_id is a string\n",
    "    user_id = str(user_id)\n",
    "\n",
    "    # Check if the user_id exists in the user mapping\n",
    "    if user_id not in user_mapping:\n",
    "        raise ValueError(f\"User ID {user_id} is not found in the dataset.\")\n",
    "\n",
    "    # Get the internal index for the user_id\n",
    "    user_idx = user_mapping[user_id]\n",
    "\n",
    "    # Predict scores for all items for the given user\n",
    "    scores = model.predict(user_idx, np.arange(interactions.shape[1]))\n",
    "\n",
    "    # Get the indices of the top scores\n",
    "    top_items = np.argsort(-scores)[:num_recommendations]\n",
    "\n",
    "    # Map the indices back to ISBNs and fetch their title and author\n",
    "    recommended_books = []\n",
    "    for item in top_items:\n",
    "        isbn = list(item_mapping.keys())[list(item_mapping.values()).index(item)]\n",
    "        book_info = isbn_info.get(isbn, {'mod_book_title': 'Unknown Title', 'mod_book_author': 'Unknown Author'})\n",
    "        recommended_books.append({'isbn': isbn, 'title': book_info['mod_book_title'], 'author': book_info['mod_book_author']})\n",
    "\n",
    "    return recommended_books"
   ]
  },
  {
   "cell_type": "code",
   "execution_count": 9,
   "metadata": {},
   "outputs": [
    {
     "name": "stdout",
     "output_type": "stream",
     "text": [
      "ISBN: 1883938813, Title: the ghost dance insurrection a jazzman novel, Author: jack random\n",
      "ISBN: 1878093401, Title: marvin composes a tea and other humorous stories, Author: judith hunt\n",
      "ISBN: 1878093398, Title: the ghostly bell ringer and other mysteries, Author: highlights for children\n",
      "ISBN: 679721886, Title: the woman warrior memoirs of a girlhood among ghosts, Author: maxine hong kingston\n",
      "ISBN: 1863733671, Title: on writing books for children, Author: jenny wagner\n"
     ]
    }
   ],
   "source": [
    "# Example usage\n",
    "user_id_to_recommend = '16634.0'  # Replace with an actual user_id from your dataset\n",
    "\n",
    "try:\n",
    "    # Generate recommendations\n",
    "    recommended_books = recommend_books(model, interactions, user_id_to_recommend, user_mapping, item_mapping, isbn_info)\n",
    "    \n",
    "    # Display the recommended books with titles and authors\n",
    "    for book in recommended_books:\n",
    "        print(f\"ISBN: {book['isbn']}, Title: {book['title']}, Author: {book['author']}\")\n",
    "except ValueError as e:\n",
    "    print(e)"
   ]
  }
 ],
 "metadata": {
  "kernelspec": {
   "display_name": ".venv",
   "language": "python",
   "name": "python3"
  },
  "language_info": {
   "codemirror_mode": {
    "name": "ipython",
    "version": 3
   },
   "file_extension": ".py",
   "mimetype": "text/x-python",
   "name": "python",
   "nbconvert_exporter": "python",
   "pygments_lexer": "ipython3",
   "version": "3.11.3"
  }
 },
 "nbformat": 4,
 "nbformat_minor": 2
}
