{
 "cells": [
  {
   "cell_type": "code",
   "execution_count": null,
   "metadata": {},
   "outputs": [],
   "source": [
    "# run on colab\n",
    "!pip install surprise"
   ]
  },
  {
   "cell_type": "code",
   "execution_count": null,
   "metadata": {},
   "outputs": [],
   "source": [
    "import pandas as pd\n",
    "import numpy as np\n",
    "from copy import copy\n",
    "from surprise import Dataset\n",
    "from surprise import Reader\n",
    "from surprise import KNNWithMeans, SVD\n",
    "from surprise.model_selection import GridSearchCV\n",
    "from surprise.model_selection import train_test_split\n",
    "from surprise import accuracy\n",
    "from collections import defaultdict"
   ]
  },
  {
   "cell_type": "markdown",
   "metadata": {},
   "source": [
    "#### We want to find users with similar taste in books and try to predict what we will like based on what they like ####"
   ]
  },
  {
   "cell_type": "markdown",
   "metadata": {},
   "source": [
    "##### step 1: what do I like? #####"
   ]
  },
  {
   "cell_type": "code",
   "execution_count": null,
   "metadata": {},
   "outputs": [],
   "source": [
    "data = pd.read_csv('data/books_ratings.csv')\n",
    "data.head()"
   ]
  },
  {
   "cell_type": "code",
   "execution_count": null,
   "metadata": {},
   "outputs": [],
   "source": [
    "average_rating = pd.read_csv('data/AverageRatingdf.csv')\n",
    "average_rating.head()"
   ]
  },
  {
   "cell_type": "code",
   "execution_count": null,
   "metadata": {},
   "outputs": [],
   "source": [
    "data['user_id'] = data['user_id'].astype('str') "
   ]
  },
  {
   "cell_type": "code",
   "execution_count": null,
   "metadata": {},
   "outputs": [],
   "source": [
    "# filtering user_id who read and rated more than 15 books\n",
    "user_counts = data['user_id'].value_counts()\n",
    "data_users = data[data['user_id'].isin(user_counts[user_counts >= 15].index)]\n",
    "data_users.sample(10)"
   ]
  },
  {
   "cell_type": "code",
   "execution_count": null,
   "metadata": {},
   "outputs": [],
   "source": [
    "# creating list of books for one reference user\n",
    "\n",
    "books_read = data[data['user_id'] == '114368']\n",
    "books_read "
   ]
  },
  {
   "cell_type": "code",
   "execution_count": null,
   "metadata": {},
   "outputs": [],
   "source": [
    "# find similar users"
   ]
  },
  {
   "cell_type": "code",
   "execution_count": null,
   "metadata": {},
   "outputs": [],
   "source": [
    "# create a set of all the unique books that user has read\n",
    "# create a set of all the unique books that user has read, including user_id\n",
    "\n",
    "unique_books = set(books_read['isbn'])"
   ]
  },
  {
   "cell_type": "code",
   "execution_count": null,
   "metadata": {},
   "outputs": [],
   "source": [
    "len(unique_books)"
   ]
  },
  {
   "cell_type": "code",
   "execution_count": null,
   "metadata": {},
   "outputs": [],
   "source": [
    "# store any user that read the same book as us in the overlap_users dictionary\n",
    "overlap_users = {}\n",
    "\n",
    "# overlap_users is a dictionary with key = user_id and value is count of times that reader read a book that we also read  \n",
    "for book in unique_books:\n",
    "    for user in data[data['isbn'] == book]['user_id']:\n",
    "        if user != '114368':\n",
    "            if user in overlap_users:\n",
    "                overlap_users[user] += 1\n",
    "            else:\n",
    "                overlap_users[user] = 1\n"
   ]
  },
  {
   "cell_type": "code",
   "execution_count": null,
   "metadata": {},
   "outputs": [],
   "source": [
    "len(overlap_users)  "
   ]
  },
  {
   "cell_type": "code",
   "execution_count": null,
   "metadata": {},
   "outputs": [],
   "source": [
    "overlap_users"
   ]
  },
  {
   "cell_type": "code",
   "execution_count": null,
   "metadata": {},
   "outputs": [],
   "source": [
    "print(overlap_users)"
   ]
  },
  {
   "cell_type": "code",
   "execution_count": null,
   "metadata": {},
   "outputs": [],
   "source": [
    "unique_books"
   ]
  },
  {
   "cell_type": "code",
   "execution_count": null,
   "metadata": {},
   "outputs": [],
   "source": [
    "import pandas as pd\n",
    "\n",
    "# Ensure books_read is a DataFrame\n",
    "if not isinstance(unique_books, pd.DataFrame):\n",
    "    unique_books = pd.DataFrame(unique_books, columns=[\"isbn\"])\n",
    "\n",
    "# Print overlap_users dictionary\n",
    "print(\"overlap_users:\", overlap_users)\n",
    "\n",
    "# Print books_read shape\n",
    "print(\"books_read.shape:\", books_read.shape)\n",
    "\n",
    "# Print intermediate results\n",
    "for k in overlap_users:\n",
    "    print(f\"User: {k}, Count: {overlap_users[k]}, Threshold: {unique_books.shape[0] / 5}\")\n",
    "\n",
    "# Filter users who have read at least 20% of the same books\n",
    "filtered_overlap_users = {k for k in overlap_users if overlap_users[k] > unique_books.shape[0] / 5}\n",
    "\n",
    "# Print filtered_overlap_users\n",
    "print(\"filtered_overlap_users:\", filtered_overlap_users)"
   ]
  },
  {
   "cell_type": "code",
   "execution_count": null,
   "metadata": {},
   "outputs": [],
   "source": [
    "filtered_overlap_users  "
   ]
  },
  {
   "cell_type": "code",
   "execution_count": null,
   "metadata": {},
   "outputs": [],
   "source": [
    "# get the isbn and ratings of the books that these users have read\n",
    "\n",
    "# Create a dataframe that contains all user_ids that are in filtered_overlap_users and add isbn and book_rating\n",
    "filtered_overlap_data = data[data['user_id'].isin(filtered_overlap_users)][['user_id', 'isbn', 'book_rating']]\n",
    "filtered_overlap_data\n",
    "\n",
    "\n",
    "\n",
    "\n",
    "\n",
    "\n"
   ]
  },
  {
   "cell_type": "markdown",
   "metadata": {},
   "source": [
    "### For collaborative filtering: create a user / book matrix ###"
   ]
  },
  {
   "cell_type": "code",
   "execution_count": null,
   "metadata": {},
   "outputs": [],
   "source": [
    "unique_books"
   ]
  },
  {
   "cell_type": "code",
   "execution_count": null,
   "metadata": {},
   "outputs": [],
   "source": [
    "# every row if the matrix will be a different user and every column of the matrix will be a different book containing teh rating of that user for that book\n",
    "\n",
    "# first we need to concatenate the ratings of the picked user (id = 114368) with the filtered_overlap_data\n",
    "\n",
    "# Create a DataFrame with the ratings of the picked user\n",
    "\n",
    "# Filter the original DataFrame by user_id\n",
    "filtered_data = data[data['user_id'] == '114368']\n",
    "\n",
    "# Merge unique_books with the filtered data to add 'book_rating' and 'user_id' columns\n",
    "unique_books = unique_books.merge(filtered_data[['isbn','user_id', 'book_rating', 'book_title']], on='isbn', how='left')\n",
    "\n",
    "unique_books\n",
    "\n",
    "\n",
    "\n",
    "\n",
    "\n",
    "\n"
   ]
  },
  {
   "cell_type": "code",
   "execution_count": null,
   "metadata": {},
   "outputs": [],
   "source": [
    "# concat the unique_books and filtered_overlap_data\n",
    "filtered_overlap_data = pd.concat([unique_books, filtered_overlap_data])\n",
    "filtered_overlap_data"
   ]
  },
  {
   "cell_type": "code",
   "execution_count": null,
   "metadata": {},
   "outputs": [],
   "source": [
    "filtered_overlap_data['book_rating'] = pd.to_numeric(filtered_overlap_data['book_rating'])"
   ]
  },
  {
   "cell_type": "code",
   "execution_count": null,
   "metadata": {},
   "outputs": [],
   "source": [
    "filtered_overlap_data['user_id'].unique()"
   ]
  },
  {
   "cell_type": "code",
   "execution_count": null,
   "metadata": {},
   "outputs": [],
   "source": [
    "# create a user_index for each user_id\n",
    "# category function creates for each user_id a category and then we can use cat.codes to get the index of the user\n",
    "\n",
    "filtered_overlap_data['user_index'] = filtered_overlap_data['user_id'].astype('category').cat.codes\n",
    "filtered_overlap_data.iloc[0]"
   ]
  },
  {
   "cell_type": "code",
   "execution_count": null,
   "metadata": {},
   "outputs": [],
   "source": [
    "len(filtered_overlap_data['user_index'].unique())"
   ]
  },
  {
   "cell_type": "code",
   "execution_count": null,
   "metadata": {},
   "outputs": [],
   "source": [
    "# do teh same thing with the isbn\n",
    "filtered_overlap_data['isbn_index'] = filtered_overlap_data['isbn'].astype('category').cat.codes\n",
    "filtered_overlap_data.iloc[0]"
   ]
  },
  {
   "cell_type": "code",
   "execution_count": null,
   "metadata": {},
   "outputs": [],
   "source": [
    "len(filtered_overlap_data['isbn_index'].unique())"
   ]
  },
  {
   "cell_type": "code",
   "execution_count": null,
   "metadata": {},
   "outputs": [],
   "source": [
    "# creating a sparse matrix (doesn't take any memory if there is no rating for a book)\n",
    "\n",
    "from scipy.sparse import coo_matrix\n",
    "\n",
    "ratings_coo_mat = coo_matrix((filtered_overlap_data['book_rating'], (filtered_overlap_data['user_index'], filtered_overlap_data['isbn_index'])))"
   ]
  },
  {
   "cell_type": "code",
   "execution_count": null,
   "metadata": {},
   "outputs": [],
   "source": [
    "ratings_coo_mat"
   ]
  },
  {
   "cell_type": "code",
   "execution_count": null,
   "metadata": {},
   "outputs": [],
   "source": [
    "ratings_mat = ratings_coo_mat.tocsr()"
   ]
  },
  {
   "cell_type": "code",
   "execution_count": null,
   "metadata": {},
   "outputs": [],
   "source": [
    "filtered_overlap_data[filtered_overlap_data['user_id'] == '114368']"
   ]
  },
  {
   "cell_type": "code",
   "execution_count": null,
   "metadata": {},
   "outputs": [],
   "source": [
    "# setting the chossen user_index to 'my_index'\n",
    "\n",
    "my_index = 0"
   ]
  },
  {
   "cell_type": "code",
   "execution_count": null,
   "metadata": {},
   "outputs": [],
   "source": [
    "# use cosine similarity to see how similar each user is to us\n",
    "\n",
    "from sklearn.metrics.pairwise import cosine_similarity\n",
    "\n",
    "similarity = cosine_similarity(ratings_mat[my_index, :], ratings_mat).flatten()"
   ]
  },
  {
   "cell_type": "code",
   "execution_count": null,
   "metadata": {},
   "outputs": [],
   "source": [
    "# how similar are we to ourself?\n",
    "\n",
    "similarity[my_index]"
   ]
  },
  {
   "cell_type": "code",
   "execution_count": null,
   "metadata": {},
   "outputs": [],
   "source": [
    "#how similar are we to the other users?\n",
    "similarity[2]"
   ]
  },
  {
   "cell_type": "code",
   "execution_count": null,
   "metadata": {},
   "outputs": [],
   "source": [
    "# find indices (= position) for 4 users most similar to us\n",
    "import numpy as np\n",
    "\n",
    "indices = np.argpartition(similarity, -4)[-4:]"
   ]
  },
  {
   "cell_type": "code",
   "execution_count": null,
   "metadata": {},
   "outputs": [],
   "source": [
    "indices"
   ]
  },
  {
   "cell_type": "code",
   "execution_count": null,
   "metadata": {},
   "outputs": [],
   "source": [
    "# find the user_id for the 4 most similar users\n",
    "\n",
    "similar_users = filtered_overlap_data[filtered_overlap_data['user_index'].isin(indices)].copy()"
   ]
  },
  {
   "cell_type": "code",
   "execution_count": null,
   "metadata": {},
   "outputs": [],
   "source": [
    "#takes ourselv out of the list\n",
    "similar_users = similar_users[similar_users['user_id'] != '114368']\n"
   ]
  },
  {
   "cell_type": "code",
   "execution_count": null,
   "metadata": {},
   "outputs": [],
   "source": [
    "book_recs = similar_users.groupby('isbn').book_rating.agg(['count', 'mean'])"
   ]
  },
  {
   "cell_type": "code",
   "execution_count": null,
   "metadata": {},
   "outputs": [],
   "source": [
    "book_recs  "
   ]
  },
  {
   "cell_type": "code",
   "execution_count": null,
   "metadata": {},
   "outputs": [],
   "source": [
    "# include book_titles in book_recs\n",
    "# Drop duplicates in the data DataFrame based on the 'isbn' column\n",
    "unique_isbn = average_rating[['isbn', 'book_title', 'rating_count', 'mod_titles']].drop_duplicates(subset='isbn')\n",
    "\n",
    "# Merge book_recs with the unique_data to add 'book_title' column\n",
    "book_recs = book_recs.merge(unique_isbn, on='isbn', how='inner')"
   ]
  },
  {
   "cell_type": "code",
   "execution_count": null,
   "metadata": {},
   "outputs": [],
   "source": [
    "book_recs"
   ]
  },
  {
   "cell_type": "markdown",
   "metadata": {},
   "source": [
    "### Ranking book rocemmendations ###"
   ]
  },
  {
   "cell_type": "markdown",
   "metadata": {},
   "source": [
    "#### create adjusted book count, e.g. normalized for the count books appeared among people like us vs the rest of people ####"
   ]
  },
  {
   "cell_type": "code",
   "execution_count": null,
   "metadata": {},
   "outputs": [],
   "source": [
    "# Find books that are specifically tailored to our taste\n",
    "book_recs['adjusted_count'] = book_recs['count'] * (book_recs['count'] / book_recs['rating_count'])"
   ]
  },
  {
   "cell_type": "code",
   "execution_count": null,
   "metadata": {},
   "outputs": [],
   "source": [
    "# how many times was the book recommmended by users like us?\n",
    "book_recs['score'] = book_recs['mean'] * book_recs['adjusted_count']    "
   ]
  },
  {
   "cell_type": "code",
   "execution_count": null,
   "metadata": {},
   "outputs": [],
   "source": [
    "# take out books that we have already read\n",
    "\n",
    "book_recs = book_recs[~book_recs['isbn'].isin(unique_books['isbn'])]    "
   ]
  },
  {
   "cell_type": "code",
   "execution_count": null,
   "metadata": {},
   "outputs": [],
   "source": [
    "# removing duplicate titles\n",
    "book_recs = book_recs[~book_recs['book_title'].isin(unique_books['book_title'])]   "
   ]
  },
  {
   "cell_type": "code",
   "execution_count": null,
   "metadata": {},
   "outputs": [],
   "source": [
    "# at least 2 users similar to us have to have read the book\n",
    "book_recs = book_recs[book_recs['count'] > 2]"
   ]
  },
  {
   "cell_type": "code",
   "execution_count": null,
   "metadata": {},
   "outputs": [],
   "source": [
    "book_recs = book_recs[book_recs['mean'] > 4]"
   ]
  },
  {
   "cell_type": "code",
   "execution_count": null,
   "metadata": {},
   "outputs": [],
   "source": [
    "top_10_recs = book_recs.sort_values('score', ascending=False).head(10)  \n",
    "top_10_recs"
   ]
  }
 ],
 "metadata": {
  "kernelspec": {
   "display_name": ".venv",
   "language": "python",
   "name": "python3"
  },
  "language_info": {
   "codemirror_mode": {
    "name": "ipython",
    "version": 3
   },
   "file_extension": ".py",
   "mimetype": "text/x-python",
   "name": "python",
   "nbconvert_exporter": "python",
   "pygments_lexer": "ipython3",
   "version": "3.11.3"
  }
 },
 "nbformat": 4,
 "nbformat_minor": 2
}
