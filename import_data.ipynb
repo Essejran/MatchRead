{
 "cells": [
  {
   "cell_type": "code",
   "execution_count": 18,
   "metadata": {},
   "outputs": [
    {
     "name": "stdout",
     "output_type": "stream",
     "text": [
      "Dataset books.csv loaded successfully\n"
     ]
    }
   ],
   "source": [
    "import pandas as pd\n",
    "\n",
    "# Load the dataset\n",
    "books_df = pd.read_csv('data/books.csv', sep=',', header=0)\n",
    "# Error while loading the data pointed out some commas in the Author column, \n",
    "# after removing those commas (or replacing them with a \"/\"), the data loaded correctly\n",
    "print(\"Dataset books.csv loaded successfully\")"
   ]
  },
  {
   "cell_type": "code",
   "execution_count": 2,
   "metadata": {},
   "outputs": [],
   "source": [
    "# the \\t\\t\\t at the end of the publisher column seems to be a parsing error, let's have a look\n",
    "# print(books_df.columns)  # Check column names\n",
    "# print(books_df.head())   # Check the first few rows"
   ]
  },
  {
   "cell_type": "code",
   "execution_count": 19,
   "metadata": {},
   "outputs": [],
   "source": [
    "# Since we don't seem to have lost any data, let's remove the \\t\\t\\t from the publisher column\n",
    "books_df.rename(columns=lambda x: x.strip().replace('\\t\\t\\t', ''), inplace=True)\n",
    "books_df['publisher'] = books_df['publisher'].str.replace('\\t\\t\\t', '').str.strip()\n",
    "\n",
    "# print(books_df.columns)  # Check column names\n",
    "# print(books_df.head())   # Check the first few rows"
   ]
  },
  {
   "cell_type": "code",
   "execution_count": 4,
   "metadata": {},
   "outputs": [],
   "source": [
    "# Since there seems to be several spellings/wordings for the same publisher, \n",
    "# let's have a look at the unique values in the publisher column\n",
    "# unique_publishers = sorted(books_df['publisher'].unique().tolist())\n",
    "# for publisher in unique_publishers:\n",
    "#    print(publisher)\n",
    "# Looks like a lot of the publishers are the same, but with different spellings or wordings\n",
    "# Perhaps some approach like stemming would work well"
   ]
  },
  {
   "cell_type": "code",
   "execution_count": null,
   "metadata": {},
   "outputs": [],
   "source": [
    "# Since isbn and isbn13 are the same thing and isbn13 is the newer, \n",
    "# globally applied format, we will drop isbn and keep isbn13\n",
    "books_df.drop('isbn', axis=1, inplace=True)\n",
    "print(\"isbn column dropped, isbn13 column kept\")"
   ]
  },
  {
   "cell_type": "code",
   "execution_count": null,
   "metadata": {},
   "outputs": [],
   "source": [
    "# Replace language codes with 'en'\n",
    "books_df['language_code'] = books_df['language_code'].replace({'en-US': 'en', 'en-GB': 'en', 'en-CA': 'en', 'eng': 'en'})\n",
    "print(\"Language codes eng, en-US, en-GB, en-CA unified to 'en'\")"
   ]
  },
  {
   "cell_type": "code",
   "execution_count": null,
   "metadata": {},
   "outputs": [],
   "source": [
    "# Looked up the publication dates for the books with missing publication dates\n",
    "books_df.iloc[books_df[books_df['isbn13'] == 9780553575101].index, books_df.columns.get_loc('publication_date')] = '10/31/2000'\n",
    "books_df.iloc[books_df[books_df['isbn13'] == 9782070323289].index, books_df.columns.get_loc('publication_date')] = '06/01/1982'\n",
    "print(\"Missing publication dates filled in\")\n",
    "print(\"2nd (large) dataset is being downloaded...\")"
   ]
  },
  {
   "cell_type": "markdown",
   "metadata": {},
   "source": [
    "#### Import the large datasets found [here](https://drive.google.com/file/d/1JTY2O32QSn4L3UCB-BxeL0qY-5D1DCIz/view?usp=drive_link)"
   ]
  },
  {
   "cell_type": "code",
   "execution_count": 5,
   "metadata": {},
   "outputs": [
    {
     "name": "stdout",
     "output_type": "stream",
     "text": [
      "Dataset downloaded and saved as data/books2.csv\n"
     ]
    }
   ],
   "source": [
    "import os\n",
    "import requests\n",
    "\n",
    "# Direct download link (embed the file ID directly in the URL)\n",
    "url = \"https://drive.google.com/uc?export=download&id=1JTY2O32QSn4L3UCB-BxeL0qY-5D1DCIz\"\n",
    "\n",
    "# Download and save the file in the 'data/' folder\n",
    "with open(\"data/books2.csv\", \"wb\") as file:\n",
    "    file.write(requests.get(url).content)\n",
    "\n",
    "print(\"Dataset downloaded and saved as data/books2.csv\")"
   ]
  },
  {
   "cell_type": "code",
   "execution_count": 6,
   "metadata": {},
   "outputs": [
    {
     "name": "stdout",
     "output_type": "stream",
     "text": [
      "Dataset downloaded and saved as data/users.csv\n"
     ]
    }
   ],
   "source": [
    "# Users\n",
    "url = \"https://drive.google.com/uc?export=download&id=1i9xdUCFn052HqrFQXSYHEAo0_9vcZjgU\"\n",
    "\n",
    "# Download and save the file in the 'data/' folder\n",
    "with open(\"data/users.csv\", \"wb\") as file:\n",
    "    file.write(requests.get(url).content)\n",
    "\n",
    "print(\"Dataset downloaded and saved as data/users.csv\")"
   ]
  },
  {
   "cell_type": "code",
   "execution_count": 7,
   "metadata": {},
   "outputs": [
    {
     "name": "stdout",
     "output_type": "stream",
     "text": [
      "Dataset downloaded and saved as data/ratings.csv\n"
     ]
    }
   ],
   "source": [
    "# ratings\n",
    "url = \"https://drive.google.com/uc?export=download&id=11ckhvFWy_n4br-_UEZW3Aci3cgClYRqD\"\n",
    "\n",
    "# Download and save the file in the 'data/' folder\n",
    "with open(\"data/ratings.csv\", \"wb\") as file:\n",
    "    file.write(requests.get(url).content)\n",
    "\n",
    "print(\"Dataset downloaded and saved as data/ratings.csv\")"
   ]
  },
  {
   "cell_type": "code",
   "execution_count": 14,
   "metadata": {},
   "outputs": [
    {
     "name": "stdout",
     "output_type": "stream",
     "text": [
      "Pandas dataframes loaded successfully\n"
     ]
    }
   ],
   "source": [
    "books_big = pd.read_csv('data/books2.csv', sep=',', header=0, low_memory=False)\n",
    "ratings = pd.read_csv('data/ratings.csv', sep=',', header=0)\n",
    "users = pd.read_csv('data/users.csv', sep=',', header=0)\n",
    "print(\"Pandas dataframes (books_df, books_big, users, ratings) loaded successfully\")"
   ]
  },
  {
   "cell_type": "code",
   "execution_count": 22,
   "metadata": {},
   "outputs": [
    {
     "name": "stdout",
     "output_type": "stream",
     "text": [
      "Some columns renamed and dates converted to dtype: datetime\n"
     ]
    }
   ],
   "source": [
    "books_big.columns = books_big.columns.str.lower().str.replace('-', '_')\n",
    "books_df.columns = books_df.columns.str.lower().str.replace('-', '_')\n",
    "users.columns = users.columns.str.lower().str.replace('-', '_')\n",
    "ratings.columns = ratings.columns.str.lower().str.replace('-', '_')\n",
    "books_big['year_of_publication'] = pd.to_datetime(books_big['year_of_publication'], format='%Y', errors='coerce')\n",
    "books_df['publication_date'] = pd.to_datetime(books_df['publication_date'], format='%m/%d/%Y', errors='coerce')\n",
    "\n",
    "print(\"Columns renamed and dates converted to dtype: datetime\")"
   ]
  },
  {
   "cell_type": "code",
   "execution_count": 17,
   "metadata": {},
   "outputs": [
    {
     "name": "stdout",
     "output_type": "stream",
     "text": [
      "<class 'pandas.core.frame.DataFrame'>\n",
      "RangeIndex: 278858 entries, 0 to 278857\n",
      "Data columns (total 3 columns):\n",
      " #   Column    Non-Null Count   Dtype  \n",
      "---  ------    --------------   -----  \n",
      " 0   User-ID   278858 non-null  int64  \n",
      " 1   Location  278858 non-null  object \n",
      " 2   Age       168096 non-null  float64\n",
      "dtypes: float64(1), int64(1), object(1)\n",
      "memory usage: 6.4+ MB\n"
     ]
    }
   ],
   "source": [
    "print(\"Ready to go!\")"
   ]
  }
 ],
 "metadata": {
  "kernelspec": {
   "display_name": ".venv",
   "language": "python",
   "name": "python3"
  },
  "language_info": {
   "codemirror_mode": {
    "name": "ipython",
    "version": 3
   },
   "file_extension": ".py",
   "mimetype": "text/x-python",
   "name": "python",
   "nbconvert_exporter": "python",
   "pygments_lexer": "ipython3",
   "version": "3.11.3"
  }
 },
 "nbformat": 4,
 "nbformat_minor": 2
}
