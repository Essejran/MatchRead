{
 "cells": [
  {
   "cell_type": "code",
   "execution_count": 1,
   "metadata": {},
   "outputs": [
    {
     "name": "stderr",
     "output_type": "stream",
     "text": [
      "/Users/susanneferschl/neuefische2/MatchRead/.venv/lib/python3.11/site-packages/lightfm/_lightfm_fast.py:9: UserWarning: LightFM was compiled without OpenMP support. Only a single thread will be used.\n",
      "  warnings.warn(\n"
     ]
    }
   ],
   "source": [
    "import pandas as pd\n",
    "from lightfm import LightFM\n",
    "from lightfm.data import Dataset\n",
    "import numpy as np\n",
    "\n",
    "# Load the dataset\n",
    "all_cleaned = pd.read_csv('../data/all_cleaned.csv', usecols=['user_id', 'isbn', 'book_rating', 'mod_book_title', 'mod_book_author'])\n",
    "\n",
    "# Convert 'user_id' and 'isbn' to strings to ensure compatibility with LightFM\n",
    "all_cleaned['user_id'] = all_cleaned['user_id'].astype(str)\n",
    "all_cleaned['isbn'] = all_cleaned['isbn'].astype(str)\n"
   ]
  },
  {
   "cell_type": "code",
   "execution_count": 3,
   "metadata": {},
   "outputs": [],
   "source": [
    "# Create a dictionary to map ISBNs to their titles and authors\n",
    "isbn_info = all_cleaned.drop_duplicates(subset=['isbn']).set_index('isbn')[['mod_book_title', 'mod_book_author']].to_dict('index')\n"
   ]
  },
  {
   "cell_type": "code",
   "execution_count": 4,
   "metadata": {},
   "outputs": [],
   "source": [
    "# Create a LightFM dataset object\n",
    "dataset = Dataset()\n",
    "\n",
    "# Fit the dataset to include all unique users and items\n",
    "dataset.fit(\n",
    "    users=all_cleaned['user_id'].unique(),\n",
    "    items=all_cleaned['isbn'].unique()\n",
    ")\n",
    "\n",
    "# Build the user-item interaction matrix based on explicit feedback (book_rating)\n",
    "(interactions, weights) = dataset.build_interactions(\n",
    "    [(x[0], x[1], x[2]) for x in all_cleaned[['user_id', 'isbn', 'book_rating']].values]\n",
    ")\n",
    "\n",
    "# Get the user and item mappings\n",
    "user_mapping, _, item_mapping, _ = dataset.mapping()\n"
   ]
  },
  {
   "cell_type": "code",
   "execution_count": 5,
   "metadata": {},
   "outputs": [
    {
     "data": {
      "text/plain": [
       "<lightfm.lightfm.LightFM at 0x3042b6490>"
      ]
     },
     "execution_count": 5,
     "metadata": {},
     "output_type": "execute_result"
    }
   ],
   "source": [
    "# Define the LightFM model using the logistic function for explicit feedback\n",
    "model = LightFM(loss='logistic')\n",
    "\n",
    "# Train the model on the interactions matrix\n",
    "model.fit(interactions, epochs=30, num_threads=2)\n"
   ]
  },
  {
   "cell_type": "code",
   "execution_count": 6,
   "metadata": {},
   "outputs": [],
   "source": [
    "def recommend_books(model, interactions, user_id, user_mapping, item_mapping, isbn_info, num_recommendations=5):\n",
    "    # Ensure the user_id is a string\n",
    "    user_id = str(user_id)\n",
    "\n",
    "    # Check if the user_id exists in the user mapping\n",
    "    if user_id not in user_mapping:\n",
    "        raise ValueError(f\"User ID {user_id} is not found in the dataset.\")\n",
    "\n",
    "    # Get the internal index for the user_id\n",
    "    user_idx = user_mapping[user_id]\n",
    "\n",
    "    # Predict scores for all items for the given user\n",
    "    scores = model.predict(user_idx, np.arange(interactions.shape[1]))\n",
    "\n",
    "    # Get the indices of the top scores\n",
    "    top_items = np.argsort(-scores)[:num_recommendations]\n",
    "\n",
    "    # Map the indices back to ISBNs and fetch their title and author\n",
    "    recommended_books = []\n",
    "    for item in top_items:\n",
    "        isbn = list(item_mapping.keys())[list(item_mapping.values()).index(item)]\n",
    "        book_info = isbn_info.get(isbn, {'mod_book_title': 'Unknown Title', 'mod_book_author': 'Unknown Author'})\n",
    "        recommended_books.append({'isbn': isbn, 'title': book_info['mod_book_title'], 'author': book_info['mod_book_author']})\n",
    "\n",
    "    return recommended_books\n"
   ]
  },
  {
   "cell_type": "code",
   "execution_count": 7,
   "metadata": {},
   "outputs": [
    {
     "name": "stdout",
     "output_type": "stream",
     "text": [
      "ISBN: 044023722X, Title: a painted house, Author: john grisham\n",
      "ISBN: 067976402X, Title: snow falling on cedars, Author: david guterson\n",
      "ISBN: 059035342X, Title: harry potter and the sorcerers stone harry potter paperback, Author: j k rowling\n",
      "ISBN: 044021145X, Title: the firm, Author: john grisham\n",
      "ISBN: 1400034779, Title: the no 1 ladies detective agency today show book club 8, Author: alexander mccall smith\n"
     ]
    }
   ],
   "source": [
    "user_id_to_recommend = '208406.0'  # Replace with an actual user_id from your dataset\n",
    "\n",
    "# Ensure the user ID is a string\n",
    "user_id_to_recommend = str(user_id_to_recommend)\n",
    "\n",
    "try:\n",
    "    # Generate recommendations\n",
    "    recommended_books = recommend_books(model, interactions, user_id_to_recommend, user_mapping, item_mapping, isbn_info)\n",
    "    \n",
    "    # Display the recommended books with titles and authors\n",
    "    for book in recommended_books:\n",
    "        print(f\"ISBN: {book['isbn']}, Title: {book['title']}, Author: {book['author']}\")\n",
    "except ValueError as e:\n",
    "    print(e)\n"
   ]
  }
 ],
 "metadata": {
  "kernelspec": {
   "display_name": ".venv",
   "language": "python",
   "name": "python3"
  },
  "language_info": {
   "codemirror_mode": {
    "name": "ipython",
    "version": 3
   },
   "file_extension": ".py",
   "mimetype": "text/x-python",
   "name": "python",
   "nbconvert_exporter": "python",
   "pygments_lexer": "ipython3",
   "version": "3.11.3"
  }
 },
 "nbformat": 4,
 "nbformat_minor": 2
}
