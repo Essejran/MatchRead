{
 "cells": [
  {
   "cell_type": "code",
   "execution_count": 1,
   "metadata": {},
   "outputs": [
    {
     "name": "stderr",
     "output_type": "stream",
     "text": [
      "/Users/susanneferschl/neuefische2/MatchRead/.venv/lib/python3.11/site-packages/lightfm/_lightfm_fast.py:9: UserWarning: LightFM was compiled without OpenMP support. Only a single thread will be used.\n",
      "  warnings.warn(\n"
     ]
    }
   ],
   "source": [
    "import pandas as pd\n",
    "import numpy as np\n",
    "from scipy.sparse import csr_matrix\n",
    "from lightfm import LightFM\n",
    "from lightfm.cross_validation import random_train_test_split\n",
    "from lightfm.evaluation import precision_at_k, recall_at_k, auc_score\n",
    "from lightfm.data import Dataset"
   ]
  },
  {
   "cell_type": "code",
   "execution_count": 2,
   "metadata": {},
   "outputs": [],
   "source": [
    "# Load the dataset\n",
    "all_cleaned = pd.read_csv('../data/all_cleaned.csv', usecols=['user_id', 'isbn', 'book_rating'])"
   ]
  },
  {
   "cell_type": "code",
   "execution_count": 3,
   "metadata": {},
   "outputs": [],
   "source": [
    "# Convert 'user_id' and 'isbn' to strings to ensure compatibility with LightFM\n",
    "all_cleaned['user_id'] = all_cleaned['user_id'].astype(str)\n",
    "all_cleaned['isbn'] = all_cleaned['isbn'].astype(str)"
   ]
  },
  {
   "cell_type": "code",
   "execution_count": 4,
   "metadata": {},
   "outputs": [],
   "source": [
    "# Create a LightFM dataset object\n",
    "dataset = Dataset()\n",
    "\n",
    "# Fit the dataset to include all unique users and items\n",
    "dataset.fit(\n",
    "    users=all_cleaned['user_id'].unique(),\n",
    "    items=all_cleaned['isbn'].unique()\n",
    ")\n",
    "\n",
    "# Build the user-item interaction matrix based on explicit feedback (book_rating)\n",
    "(interactions, weights) = dataset.build_interactions(\n",
    "    [(x[0], x[1], x[2]) for x in all_cleaned[['user_id', 'isbn', 'book_rating']].values]\n",
    ")\n",
    "\n",
    "# Get the user and item mappings\n",
    "user_mapping, _, item_mapping, _ = dataset.mapping()\n"
   ]
  },
  {
   "cell_type": "code",
   "execution_count": 5,
   "metadata": {},
   "outputs": [
    {
     "data": {
      "text/plain": [
       "<lightfm.lightfm.LightFM at 0x127438290>"
      ]
     },
     "execution_count": 5,
     "metadata": {},
     "output_type": "execute_result"
    }
   ],
   "source": [
    "# Define the LightFM model using the logistic loss function for explicit feedback\n",
    "model = LightFM(loss='logistic')\n",
    "\n",
    "# Train the model on the interactions matrix\n",
    "model.fit(interactions, epochs=30, num_threads=2)\n"
   ]
  },
  {
   "cell_type": "code",
   "execution_count": 6,
   "metadata": {},
   "outputs": [],
   "source": [
    "def recommend_books(model, interactions, user_id, user_mapping, item_mapping, num_recommendations=5):\n",
    "    # Ensure the user_id is a string\n",
    "    user_id = str(user_id)\n",
    "\n",
    "    # Check if the user_id exists in the user mapping\n",
    "    if user_id not in user_mapping:\n",
    "        raise ValueError(f\"User ID {user_id} is not found in the dataset.\")\n",
    "\n",
    "    # Get the internal index for the user_id\n",
    "    user_idx = user_mapping[user_id]\n",
    "\n",
    "    # Predict scores for all items for the given user\n",
    "    scores = model.predict(user_idx, np.arange(interactions.shape[1]))\n",
    "\n",
    "    # Get the indices of the top scores\n",
    "    top_items = np.argsort(-scores)[:num_recommendations]\n",
    "\n",
    "    # Map the indices back to ISBNs\n",
    "    recommended_isbns = [list(item_mapping.keys())[list(item_mapping.values()).index(item)] for item in top_items]\n",
    "\n",
    "    return recommended_isbns\n"
   ]
  },
  {
   "cell_type": "code",
   "execution_count": 9,
   "metadata": {},
   "outputs": [
    {
     "name": "stdout",
     "output_type": "stream",
     "text": [
      "Recommended ISBNs for user 16634.0: ['044023722X', '067976402X', '059035342X', '044021145X', '1400034779']\n"
     ]
    }
   ],
   "source": [
    "user_id_to_recommend = '16634.0'  # Replace with an actual user_id from your dataset\n",
    "\n",
    "# Ensure the user ID is a string\n",
    "user_id_to_recommend = str(user_id_to_recommend)\n",
    "\n",
    "try:\n",
    "    # Generate recommendations\n",
    "    recommended_books = recommend_books(model, interactions, user_id_to_recommend, user_mapping, item_mapping)\n",
    "    print(f\"Recommended ISBNs for user {user_id_to_recommend}: {recommended_books}\")\n",
    "except ValueError as e:\n",
    "    print(e)\n"
   ]
  }
 ],
 "metadata": {
  "kernelspec": {
   "display_name": ".venv",
   "language": "python",
   "name": "python3"
  },
  "language_info": {
   "codemirror_mode": {
    "name": "ipython",
    "version": 3
   },
   "file_extension": ".py",
   "mimetype": "text/x-python",
   "name": "python",
   "nbconvert_exporter": "python",
   "pygments_lexer": "ipython3",
   "version": "3.11.3"
  }
 },
 "nbformat": 4,
 "nbformat_minor": 2
}
