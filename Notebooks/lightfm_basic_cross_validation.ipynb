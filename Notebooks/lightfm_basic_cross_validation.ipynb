{
 "cells": [
  {
   "cell_type": "code",
   "execution_count": 1,
   "metadata": {},
   "outputs": [
    {
     "name": "stderr",
     "output_type": "stream",
     "text": [
      "/Users/susanneferschl/neuefische2/MatchRead/.venv/lib/python3.11/site-packages/lightfm/_lightfm_fast.py:9: UserWarning: LightFM was compiled without OpenMP support. Only a single thread will be used.\n",
      "  warnings.warn(\n"
     ]
    }
   ],
   "source": [
    "import pandas as pd\n",
    "from lightfm import LightFM\n",
    "from lightfm.data import Dataset\n",
    "from sklearn.model_selection import StratifiedKFold\n",
    "from lightfm.evaluation import precision_at_k, auc_score\n",
    "\n",
    "import numpy as np\n"
   ]
  },
  {
   "cell_type": "code",
   "execution_count": 2,
   "metadata": {},
   "outputs": [],
   "source": [
    "# Load dataset\n",
    "data = pd.read_csv('../data/all_cleaned.csv', usecols=['user_id', 'isbn', 'book_rating'])\n",
    "\n",
    "# Convert ratings into binary relevance (1 for positive interactions, 0 for negative)\n",
    "# You can define your own threshold for what's considered \"positive\"\n",
    "data['relevant'] = (data['book_rating'] >= 6).astype(int)  # ratings 6 or higher are relevant"
   ]
  },
  {
   "cell_type": "markdown",
   "metadata": {},
   "source": [
    "#### Creating user-item interaction matrix ####"
   ]
  },
  {
   "cell_type": "code",
   "execution_count": 3,
   "metadata": {},
   "outputs": [],
   "source": [
    "# Create LightFM dataset object\n",
    "dataset = Dataset()\n",
    "\n",
    "# Fit the dataset with unique users and items (books)\n",
    "dataset.fit((x for x in data['user_id']), \n",
    "            (x for x in data['isbn']))\n",
    "\n",
    "# Build interactions matrix (required for LightFM)\n",
    "(interactions, weights) = dataset.build_interactions(\n",
    "    ((row['user_id'], row['isbn'], row['relevant']) for idx, row in data.iterrows())\n",
    ")\n"
   ]
  },
  {
   "cell_type": "markdown",
   "metadata": {},
   "source": [
    "#### stratification: ensures that each fold has a similar proportion of positive interactions for each user ####"
   ]
  },
  {
   "cell_type": "code",
   "execution_count": 4,
   "metadata": {},
   "outputs": [
    {
     "name": "stdout",
     "output_type": "stream",
     "text": [
      "Testing: Loss=warp, Epochs=10, Learning Rate=0.01, Num Components=10\n"
     ]
    }
   ],
   "source": [
    "# Prepare for k-fold cross-validation\n",
    "# We create a binary label indicating whether each interaction is relevant or not.\n",
    "X = data[['user_id', 'isbn']].values  # Features are user-item pairs\n",
    "y = data['relevant'].values  # Labels (1: relevant, 0: non-relevant)\n",
    "\n",
    "# Hyperparameter search space\n",
    "param_grid = {\n",
    "    'epochs': [10, 20, 30],\n",
    "    'learning_rate': [0.01, 0.05, 0.1],\n",
    "    'num_components': [10, 20, 30],\n",
    "    'loss': ['warp', 'bpr']  # LightFM losses\n",
    "}\n",
    "\n",
    "# Stratified K-Folds cross-validator\n",
    "n_splits = 5  # You can choose the number of folds\n",
    "skf = StratifiedKFold(n_splits=n_splits)\n",
    "\n",
    "# Store results for each hyperparameter combination\n",
    "results = []\n",
    "\n",
    "def evaluate_model(train_data, test_data, model):\n",
    "    # Build train/test interactions\n",
    "    train_interactions, _ = dataset.build_interactions(\n",
    "            ((row['user_id'], row['isbn'], row['relevant']) for idx, row in train_data.iterrows())\n",
    "    )\n",
    "    test_interactions, _ = dataset.build_interactions(\n",
    "            ((row['user_id'], row['isbn'], row['relevant']) for idx, row in test_data.iterrows())\n",
    "    )\n",
    "\n",
    "    # Train the model\n",
    "    model.fit(train_interactions, epochs=epochs, num_threads=2)\n",
    "\n",
    "    # Evaluate the model\n",
    "    train_precision = precision_at_k(model, train_interactions, k=5).mean()\n",
    "    test_precision = precision_at_k(model, test_interactions, k=5).mean()\n",
    "    test_auc = auc_score(model, test_interactions).mean()\n",
    "\n",
    "    return train_precision, test_precision, test_auc\n",
    "\n",
    "\n",
    "# Grid search over hyperparameters\n",
    "for loss in param_grid['loss']:\n",
    "    for epochs in param_grid['epochs']:\n",
    "        for learning_rate in param_grid['learning_rate']:\n",
    "            for num_components in param_grid['num_components']:\n",
    "                fold = 1\n",
    "                avg_test_precision = []\n",
    "                avg_test_auc = []\n",
    "                \n",
    "                print(f\"Testing: Loss={loss}, Epochs={epochs}, Learning Rate={learning_rate}, Num Components={num_components}\")\n",
    "                \n",
    "                for train_index, test_index in skf.split(X, y):\n",
    "                    train_data, test_data = data.iloc[train_index], data.iloc[test_index]\n",
    "                    \n",
    "                    # Initialize model with current hyperparameters\n",
    "                    model = LightFM(loss=loss, learning_rate=learning_rate, no_components=num_components)\n",
    "                    \n",
    "                    # Evaluate model on this fold\n",
    "                    _, test_precision, test_auc = evaluate_model(train_data, test_data, model)\n",
    "                    \n",
    "                    # Store results for this fold\n",
    "                    avg_test_precision.append(test_precision)\n",
    "                    avg_test_auc.append(test_auc)\n",
    "                    fold += 1\n",
    "                \n",
    "                # Calculate the mean scores across all folds\n",
    "                mean_test_precision = np.mean(avg_test_precision)\n",
    "                mean_test_auc = np.mean(avg_test_auc)\n",
    "                \n",
    "                # Store results for this hyperparameter set\n",
    "                results.append({\n",
    "                    'loss': loss,\n",
    "                    'epochs': epochs,\n",
    "                    'learning_rate': learning_rate,\n",
    "                    'num_components': num_components,\n",
    "                    'mean_test_precision': mean_test_precision,\n",
    "                    'mean_test_auc': mean_test_auc\n",
    "                })\n",
    "                \n",
    "                print(f\"Mean Test Precision@5: {mean_test_precision}, Mean Test AUC: {mean_test_auc}\")\n",
    "\n",
    "# Convert results to a DataFrame for easier analysis\n",
    "results_df = pd.DataFrame(results)\n",
    "\n",
    "# Find the best hyperparameter combination based on the evaluation metric (Precision@K or AUC)\n",
    "best_params = results_df.loc[results_df['mean_test_precision'].idxmax()]\n",
    "print(\"Best Hyperparameters based on Precision@5:\")\n",
    "print(best_params)"
   ]
  }
 ],
 "metadata": {
  "kernelspec": {
   "display_name": ".venv",
   "language": "python",
   "name": "python3"
  },
  "language_info": {
   "codemirror_mode": {
    "name": "ipython",
    "version": 3
   },
   "file_extension": ".py",
   "mimetype": "text/x-python",
   "name": "python",
   "nbconvert_exporter": "python",
   "pygments_lexer": "ipython3",
   "version": "3.11.3"
  }
 },
 "nbformat": 4,
 "nbformat_minor": 2
}
