{
 "cells": [
  {
   "cell_type": "markdown",
   "metadata": {},
   "source": [
    "## Filtering for genre ##"
   ]
  },
  {
   "cell_type": "code",
   "execution_count": 1,
   "metadata": {},
   "outputs": [],
   "source": [
    "import numpy as np\n",
    "import pandas as pd\n",
    "import matplotlib.pyplot as plt\n",
    "import seaborn as sns\n",
    "import pickle\n",
    "import sklearn\n",
    "# import pickleshare as ps"
   ]
  },
  {
   "cell_type": "code",
   "execution_count": 2,
   "metadata": {},
   "outputs": [
    {
     "name": "stdout",
     "output_type": "stream",
     "text": [
      "<class 'pandas.core.frame.DataFrame'>\n",
      "RangeIndex: 183600 entries, 0 to 183599\n",
      "Data columns (total 17 columns):\n",
      " #   Column               Non-Null Count   Dtype  \n",
      "---  ------               --------------   -----  \n",
      " 0   isbn                 183600 non-null  object \n",
      " 1   book_title           183600 non-null  object \n",
      " 2   book_author          183600 non-null  object \n",
      " 3   year_of_publication  183600 non-null  int64  \n",
      " 4   publisher            183600 non-null  object \n",
      " 5   genre                183600 non-null  object \n",
      " 6   user_id              183600 non-null  float64\n",
      " 7   book_rating          183600 non-null  float64\n",
      " 8   location             183600 non-null  object \n",
      " 9   age                  183600 non-null  object \n",
      " 10  age_numeric          137577 non-null  float64\n",
      " 11  age_bins             183600 non-null  object \n",
      " 12  mod_book_author      183600 non-null  object \n",
      " 13  mod_book_title       183600 non-null  object \n",
      " 14  mod_publisher        183600 non-null  object \n",
      " 15  country              176767 non-null  object \n",
      " 16  categorized_genre    183600 non-null  object \n",
      "dtypes: float64(3), int64(1), object(13)\n",
      "memory usage: 23.8+ MB\n"
     ]
    }
   ],
   "source": [
    "# df created in notebooks Bias_authors_countries and Genre_susanne \n",
    "clean_names_genre = pd.read_csv('../data/clean_names_genre.csv')\n",
    "clean_names_genre.info()"
   ]
  },
  {
   "cell_type": "markdown",
   "metadata": {},
   "source": [
    "### Pre-processing ###"
   ]
  },
  {
   "cell_type": "code",
   "execution_count": 3,
   "metadata": {},
   "outputs": [],
   "source": [
    "clean_names_genre['book_rating'] = clean_names_genre['book_rating'].astype(int)"
   ]
  },
  {
   "cell_type": "code",
   "execution_count": 6,
   "metadata": {},
   "outputs": [],
   "source": [
    "# dropping columns we don't need\n",
    "data_kept = clean_names_genre.drop(['user_id', 'genre', 'book_title', 'book_author', 'location', 'age', 'age_numeric', 'age_bins', 'country'], axis=1)"
   ]
  },
  {
   "cell_type": "code",
   "execution_count": 7,
   "metadata": {},
   "outputs": [
    {
     "name": "stdout",
     "output_type": "stream",
     "text": [
      "<class 'pandas.core.frame.DataFrame'>\n",
      "RangeIndex: 183600 entries, 0 to 183599\n",
      "Data columns (total 8 columns):\n",
      " #   Column               Non-Null Count   Dtype \n",
      "---  ------               --------------   ----- \n",
      " 0   isbn                 183600 non-null  object\n",
      " 1   year_of_publication  183600 non-null  int64 \n",
      " 2   publisher            183600 non-null  object\n",
      " 3   book_rating          183600 non-null  int64 \n",
      " 4   mod_book_author      183600 non-null  object\n",
      " 5   mod_book_title       183600 non-null  object\n",
      " 6   mod_publisher        183600 non-null  object\n",
      " 7   categorized_genre    183600 non-null  object\n",
      "dtypes: int64(2), object(6)\n",
      "memory usage: 11.2+ MB\n"
     ]
    }
   ],
   "source": [
    "data_kept.info()"
   ]
  },
  {
   "cell_type": "code",
   "execution_count": 8,
   "metadata": {},
   "outputs": [
    {
     "data": {
      "text/plain": [
       "categorized_genre\n",
       "Fiction                  108689\n",
       "Other                     41134\n",
       "Unknown                   31410\n",
       "Poetry                      994\n",
       "Guidebooks                  826\n",
       "Romance                     357\n",
       "Music                        72\n",
       "Historical Fiction           63\n",
       "Children's Literature        51\n",
       "Suspense                      4\n",
       "Name: count, dtype: int64"
      ]
     },
     "execution_count": 8,
     "metadata": {},
     "output_type": "execute_result"
    }
   ],
   "source": [
    "data_kept.categorized_genre.value_counts()"
   ]
  },
  {
   "cell_type": "code",
   "execution_count": 9,
   "metadata": {},
   "outputs": [],
   "source": [
    "# calculate the rating count for each book and the average rating for each book\n",
    "# 1. Group by 'isbn' and count the number of ratings for each ISBN\n",
    "isbn_rating_counts = data_kept.groupby(['categorized_genre', 'mod_book_title', 'mod_book_author', 'isbn']).size().reset_index(name='rating_count')\n"
   ]
  },
  {
   "cell_type": "code",
   "execution_count": 10,
   "metadata": {},
   "outputs": [
    {
     "data": {
      "text/html": [
       "<div>\n",
       "<style scoped>\n",
       "    .dataframe tbody tr th:only-of-type {\n",
       "        vertical-align: middle;\n",
       "    }\n",
       "\n",
       "    .dataframe tbody tr th {\n",
       "        vertical-align: top;\n",
       "    }\n",
       "\n",
       "    .dataframe thead th {\n",
       "        text-align: right;\n",
       "    }\n",
       "</style>\n",
       "<table border=\"1\" class=\"dataframe\">\n",
       "  <thead>\n",
       "    <tr style=\"text-align: right;\">\n",
       "      <th></th>\n",
       "      <th>categorized_genre</th>\n",
       "      <th>mod_book_title</th>\n",
       "      <th>mod_book_author</th>\n",
       "      <th>isbn</th>\n",
       "      <th>rating_count</th>\n",
       "      <th>average_rating</th>\n",
       "    </tr>\n",
       "  </thead>\n",
       "  <tbody>\n",
       "    <tr>\n",
       "      <th>0</th>\n",
       "      <td>Children's Literature</td>\n",
       "      <td>alone across the arctic one womans epic journe...</td>\n",
       "      <td>pam flowers</td>\n",
       "      <td>088240539X</td>\n",
       "      <td>1</td>\n",
       "      <td>9.0</td>\n",
       "    </tr>\n",
       "    <tr>\n",
       "      <th>1</th>\n",
       "      <td>Children's Literature</td>\n",
       "      <td>author talk</td>\n",
       "      <td>leonard s marcus</td>\n",
       "      <td>068981383X</td>\n",
       "      <td>1</td>\n",
       "      <td>5.0</td>\n",
       "    </tr>\n",
       "    <tr>\n",
       "      <th>2</th>\n",
       "      <td>Children's Literature</td>\n",
       "      <td>childrens book of virtues</td>\n",
       "      <td>william j bennett</td>\n",
       "      <td>068481353X</td>\n",
       "      <td>9</td>\n",
       "      <td>4.4</td>\n",
       "    </tr>\n",
       "    <tr>\n",
       "      <th>3</th>\n",
       "      <td>Children's Literature</td>\n",
       "      <td>childrens classics to read aloud</td>\n",
       "      <td>edward blishen</td>\n",
       "      <td>185697538X</td>\n",
       "      <td>2</td>\n",
       "      <td>3.5</td>\n",
       "    </tr>\n",
       "    <tr>\n",
       "      <th>4</th>\n",
       "      <td>Children's Literature</td>\n",
       "      <td>childrens literature</td>\n",
       "      <td>francelia butler</td>\n",
       "      <td>087722076X</td>\n",
       "      <td>1</td>\n",
       "      <td>0.0</td>\n",
       "    </tr>\n",
       "  </tbody>\n",
       "</table>\n",
       "</div>"
      ],
      "text/plain": [
       "       categorized_genre                                     mod_book_title  \\\n",
       "0  Children's Literature  alone across the arctic one womans epic journe...   \n",
       "1  Children's Literature                                        author talk   \n",
       "2  Children's Literature                          childrens book of virtues   \n",
       "3  Children's Literature                   childrens classics to read aloud   \n",
       "4  Children's Literature                               childrens literature   \n",
       "\n",
       "     mod_book_author        isbn  rating_count  average_rating  \n",
       "0        pam flowers  088240539X             1             9.0  \n",
       "1   leonard s marcus  068981383X             1             5.0  \n",
       "2  william j bennett  068481353X             9             4.4  \n",
       "3     edward blishen  185697538X             2             3.5  \n",
       "4   francelia butler  087722076X             1             0.0  "
      ]
     },
     "execution_count": 10,
     "metadata": {},
     "output_type": "execute_result"
    }
   ],
   "source": [
    "# 2. Calculate the average rating for each book\n",
    "\n",
    "to_be_rated = data_kept[['isbn', 'book_rating']]\n",
    "averageRating = to_be_rated.groupby('isbn')['book_rating'].mean().round(1).reset_index()\n",
    "averageRating.rename(columns={'book_rating': 'average_rating'}, inplace=True)\n",
    "average_rating = averageRating[['isbn','average_rating']]\n",
    "\n",
    "# Merge the average ratings back with the original dataset\n",
    "averageRatingdf = pd.merge(isbn_rating_counts, average_rating, on='isbn', how='left')\n",
    "\n",
    "# Remove duplicate entries\n",
    "#averageRatingdf = averageRatingdf[['isbn', 'average_rating']].drop_duplicates(subset=['isbn'])\n",
    "\n",
    "averageRatingdf.head() "
   ]
  },
  {
   "cell_type": "code",
   "execution_count": 11,
   "metadata": {},
   "outputs": [
    {
     "data": {
      "text/html": [
       "<div>\n",
       "<style scoped>\n",
       "    .dataframe tbody tr th:only-of-type {\n",
       "        vertical-align: middle;\n",
       "    }\n",
       "\n",
       "    .dataframe tbody tr th {\n",
       "        vertical-align: top;\n",
       "    }\n",
       "\n",
       "    .dataframe thead th {\n",
       "        text-align: right;\n",
       "    }\n",
       "</style>\n",
       "<table border=\"1\" class=\"dataframe\">\n",
       "  <thead>\n",
       "    <tr style=\"text-align: right;\">\n",
       "      <th></th>\n",
       "      <th>categorized_genre</th>\n",
       "      <th>mod_book_title</th>\n",
       "      <th>mod_book_author</th>\n",
       "      <th>isbn</th>\n",
       "      <th>rating_count</th>\n",
       "      <th>average_rating</th>\n",
       "    </tr>\n",
       "  </thead>\n",
       "  <tbody>\n",
       "    <tr>\n",
       "      <th>0</th>\n",
       "      <td>Children s Literature</td>\n",
       "      <td>alone across the arctic one womans epic journe...</td>\n",
       "      <td>pam flowers</td>\n",
       "      <td>088240539X</td>\n",
       "      <td>1</td>\n",
       "      <td>9.0</td>\n",
       "    </tr>\n",
       "    <tr>\n",
       "      <th>1</th>\n",
       "      <td>Children s Literature</td>\n",
       "      <td>author talk</td>\n",
       "      <td>leonard s marcus</td>\n",
       "      <td>068981383X</td>\n",
       "      <td>1</td>\n",
       "      <td>5.0</td>\n",
       "    </tr>\n",
       "    <tr>\n",
       "      <th>2</th>\n",
       "      <td>Children s Literature</td>\n",
       "      <td>childrens book of virtues</td>\n",
       "      <td>william j bennett</td>\n",
       "      <td>068481353X</td>\n",
       "      <td>9</td>\n",
       "      <td>4.4</td>\n",
       "    </tr>\n",
       "    <tr>\n",
       "      <th>3</th>\n",
       "      <td>Children s Literature</td>\n",
       "      <td>childrens classics to read aloud</td>\n",
       "      <td>edward blishen</td>\n",
       "      <td>185697538X</td>\n",
       "      <td>2</td>\n",
       "      <td>3.5</td>\n",
       "    </tr>\n",
       "    <tr>\n",
       "      <th>4</th>\n",
       "      <td>Children s Literature</td>\n",
       "      <td>childrens literature</td>\n",
       "      <td>francelia butler</td>\n",
       "      <td>087722076X</td>\n",
       "      <td>1</td>\n",
       "      <td>0.0</td>\n",
       "    </tr>\n",
       "  </tbody>\n",
       "</table>\n",
       "</div>"
      ],
      "text/plain": [
       "       categorized_genre                                     mod_book_title  \\\n",
       "0  Children s Literature  alone across the arctic one womans epic journe...   \n",
       "1  Children s Literature                                        author talk   \n",
       "2  Children s Literature                          childrens book of virtues   \n",
       "3  Children s Literature                   childrens classics to read aloud   \n",
       "4  Children s Literature                               childrens literature   \n",
       "\n",
       "     mod_book_author        isbn  rating_count  average_rating  \n",
       "0        pam flowers  088240539X             1             9.0  \n",
       "1   leonard s marcus  068981383X             1             5.0  \n",
       "2  william j bennett  068481353X             9             4.4  \n",
       "3     edward blishen  185697538X             2             3.5  \n",
       "4   francelia butler  087722076X             1             0.0  "
      ]
     },
     "execution_count": 11,
     "metadata": {},
     "output_type": "execute_result"
    }
   ],
   "source": [
    "averageRatingdf[\"categorized_genre\"] = averageRatingdf['categorized_genre'].str.replace(\"[^a-zA-Z0-9]\", \" \", regex=True)    #removing special characters in genre\n",
    "averageRatingdf.head()"
   ]
  },
  {
   "cell_type": "code",
   "execution_count": 12,
   "metadata": {},
   "outputs": [],
   "source": [
    "averageRatingdf['categorized_genre'] = averageRatingdf['categorized_genre'].str.replace('\\s+', ' ', regex=True)    #removing extra spaces from genre"
   ]
  },
  {
   "cell_type": "code",
   "execution_count": 13,
   "metadata": {},
   "outputs": [],
   "source": [
    "averageRatingdf = averageRatingdf[averageRatingdf['categorized_genre'].str.len() > 0]    #removing rows with empty genre"
   ]
  },
  {
   "cell_type": "code",
   "execution_count": 14,
   "metadata": {},
   "outputs": [
    {
     "data": {
      "text/plain": [
       "(59938, 6)"
      ]
     },
     "execution_count": 14,
     "metadata": {},
     "output_type": "execute_result"
    }
   ],
   "source": [
    "ratings = averageRatingdf\n",
    "ratings.shape"
   ]
  },
  {
   "cell_type": "markdown",
   "metadata": {},
   "source": [
    "### Filtering for genre ###"
   ]
  },
  {
   "cell_type": "code",
   "execution_count": 15,
   "metadata": {},
   "outputs": [
    {
     "data": {
      "text/html": [
       "<div>\n",
       "<style scoped>\n",
       "    .dataframe tbody tr th:only-of-type {\n",
       "        vertical-align: middle;\n",
       "    }\n",
       "\n",
       "    .dataframe tbody tr th {\n",
       "        vertical-align: top;\n",
       "    }\n",
       "\n",
       "    .dataframe thead th {\n",
       "        text-align: right;\n",
       "    }\n",
       "</style>\n",
       "<table border=\"1\" class=\"dataframe\">\n",
       "  <thead>\n",
       "    <tr style=\"text-align: right;\">\n",
       "      <th></th>\n",
       "      <th>categorized_genre</th>\n",
       "      <th>isbn</th>\n",
       "      <th>mod_book_title</th>\n",
       "      <th>mod_book_author</th>\n",
       "      <th>rating_count</th>\n",
       "      <th>average_rating</th>\n",
       "    </tr>\n",
       "  </thead>\n",
       "  <tbody>\n",
       "    <tr>\n",
       "      <th>23083</th>\n",
       "      <td>Guidebooks</td>\n",
       "      <td>1555660916</td>\n",
       "      <td>a field guide to rock art symbols of the great...</td>\n",
       "      <td>alex patterson</td>\n",
       "      <td>1</td>\n",
       "      <td>8.0</td>\n",
       "    </tr>\n",
       "    <tr>\n",
       "      <th>23084</th>\n",
       "      <td>Guidebooks</td>\n",
       "      <td>1885378017</td>\n",
       "      <td>a guide to biltmore estate</td>\n",
       "      <td>rachel carley</td>\n",
       "      <td>2</td>\n",
       "      <td>4.5</td>\n",
       "    </tr>\n",
       "    <tr>\n",
       "      <th>23085</th>\n",
       "      <td>Guidebooks</td>\n",
       "      <td>9631330702</td>\n",
       "      <td>a guide to birdwatching in hungary</td>\n",
       "      <td>gerard gorman</td>\n",
       "      <td>1</td>\n",
       "      <td>10.0</td>\n",
       "    </tr>\n",
       "    <tr>\n",
       "      <th>23086</th>\n",
       "      <td>Guidebooks</td>\n",
       "      <td>1885211260</td>\n",
       "      <td>a mothers world journeys of the heart traveler...</td>\n",
       "      <td>marybeth bond</td>\n",
       "      <td>1</td>\n",
       "      <td>0.0</td>\n",
       "    </tr>\n",
       "    <tr>\n",
       "      <th>23087</th>\n",
       "      <td>Guidebooks</td>\n",
       "      <td>1893121003</td>\n",
       "      <td>a natives guide to chicagos northwest suburbs ...</td>\n",
       "      <td>martin a bartels</td>\n",
       "      <td>1</td>\n",
       "      <td>0.0</td>\n",
       "    </tr>\n",
       "    <tr>\n",
       "      <th>...</th>\n",
       "      <td>...</td>\n",
       "      <td>...</td>\n",
       "      <td>...</td>\n",
       "      <td>...</td>\n",
       "      <td>...</td>\n",
       "      <td>...</td>\n",
       "    </tr>\n",
       "    <tr>\n",
       "      <th>23671</th>\n",
       "      <td>Guidebooks</td>\n",
       "      <td>1565543173</td>\n",
       "      <td>you can travel free</td>\n",
       "      <td>robert william kirk</td>\n",
       "      <td>2</td>\n",
       "      <td>0.0</td>\n",
       "    </tr>\n",
       "    <tr>\n",
       "      <th>23672</th>\n",
       "      <td>Guidebooks</td>\n",
       "      <td>1566910242</td>\n",
       "      <td>yucatan peninsula handbook the gulf of mexico ...</td>\n",
       "      <td>chicki mallan</td>\n",
       "      <td>1</td>\n",
       "      <td>9.0</td>\n",
       "    </tr>\n",
       "    <tr>\n",
       "      <th>23673</th>\n",
       "      <td>Guidebooks</td>\n",
       "      <td>1570063540</td>\n",
       "      <td>zagatsurvey 2002 san francisco bay area restau...</td>\n",
       "      <td>troy segal</td>\n",
       "      <td>1</td>\n",
       "      <td>0.0</td>\n",
       "    </tr>\n",
       "    <tr>\n",
       "      <th>23674</th>\n",
       "      <td>Guidebooks</td>\n",
       "      <td>1570066248</td>\n",
       "      <td>zagatsurvey us family travel guide</td>\n",
       "      <td>donna marino</td>\n",
       "      <td>1</td>\n",
       "      <td>6.0</td>\n",
       "    </tr>\n",
       "    <tr>\n",
       "      <th>23675</th>\n",
       "      <td>Guidebooks</td>\n",
       "      <td>8385412565</td>\n",
       "      <td>zakopane dookoa polski</td>\n",
       "      <td>joanna markin</td>\n",
       "      <td>1</td>\n",
       "      <td>8.0</td>\n",
       "    </tr>\n",
       "  </tbody>\n",
       "</table>\n",
       "<p>593 rows × 6 columns</p>\n",
       "</div>"
      ],
      "text/plain": [
       "      categorized_genre        isbn  \\\n",
       "23083        Guidebooks  1555660916   \n",
       "23084        Guidebooks  1885378017   \n",
       "23085        Guidebooks  9631330702   \n",
       "23086        Guidebooks  1885211260   \n",
       "23087        Guidebooks  1893121003   \n",
       "...                 ...         ...   \n",
       "23671        Guidebooks  1565543173   \n",
       "23672        Guidebooks  1566910242   \n",
       "23673        Guidebooks  1570063540   \n",
       "23674        Guidebooks  1570066248   \n",
       "23675        Guidebooks  8385412565   \n",
       "\n",
       "                                          mod_book_title      mod_book_author  \\\n",
       "23083  a field guide to rock art symbols of the great...       alex patterson   \n",
       "23084                         a guide to biltmore estate        rachel carley   \n",
       "23085                 a guide to birdwatching in hungary        gerard gorman   \n",
       "23086  a mothers world journeys of the heart traveler...        marybeth bond   \n",
       "23087  a natives guide to chicagos northwest suburbs ...     martin a bartels   \n",
       "...                                                  ...                  ...   \n",
       "23671                                you can travel free  robert william kirk   \n",
       "23672  yucatan peninsula handbook the gulf of mexico ...        chicki mallan   \n",
       "23673  zagatsurvey 2002 san francisco bay area restau...           troy segal   \n",
       "23674                 zagatsurvey us family travel guide         donna marino   \n",
       "23675                             zakopane dookoa polski        joanna markin   \n",
       "\n",
       "       rating_count  average_rating  \n",
       "23083             1             8.0  \n",
       "23084             2             4.5  \n",
       "23085             1            10.0  \n",
       "23086             1             0.0  \n",
       "23087             1             0.0  \n",
       "...             ...             ...  \n",
       "23671             2             0.0  \n",
       "23672             1             9.0  \n",
       "23673             1             0.0  \n",
       "23674             1             6.0  \n",
       "23675             1             8.0  \n",
       "\n",
       "[593 rows x 6 columns]"
      ]
     },
     "execution_count": 15,
     "metadata": {},
     "output_type": "execute_result"
    }
   ],
   "source": [
    "# Define the function\n",
    "def get_isbns_by_genre(genre, df):\n",
    "    # Filter the DataFrame based on the genre\n",
    "    filtered_df = ratings[ratings['categorized_genre'].str.contains(genre, case=False, regex=True)]\n",
    "    # Return the ISBNs of the filtered books\n",
    "    return filtered_df[['categorized_genre', 'isbn', 'mod_book_title', 'mod_book_author', 'rating_count', 'average_rating']]\n",
    "\n",
    "# Example usage\n",
    "genre_to_search = 'Guide'\n",
    "isbns = get_isbns_by_genre(genre_to_search, ratings)\n",
    "isbns"
   ]
  }
 ],
 "metadata": {
  "kernelspec": {
   "display_name": ".venv",
   "language": "python",
   "name": "python3"
  },
  "language_info": {
   "codemirror_mode": {
    "name": "ipython",
    "version": 3
   },
   "file_extension": ".py",
   "mimetype": "text/x-python",
   "name": "python",
   "nbconvert_exporter": "python",
   "pygments_lexer": "ipython3",
   "version": "3.11.3"
  }
 },
 "nbformat": 4,
 "nbformat_minor": 2
}
