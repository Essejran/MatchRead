{
 "cells": [
  {
   "cell_type": "code",
   "execution_count": 2,
   "metadata": {},
   "outputs": [
    {
     "name": "stderr",
     "output_type": "stream",
     "text": [
      "/Users/susanneferschl/neuefische2/MatchRead/.venv/lib/python3.11/site-packages/lightfm/_lightfm_fast.py:9: UserWarning: LightFM was compiled without OpenMP support. Only a single thread will be used.\n",
      "  warnings.warn(\n"
     ]
    }
   ],
   "source": [
    "import pandas as pd\n",
    "import numpy as np\n",
    "from scipy.sparse import csr_matrix\n",
    "from lightfm import LightFM\n",
    "from lightfm.cross_validation import random_train_test_split\n",
    "from lightfm.evaluation import precision_at_k, recall_at_k, auc_score\n",
    "from lightfm.data import Dataset"
   ]
  },
  {
   "cell_type": "code",
   "execution_count": 11,
   "metadata": {},
   "outputs": [],
   "source": [
    "# Load the dataset\n",
    "all_cleaned = pd.read_csv('../data/all_cleaned.csv', usecols=['user_id', 'isbn', 'book_rating'])"
   ]
  },
  {
   "cell_type": "markdown",
   "metadata": {},
   "source": [
    "#### Creating the interaction matrix ####"
   ]
  },
  {
   "cell_type": "code",
   "execution_count": 12,
   "metadata": {},
   "outputs": [],
   "source": [
    "\n",
    "# Initialize the Dataset object\n",
    "dataset = Dataset()\n",
    "\n",
    "# Fit the dataset to user_ids and item_ids (isbn)\n",
    "dataset.fit((x for x in all_cleaned['user_id']),\n",
    "            (x for x in all_cleaned['isbn']))\n",
    "\n",
    "# Build the interactions matrix\n",
    "(interactions, weights) = dataset.build_interactions(\n",
    "    [(row['user_id'], row['isbn'], row['book_rating']) for idx, row in all_cleaned.iterrows()]) # this interaction matrix can now be passed to lightfm\n"
   ]
  },
  {
   "cell_type": "markdown",
   "metadata": {},
   "source": [
    "#### Splitting the data ####"
   ]
  },
  {
   "cell_type": "code",
   "execution_count": 13,
   "metadata": {},
   "outputs": [],
   "source": [
    "from lightfm.cross_validation import random_train_test_split\n",
    "\n",
    "train_interactions, test_interactions = random_train_test_split(interactions, test_percentage=0.2)\n"
   ]
  },
  {
   "cell_type": "markdown",
   "metadata": {},
   "source": [
    "#### Training the model ####"
   ]
  },
  {
   "cell_type": "code",
   "execution_count": 14,
   "metadata": {},
   "outputs": [
    {
     "data": {
      "text/plain": [
       "<lightfm.lightfm.LightFM at 0x17f4b7490>"
      ]
     },
     "execution_count": 14,
     "metadata": {},
     "output_type": "execute_result"
    }
   ],
   "source": [
    "from lightfm import LightFM\n",
    "\n",
    "model = LightFM(loss='warp')  # WARP is a good starting point for ranking tasks\n",
    "model.fit(train_interactions, epochs=30, num_threads=4)\n"
   ]
  },
  {
   "cell_type": "markdown",
   "metadata": {},
   "source": [
    " #### Using precision at k and AUC to evaluate the model performance ####"
   ]
  },
  {
   "cell_type": "code",
   "execution_count": 15,
   "metadata": {},
   "outputs": [
    {
     "name": "stdout",
     "output_type": "stream",
     "text": [
      "Train precision@10: 0.021346142515540123, Test precision@10: 0.006430582143366337\n",
      "Train AUC: 0.9888064861297607, Test AUC: 0.7072576284408569\n"
     ]
    }
   ],
   "source": [
    "from lightfm.evaluation import precision_at_k, auc_score\n",
    "\n",
    "# Precision@k\n",
    "train_precision = precision_at_k(model, train_interactions, k=10).mean()\n",
    "test_precision = precision_at_k(model, test_interactions, k=10).mean()\n",
    "\n",
    "# AUC (Area Under the Curve)\n",
    "train_auc = auc_score(model, train_interactions).mean()\n",
    "test_auc = auc_score(model, test_interactions).mean()\n",
    "\n",
    "print(f'Train precision@10: {train_precision}, Test precision@10: {test_precision}')\n",
    "print(f'Train AUC: {train_auc}, Test AUC: {test_auc}')\n"
   ]
  },
  {
   "cell_type": "markdown",
   "metadata": {},
   "source": [
    "#### hyper parameter tuning ####"
   ]
  },
  {
   "cell_type": "code",
   "execution_count": 16,
   "metadata": {},
   "outputs": [
    {
     "name": "stdout",
     "output_type": "stream",
     "text": [
      "Best Precision@10: 0.007415913976728916\n",
      "Best Parameters: {'loss': 'warp', 'learning_rate': 0.01, 'no_components': 30}\n"
     ]
    }
   ],
   "source": [
    "from itertools import product\n",
    "\n",
    "losses = ['warp', 'bpr']\n",
    "learning_rates = [0.01, 0.05, 0.1]\n",
    "no_components = [10, 30, 50]\n",
    "\n",
    "# Keep track of the best score\n",
    "best_precision = 0\n",
    "best_params = {}\n",
    "\n",
    "for loss, lr, components in product(losses, learning_rates, no_components):\n",
    "    model = LightFM(loss=loss, learning_rate=lr, no_components=components)\n",
    "    model.fit(train_interactions, epochs=30, num_threads=4)\n",
    "    \n",
    "    test_precision = precision_at_k(model, test_interactions, k=10).mean()\n",
    "    \n",
    "    if test_precision > best_precision:\n",
    "        best_precision = test_precision\n",
    "        best_params = {'loss': loss, 'learning_rate': lr, 'no_components': components}\n",
    "\n",
    "print(f'Best Precision@10: {best_precision}')\n",
    "print(f'Best Parameters: {best_params}')\n"
   ]
  }
 ],
 "metadata": {
  "kernelspec": {
   "display_name": ".venv",
   "language": "python",
   "name": "python3"
  },
  "language_info": {
   "codemirror_mode": {
    "name": "ipython",
    "version": 3
   },
   "file_extension": ".py",
   "mimetype": "text/x-python",
   "name": "python",
   "nbconvert_exporter": "python",
   "pygments_lexer": "ipython3",
   "version": "3.11.3"
  }
 },
 "nbformat": 4,
 "nbformat_minor": 2
}
