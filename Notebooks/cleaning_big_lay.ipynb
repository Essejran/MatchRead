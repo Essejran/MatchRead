{
 "cells": [
  {
   "cell_type": "markdown",
   "metadata": {},
   "source": [
    "## Do Not Run This Notebook!\n",
    "This notebook is only there to document what was done during the data preprocessing.\n",
    "In the absolute emergency of needing to run it again, please check file paths.\n",
    "Some may need adding \"../\" before them."
   ]
  },
  {
   "cell_type": "code",
   "execution_count": 1,
   "metadata": {},
   "outputs": [],
   "source": [
    "import pandas as pd\n",
    "import csv"
   ]
  },
  {
   "cell_type": "code",
   "execution_count": 1,
   "metadata": {},
   "outputs": [
    {
     "name": "stdout",
     "output_type": "stream",
     "text": [
      "Continuing with existing version of data folder\n",
      "Goodreads dataset loaded successfully as books_goodreads\n",
      "Pandas dataframes (books_goodreads, books_big, book, users, ratings) loaded successfully\n",
      "Columns in DataFrames 'users' and 'ratings' renamed\n",
      "You can use the DataFrames 'books' or 'books_big' - they are exactly the same (big) dataset\n",
      "loading books_ratings and books_users_ratings\n",
      "Ready to go!\n"
     ]
    }
   ],
   "source": [
    "%run import_data_"
   ]
  },
  {
   "cell_type": "code",
   "execution_count": 3,
   "metadata": {},
   "outputs": [],
   "source": [
    "# input_file = 'data/big_detailed.csv'"
   ]
  },
  {
   "cell_type": "code",
   "execution_count": 4,
   "metadata": {},
   "outputs": [],
   "source": [
    "# Define a function to process the CSV file\n",
    "def process_csv(file_path):\n",
    "    data = []\n",
    "    \n",
    "    # Open and read the CSV file\n",
    "    with open(file_path, 'r') as file:\n",
    "        reader = csv.reader(file)\n",
    "        \n",
    "        # Append rows with the third+ column as a list\n",
    "        for row in reader:\n",
    "            data.append([row[0], row[1], row[2:]])  # Always treat 3rd column as a list\n",
    "    \n",
    "    # Convert the list of rows to a pandas DataFrame\n",
    "    df = pd.DataFrame(data, columns=['isbn', 'publish_date', 'subjects'])\n",
    "    \n",
    "    return df\n",
    "\n",
    "# df = process_csv(input_file)"
   ]
  },
  {
   "cell_type": "code",
   "execution_count": 8,
   "metadata": {},
   "outputs": [
    {
     "name": "stdout",
     "output_type": "stream",
     "text": [
      "<class 'pandas.core.frame.DataFrame'>\n",
      "RangeIndex: 281472 entries, 0 to 281471\n",
      "Data columns (total 3 columns):\n",
      " #   Column        Non-Null Count   Dtype \n",
      "---  ------        --------------   ----- \n",
      " 0   isbn          281472 non-null  object\n",
      " 1   publish_date  281472 non-null  object\n",
      " 2   subjects      281472 non-null  object\n",
      "dtypes: object(3)\n",
      "memory usage: 6.4+ MB\n"
     ]
    }
   ],
   "source": [
    "df.info()"
   ]
  },
  {
   "cell_type": "code",
   "execution_count": 5,
   "metadata": {},
   "outputs": [
    {
     "data": {
      "text/html": [
       "<div>\n",
       "<style scoped>\n",
       "    .dataframe tbody tr th:only-of-type {\n",
       "        vertical-align: middle;\n",
       "    }\n",
       "\n",
       "    .dataframe tbody tr th {\n",
       "        vertical-align: top;\n",
       "    }\n",
       "\n",
       "    .dataframe thead th {\n",
       "        text-align: right;\n",
       "    }\n",
       "</style>\n",
       "<table border=\"1\" class=\"dataframe\">\n",
       "  <thead>\n",
       "    <tr style=\"text-align: right;\">\n",
       "      <th></th>\n",
       "      <th>isbn</th>\n",
       "      <th>publish_date</th>\n",
       "      <th>subjects</th>\n",
       "    </tr>\n",
       "  </thead>\n",
       "  <tbody>\n",
       "    <tr>\n",
       "      <th>0</th>\n",
       "      <td>isbn</td>\n",
       "      <td>publish_date</td>\n",
       "      <td>[genres]</td>\n",
       "    </tr>\n",
       "    <tr>\n",
       "      <th>1</th>\n",
       "      <td>0195153448</td>\n",
       "      <td>2003</td>\n",
       "      <td>[Classical Mythology, Mythology, Classical, My...</td>\n",
       "    </tr>\n",
       "    <tr>\n",
       "      <th>2</th>\n",
       "      <td>0002005018</td>\n",
       "      <td>2001</td>\n",
       "      <td>[Actresses, Fiction, Literature, Sisters, Wome...</td>\n",
       "    </tr>\n",
       "    <tr>\n",
       "      <th>3</th>\n",
       "      <td>0060973129</td>\n",
       "      <td>Error fetching data</td>\n",
       "      <td>[Campaigns, History, History, Military, Milita...</td>\n",
       "    </tr>\n",
       "    <tr>\n",
       "      <th>4</th>\n",
       "      <td>0374157065</td>\n",
       "      <td>1999</td>\n",
       "      <td>[Influenza, History, Grippe humaine, Disease O...</td>\n",
       "    </tr>\n",
       "  </tbody>\n",
       "</table>\n",
       "</div>"
      ],
      "text/plain": [
       "         isbn         publish_date  \\\n",
       "0        isbn         publish_date   \n",
       "1  0195153448                 2003   \n",
       "2  0002005018                 2001   \n",
       "3  0060973129  Error fetching data   \n",
       "4  0374157065                 1999   \n",
       "\n",
       "                                            subjects  \n",
       "0                                           [genres]  \n",
       "1  [Classical Mythology, Mythology, Classical, My...  \n",
       "2  [Actresses, Fiction, Literature, Sisters, Wome...  \n",
       "3  [Campaigns, History, History, Military, Milita...  \n",
       "4  [Influenza, History, Grippe humaine, Disease O...  "
      ]
     },
     "execution_count": 5,
     "metadata": {},
     "output_type": "execute_result"
    }
   ],
   "source": [
    "df.head()"
   ]
  },
  {
   "cell_type": "code",
   "execution_count": 6,
   "metadata": {},
   "outputs": [
    {
     "data": {
      "text/html": [
       "<div>\n",
       "<style scoped>\n",
       "    .dataframe tbody tr th:only-of-type {\n",
       "        vertical-align: middle;\n",
       "    }\n",
       "\n",
       "    .dataframe tbody tr th {\n",
       "        vertical-align: top;\n",
       "    }\n",
       "\n",
       "    .dataframe thead th {\n",
       "        text-align: right;\n",
       "    }\n",
       "</style>\n",
       "<table border=\"1\" class=\"dataframe\">\n",
       "  <thead>\n",
       "    <tr style=\"text-align: right;\">\n",
       "      <th></th>\n",
       "      <th>isbn</th>\n",
       "      <th>publish_date</th>\n",
       "      <th>subjects</th>\n",
       "    </tr>\n",
       "  </thead>\n",
       "  <tbody>\n",
       "    <tr>\n",
       "      <th>0</th>\n",
       "      <td>0195153448</td>\n",
       "      <td>2003</td>\n",
       "      <td>[Classical Mythology, Mythology, Classical, My...</td>\n",
       "    </tr>\n",
       "    <tr>\n",
       "      <th>1</th>\n",
       "      <td>0002005018</td>\n",
       "      <td>2001</td>\n",
       "      <td>[Actresses, Fiction, Literature, Sisters, Wome...</td>\n",
       "    </tr>\n",
       "    <tr>\n",
       "      <th>2</th>\n",
       "      <td>0060973129</td>\n",
       "      <td>Error fetching data</td>\n",
       "      <td>[Campaigns, History, History, Military, Milita...</td>\n",
       "    </tr>\n",
       "    <tr>\n",
       "      <th>3</th>\n",
       "      <td>0374157065</td>\n",
       "      <td>1999</td>\n",
       "      <td>[Influenza, History, Grippe humaine, Disease O...</td>\n",
       "    </tr>\n",
       "    <tr>\n",
       "      <th>4</th>\n",
       "      <td>0393045218</td>\n",
       "      <td>1999</td>\n",
       "      <td>[Antiquities, Bronze age, Mummies, Prehistoric...</td>\n",
       "    </tr>\n",
       "  </tbody>\n",
       "</table>\n",
       "</div>"
      ],
      "text/plain": [
       "         isbn         publish_date  \\\n",
       "0  0195153448                 2003   \n",
       "1  0002005018                 2001   \n",
       "2  0060973129  Error fetching data   \n",
       "3  0374157065                 1999   \n",
       "4  0393045218                 1999   \n",
       "\n",
       "                                            subjects  \n",
       "0  [Classical Mythology, Mythology, Classical, My...  \n",
       "1  [Actresses, Fiction, Literature, Sisters, Wome...  \n",
       "2  [Campaigns, History, History, Military, Milita...  \n",
       "3  [Influenza, History, Grippe humaine, Disease O...  \n",
       "4  [Antiquities, Bronze age, Mummies, Prehistoric...  "
      ]
     },
     "execution_count": 6,
     "metadata": {},
     "output_type": "execute_result"
    }
   ],
   "source": [
    "# The first row is the header with the wrong number of columns\n",
    "df = df.iloc[1:]  # Slice the DataFrame to exclude the first row\n",
    "df = df.reset_index(drop=True)\n",
    "df.head()"
   ]
  },
  {
   "cell_type": "code",
   "execution_count": 9,
   "metadata": {},
   "outputs": [
    {
     "data": {
      "text/plain": [
       "54183"
      ]
     },
     "execution_count": 9,
     "metadata": {},
     "output_type": "execute_result"
    }
   ],
   "source": [
    "df.isbn.duplicated().sum()"
   ]
  },
  {
   "cell_type": "markdown",
   "metadata": {},
   "source": [
    "#### Clearly, some of the isbn's now have more than 1 row, how can we choose only 1 without running the risk of choosing the one with more missings?"
   ]
  },
  {
   "cell_type": "code",
   "execution_count": 10,
   "metadata": {},
   "outputs": [],
   "source": [
    "# Define the set of values to remove\n",
    "values_to_remove = {'No description found', 'No genres found', '', pd.NA}\n",
    "\n",
    "# Function to remove specific values from a list\n",
    "def remove_values(lst, values):\n",
    "    return [item for item in lst if item not in values]\n",
    "\n",
    "# Apply the function to the 'subjects' column\n",
    "df['subjects'] = df['subjects'].apply(lambda x: remove_values(x, values_to_remove))"
   ]
  },
  {
   "cell_type": "code",
   "execution_count": 11,
   "metadata": {},
   "outputs": [
    {
     "data": {
      "text/plain": [
       "subjects_length\n",
       "1    243314\n",
       "0     35139\n",
       "2      3019\n",
       "Name: count, dtype: int64"
      ]
     },
     "execution_count": 11,
     "metadata": {},
     "output_type": "execute_result"
    }
   ],
   "source": [
    "# Calculate the length of each list in the 'subjects' column\n",
    "df['subjects_length'] = df['subjects'].apply(len)\n",
    "df.subjects_length.value_counts()"
   ]
  },
  {
   "cell_type": "code",
   "execution_count": 12,
   "metadata": {},
   "outputs": [],
   "source": [
    "# Function to check if a list contains duplicates\n",
    "def has_duplicates(lst):\n",
    "    return len(lst) != len(set(lst))\n",
    "\n",
    "# Apply the function to the 'subjects' column\n",
    "df['has_duplicates'] = df['subjects'].apply(has_duplicates)"
   ]
  },
  {
   "cell_type": "code",
   "execution_count": 13,
   "metadata": {},
   "outputs": [
    {
     "data": {
      "text/plain": [
       "has_duplicates\n",
       "False    281411\n",
       "True         61\n",
       "Name: count, dtype: int64"
      ]
     },
     "execution_count": 13,
     "metadata": {},
     "output_type": "execute_result"
    }
   ],
   "source": [
    "df.has_duplicates.value_counts()"
   ]
  },
  {
   "cell_type": "code",
   "execution_count": 14,
   "metadata": {},
   "outputs": [],
   "source": [
    "# Define a function to drop the last element of a list\n",
    "def drop_last_element(lst):\n",
    "    return lst[:-1]\n",
    "\n",
    "# Apply the function only to rows where 'has_duplicates' is True\n",
    "df.loc[df['has_duplicates'], 'subjects'] = df.loc[df['has_duplicates'], 'subjects'].apply(drop_last_element)\n"
   ]
  },
  {
   "cell_type": "code",
   "execution_count": 15,
   "metadata": {},
   "outputs": [],
   "source": [
    "df['has_duplicates'] = df['subjects'].apply(has_duplicates)"
   ]
  },
  {
   "cell_type": "code",
   "execution_count": 16,
   "metadata": {},
   "outputs": [
    {
     "data": {
      "text/plain": [
       "has_duplicates\n",
       "False    281472\n",
       "Name: count, dtype: int64"
      ]
     },
     "execution_count": 16,
     "metadata": {},
     "output_type": "execute_result"
    }
   ],
   "source": [
    "df.has_duplicates.value_counts()"
   ]
  },
  {
   "cell_type": "code",
   "execution_count": 17,
   "metadata": {},
   "outputs": [
    {
     "data": {
      "text/plain": [
       "subjects_length\n",
       "1    243375\n",
       "0     35139\n",
       "2      2958\n",
       "Name: count, dtype: int64"
      ]
     },
     "execution_count": 17,
     "metadata": {},
     "output_type": "execute_result"
    }
   ],
   "source": [
    "df['subjects_length'] = df['subjects'].apply(len)\n",
    "df.subjects_length.value_counts()"
   ]
  },
  {
   "cell_type": "code",
   "execution_count": 18,
   "metadata": {},
   "outputs": [
    {
     "data": {
      "text/plain": [
       "(281472, 5)"
      ]
     },
     "execution_count": 18,
     "metadata": {},
     "output_type": "execute_result"
    }
   ],
   "source": [
    "df.shape"
   ]
  },
  {
   "cell_type": "code",
   "execution_count": 19,
   "metadata": {},
   "outputs": [
    {
     "data": {
      "text/plain": [
       "227289"
      ]
     },
     "execution_count": 19,
     "metadata": {},
     "output_type": "execute_result"
    }
   ],
   "source": [
    "df.isbn.nunique()"
   ]
  },
  {
   "cell_type": "code",
   "execution_count": 20,
   "metadata": {},
   "outputs": [
    {
     "data": {
      "text/plain": [
       "54183"
      ]
     },
     "execution_count": 20,
     "metadata": {},
     "output_type": "execute_result"
    }
   ],
   "source": [
    "df.isbn.duplicated().sum()"
   ]
  },
  {
   "cell_type": "code",
   "execution_count": 21,
   "metadata": {},
   "outputs": [],
   "source": [
    "# Convert lists in 'subjects' column to frozenset\n",
    "df['subjects'] = df['subjects'].apply(frozenset)"
   ]
  },
  {
   "cell_type": "code",
   "execution_count": 22,
   "metadata": {},
   "outputs": [
    {
     "data": {
      "text/plain": [
       "50032"
      ]
     },
     "execution_count": 22,
     "metadata": {},
     "output_type": "execute_result"
    }
   ],
   "source": [
    "df.duplicated().sum() # this won't work as long as the 'subjects' column is a list"
   ]
  },
  {
   "cell_type": "code",
   "execution_count": 23,
   "metadata": {},
   "outputs": [],
   "source": [
    "df = df.drop_duplicates()"
   ]
  },
  {
   "cell_type": "code",
   "execution_count": 24,
   "metadata": {},
   "outputs": [
    {
     "data": {
      "text/plain": [
       "(231440, 5)"
      ]
     },
     "execution_count": 24,
     "metadata": {},
     "output_type": "execute_result"
    }
   ],
   "source": [
    "df.shape"
   ]
  },
  {
   "cell_type": "code",
   "execution_count": 25,
   "metadata": {},
   "outputs": [
    {
     "data": {
      "text/plain": [
       "4151"
      ]
     },
     "execution_count": 25,
     "metadata": {},
     "output_type": "execute_result"
    }
   ],
   "source": [
    "df.isbn.duplicated().sum()"
   ]
  },
  {
   "cell_type": "code",
   "execution_count": 26,
   "metadata": {},
   "outputs": [
    {
     "data": {
      "text/plain": [
       "227289"
      ]
     },
     "execution_count": 26,
     "metadata": {},
     "output_type": "execute_result"
    }
   ],
   "source": [
    "df.isbn.nunique()"
   ]
  },
  {
   "cell_type": "markdown",
   "metadata": {},
   "source": [
    "#### Summary so far:\n",
    "* Duplicates within 'subjects' removed\n",
    "* Values 'No description found' and 'No genres found' were removed\n",
    "* Also empty cells and pd.NA were removed\n",
    "* The column 'subjects' was initially imported as a list (since some rows in .csv contain 2 fields for 'subject')\n",
    "* The list was converted to a frozenset to make it possible to check for duplicates across all columns without taking the order of the 2 fields of 'subjects' into consideration\n",
    "* Now there are only 4151 rows which include books that were already in previous rows, but the values of the other columns in these rows are not entirely identical"
   ]
  },
  {
   "cell_type": "code",
   "execution_count": 27,
   "metadata": {},
   "outputs": [
    {
     "data": {
      "text/html": [
       "<div>\n",
       "<style scoped>\n",
       "    .dataframe tbody tr th:only-of-type {\n",
       "        vertical-align: middle;\n",
       "    }\n",
       "\n",
       "    .dataframe tbody tr th {\n",
       "        vertical-align: top;\n",
       "    }\n",
       "\n",
       "    .dataframe thead th {\n",
       "        text-align: right;\n",
       "    }\n",
       "</style>\n",
       "<table border=\"1\" class=\"dataframe\">\n",
       "  <thead>\n",
       "    <tr style=\"text-align: right;\">\n",
       "      <th></th>\n",
       "      <th>isbn</th>\n",
       "      <th>publish_date</th>\n",
       "      <th>subjects</th>\n",
       "      <th>subjects_length</th>\n",
       "      <th>has_duplicates</th>\n",
       "    </tr>\n",
       "  </thead>\n",
       "  <tbody>\n",
       "    <tr>\n",
       "      <th>0</th>\n",
       "      <td>0195153448</td>\n",
       "      <td>2003</td>\n",
       "      <td>(Classical Mythology, Mythology, Classical, My...</td>\n",
       "      <td>1</td>\n",
       "      <td>False</td>\n",
       "    </tr>\n",
       "    <tr>\n",
       "      <th>1</th>\n",
       "      <td>0002005018</td>\n",
       "      <td>2001</td>\n",
       "      <td>(Actresses, Fiction, Literature, Sisters, Wome...</td>\n",
       "      <td>1</td>\n",
       "      <td>False</td>\n",
       "    </tr>\n",
       "    <tr>\n",
       "      <th>2</th>\n",
       "      <td>0060973129</td>\n",
       "      <td>Error fetching data</td>\n",
       "      <td>(Campaigns, History, History, Military, Milita...</td>\n",
       "      <td>1</td>\n",
       "      <td>False</td>\n",
       "    </tr>\n",
       "    <tr>\n",
       "      <th>3</th>\n",
       "      <td>0374157065</td>\n",
       "      <td>1999</td>\n",
       "      <td>(Influenza, History, Grippe humaine, Disease O...</td>\n",
       "      <td>1</td>\n",
       "      <td>False</td>\n",
       "    </tr>\n",
       "    <tr>\n",
       "      <th>4</th>\n",
       "      <td>0393045218</td>\n",
       "      <td>1999</td>\n",
       "      <td>(Antiquities, Bronze age, Mummies, Prehistoric...</td>\n",
       "      <td>1</td>\n",
       "      <td>False</td>\n",
       "    </tr>\n",
       "  </tbody>\n",
       "</table>\n",
       "</div>"
      ],
      "text/plain": [
       "         isbn         publish_date  \\\n",
       "0  0195153448                 2003   \n",
       "1  0002005018                 2001   \n",
       "2  0060973129  Error fetching data   \n",
       "3  0374157065                 1999   \n",
       "4  0393045218                 1999   \n",
       "\n",
       "                                            subjects  subjects_length  \\\n",
       "0  (Classical Mythology, Mythology, Classical, My...                1   \n",
       "1  (Actresses, Fiction, Literature, Sisters, Wome...                1   \n",
       "2  (Campaigns, History, History, Military, Milita...                1   \n",
       "3  (Influenza, History, Grippe humaine, Disease O...                1   \n",
       "4  (Antiquities, Bronze age, Mummies, Prehistoric...                1   \n",
       "\n",
       "   has_duplicates  \n",
       "0           False  \n",
       "1           False  \n",
       "2           False  \n",
       "3           False  \n",
       "4           False  "
      ]
     },
     "execution_count": 27,
     "metadata": {},
     "output_type": "execute_result"
    }
   ],
   "source": [
    "df.head()"
   ]
  },
  {
   "cell_type": "code",
   "execution_count": 28,
   "metadata": {},
   "outputs": [],
   "source": [
    "df = df.drop(columns=['subjects_length', 'has_duplicates'])"
   ]
  },
  {
   "cell_type": "code",
   "execution_count": 29,
   "metadata": {},
   "outputs": [
    {
     "data": {
      "text/html": [
       "<div>\n",
       "<style scoped>\n",
       "    .dataframe tbody tr th:only-of-type {\n",
       "        vertical-align: middle;\n",
       "    }\n",
       "\n",
       "    .dataframe tbody tr th {\n",
       "        vertical-align: top;\n",
       "    }\n",
       "\n",
       "    .dataframe thead th {\n",
       "        text-align: right;\n",
       "    }\n",
       "</style>\n",
       "<table border=\"1\" class=\"dataframe\">\n",
       "  <thead>\n",
       "    <tr style=\"text-align: right;\">\n",
       "      <th></th>\n",
       "      <th>isbn</th>\n",
       "      <th>publish_date</th>\n",
       "      <th>subjects</th>\n",
       "    </tr>\n",
       "  </thead>\n",
       "  <tbody>\n",
       "    <tr>\n",
       "      <th>0</th>\n",
       "      <td>0195153448</td>\n",
       "      <td>2003</td>\n",
       "      <td>(Classical Mythology, Mythology, Classical, My...</td>\n",
       "    </tr>\n",
       "    <tr>\n",
       "      <th>1</th>\n",
       "      <td>0002005018</td>\n",
       "      <td>2001</td>\n",
       "      <td>(Actresses, Fiction, Literature, Sisters, Wome...</td>\n",
       "    </tr>\n",
       "    <tr>\n",
       "      <th>2</th>\n",
       "      <td>0060973129</td>\n",
       "      <td>Error fetching data</td>\n",
       "      <td>(Campaigns, History, History, Military, Milita...</td>\n",
       "    </tr>\n",
       "    <tr>\n",
       "      <th>3</th>\n",
       "      <td>0374157065</td>\n",
       "      <td>1999</td>\n",
       "      <td>(Influenza, History, Grippe humaine, Disease O...</td>\n",
       "    </tr>\n",
       "    <tr>\n",
       "      <th>4</th>\n",
       "      <td>0393045218</td>\n",
       "      <td>1999</td>\n",
       "      <td>(Antiquities, Bronze age, Mummies, Prehistoric...</td>\n",
       "    </tr>\n",
       "  </tbody>\n",
       "</table>\n",
       "</div>"
      ],
      "text/plain": [
       "         isbn         publish_date  \\\n",
       "0  0195153448                 2003   \n",
       "1  0002005018                 2001   \n",
       "2  0060973129  Error fetching data   \n",
       "3  0374157065                 1999   \n",
       "4  0393045218                 1999   \n",
       "\n",
       "                                            subjects  \n",
       "0  (Classical Mythology, Mythology, Classical, My...  \n",
       "1  (Actresses, Fiction, Literature, Sisters, Wome...  \n",
       "2  (Campaigns, History, History, Military, Milita...  \n",
       "3  (Influenza, History, Grippe humaine, Disease O...  \n",
       "4  (Antiquities, Bronze age, Mummies, Prehistoric...  "
      ]
     },
     "execution_count": 29,
     "metadata": {},
     "output_type": "execute_result"
    }
   ],
   "source": [
    "df.head()"
   ]
  },
  {
   "cell_type": "code",
   "execution_count": 30,
   "metadata": {},
   "outputs": [
    {
     "data": {
      "text/plain": [
       "0"
      ]
     },
     "execution_count": 30,
     "metadata": {},
     "output_type": "execute_result"
    }
   ],
   "source": [
    "df.duplicated().sum()\n",
    "# No more books are entirely duplicated"
   ]
  },
  {
   "cell_type": "code",
   "execution_count": 31,
   "metadata": {},
   "outputs": [
    {
     "data": {
      "text/plain": [
       "5850"
      ]
     },
     "execution_count": 31,
     "metadata": {},
     "output_type": "execute_result"
    }
   ],
   "source": [
    "df.duplicated(subset=['isbn', 'publish_date'], keep=False).sum()\n",
    "# 5850 books have the same isbn and publish_date but different subjects"
   ]
  },
  {
   "cell_type": "code",
   "execution_count": 32,
   "metadata": {},
   "outputs": [
    {
     "data": {
      "text/plain": [
       "1886"
      ]
     },
     "execution_count": 32,
     "metadata": {},
     "output_type": "execute_result"
    }
   ],
   "source": [
    "df.duplicated(subset=['isbn', 'subjects'], keep=False).sum()\n",
    "# 1886 books have the same isbn and subjects but different publish_date"
   ]
  },
  {
   "cell_type": "markdown",
   "metadata": {},
   "source": [
    "##### Let's begin to tackle the publish_date column:"
   ]
  },
  {
   "cell_type": "code",
   "execution_count": 33,
   "metadata": {},
   "outputs": [],
   "source": [
    "# Replace specific error strings with NaN\n",
    "import numpy as np\n",
    "df['publish_date'] = df['publish_date'].replace(['Error fetching data', 'No date found'], np.nan)\n"
   ]
  },
  {
   "cell_type": "code",
   "execution_count": 34,
   "metadata": {},
   "outputs": [
    {
     "data": {
      "text/plain": [
       "4034"
      ]
     },
     "execution_count": 34,
     "metadata": {},
     "output_type": "execute_result"
    }
   ],
   "source": [
    "df.publish_date.isnull().sum() # 4034 books have no publish_date"
   ]
  },
  {
   "cell_type": "code",
   "execution_count": 39,
   "metadata": {},
   "outputs": [
    {
     "name": "stdout",
     "output_type": "stream",
     "text": [
      "Requirement already satisfied: python-dateutil in ./.venv/lib/python3.11/site-packages (2.9.0.post0)\n",
      "Requirement already satisfied: six>=1.5 in ./.venv/lib/python3.11/site-packages (from python-dateutil) (1.16.0)\n"
     ]
    }
   ],
   "source": [
    "!pip install python-dateutil"
   ]
  },
  {
   "cell_type": "code",
   "execution_count": 41,
   "metadata": {},
   "outputs": [],
   "source": [
    "import re # regular expressions library\n",
    "import dateutil.parser as dparser # robust date parsing library\n",
    "\n",
    "# Function to extract year from various formats of publish_date\n",
    "def extract_year(date_str):\n",
    "    try:\n",
    "        # Try parsing the date using dateutil.parser\n",
    "        parsed_date = dparser.parse(date_str, fuzzy=True)\n",
    "        # Return the year from the parsed date\n",
    "        return parsed_date.year\n",
    "    except (ValueError, TypeError, OverflowError):\n",
    "        # If there's a problem with parsing, return None or NaN\n",
    "        return pd.NA\n",
    "\n",
    "# Apply the function to the publish_date column\n",
    "df['year'] = df['publish_date'].apply(extract_year)\n"
   ]
  },
  {
   "cell_type": "code",
   "execution_count": 42,
   "metadata": {},
   "outputs": [
    {
     "data": {
      "text/plain": [
       "4328"
      ]
     },
     "execution_count": 42,
     "metadata": {},
     "output_type": "execute_result"
    }
   ],
   "source": [
    "df.year.isnull().sum() # 4328 books have no year"
   ]
  },
  {
   "cell_type": "code",
   "execution_count": 43,
   "metadata": {},
   "outputs": [
    {
     "data": {
      "text/html": [
       "<div>\n",
       "<style scoped>\n",
       "    .dataframe tbody tr th:only-of-type {\n",
       "        vertical-align: middle;\n",
       "    }\n",
       "\n",
       "    .dataframe tbody tr th {\n",
       "        vertical-align: top;\n",
       "    }\n",
       "\n",
       "    .dataframe thead th {\n",
       "        text-align: right;\n",
       "    }\n",
       "</style>\n",
       "<table border=\"1\" class=\"dataframe\">\n",
       "  <thead>\n",
       "    <tr style=\"text-align: right;\">\n",
       "      <th></th>\n",
       "      <th>isbn</th>\n",
       "      <th>publish_date</th>\n",
       "      <th>subjects</th>\n",
       "      <th>year</th>\n",
       "    </tr>\n",
       "  </thead>\n",
       "  <tbody>\n",
       "    <tr>\n",
       "      <th>0</th>\n",
       "      <td>0195153448</td>\n",
       "      <td>2003</td>\n",
       "      <td>(Classical Mythology, Mythology, Classical, My...</td>\n",
       "      <td>2003</td>\n",
       "    </tr>\n",
       "    <tr>\n",
       "      <th>1</th>\n",
       "      <td>0002005018</td>\n",
       "      <td>2001</td>\n",
       "      <td>(Actresses, Fiction, Literature, Sisters, Wome...</td>\n",
       "      <td>2001</td>\n",
       "    </tr>\n",
       "    <tr>\n",
       "      <th>2</th>\n",
       "      <td>0060973129</td>\n",
       "      <td>NaN</td>\n",
       "      <td>(Campaigns, History, History, Military, Milita...</td>\n",
       "      <td>&lt;NA&gt;</td>\n",
       "    </tr>\n",
       "    <tr>\n",
       "      <th>3</th>\n",
       "      <td>0374157065</td>\n",
       "      <td>1999</td>\n",
       "      <td>(Influenza, History, Grippe humaine, Disease O...</td>\n",
       "      <td>1999</td>\n",
       "    </tr>\n",
       "    <tr>\n",
       "      <th>4</th>\n",
       "      <td>0393045218</td>\n",
       "      <td>1999</td>\n",
       "      <td>(Antiquities, Bronze age, Mummies, Prehistoric...</td>\n",
       "      <td>1999</td>\n",
       "    </tr>\n",
       "  </tbody>\n",
       "</table>\n",
       "</div>"
      ],
      "text/plain": [
       "         isbn publish_date                                           subjects  \\\n",
       "0  0195153448         2003  (Classical Mythology, Mythology, Classical, My...   \n",
       "1  0002005018         2001  (Actresses, Fiction, Literature, Sisters, Wome...   \n",
       "2  0060973129          NaN  (Campaigns, History, History, Military, Milita...   \n",
       "3  0374157065         1999  (Influenza, History, Grippe humaine, Disease O...   \n",
       "4  0393045218         1999  (Antiquities, Bronze age, Mummies, Prehistoric...   \n",
       "\n",
       "   year  \n",
       "0  2003  \n",
       "1  2001  \n",
       "2  <NA>  \n",
       "3  1999  \n",
       "4  1999  "
      ]
     },
     "execution_count": 43,
     "metadata": {},
     "output_type": "execute_result"
    }
   ],
   "source": [
    "df.head()"
   ]
  },
  {
   "cell_type": "code",
   "execution_count": 44,
   "metadata": {},
   "outputs": [
    {
     "data": {
      "text/plain": [
       "(231440, 4)"
      ]
     },
     "execution_count": 44,
     "metadata": {},
     "output_type": "execute_result"
    }
   ],
   "source": [
    "df.shape"
   ]
  },
  {
   "cell_type": "markdown",
   "metadata": {},
   "source": [
    "#### Merging the scraped data with the original dataset"
   ]
  },
  {
   "cell_type": "code",
   "execution_count": 45,
   "metadata": {},
   "outputs": [],
   "source": [
    "# let's merge the available data:\n",
    "df_test = pd.merge(books_big, df, on='isbn', how='inner')"
   ]
  },
  {
   "cell_type": "code",
   "execution_count": 46,
   "metadata": {},
   "outputs": [
    {
     "data": {
      "text/html": [
       "<div>\n",
       "<style scoped>\n",
       "    .dataframe tbody tr th:only-of-type {\n",
       "        vertical-align: middle;\n",
       "    }\n",
       "\n",
       "    .dataframe tbody tr th {\n",
       "        vertical-align: top;\n",
       "    }\n",
       "\n",
       "    .dataframe thead th {\n",
       "        text-align: right;\n",
       "    }\n",
       "</style>\n",
       "<table border=\"1\" class=\"dataframe\">\n",
       "  <thead>\n",
       "    <tr style=\"text-align: right;\">\n",
       "      <th></th>\n",
       "      <th>isbn</th>\n",
       "      <th>book_title</th>\n",
       "      <th>book_author</th>\n",
       "      <th>year_of_publication</th>\n",
       "      <th>publisher</th>\n",
       "      <th>image_url_s</th>\n",
       "      <th>image_url_m</th>\n",
       "      <th>image_url_l</th>\n",
       "      <th>publish_date</th>\n",
       "      <th>subjects</th>\n",
       "      <th>year</th>\n",
       "    </tr>\n",
       "  </thead>\n",
       "  <tbody>\n",
       "    <tr>\n",
       "      <th>0</th>\n",
       "      <td>0195153448</td>\n",
       "      <td>Classical Mythology</td>\n",
       "      <td>Mark P. O. Morford</td>\n",
       "      <td>2002-01-01</td>\n",
       "      <td>Oxford University Press</td>\n",
       "      <td>http://images.amazon.com/images/P/0195153448.0...</td>\n",
       "      <td>http://images.amazon.com/images/P/0195153448.0...</td>\n",
       "      <td>http://images.amazon.com/images/P/0195153448.0...</td>\n",
       "      <td>2003</td>\n",
       "      <td>(Classical Mythology, Mythology, Classical, My...</td>\n",
       "      <td>2003</td>\n",
       "    </tr>\n",
       "    <tr>\n",
       "      <th>1</th>\n",
       "      <td>0002005018</td>\n",
       "      <td>Clara Callan</td>\n",
       "      <td>Richard Bruce Wright</td>\n",
       "      <td>2001-01-01</td>\n",
       "      <td>HarperFlamingo Canada</td>\n",
       "      <td>http://images.amazon.com/images/P/0002005018.0...</td>\n",
       "      <td>http://images.amazon.com/images/P/0002005018.0...</td>\n",
       "      <td>http://images.amazon.com/images/P/0002005018.0...</td>\n",
       "      <td>2001</td>\n",
       "      <td>(Actresses, Fiction, Literature, Sisters, Wome...</td>\n",
       "      <td>2001</td>\n",
       "    </tr>\n",
       "    <tr>\n",
       "      <th>2</th>\n",
       "      <td>0060973129</td>\n",
       "      <td>Decision in Normandy</td>\n",
       "      <td>Carlo D'Este</td>\n",
       "      <td>1991-01-01</td>\n",
       "      <td>HarperPerennial</td>\n",
       "      <td>http://images.amazon.com/images/P/0060973129.0...</td>\n",
       "      <td>http://images.amazon.com/images/P/0060973129.0...</td>\n",
       "      <td>http://images.amazon.com/images/P/0060973129.0...</td>\n",
       "      <td>NaN</td>\n",
       "      <td>(Campaigns, History, History, Military, Milita...</td>\n",
       "      <td>&lt;NA&gt;</td>\n",
       "    </tr>\n",
       "    <tr>\n",
       "      <th>3</th>\n",
       "      <td>0060973129</td>\n",
       "      <td>Decision in Normandy</td>\n",
       "      <td>Carlo D'Este</td>\n",
       "      <td>1991-01-01</td>\n",
       "      <td>HarperPerennial</td>\n",
       "      <td>http://images.amazon.com/images/P/0060973129.0...</td>\n",
       "      <td>http://images.amazon.com/images/P/0060973129.0...</td>\n",
       "      <td>http://images.amazon.com/images/P/0060973129.0...</td>\n",
       "      <td>1991</td>\n",
       "      <td>(Campaigns, History, History, Military, Milita...</td>\n",
       "      <td>1991</td>\n",
       "    </tr>\n",
       "    <tr>\n",
       "      <th>4</th>\n",
       "      <td>0374157065</td>\n",
       "      <td>Flu: The Story of the Great Influenza Pandemic...</td>\n",
       "      <td>Gina Bari Kolata</td>\n",
       "      <td>1999-01-01</td>\n",
       "      <td>Farrar Straus Giroux</td>\n",
       "      <td>http://images.amazon.com/images/P/0374157065.0...</td>\n",
       "      <td>http://images.amazon.com/images/P/0374157065.0...</td>\n",
       "      <td>http://images.amazon.com/images/P/0374157065.0...</td>\n",
       "      <td>1999</td>\n",
       "      <td>(Influenza, History, Grippe humaine, Disease O...</td>\n",
       "      <td>1999</td>\n",
       "    </tr>\n",
       "  </tbody>\n",
       "</table>\n",
       "</div>"
      ],
      "text/plain": [
       "         isbn                                         book_title  \\\n",
       "0  0195153448                                Classical Mythology   \n",
       "1  0002005018                                       Clara Callan   \n",
       "2  0060973129                               Decision in Normandy   \n",
       "3  0060973129                               Decision in Normandy   \n",
       "4  0374157065  Flu: The Story of the Great Influenza Pandemic...   \n",
       "\n",
       "            book_author year_of_publication                publisher  \\\n",
       "0    Mark P. O. Morford          2002-01-01  Oxford University Press   \n",
       "1  Richard Bruce Wright          2001-01-01    HarperFlamingo Canada   \n",
       "2          Carlo D'Este          1991-01-01          HarperPerennial   \n",
       "3          Carlo D'Este          1991-01-01          HarperPerennial   \n",
       "4      Gina Bari Kolata          1999-01-01     Farrar Straus Giroux   \n",
       "\n",
       "                                         image_url_s  \\\n",
       "0  http://images.amazon.com/images/P/0195153448.0...   \n",
       "1  http://images.amazon.com/images/P/0002005018.0...   \n",
       "2  http://images.amazon.com/images/P/0060973129.0...   \n",
       "3  http://images.amazon.com/images/P/0060973129.0...   \n",
       "4  http://images.amazon.com/images/P/0374157065.0...   \n",
       "\n",
       "                                         image_url_m  \\\n",
       "0  http://images.amazon.com/images/P/0195153448.0...   \n",
       "1  http://images.amazon.com/images/P/0002005018.0...   \n",
       "2  http://images.amazon.com/images/P/0060973129.0...   \n",
       "3  http://images.amazon.com/images/P/0060973129.0...   \n",
       "4  http://images.amazon.com/images/P/0374157065.0...   \n",
       "\n",
       "                                         image_url_l publish_date  \\\n",
       "0  http://images.amazon.com/images/P/0195153448.0...         2003   \n",
       "1  http://images.amazon.com/images/P/0002005018.0...         2001   \n",
       "2  http://images.amazon.com/images/P/0060973129.0...          NaN   \n",
       "3  http://images.amazon.com/images/P/0060973129.0...         1991   \n",
       "4  http://images.amazon.com/images/P/0374157065.0...         1999   \n",
       "\n",
       "                                            subjects  year  \n",
       "0  (Classical Mythology, Mythology, Classical, My...  2003  \n",
       "1  (Actresses, Fiction, Literature, Sisters, Wome...  2001  \n",
       "2  (Campaigns, History, History, Military, Milita...  <NA>  \n",
       "3  (Campaigns, History, History, Military, Milita...  1991  \n",
       "4  (Influenza, History, Grippe humaine, Disease O...  1999  "
      ]
     },
     "execution_count": 46,
     "metadata": {},
     "output_type": "execute_result"
    }
   ],
   "source": [
    "df_test.head()"
   ]
  },
  {
   "cell_type": "code",
   "execution_count": 47,
   "metadata": {},
   "outputs": [
    {
     "name": "stdout",
     "output_type": "stream",
     "text": [
      "<class 'pandas.core.frame.DataFrame'>\n",
      "RangeIndex: 231440 entries, 0 to 231439\n",
      "Data columns (total 11 columns):\n",
      " #   Column               Non-Null Count   Dtype         \n",
      "---  ------               --------------   -----         \n",
      " 0   isbn                 231440 non-null  object        \n",
      " 1   book_title           231440 non-null  object        \n",
      " 2   book_author          231438 non-null  object        \n",
      " 3   year_of_publication  227428 non-null  datetime64[ns]\n",
      " 4   publisher            231438 non-null  object        \n",
      " 5   image_url_s          231440 non-null  object        \n",
      " 6   image_url_m          231440 non-null  object        \n",
      " 7   image_url_l          231437 non-null  object        \n",
      " 8   publish_date         227406 non-null  object        \n",
      " 9   subjects             231440 non-null  object        \n",
      " 10  year                 227112 non-null  object        \n",
      "dtypes: datetime64[ns](1), object(10)\n",
      "memory usage: 19.4+ MB\n"
     ]
    }
   ],
   "source": [
    "df_test.info()"
   ]
  },
  {
   "cell_type": "code",
   "execution_count": 48,
   "metadata": {},
   "outputs": [
    {
     "data": {
      "text/plain": [
       "4012"
      ]
     },
     "execution_count": 48,
     "metadata": {},
     "output_type": "execute_result"
    }
   ],
   "source": [
    "df_test.year_of_publication.isnull().sum() # 4012 missing values"
   ]
  },
  {
   "cell_type": "code",
   "execution_count": 49,
   "metadata": {},
   "outputs": [],
   "source": [
    "# Let's try to use the scraped 'year' values as replacement for missing 'year_of_publication':\n",
    "df_test['year_of_publication'] = df_test['year_of_publication'].fillna(df_test['year'])"
   ]
  },
  {
   "cell_type": "code",
   "execution_count": 50,
   "metadata": {},
   "outputs": [
    {
     "data": {
      "text/plain": [
       "813"
      ]
     },
     "execution_count": 50,
     "metadata": {},
     "output_type": "execute_result"
    }
   ],
   "source": [
    "df_test.year_of_publication.isnull().sum() # reduced missing values to 813"
   ]
  },
  {
   "cell_type": "code",
   "execution_count": 51,
   "metadata": {},
   "outputs": [],
   "source": [
    "# Now we can drop the scraped date columns:\n",
    "df_test = df_test.drop(columns=['year', 'publish_date'])"
   ]
  },
  {
   "cell_type": "code",
   "execution_count": 52,
   "metadata": {},
   "outputs": [
    {
     "name": "stdout",
     "output_type": "stream",
     "text": [
      "<class 'pandas.core.frame.DataFrame'>\n",
      "RangeIndex: 231440 entries, 0 to 231439\n",
      "Data columns (total 9 columns):\n",
      " #   Column               Non-Null Count   Dtype \n",
      "---  ------               --------------   ----- \n",
      " 0   isbn                 231440 non-null  object\n",
      " 1   book_title           231440 non-null  object\n",
      " 2   book_author          231438 non-null  object\n",
      " 3   year_of_publication  230627 non-null  object\n",
      " 4   publisher            231438 non-null  object\n",
      " 5   image_url_s          231440 non-null  object\n",
      " 6   image_url_m          231440 non-null  object\n",
      " 7   image_url_l          231437 non-null  object\n",
      " 8   subjects             231440 non-null  object\n",
      "dtypes: object(9)\n",
      "memory usage: 15.9+ MB\n"
     ]
    }
   ],
   "source": [
    "df_test.info()"
   ]
  },
  {
   "cell_type": "code",
   "execution_count": 53,
   "metadata": {},
   "outputs": [],
   "source": [
    "# let's extract the year from 'year_of_publication'\n",
    "df_test['year_of_publication'] = pd.to_datetime(df_test['year_of_publication'], errors='coerce')\n",
    "df_test['year_of_publication'] = df_test['year_of_publication'].dt.year"
   ]
  },
  {
   "cell_type": "code",
   "execution_count": 54,
   "metadata": {},
   "outputs": [
    {
     "name": "stdout",
     "output_type": "stream",
     "text": [
      "<class 'pandas.core.frame.DataFrame'>\n",
      "RangeIndex: 231440 entries, 0 to 231439\n",
      "Data columns (total 9 columns):\n",
      " #   Column               Non-Null Count   Dtype  \n",
      "---  ------               --------------   -----  \n",
      " 0   isbn                 231440 non-null  object \n",
      " 1   book_title           231440 non-null  object \n",
      " 2   book_author          231438 non-null  object \n",
      " 3   year_of_publication  230627 non-null  float64\n",
      " 4   publisher            231438 non-null  object \n",
      " 5   image_url_s          231440 non-null  object \n",
      " 6   image_url_m          231440 non-null  object \n",
      " 7   image_url_l          231437 non-null  object \n",
      " 8   subjects             231440 non-null  object \n",
      "dtypes: float64(1), object(8)\n",
      "memory usage: 15.9+ MB\n"
     ]
    }
   ],
   "source": [
    "df_test.info()"
   ]
  },
  {
   "cell_type": "code",
   "execution_count": 55,
   "metadata": {},
   "outputs": [
    {
     "data": {
      "text/html": [
       "<div>\n",
       "<style scoped>\n",
       "    .dataframe tbody tr th:only-of-type {\n",
       "        vertical-align: middle;\n",
       "    }\n",
       "\n",
       "    .dataframe tbody tr th {\n",
       "        vertical-align: top;\n",
       "    }\n",
       "\n",
       "    .dataframe thead th {\n",
       "        text-align: right;\n",
       "    }\n",
       "</style>\n",
       "<table border=\"1\" class=\"dataframe\">\n",
       "  <thead>\n",
       "    <tr style=\"text-align: right;\">\n",
       "      <th></th>\n",
       "      <th>isbn</th>\n",
       "      <th>book_title</th>\n",
       "      <th>book_author</th>\n",
       "      <th>year_of_publication</th>\n",
       "      <th>publisher</th>\n",
       "      <th>image_url_s</th>\n",
       "      <th>image_url_m</th>\n",
       "      <th>image_url_l</th>\n",
       "      <th>subjects</th>\n",
       "    </tr>\n",
       "  </thead>\n",
       "  <tbody>\n",
       "    <tr>\n",
       "      <th>0</th>\n",
       "      <td>0195153448</td>\n",
       "      <td>Classical Mythology</td>\n",
       "      <td>Mark P. O. Morford</td>\n",
       "      <td>2002.0</td>\n",
       "      <td>Oxford University Press</td>\n",
       "      <td>http://images.amazon.com/images/P/0195153448.0...</td>\n",
       "      <td>http://images.amazon.com/images/P/0195153448.0...</td>\n",
       "      <td>http://images.amazon.com/images/P/0195153448.0...</td>\n",
       "      <td>(Classical Mythology, Mythology, Classical, My...</td>\n",
       "    </tr>\n",
       "    <tr>\n",
       "      <th>1</th>\n",
       "      <td>0002005018</td>\n",
       "      <td>Clara Callan</td>\n",
       "      <td>Richard Bruce Wright</td>\n",
       "      <td>2001.0</td>\n",
       "      <td>HarperFlamingo Canada</td>\n",
       "      <td>http://images.amazon.com/images/P/0002005018.0...</td>\n",
       "      <td>http://images.amazon.com/images/P/0002005018.0...</td>\n",
       "      <td>http://images.amazon.com/images/P/0002005018.0...</td>\n",
       "      <td>(Actresses, Fiction, Literature, Sisters, Wome...</td>\n",
       "    </tr>\n",
       "    <tr>\n",
       "      <th>2</th>\n",
       "      <td>0060973129</td>\n",
       "      <td>Decision in Normandy</td>\n",
       "      <td>Carlo D'Este</td>\n",
       "      <td>1991.0</td>\n",
       "      <td>HarperPerennial</td>\n",
       "      <td>http://images.amazon.com/images/P/0060973129.0...</td>\n",
       "      <td>http://images.amazon.com/images/P/0060973129.0...</td>\n",
       "      <td>http://images.amazon.com/images/P/0060973129.0...</td>\n",
       "      <td>(Campaigns, History, History, Military, Milita...</td>\n",
       "    </tr>\n",
       "    <tr>\n",
       "      <th>3</th>\n",
       "      <td>0060973129</td>\n",
       "      <td>Decision in Normandy</td>\n",
       "      <td>Carlo D'Este</td>\n",
       "      <td>1991.0</td>\n",
       "      <td>HarperPerennial</td>\n",
       "      <td>http://images.amazon.com/images/P/0060973129.0...</td>\n",
       "      <td>http://images.amazon.com/images/P/0060973129.0...</td>\n",
       "      <td>http://images.amazon.com/images/P/0060973129.0...</td>\n",
       "      <td>(Campaigns, History, History, Military, Milita...</td>\n",
       "    </tr>\n",
       "    <tr>\n",
       "      <th>4</th>\n",
       "      <td>0374157065</td>\n",
       "      <td>Flu: The Story of the Great Influenza Pandemic...</td>\n",
       "      <td>Gina Bari Kolata</td>\n",
       "      <td>1999.0</td>\n",
       "      <td>Farrar Straus Giroux</td>\n",
       "      <td>http://images.amazon.com/images/P/0374157065.0...</td>\n",
       "      <td>http://images.amazon.com/images/P/0374157065.0...</td>\n",
       "      <td>http://images.amazon.com/images/P/0374157065.0...</td>\n",
       "      <td>(Influenza, History, Grippe humaine, Disease O...</td>\n",
       "    </tr>\n",
       "  </tbody>\n",
       "</table>\n",
       "</div>"
      ],
      "text/plain": [
       "         isbn                                         book_title  \\\n",
       "0  0195153448                                Classical Mythology   \n",
       "1  0002005018                                       Clara Callan   \n",
       "2  0060973129                               Decision in Normandy   \n",
       "3  0060973129                               Decision in Normandy   \n",
       "4  0374157065  Flu: The Story of the Great Influenza Pandemic...   \n",
       "\n",
       "            book_author  year_of_publication                publisher  \\\n",
       "0    Mark P. O. Morford               2002.0  Oxford University Press   \n",
       "1  Richard Bruce Wright               2001.0    HarperFlamingo Canada   \n",
       "2          Carlo D'Este               1991.0          HarperPerennial   \n",
       "3          Carlo D'Este               1991.0          HarperPerennial   \n",
       "4      Gina Bari Kolata               1999.0     Farrar Straus Giroux   \n",
       "\n",
       "                                         image_url_s  \\\n",
       "0  http://images.amazon.com/images/P/0195153448.0...   \n",
       "1  http://images.amazon.com/images/P/0002005018.0...   \n",
       "2  http://images.amazon.com/images/P/0060973129.0...   \n",
       "3  http://images.amazon.com/images/P/0060973129.0...   \n",
       "4  http://images.amazon.com/images/P/0374157065.0...   \n",
       "\n",
       "                                         image_url_m  \\\n",
       "0  http://images.amazon.com/images/P/0195153448.0...   \n",
       "1  http://images.amazon.com/images/P/0002005018.0...   \n",
       "2  http://images.amazon.com/images/P/0060973129.0...   \n",
       "3  http://images.amazon.com/images/P/0060973129.0...   \n",
       "4  http://images.amazon.com/images/P/0374157065.0...   \n",
       "\n",
       "                                         image_url_l  \\\n",
       "0  http://images.amazon.com/images/P/0195153448.0...   \n",
       "1  http://images.amazon.com/images/P/0002005018.0...   \n",
       "2  http://images.amazon.com/images/P/0060973129.0...   \n",
       "3  http://images.amazon.com/images/P/0060973129.0...   \n",
       "4  http://images.amazon.com/images/P/0374157065.0...   \n",
       "\n",
       "                                            subjects  \n",
       "0  (Classical Mythology, Mythology, Classical, My...  \n",
       "1  (Actresses, Fiction, Literature, Sisters, Wome...  \n",
       "2  (Campaigns, History, History, Military, Milita...  \n",
       "3  (Campaigns, History, History, Military, Milita...  \n",
       "4  (Influenza, History, Grippe humaine, Disease O...  "
      ]
     },
     "execution_count": 55,
     "metadata": {},
     "output_type": "execute_result"
    }
   ],
   "source": [
    "df_test.head()"
   ]
  },
  {
   "cell_type": "code",
   "execution_count": 56,
   "metadata": {},
   "outputs": [
    {
     "data": {
      "text/plain": [
       "count    230627.000000\n",
       "mean       1993.575739\n",
       "std           8.492597\n",
       "min        1806.000000\n",
       "25%        1989.000000\n",
       "50%        1996.000000\n",
       "75%        2000.000000\n",
       "max        2050.000000\n",
       "Name: year_of_publication, dtype: float64"
      ]
     },
     "execution_count": 56,
     "metadata": {},
     "output_type": "execute_result"
    }
   ],
   "source": [
    "df_test['year_of_publication'].describe()"
   ]
  },
  {
   "cell_type": "code",
   "execution_count": 60,
   "metadata": {},
   "outputs": [
    {
     "data": {
      "text/plain": [
       "Series([], Name: count, dtype: int64)"
      ]
     },
     "execution_count": 60,
     "metadata": {},
     "output_type": "execute_result"
    }
   ],
   "source": [
    "df_test.year_of_publication[df_test['year_of_publication'] > 2024].value_counts()\n",
    "# year_of_publication\n",
    "# 2030.0    4\n",
    "# 2050.0    2\n",
    "# 2038.0    1\n",
    "# 2026.0    1\n",
    "# Name: count, dtype: int64"
   ]
  },
  {
   "cell_type": "code",
   "execution_count": 61,
   "metadata": {},
   "outputs": [],
   "source": [
    "# Let's replace the future dates (above 2024) with NaN\n",
    "df_test[df_test['year_of_publication'] > 2024].year_of_publication = np.nan"
   ]
  },
  {
   "cell_type": "code",
   "execution_count": 62,
   "metadata": {},
   "outputs": [
    {
     "data": {
      "text/plain": [
       "count    230619.000000\n",
       "mean       1993.574285\n",
       "std           8.488991\n",
       "min        1806.000000\n",
       "25%        1989.000000\n",
       "50%        1996.000000\n",
       "75%        2000.000000\n",
       "max        2021.000000\n",
       "Name: year_of_publication, dtype: float64"
      ]
     },
     "execution_count": 62,
     "metadata": {},
     "output_type": "execute_result"
    }
   ],
   "source": [
    "df_test['year_of_publication'].describe()"
   ]
  },
  {
   "cell_type": "code",
   "execution_count": 63,
   "metadata": {},
   "outputs": [
    {
     "name": "stdout",
     "output_type": "stream",
     "text": [
      "<class 'pandas.core.frame.DataFrame'>\n",
      "RangeIndex: 231440 entries, 0 to 231439\n",
      "Data columns (total 9 columns):\n",
      " #   Column               Non-Null Count   Dtype  \n",
      "---  ------               --------------   -----  \n",
      " 0   isbn                 231440 non-null  object \n",
      " 1   book_title           231440 non-null  object \n",
      " 2   book_author          231438 non-null  object \n",
      " 3   year_of_publication  230619 non-null  float64\n",
      " 4   publisher            231438 non-null  object \n",
      " 5   image_url_s          231440 non-null  object \n",
      " 6   image_url_m          231440 non-null  object \n",
      " 7   image_url_l          231437 non-null  object \n",
      " 8   subjects             231440 non-null  object \n",
      "dtypes: float64(1), object(8)\n",
      "memory usage: 15.9+ MB\n"
     ]
    }
   ],
   "source": [
    "df_test.info()"
   ]
  },
  {
   "cell_type": "code",
   "execution_count": 64,
   "metadata": {},
   "outputs": [
    {
     "data": {
      "text/plain": [
       "0"
      ]
     },
     "execution_count": 64,
     "metadata": {},
     "output_type": "execute_result"
    }
   ],
   "source": [
    "# df_test has around 930 overall duplicates, let's remove them:\n",
    "df_test = df_test.drop_duplicates()\n",
    "df_test.duplicated().sum()"
   ]
  },
  {
   "cell_type": "code",
   "execution_count": 65,
   "metadata": {},
   "outputs": [
    {
     "data": {
      "text/plain": [
       "3221"
      ]
     },
     "execution_count": 65,
     "metadata": {},
     "output_type": "execute_result"
    }
   ],
   "source": [
    "# But how many isbn's are still duplicated?\n",
    "df_test.isbn.duplicated().sum() # 3221"
   ]
  },
  {
   "cell_type": "code",
   "execution_count": 66,
   "metadata": {},
   "outputs": [
    {
     "data": {
      "text/plain": [
       "0"
      ]
     },
     "execution_count": 66,
     "metadata": {},
     "output_type": "execute_result"
    }
   ],
   "source": [
    "df_test.duplicated(subset=['isbn', 'subjects', 'year_of_publication'], keep=False).sum() # 0"
   ]
  },
  {
   "cell_type": "code",
   "execution_count": 67,
   "metadata": {},
   "outputs": [
    {
     "data": {
      "text/plain": [
       "26"
      ]
     },
     "execution_count": 67,
     "metadata": {},
     "output_type": "execute_result"
    }
   ],
   "source": [
    "# Books with duplicates that are ONLY different in 'year_of_publication':\n",
    "df_test.duplicated(subset=['isbn', 'subjects'], keep=False).sum() # 26"
   ]
  },
  {
   "cell_type": "code",
   "execution_count": 68,
   "metadata": {},
   "outputs": [
    {
     "data": {
      "text/plain": [
       "0"
      ]
     },
     "execution_count": 68,
     "metadata": {},
     "output_type": "execute_result"
    }
   ],
   "source": [
    "df_test.isbn.isna().sum() # 0\n",
    "df_test.isbn.isnull().sum() # 0\n",
    "# So far, no missing values in 'isbn'"
   ]
  },
  {
   "cell_type": "markdown",
   "metadata": {},
   "source": [
    "##### Books with duplicates that are ONLY different in 'subjects'"
   ]
  },
  {
   "cell_type": "code",
   "execution_count": 69,
   "metadata": {},
   "outputs": [
    {
     "data": {
      "text/plain": [
       "6404"
      ]
     },
     "execution_count": 69,
     "metadata": {},
     "output_type": "execute_result"
    }
   ],
   "source": [
    "# Books with duplicates that are ONLY different in 'subjects':\n",
    "df_test.duplicated(subset=['isbn', 'year_of_publication'], keep=False).sum()\n",
    "# 6404\n",
    "\n",
    "### (I checked, and the other columns are the same for these duplicates)"
   ]
  },
  {
   "cell_type": "code",
   "execution_count": 70,
   "metadata": {},
   "outputs": [
    {
     "name": "stdout",
     "output_type": "stream",
     "text": [
      "df_test_sorted number of missing isbn values:\n",
      "0\n",
      "df_test_deduplicated number of missing isbn values:\n",
      "0\n",
      "df_test_deduplicated number of missing isbn values after finishing:\n",
      "0\n"
     ]
    }
   ],
   "source": [
    "# Let's handle this by keeping only the rows with the most data available in 'subjects':\n",
    "\n",
    "# Step 1: Create a new column to store the length of the 'subjects' frozenset\n",
    "df_test['subjects_len'] = df_test['subjects'].apply(len)\n",
    "\n",
    "# Step 2: Sort the dataframe by the relevant columns and 'subjects_len', keeping the longest 'frozenset' first\n",
    "df_test_sorted = df_test.sort_values(by=['isbn', 'book_title', 'book_author', 'year_of_publication', 'publisher', 'image_url_s', 'image_url_m', 'image_url_l', 'subjects_len'], ascending=[True, True, True, True, True, True, True, True, False])\n",
    "print('df_test_sorted number of missing isbn values:')\n",
    "print(df_test_sorted.isbn.isna().sum()) \n",
    "\n",
    "# Step 3: Drop duplicates, keeping the row with the longest 'frozenset' (sorted first)\n",
    "df_test_deduplicated = df_test_sorted.drop_duplicates(subset=['isbn', 'year_of_publication'], keep='first')\n",
    "print('df_test_deduplicated number of missing isbn values:')\n",
    "print(df_test_deduplicated.isbn.isna().sum()) \n",
    "\n",
    "# Step 4: Drop the 'subjects_len' column (no longer needed)\n",
    "df_test_deduplicated = df_test_deduplicated.drop(columns='subjects_len')\n",
    "print('df_test_deduplicated number of missing isbn values after finishing:')\n",
    "print(df_test_deduplicated.isbn.isna().sum()) \n",
    "\n",
    "# Now df_test_deduplicated contains no duplicates, with the longest frozenset retained\n"
   ]
  },
  {
   "cell_type": "code",
   "execution_count": 71,
   "metadata": {},
   "outputs": [
    {
     "data": {
      "text/html": [
       "<div>\n",
       "<style scoped>\n",
       "    .dataframe tbody tr th:only-of-type {\n",
       "        vertical-align: middle;\n",
       "    }\n",
       "\n",
       "    .dataframe tbody tr th {\n",
       "        vertical-align: top;\n",
       "    }\n",
       "\n",
       "    .dataframe thead th {\n",
       "        text-align: right;\n",
       "    }\n",
       "</style>\n",
       "<table border=\"1\" class=\"dataframe\">\n",
       "  <thead>\n",
       "    <tr style=\"text-align: right;\">\n",
       "      <th></th>\n",
       "      <th>isbn</th>\n",
       "      <th>book_title</th>\n",
       "      <th>book_author</th>\n",
       "      <th>year_of_publication</th>\n",
       "      <th>publisher</th>\n",
       "      <th>image_url_s</th>\n",
       "      <th>image_url_m</th>\n",
       "      <th>image_url_l</th>\n",
       "      <th>subjects</th>\n",
       "    </tr>\n",
       "  </thead>\n",
       "  <tbody>\n",
       "    <tr>\n",
       "      <th>219957</th>\n",
       "      <td>0001010565</td>\n",
       "      <td>Mog's Christmas</td>\n",
       "      <td>Judith Kerr</td>\n",
       "      <td>1992.0</td>\n",
       "      <td>Collins</td>\n",
       "      <td>http://images.amazon.com/images/P/0001010565.0...</td>\n",
       "      <td>http://images.amazon.com/images/P/0001010565.0...</td>\n",
       "      <td>http://images.amazon.com/images/P/0001010565.0...</td>\n",
       "      <td>(Children's fiction, Cats, fiction, Christmas,...</td>\n",
       "    </tr>\n",
       "    <tr>\n",
       "      <th>46713</th>\n",
       "      <td>0001046438</td>\n",
       "      <td>Liar</td>\n",
       "      <td>Stephen Fry</td>\n",
       "      <td>1970.0</td>\n",
       "      <td>Harpercollins Uk</td>\n",
       "      <td>http://images.amazon.com/images/P/0001046438.0...</td>\n",
       "      <td>http://images.amazon.com/images/P/0001046438.0...</td>\n",
       "      <td>http://images.amazon.com/images/P/0001046438.0...</td>\n",
       "      <td>(Truthfulness and falsehood, Fiction, Murder, ...</td>\n",
       "    </tr>\n",
       "    <tr>\n",
       "      <th>116706</th>\n",
       "      <td>0001046713</td>\n",
       "      <td>Twopence to Cross the Mersey</td>\n",
       "      <td>Helen Forrester</td>\n",
       "      <td>1992.0</td>\n",
       "      <td>HarperCollins Publishers</td>\n",
       "      <td>http://images.amazon.com/images/P/0001046713.0...</td>\n",
       "      <td>http://images.amazon.com/images/P/0001046713.0...</td>\n",
       "      <td>http://images.amazon.com/images/P/0001046713.0...</td>\n",
       "      <td>(Biographies, Biography, Childhood and youth, ...</td>\n",
       "    </tr>\n",
       "    <tr>\n",
       "      <th>46755</th>\n",
       "      <td>000104687X</td>\n",
       "      <td>T.S. Eliot Reading \\The Wasteland\\\" and Other ...</td>\n",
       "      <td>T.S. Eliot</td>\n",
       "      <td>1993.0</td>\n",
       "      <td>HarperCollins Publishers</td>\n",
       "      <td>http://images.amazon.com/images/P/000104687X.0...</td>\n",
       "      <td>http://images.amazon.com/images/P/000104687X.0...</td>\n",
       "      <td>http://images.amazon.com/images/P/000104687X.0...</td>\n",
       "      <td>()</td>\n",
       "    </tr>\n",
       "    <tr>\n",
       "      <th>150344</th>\n",
       "      <td>0001046934</td>\n",
       "      <td>The Prime of Miss Jean Brodie</td>\n",
       "      <td>Muriel Spark</td>\n",
       "      <td>1999.0</td>\n",
       "      <td>Trafalgar Square Publishing</td>\n",
       "      <td>http://images.amazon.com/images/P/0001046934.0...</td>\n",
       "      <td>http://images.amazon.com/images/P/0001046934.0...</td>\n",
       "      <td>http://images.amazon.com/images/P/0001046934.0...</td>\n",
       "      <td>(Teacher-student relationships, Women teachers...</td>\n",
       "    </tr>\n",
       "  </tbody>\n",
       "</table>\n",
       "</div>"
      ],
      "text/plain": [
       "              isbn                                         book_title  \\\n",
       "219957  0001010565                                    Mog's Christmas   \n",
       "46713   0001046438                                               Liar   \n",
       "116706  0001046713                       Twopence to Cross the Mersey   \n",
       "46755   000104687X  T.S. Eliot Reading \\The Wasteland\\\" and Other ...   \n",
       "150344  0001046934                      The Prime of Miss Jean Brodie   \n",
       "\n",
       "            book_author  year_of_publication                    publisher  \\\n",
       "219957      Judith Kerr               1992.0                      Collins   \n",
       "46713       Stephen Fry               1970.0             Harpercollins Uk   \n",
       "116706  Helen Forrester               1992.0     HarperCollins Publishers   \n",
       "46755        T.S. Eliot               1993.0     HarperCollins Publishers   \n",
       "150344     Muriel Spark               1999.0  Trafalgar Square Publishing   \n",
       "\n",
       "                                              image_url_s  \\\n",
       "219957  http://images.amazon.com/images/P/0001010565.0...   \n",
       "46713   http://images.amazon.com/images/P/0001046438.0...   \n",
       "116706  http://images.amazon.com/images/P/0001046713.0...   \n",
       "46755   http://images.amazon.com/images/P/000104687X.0...   \n",
       "150344  http://images.amazon.com/images/P/0001046934.0...   \n",
       "\n",
       "                                              image_url_m  \\\n",
       "219957  http://images.amazon.com/images/P/0001010565.0...   \n",
       "46713   http://images.amazon.com/images/P/0001046438.0...   \n",
       "116706  http://images.amazon.com/images/P/0001046713.0...   \n",
       "46755   http://images.amazon.com/images/P/000104687X.0...   \n",
       "150344  http://images.amazon.com/images/P/0001046934.0...   \n",
       "\n",
       "                                              image_url_l  \\\n",
       "219957  http://images.amazon.com/images/P/0001010565.0...   \n",
       "46713   http://images.amazon.com/images/P/0001046438.0...   \n",
       "116706  http://images.amazon.com/images/P/0001046713.0...   \n",
       "46755   http://images.amazon.com/images/P/000104687X.0...   \n",
       "150344  http://images.amazon.com/images/P/0001046934.0...   \n",
       "\n",
       "                                                 subjects  \n",
       "219957  (Children's fiction, Cats, fiction, Christmas,...  \n",
       "46713   (Truthfulness and falsehood, Fiction, Murder, ...  \n",
       "116706  (Biographies, Biography, Childhood and youth, ...  \n",
       "46755                                                  ()  \n",
       "150344  (Teacher-student relationships, Women teachers...  "
      ]
     },
     "execution_count": 71,
     "metadata": {},
     "output_type": "execute_result"
    }
   ],
   "source": [
    "df_test_deduplicated.head()"
   ]
  },
  {
   "cell_type": "code",
   "execution_count": 72,
   "metadata": {},
   "outputs": [
    {
     "data": {
      "text/plain": [
       "0"
      ]
     },
     "execution_count": 72,
     "metadata": {},
     "output_type": "execute_result"
    }
   ],
   "source": [
    "# Books with duplicates that are ONLY different in 'subjects':\n",
    "df_test_deduplicated.duplicated(subset=['isbn', 'year_of_publication'], keep=False).sum() # 0\n",
    "# 6404"
   ]
  },
  {
   "cell_type": "code",
   "execution_count": 73,
   "metadata": {},
   "outputs": [
    {
     "data": {
      "text/html": [
       "<div>\n",
       "<style scoped>\n",
       "    .dataframe tbody tr th:only-of-type {\n",
       "        vertical-align: middle;\n",
       "    }\n",
       "\n",
       "    .dataframe tbody tr th {\n",
       "        vertical-align: top;\n",
       "    }\n",
       "\n",
       "    .dataframe thead th {\n",
       "        text-align: right;\n",
       "    }\n",
       "</style>\n",
       "<table border=\"1\" class=\"dataframe\">\n",
       "  <thead>\n",
       "    <tr style=\"text-align: right;\">\n",
       "      <th></th>\n",
       "      <th>isbn</th>\n",
       "      <th>book_title</th>\n",
       "      <th>book_author</th>\n",
       "      <th>year_of_publication</th>\n",
       "      <th>publisher</th>\n",
       "      <th>image_url_s</th>\n",
       "      <th>image_url_m</th>\n",
       "      <th>image_url_l</th>\n",
       "      <th>subjects</th>\n",
       "    </tr>\n",
       "  </thead>\n",
       "  <tbody>\n",
       "    <tr>\n",
       "      <th>219957</th>\n",
       "      <td>0001010565</td>\n",
       "      <td>Mog's Christmas</td>\n",
       "      <td>Judith Kerr</td>\n",
       "      <td>1992.0</td>\n",
       "      <td>Collins</td>\n",
       "      <td>http://images.amazon.com/images/P/0001010565.0...</td>\n",
       "      <td>http://images.amazon.com/images/P/0001010565.0...</td>\n",
       "      <td>http://images.amazon.com/images/P/0001010565.0...</td>\n",
       "      <td>(Children's fiction, Cats, fiction, Christmas,...</td>\n",
       "    </tr>\n",
       "    <tr>\n",
       "      <th>46713</th>\n",
       "      <td>0001046438</td>\n",
       "      <td>Liar</td>\n",
       "      <td>Stephen Fry</td>\n",
       "      <td>1970.0</td>\n",
       "      <td>Harpercollins Uk</td>\n",
       "      <td>http://images.amazon.com/images/P/0001046438.0...</td>\n",
       "      <td>http://images.amazon.com/images/P/0001046438.0...</td>\n",
       "      <td>http://images.amazon.com/images/P/0001046438.0...</td>\n",
       "      <td>(Truthfulness and falsehood, Fiction, Murder, ...</td>\n",
       "    </tr>\n",
       "    <tr>\n",
       "      <th>116706</th>\n",
       "      <td>0001046713</td>\n",
       "      <td>Twopence to Cross the Mersey</td>\n",
       "      <td>Helen Forrester</td>\n",
       "      <td>1992.0</td>\n",
       "      <td>HarperCollins Publishers</td>\n",
       "      <td>http://images.amazon.com/images/P/0001046713.0...</td>\n",
       "      <td>http://images.amazon.com/images/P/0001046713.0...</td>\n",
       "      <td>http://images.amazon.com/images/P/0001046713.0...</td>\n",
       "      <td>(Biographies, Biography, Childhood and youth, ...</td>\n",
       "    </tr>\n",
       "    <tr>\n",
       "      <th>46755</th>\n",
       "      <td>000104687X</td>\n",
       "      <td>T.S. Eliot Reading \\The Wasteland\\\" and Other ...</td>\n",
       "      <td>T.S. Eliot</td>\n",
       "      <td>1993.0</td>\n",
       "      <td>HarperCollins Publishers</td>\n",
       "      <td>http://images.amazon.com/images/P/000104687X.0...</td>\n",
       "      <td>http://images.amazon.com/images/P/000104687X.0...</td>\n",
       "      <td>http://images.amazon.com/images/P/000104687X.0...</td>\n",
       "      <td>()</td>\n",
       "    </tr>\n",
       "    <tr>\n",
       "      <th>150344</th>\n",
       "      <td>0001046934</td>\n",
       "      <td>The Prime of Miss Jean Brodie</td>\n",
       "      <td>Muriel Spark</td>\n",
       "      <td>1999.0</td>\n",
       "      <td>Trafalgar Square Publishing</td>\n",
       "      <td>http://images.amazon.com/images/P/0001046934.0...</td>\n",
       "      <td>http://images.amazon.com/images/P/0001046934.0...</td>\n",
       "      <td>http://images.amazon.com/images/P/0001046934.0...</td>\n",
       "      <td>(Teacher-student relationships, Women teachers...</td>\n",
       "    </tr>\n",
       "  </tbody>\n",
       "</table>\n",
       "</div>"
      ],
      "text/plain": [
       "              isbn                                         book_title  \\\n",
       "219957  0001010565                                    Mog's Christmas   \n",
       "46713   0001046438                                               Liar   \n",
       "116706  0001046713                       Twopence to Cross the Mersey   \n",
       "46755   000104687X  T.S. Eliot Reading \\The Wasteland\\\" and Other ...   \n",
       "150344  0001046934                      The Prime of Miss Jean Brodie   \n",
       "\n",
       "            book_author  year_of_publication                    publisher  \\\n",
       "219957      Judith Kerr               1992.0                      Collins   \n",
       "46713       Stephen Fry               1970.0             Harpercollins Uk   \n",
       "116706  Helen Forrester               1992.0     HarperCollins Publishers   \n",
       "46755        T.S. Eliot               1993.0     HarperCollins Publishers   \n",
       "150344     Muriel Spark               1999.0  Trafalgar Square Publishing   \n",
       "\n",
       "                                              image_url_s  \\\n",
       "219957  http://images.amazon.com/images/P/0001010565.0...   \n",
       "46713   http://images.amazon.com/images/P/0001046438.0...   \n",
       "116706  http://images.amazon.com/images/P/0001046713.0...   \n",
       "46755   http://images.amazon.com/images/P/000104687X.0...   \n",
       "150344  http://images.amazon.com/images/P/0001046934.0...   \n",
       "\n",
       "                                              image_url_m  \\\n",
       "219957  http://images.amazon.com/images/P/0001010565.0...   \n",
       "46713   http://images.amazon.com/images/P/0001046438.0...   \n",
       "116706  http://images.amazon.com/images/P/0001046713.0...   \n",
       "46755   http://images.amazon.com/images/P/000104687X.0...   \n",
       "150344  http://images.amazon.com/images/P/0001046934.0...   \n",
       "\n",
       "                                              image_url_l  \\\n",
       "219957  http://images.amazon.com/images/P/0001010565.0...   \n",
       "46713   http://images.amazon.com/images/P/0001046438.0...   \n",
       "116706  http://images.amazon.com/images/P/0001046713.0...   \n",
       "46755   http://images.amazon.com/images/P/000104687X.0...   \n",
       "150344  http://images.amazon.com/images/P/0001046934.0...   \n",
       "\n",
       "                                                 subjects  \n",
       "219957  (Children's fiction, Cats, fiction, Christmas,...  \n",
       "46713   (Truthfulness and falsehood, Fiction, Murder, ...  \n",
       "116706  (Biographies, Biography, Childhood and youth, ...  \n",
       "46755                                                  ()  \n",
       "150344  (Teacher-student relationships, Women teachers...  "
      ]
     },
     "execution_count": 73,
     "metadata": {},
     "output_type": "execute_result"
    }
   ],
   "source": [
    "df_test_deduplicated.head()"
   ]
  },
  {
   "cell_type": "code",
   "execution_count": 74,
   "metadata": {},
   "outputs": [],
   "source": [
    "df_test_deduplicated.to_csv('data/test_big_cleaned.csv', index=False)"
   ]
  },
  {
   "cell_type": "markdown",
   "metadata": {},
   "source": [
    "##### Books with duplicates that are ONLY different in 'year_of_publication'"
   ]
  },
  {
   "cell_type": "code",
   "execution_count": 75,
   "metadata": {},
   "outputs": [],
   "source": [
    "df_test_deduplicated = df_test_deduplicated.sort_values(by='isbn')\n",
    "df_test_deduplicated = df_test_deduplicated.sort_values(by='year_of_publication')"
   ]
  },
  {
   "cell_type": "code",
   "execution_count": 76,
   "metadata": {},
   "outputs": [
    {
     "data": {
      "text/plain": [
       "0"
      ]
     },
     "execution_count": 76,
     "metadata": {},
     "output_type": "execute_result"
    }
   ],
   "source": [
    "df_test_deduplicated.isbn.isnull().sum() #0"
   ]
  },
  {
   "cell_type": "code",
   "execution_count": 77,
   "metadata": {},
   "outputs": [
    {
     "data": {
      "text/plain": [
       "26"
      ]
     },
     "execution_count": 77,
     "metadata": {},
     "output_type": "execute_result"
    }
   ],
   "source": [
    "# Books with duplicates that are ONLY different in 'year_of_publication':\n",
    "df_test_deduplicated.duplicated(subset=['isbn', 'subjects'], keep=False).sum()\n",
    "# 26"
   ]
  },
  {
   "cell_type": "code",
   "execution_count": 78,
   "metadata": {},
   "outputs": [],
   "source": [
    "df_td2 = df_test_deduplicated.copy()\n",
    "df_clean = df_td2.dropna(subset=['year_of_publication']) # remove NA values in 'year_of_publication'\n",
    "df_clean = df_clean.sort_values('year_of_publication', ascending=False)  # Sort to keep the most recent year\n",
    "df_clean = df_clean.drop_duplicates(subset=['isbn', 'subjects'], keep='first')  # Drop duplicates, keeping the first"
   ]
  },
  {
   "cell_type": "code",
   "execution_count": 79,
   "metadata": {},
   "outputs": [
    {
     "name": "stdout",
     "output_type": "stream",
     "text": [
      "0\n",
      "0\n",
      "0\n",
      "0\n",
      "0\n",
      "0\n"
     ]
    }
   ],
   "source": [
    "print(df_clean.isbn.isnull().sum()) # 0\n",
    "print(df_clean.duplicated(subset=['isbn', 'subjects'], keep=False).sum()) # 0\n",
    "print(df_clean.duplicated(subset=['isbn', 'year_of_publication'], keep=False).sum()) # 0\n",
    "print(df_clean.duplicated().sum()) # 0\n",
    "print(df_clean.duplicated(subset=['isbn'], keep=False).sum()) # 0\n",
    "print(df_clean.isbn.isna().sum()) # 0\n"
   ]
  },
  {
   "cell_type": "code",
   "execution_count": 80,
   "metadata": {},
   "outputs": [
    {
     "data": {
      "text/html": [
       "<div>\n",
       "<style scoped>\n",
       "    .dataframe tbody tr th:only-of-type {\n",
       "        vertical-align: middle;\n",
       "    }\n",
       "\n",
       "    .dataframe tbody tr th {\n",
       "        vertical-align: top;\n",
       "    }\n",
       "\n",
       "    .dataframe thead th {\n",
       "        text-align: right;\n",
       "    }\n",
       "</style>\n",
       "<table border=\"1\" class=\"dataframe\">\n",
       "  <thead>\n",
       "    <tr style=\"text-align: right;\">\n",
       "      <th></th>\n",
       "      <th>isbn</th>\n",
       "      <th>book_title</th>\n",
       "      <th>book_author</th>\n",
       "      <th>year_of_publication</th>\n",
       "      <th>publisher</th>\n",
       "      <th>image_url_s</th>\n",
       "      <th>image_url_m</th>\n",
       "      <th>image_url_l</th>\n",
       "      <th>subjects</th>\n",
       "    </tr>\n",
       "  </thead>\n",
       "  <tbody>\n",
       "    <tr>\n",
       "      <th>0</th>\n",
       "      <td>0590085417</td>\n",
       "      <td>Heidi</td>\n",
       "      <td>Johanna Spyri</td>\n",
       "      <td>2021.0</td>\n",
       "      <td>Scholastic</td>\n",
       "      <td>http://images.amazon.com/images/P/0590085417.0...</td>\n",
       "      <td>http://images.amazon.com/images/P/0590085417.0...</td>\n",
       "      <td>http://images.amazon.com/images/P/0590085417.0...</td>\n",
       "      <td>(Johanna Spyri, Shirley Temple, Movie tie-in, ...</td>\n",
       "    </tr>\n",
       "    <tr>\n",
       "      <th>1</th>\n",
       "      <td>068160204X</td>\n",
       "      <td>The Royals</td>\n",
       "      <td>Kitty Kelley</td>\n",
       "      <td>2020.0</td>\n",
       "      <td>Bausch &amp;amp; Lombard</td>\n",
       "      <td>http://images.amazon.com/images/P/068160204X.0...</td>\n",
       "      <td>http://images.amazon.com/images/P/068160204X.0...</td>\n",
       "      <td>http://images.amazon.com/images/P/068160204X.0...</td>\n",
       "      <td>()</td>\n",
       "    </tr>\n",
       "    <tr>\n",
       "      <th>2</th>\n",
       "      <td>068107468X</td>\n",
       "      <td>Edgar Allen Poe Collected Poems</td>\n",
       "      <td>Edgar Allan Poe</td>\n",
       "      <td>2020.0</td>\n",
       "      <td>Bausch &amp;amp; Lombard</td>\n",
       "      <td>http://images.amazon.com/images/P/068107468X.0...</td>\n",
       "      <td>http://images.amazon.com/images/P/068107468X.0...</td>\n",
       "      <td>http://images.amazon.com/images/P/068107468X.0...</td>\n",
       "      <td>(American Fantasy poetry)</td>\n",
       "    </tr>\n",
       "    <tr>\n",
       "      <th>3</th>\n",
       "      <td>0307124533</td>\n",
       "      <td>Owl's Amazing but True No. 2</td>\n",
       "      <td>Owl Magazine</td>\n",
       "      <td>2012.0</td>\n",
       "      <td>Golden Books</td>\n",
       "      <td>http://images.amazon.com/images/P/0307124533.0...</td>\n",
       "      <td>http://images.amazon.com/images/P/0307124533.0...</td>\n",
       "      <td>http://images.amazon.com/images/P/0307124533.0...</td>\n",
       "      <td>()</td>\n",
       "    </tr>\n",
       "    <tr>\n",
       "      <th>4</th>\n",
       "      <td>0380816792</td>\n",
       "      <td>A Rose in Winter</td>\n",
       "      <td>Kathleen E. Woodiwiss</td>\n",
       "      <td>2011.0</td>\n",
       "      <td>Harper Mass Market Paperbacks</td>\n",
       "      <td>http://images.amazon.com/images/P/0380816792.0...</td>\n",
       "      <td>http://images.amazon.com/images/P/0380816792.0...</td>\n",
       "      <td>http://images.amazon.com/images/P/0380816792.0...</td>\n",
       "      <td>(Fiction, Historical Fiction, Romance, Fiction...</td>\n",
       "    </tr>\n",
       "  </tbody>\n",
       "</table>\n",
       "</div>"
      ],
      "text/plain": [
       "         isbn                       book_title            book_author  \\\n",
       "0  0590085417                            Heidi          Johanna Spyri   \n",
       "1  068160204X                       The Royals           Kitty Kelley   \n",
       "2  068107468X  Edgar Allen Poe Collected Poems        Edgar Allan Poe   \n",
       "3  0307124533     Owl's Amazing but True No. 2           Owl Magazine   \n",
       "4  0380816792                 A Rose in Winter  Kathleen E. Woodiwiss   \n",
       "\n",
       "   year_of_publication                      publisher  \\\n",
       "0               2021.0                     Scholastic   \n",
       "1               2020.0           Bausch &amp; Lombard   \n",
       "2               2020.0           Bausch &amp; Lombard   \n",
       "3               2012.0                   Golden Books   \n",
       "4               2011.0  Harper Mass Market Paperbacks   \n",
       "\n",
       "                                         image_url_s  \\\n",
       "0  http://images.amazon.com/images/P/0590085417.0...   \n",
       "1  http://images.amazon.com/images/P/068160204X.0...   \n",
       "2  http://images.amazon.com/images/P/068107468X.0...   \n",
       "3  http://images.amazon.com/images/P/0307124533.0...   \n",
       "4  http://images.amazon.com/images/P/0380816792.0...   \n",
       "\n",
       "                                         image_url_m  \\\n",
       "0  http://images.amazon.com/images/P/0590085417.0...   \n",
       "1  http://images.amazon.com/images/P/068160204X.0...   \n",
       "2  http://images.amazon.com/images/P/068107468X.0...   \n",
       "3  http://images.amazon.com/images/P/0307124533.0...   \n",
       "4  http://images.amazon.com/images/P/0380816792.0...   \n",
       "\n",
       "                                         image_url_l  \\\n",
       "0  http://images.amazon.com/images/P/0590085417.0...   \n",
       "1  http://images.amazon.com/images/P/068160204X.0...   \n",
       "2  http://images.amazon.com/images/P/068107468X.0...   \n",
       "3  http://images.amazon.com/images/P/0307124533.0...   \n",
       "4  http://images.amazon.com/images/P/0380816792.0...   \n",
       "\n",
       "                                            subjects  \n",
       "0  (Johanna Spyri, Shirley Temple, Movie tie-in, ...  \n",
       "1                                                 ()  \n",
       "2                          (American Fantasy poetry)  \n",
       "3                                                 ()  \n",
       "4  (Fiction, Historical Fiction, Romance, Fiction...  "
      ]
     },
     "execution_count": 80,
     "metadata": {},
     "output_type": "execute_result"
    }
   ],
   "source": [
    "# Clean up the old indices:\n",
    "df_clean = df_clean.reset_index(drop=True)\n",
    "df_clean.head()"
   ]
  },
  {
   "cell_type": "code",
   "execution_count": 81,
   "metadata": {},
   "outputs": [
    {
     "name": "stdout",
     "output_type": "stream",
     "text": [
      "<class 'pandas.core.frame.DataFrame'>\n",
      "RangeIndex: 226495 entries, 0 to 226494\n",
      "Data columns (total 9 columns):\n",
      " #   Column               Non-Null Count   Dtype  \n",
      "---  ------               --------------   -----  \n",
      " 0   isbn                 226495 non-null  object \n",
      " 1   book_title           226495 non-null  object \n",
      " 2   book_author          226493 non-null  object \n",
      " 3   year_of_publication  226495 non-null  float64\n",
      " 4   publisher            226493 non-null  object \n",
      " 5   image_url_s          226495 non-null  object \n",
      " 6   image_url_m          226495 non-null  object \n",
      " 7   image_url_l          226492 non-null  object \n",
      " 8   subjects             226495 non-null  object \n",
      "dtypes: float64(1), object(8)\n",
      "memory usage: 15.6+ MB\n"
     ]
    }
   ],
   "source": [
    "df_clean.info()"
   ]
  },
  {
   "cell_type": "code",
   "execution_count": 82,
   "metadata": {},
   "outputs": [
    {
     "data": {
      "text/html": [
       "<div>\n",
       "<style scoped>\n",
       "    .dataframe tbody tr th:only-of-type {\n",
       "        vertical-align: middle;\n",
       "    }\n",
       "\n",
       "    .dataframe tbody tr th {\n",
       "        vertical-align: top;\n",
       "    }\n",
       "\n",
       "    .dataframe thead th {\n",
       "        text-align: right;\n",
       "    }\n",
       "</style>\n",
       "<table border=\"1\" class=\"dataframe\">\n",
       "  <thead>\n",
       "    <tr style=\"text-align: right;\">\n",
       "      <th></th>\n",
       "      <th>isbn</th>\n",
       "      <th>book_title</th>\n",
       "      <th>book_author</th>\n",
       "      <th>year_of_publication</th>\n",
       "      <th>publisher</th>\n",
       "      <th>image_url_s</th>\n",
       "      <th>image_url_m</th>\n",
       "      <th>image_url_l</th>\n",
       "      <th>subjects</th>\n",
       "    </tr>\n",
       "  </thead>\n",
       "  <tbody>\n",
       "    <tr>\n",
       "      <th>72202</th>\n",
       "      <td>0751352497</td>\n",
       "      <td>A+ Quiz Masters:01 Earth</td>\n",
       "      <td>NaN</td>\n",
       "      <td>1999.0</td>\n",
       "      <td>Dorling Kindersley</td>\n",
       "      <td>http://images.amazon.com/images/P/0751352497.0...</td>\n",
       "      <td>http://images.amazon.com/images/P/0751352497.0...</td>\n",
       "      <td>http://images.amazon.com/images/P/0751352497.0...</td>\n",
       "      <td>()</td>\n",
       "    </tr>\n",
       "    <tr>\n",
       "      <th>115299</th>\n",
       "      <td>9627982032</td>\n",
       "      <td>The Credit Suisse Guide to Managing Your Perso...</td>\n",
       "      <td>NaN</td>\n",
       "      <td>1995.0</td>\n",
       "      <td>Edinburgh Financial Publishing</td>\n",
       "      <td>http://images.amazon.com/images/P/9627982032.0...</td>\n",
       "      <td>http://images.amazon.com/images/P/9627982032.0...</td>\n",
       "      <td>http://images.amazon.com/images/P/9627982032.0...</td>\n",
       "      <td>()</td>\n",
       "    </tr>\n",
       "  </tbody>\n",
       "</table>\n",
       "</div>"
      ],
      "text/plain": [
       "              isbn                                         book_title  \\\n",
       "72202   0751352497                           A+ Quiz Masters:01 Earth   \n",
       "115299  9627982032  The Credit Suisse Guide to Managing Your Perso...   \n",
       "\n",
       "       book_author  year_of_publication                       publisher  \\\n",
       "72202          NaN               1999.0              Dorling Kindersley   \n",
       "115299         NaN               1995.0  Edinburgh Financial Publishing   \n",
       "\n",
       "                                              image_url_s  \\\n",
       "72202   http://images.amazon.com/images/P/0751352497.0...   \n",
       "115299  http://images.amazon.com/images/P/9627982032.0...   \n",
       "\n",
       "                                              image_url_m  \\\n",
       "72202   http://images.amazon.com/images/P/0751352497.0...   \n",
       "115299  http://images.amazon.com/images/P/9627982032.0...   \n",
       "\n",
       "                                              image_url_l subjects  \n",
       "72202   http://images.amazon.com/images/P/0751352497.0...       ()  \n",
       "115299  http://images.amazon.com/images/P/9627982032.0...       ()  "
      ]
     },
     "execution_count": 82,
     "metadata": {},
     "output_type": "execute_result"
    }
   ],
   "source": [
    "df_missing_auth = df_clean[df_clean['book_author'].isna()]\n",
    "df_missing_auth.head()"
   ]
  },
  {
   "cell_type": "code",
   "execution_count": 83,
   "metadata": {},
   "outputs": [],
   "source": [
    "# Did some googling and found out the author for one of the books:\n",
    "df_clean.loc[df_clean['isbn'] == '9627982032', 'book_author'] = 'Larissa Downes'"
   ]
  },
  {
   "cell_type": "code",
   "execution_count": 84,
   "metadata": {},
   "outputs": [
    {
     "data": {
      "text/html": [
       "<div>\n",
       "<style scoped>\n",
       "    .dataframe tbody tr th:only-of-type {\n",
       "        vertical-align: middle;\n",
       "    }\n",
       "\n",
       "    .dataframe tbody tr th {\n",
       "        vertical-align: top;\n",
       "    }\n",
       "\n",
       "    .dataframe thead th {\n",
       "        text-align: right;\n",
       "    }\n",
       "</style>\n",
       "<table border=\"1\" class=\"dataframe\">\n",
       "  <thead>\n",
       "    <tr style=\"text-align: right;\">\n",
       "      <th></th>\n",
       "      <th>isbn</th>\n",
       "      <th>book_title</th>\n",
       "      <th>book_author</th>\n",
       "      <th>year_of_publication</th>\n",
       "      <th>publisher</th>\n",
       "      <th>image_url_s</th>\n",
       "      <th>image_url_m</th>\n",
       "      <th>image_url_l</th>\n",
       "      <th>subjects</th>\n",
       "    </tr>\n",
       "  </thead>\n",
       "  <tbody>\n",
       "    <tr>\n",
       "      <th>115299</th>\n",
       "      <td>9627982032</td>\n",
       "      <td>The Credit Suisse Guide to Managing Your Perso...</td>\n",
       "      <td>Larissa Downes</td>\n",
       "      <td>1995.0</td>\n",
       "      <td>Edinburgh Financial Publishing</td>\n",
       "      <td>http://images.amazon.com/images/P/9627982032.0...</td>\n",
       "      <td>http://images.amazon.com/images/P/9627982032.0...</td>\n",
       "      <td>http://images.amazon.com/images/P/9627982032.0...</td>\n",
       "      <td>()</td>\n",
       "    </tr>\n",
       "  </tbody>\n",
       "</table>\n",
       "</div>"
      ],
      "text/plain": [
       "              isbn                                         book_title  \\\n",
       "115299  9627982032  The Credit Suisse Guide to Managing Your Perso...   \n",
       "\n",
       "           book_author  year_of_publication                       publisher  \\\n",
       "115299  Larissa Downes               1995.0  Edinburgh Financial Publishing   \n",
       "\n",
       "                                              image_url_s  \\\n",
       "115299  http://images.amazon.com/images/P/9627982032.0...   \n",
       "\n",
       "                                              image_url_m  \\\n",
       "115299  http://images.amazon.com/images/P/9627982032.0...   \n",
       "\n",
       "                                              image_url_l subjects  \n",
       "115299  http://images.amazon.com/images/P/9627982032.0...       ()  "
      ]
     },
     "execution_count": 84,
     "metadata": {},
     "output_type": "execute_result"
    }
   ],
   "source": [
    "df_clean.loc[df_clean['isbn'] == '9627982032'].head()"
   ]
  },
  {
   "cell_type": "code",
   "execution_count": 85,
   "metadata": {},
   "outputs": [
    {
     "data": {
      "text/html": [
       "<div>\n",
       "<style scoped>\n",
       "    .dataframe tbody tr th:only-of-type {\n",
       "        vertical-align: middle;\n",
       "    }\n",
       "\n",
       "    .dataframe tbody tr th {\n",
       "        vertical-align: top;\n",
       "    }\n",
       "\n",
       "    .dataframe thead th {\n",
       "        text-align: right;\n",
       "    }\n",
       "</style>\n",
       "<table border=\"1\" class=\"dataframe\">\n",
       "  <thead>\n",
       "    <tr style=\"text-align: right;\">\n",
       "      <th></th>\n",
       "      <th>isbn</th>\n",
       "      <th>book_title</th>\n",
       "      <th>book_author</th>\n",
       "      <th>year_of_publication</th>\n",
       "      <th>publisher</th>\n",
       "      <th>image_url_s</th>\n",
       "      <th>image_url_m</th>\n",
       "      <th>image_url_l</th>\n",
       "      <th>subjects</th>\n",
       "    </tr>\n",
       "  </thead>\n",
       "  <tbody>\n",
       "    <tr>\n",
       "      <th>72202</th>\n",
       "      <td>0751352497</td>\n",
       "      <td>A+ Quiz Masters:01 Earth</td>\n",
       "      <td>NaN</td>\n",
       "      <td>1999.0</td>\n",
       "      <td>Dorling Kindersley</td>\n",
       "      <td>http://images.amazon.com/images/P/0751352497.0...</td>\n",
       "      <td>http://images.amazon.com/images/P/0751352497.0...</td>\n",
       "      <td>http://images.amazon.com/images/P/0751352497.0...</td>\n",
       "      <td>()</td>\n",
       "    </tr>\n",
       "  </tbody>\n",
       "</table>\n",
       "</div>"
      ],
      "text/plain": [
       "             isbn                book_title book_author  year_of_publication  \\\n",
       "72202  0751352497  A+ Quiz Masters:01 Earth         NaN               1999.0   \n",
       "\n",
       "                publisher                                        image_url_s  \\\n",
       "72202  Dorling Kindersley  http://images.amazon.com/images/P/0751352497.0...   \n",
       "\n",
       "                                             image_url_m  \\\n",
       "72202  http://images.amazon.com/images/P/0751352497.0...   \n",
       "\n",
       "                                             image_url_l subjects  \n",
       "72202  http://images.amazon.com/images/P/0751352497.0...       ()  "
      ]
     },
     "execution_count": 85,
     "metadata": {},
     "output_type": "execute_result"
    }
   ],
   "source": [
    "df_missing_auth = df_clean[df_clean['book_author'].isna()]\n",
    "df_missing_auth.head()"
   ]
  },
  {
   "cell_type": "code",
   "execution_count": 86,
   "metadata": {},
   "outputs": [],
   "source": [
    "# # The book 'A+ Quiz Masters:01 Earth' has no information whatsoever \n",
    "# (no author, contradicting publisher info and no subjects)\n",
    "# Let's remove this remaining row:\n",
    "df_clean = df_clean.dropna(subset=['book_author'])"
   ]
  },
  {
   "cell_type": "code",
   "execution_count": 87,
   "metadata": {},
   "outputs": [
    {
     "name": "stdout",
     "output_type": "stream",
     "text": [
      "<class 'pandas.core.frame.DataFrame'>\n",
      "Index: 226494 entries, 0 to 226494\n",
      "Data columns (total 9 columns):\n",
      " #   Column               Non-Null Count   Dtype  \n",
      "---  ------               --------------   -----  \n",
      " 0   isbn                 226494 non-null  object \n",
      " 1   book_title           226494 non-null  object \n",
      " 2   book_author          226494 non-null  object \n",
      " 3   year_of_publication  226494 non-null  float64\n",
      " 4   publisher            226492 non-null  object \n",
      " 5   image_url_s          226494 non-null  object \n",
      " 6   image_url_m          226494 non-null  object \n",
      " 7   image_url_l          226491 non-null  object \n",
      " 8   subjects             226494 non-null  object \n",
      "dtypes: float64(1), object(8)\n",
      "memory usage: 17.3+ MB\n"
     ]
    }
   ],
   "source": [
    "df_clean.info()"
   ]
  },
  {
   "cell_type": "code",
   "execution_count": 88,
   "metadata": {},
   "outputs": [
    {
     "data": {
      "text/html": [
       "<div>\n",
       "<style scoped>\n",
       "    .dataframe tbody tr th:only-of-type {\n",
       "        vertical-align: middle;\n",
       "    }\n",
       "\n",
       "    .dataframe tbody tr th {\n",
       "        vertical-align: top;\n",
       "    }\n",
       "\n",
       "    .dataframe thead th {\n",
       "        text-align: right;\n",
       "    }\n",
       "</style>\n",
       "<table border=\"1\" class=\"dataframe\">\n",
       "  <thead>\n",
       "    <tr style=\"text-align: right;\">\n",
       "      <th></th>\n",
       "      <th>isbn</th>\n",
       "      <th>book_title</th>\n",
       "      <th>book_author</th>\n",
       "      <th>year_of_publication</th>\n",
       "      <th>publisher</th>\n",
       "      <th>image_url_s</th>\n",
       "      <th>image_url_m</th>\n",
       "      <th>image_url_l</th>\n",
       "      <th>subjects</th>\n",
       "    </tr>\n",
       "  </thead>\n",
       "  <tbody>\n",
       "    <tr>\n",
       "      <th>17738</th>\n",
       "      <td>193169656X</td>\n",
       "      <td>Tyrant Moon</td>\n",
       "      <td>Elaine Corvidae</td>\n",
       "      <td>2002.0</td>\n",
       "      <td>NaN</td>\n",
       "      <td>http://images.amazon.com/images/P/193169656X.0...</td>\n",
       "      <td>http://images.amazon.com/images/P/193169656X.0...</td>\n",
       "      <td>http://images.amazon.com/images/P/193169656X.0...</td>\n",
       "      <td>()</td>\n",
       "    </tr>\n",
       "    <tr>\n",
       "      <th>41203</th>\n",
       "      <td>1931696993</td>\n",
       "      <td>Finders Keepers</td>\n",
       "      <td>Linnea Sinclair</td>\n",
       "      <td>2001.0</td>\n",
       "      <td>NaN</td>\n",
       "      <td>http://images.amazon.com/images/P/1931696993.0...</td>\n",
       "      <td>http://images.amazon.com/images/P/1931696993.0...</td>\n",
       "      <td>http://images.amazon.com/images/P/1931696993.0...</td>\n",
       "      <td>()</td>\n",
       "    </tr>\n",
       "  </tbody>\n",
       "</table>\n",
       "</div>"
      ],
      "text/plain": [
       "             isbn       book_title      book_author  year_of_publication  \\\n",
       "17738  193169656X      Tyrant Moon  Elaine Corvidae               2002.0   \n",
       "41203  1931696993  Finders Keepers  Linnea Sinclair               2001.0   \n",
       "\n",
       "      publisher                                        image_url_s  \\\n",
       "17738       NaN  http://images.amazon.com/images/P/193169656X.0...   \n",
       "41203       NaN  http://images.amazon.com/images/P/1931696993.0...   \n",
       "\n",
       "                                             image_url_m  \\\n",
       "17738  http://images.amazon.com/images/P/193169656X.0...   \n",
       "41203  http://images.amazon.com/images/P/1931696993.0...   \n",
       "\n",
       "                                             image_url_l subjects  \n",
       "17738  http://images.amazon.com/images/P/193169656X.0...       ()  \n",
       "41203  http://images.amazon.com/images/P/1931696993.0...       ()  "
      ]
     },
     "execution_count": 88,
     "metadata": {},
     "output_type": "execute_result"
    }
   ],
   "source": [
    "df_missing_pub = df_clean[df_clean['publisher'].isna()]\n",
    "df_missing_pub.head()"
   ]
  },
  {
   "cell_type": "code",
   "execution_count": 89,
   "metadata": {},
   "outputs": [],
   "source": [
    "# After some googling, the missings are both from the same publisher, \n",
    "# let's complete the missing publisher info:\n",
    "df_clean.loc[df_clean['isbn'] == '193169656X', 'publisher'] = 'NBI NovelBooks'\n",
    "df_clean.loc[df_clean['isbn'] == '1931696993', 'publisher'] = 'NBI NovelBooks'"
   ]
  },
  {
   "cell_type": "code",
   "execution_count": 90,
   "metadata": {},
   "outputs": [
    {
     "name": "stdout",
     "output_type": "stream",
     "text": [
      "<class 'pandas.core.frame.DataFrame'>\n",
      "Index: 226494 entries, 0 to 226494\n",
      "Data columns (total 9 columns):\n",
      " #   Column               Non-Null Count   Dtype  \n",
      "---  ------               --------------   -----  \n",
      " 0   isbn                 226494 non-null  object \n",
      " 1   book_title           226494 non-null  object \n",
      " 2   book_author          226494 non-null  object \n",
      " 3   year_of_publication  226494 non-null  float64\n",
      " 4   publisher            226494 non-null  object \n",
      " 5   image_url_s          226494 non-null  object \n",
      " 6   image_url_m          226494 non-null  object \n",
      " 7   image_url_l          226491 non-null  object \n",
      " 8   subjects             226494 non-null  object \n",
      "dtypes: float64(1), object(8)\n",
      "memory usage: 17.3+ MB\n"
     ]
    }
   ],
   "source": [
    "df_clean.info()"
   ]
  },
  {
   "cell_type": "markdown",
   "metadata": {},
   "source": [
    "#### Converting 'subjects' from messy frozenset into Word2Vec embeddings:\n",
    "Decided to remove this part in the final .csv since it adds huge file size and is easily done later"
   ]
  },
  {
   "cell_type": "code",
   "execution_count": 242,
   "metadata": {},
   "outputs": [
    {
     "name": "stdout",
     "output_type": "stream",
     "text": [
      "Collecting gensim\n",
      "  Downloading gensim-4.3.3-cp311-cp311-macosx_11_0_arm64.whl.metadata (8.1 kB)\n",
      "Requirement already satisfied: numpy<2.0,>=1.18.5 in ./.venv/lib/python3.11/site-packages (from gensim) (1.26.4)\n",
      "Collecting scipy<1.14.0,>=1.7.0 (from gensim)\n",
      "  Downloading scipy-1.13.1-cp311-cp311-macosx_12_0_arm64.whl.metadata (60 kB)\n",
      "Collecting smart-open>=1.8.1 (from gensim)\n",
      "  Using cached smart_open-7.0.4-py3-none-any.whl.metadata (23 kB)\n",
      "Requirement already satisfied: wrapt in ./.venv/lib/python3.11/site-packages (from smart-open>=1.8.1->gensim) (1.16.0)\n",
      "Downloading gensim-4.3.3-cp311-cp311-macosx_11_0_arm64.whl (24.0 MB)\n",
      "\u001b[2K   \u001b[38;2;114;156;31m━━━━━━━━━━━━━━━━━━━━━━━━━━━━━━━━━━━━━━━━\u001b[0m \u001b[32m24.0/24.0 MB\u001b[0m \u001b[31m4.7 MB/s\u001b[0m eta \u001b[36m0:00:00\u001b[0m MB/s\u001b[0m eta \u001b[36m0:00:01\u001b[0m:02\u001b[0m\n",
      "\u001b[?25hDownloading scipy-1.13.1-cp311-cp311-macosx_12_0_arm64.whl (30.3 MB)\n",
      "\u001b[2K   \u001b[38;2;114;156;31m━━━━━━━━━━━━━━━━━━━━━━━━━━━━━━━━━━━━━━━━\u001b[0m \u001b[32m30.3/30.3 MB\u001b[0m \u001b[31m3.7 MB/s\u001b[0m eta \u001b[36m0:00:00\u001b[0m[36m0:00:01\u001b[0m[36m0:00:01\u001b[0m:01\u001b[0m\n",
      "\u001b[?25hUsing cached smart_open-7.0.4-py3-none-any.whl (61 kB)\n",
      "Installing collected packages: smart-open, scipy, gensim\n",
      "  Attempting uninstall: scipy\n",
      "    Found existing installation: scipy 1.14.1\n",
      "    Uninstalling scipy-1.14.1:\n",
      "      Successfully uninstalled scipy-1.14.1\n",
      "Successfully installed gensim-4.3.3 scipy-1.13.1 smart-open-7.0.4\n"
     ]
    }
   ],
   "source": [
    "# !pip install gensim"
   ]
  },
  {
   "cell_type": "code",
   "execution_count": 244,
   "metadata": {},
   "outputs": [
    {
     "name": "stdout",
     "output_type": "stream",
     "text": [
      "[==================================================] 100.0% 1662.8/1662.8MB downloaded\n"
     ]
    },
    {
     "data": {
      "text/html": [
       "<div>\n",
       "<style scoped>\n",
       "    .dataframe tbody tr th:only-of-type {\n",
       "        vertical-align: middle;\n",
       "    }\n",
       "\n",
       "    .dataframe tbody tr th {\n",
       "        vertical-align: top;\n",
       "    }\n",
       "\n",
       "    .dataframe thead th {\n",
       "        text-align: right;\n",
       "    }\n",
       "</style>\n",
       "<table border=\"1\" class=\"dataframe\">\n",
       "  <thead>\n",
       "    <tr style=\"text-align: right;\">\n",
       "      <th></th>\n",
       "      <th>isbn</th>\n",
       "      <th>book_title</th>\n",
       "      <th>book_author</th>\n",
       "      <th>year_of_publication</th>\n",
       "      <th>publisher</th>\n",
       "      <th>image_url_s</th>\n",
       "      <th>image_url_m</th>\n",
       "      <th>image_url_l</th>\n",
       "      <th>subjects</th>\n",
       "      <th>subjects_embedding</th>\n",
       "    </tr>\n",
       "  </thead>\n",
       "  <tbody>\n",
       "    <tr>\n",
       "      <th>0</th>\n",
       "      <td>0590085417</td>\n",
       "      <td>Heidi</td>\n",
       "      <td>Johanna Spyri</td>\n",
       "      <td>2021.0</td>\n",
       "      <td>Scholastic</td>\n",
       "      <td>http://images.amazon.com/images/P/0590085417.0...</td>\n",
       "      <td>http://images.amazon.com/images/P/0590085417.0...</td>\n",
       "      <td>http://images.amazon.com/images/P/0590085417.0...</td>\n",
       "      <td>[Johanna Spyri, Shirley Temple, Movie tie-in, ...</td>\n",
       "      <td>[0.0, 0.0, 0.0, 0.0, 0.0, 0.0, 0.0, 0.0, 0.0, ...</td>\n",
       "    </tr>\n",
       "    <tr>\n",
       "      <th>1</th>\n",
       "      <td>068160204X</td>\n",
       "      <td>The Royals</td>\n",
       "      <td>Kitty Kelley</td>\n",
       "      <td>2020.0</td>\n",
       "      <td>Bausch &amp;amp; Lombard</td>\n",
       "      <td>http://images.amazon.com/images/P/068160204X.0...</td>\n",
       "      <td>http://images.amazon.com/images/P/068160204X.0...</td>\n",
       "      <td>http://images.amazon.com/images/P/068160204X.0...</td>\n",
       "      <td>[]</td>\n",
       "      <td>[0.0, 0.0, 0.0, 0.0, 0.0, 0.0, 0.0, 0.0, 0.0, ...</td>\n",
       "    </tr>\n",
       "    <tr>\n",
       "      <th>2</th>\n",
       "      <td>068107468X</td>\n",
       "      <td>Edgar Allen Poe Collected Poems</td>\n",
       "      <td>Edgar Allan Poe</td>\n",
       "      <td>2020.0</td>\n",
       "      <td>Bausch &amp;amp; Lombard</td>\n",
       "      <td>http://images.amazon.com/images/P/068107468X.0...</td>\n",
       "      <td>http://images.amazon.com/images/P/068107468X.0...</td>\n",
       "      <td>http://images.amazon.com/images/P/068107468X.0...</td>\n",
       "      <td>[American Fantasy poetry]</td>\n",
       "      <td>[0.0, 0.0, 0.0, 0.0, 0.0, 0.0, 0.0, 0.0, 0.0, ...</td>\n",
       "    </tr>\n",
       "    <tr>\n",
       "      <th>3</th>\n",
       "      <td>0307124533</td>\n",
       "      <td>Owl's Amazing but True No. 2</td>\n",
       "      <td>Owl Magazine</td>\n",
       "      <td>2012.0</td>\n",
       "      <td>Golden Books</td>\n",
       "      <td>http://images.amazon.com/images/P/0307124533.0...</td>\n",
       "      <td>http://images.amazon.com/images/P/0307124533.0...</td>\n",
       "      <td>http://images.amazon.com/images/P/0307124533.0...</td>\n",
       "      <td>[]</td>\n",
       "      <td>[0.0, 0.0, 0.0, 0.0, 0.0, 0.0, 0.0, 0.0, 0.0, ...</td>\n",
       "    </tr>\n",
       "    <tr>\n",
       "      <th>4</th>\n",
       "      <td>0380816792</td>\n",
       "      <td>A Rose in Winter</td>\n",
       "      <td>Kathleen E. Woodiwiss</td>\n",
       "      <td>2011.0</td>\n",
       "      <td>Harper Mass Market Paperbacks</td>\n",
       "      <td>http://images.amazon.com/images/P/0380816792.0...</td>\n",
       "      <td>http://images.amazon.com/images/P/0380816792.0...</td>\n",
       "      <td>http://images.amazon.com/images/P/0380816792.0...</td>\n",
       "      <td>[Fiction, Historical Fiction, Romance, Fiction...</td>\n",
       "      <td>[0.0, 0.0, 0.0, 0.0, 0.0, 0.0, 0.0, 0.0, 0.0, ...</td>\n",
       "    </tr>\n",
       "  </tbody>\n",
       "</table>\n",
       "</div>"
      ],
      "text/plain": [
       "         isbn                       book_title            book_author  \\\n",
       "0  0590085417                            Heidi          Johanna Spyri   \n",
       "1  068160204X                       The Royals           Kitty Kelley   \n",
       "2  068107468X  Edgar Allen Poe Collected Poems        Edgar Allan Poe   \n",
       "3  0307124533     Owl's Amazing but True No. 2           Owl Magazine   \n",
       "4  0380816792                 A Rose in Winter  Kathleen E. Woodiwiss   \n",
       "\n",
       "   year_of_publication                      publisher  \\\n",
       "0               2021.0                     Scholastic   \n",
       "1               2020.0           Bausch &amp; Lombard   \n",
       "2               2020.0           Bausch &amp; Lombard   \n",
       "3               2012.0                   Golden Books   \n",
       "4               2011.0  Harper Mass Market Paperbacks   \n",
       "\n",
       "                                         image_url_s  \\\n",
       "0  http://images.amazon.com/images/P/0590085417.0...   \n",
       "1  http://images.amazon.com/images/P/068160204X.0...   \n",
       "2  http://images.amazon.com/images/P/068107468X.0...   \n",
       "3  http://images.amazon.com/images/P/0307124533.0...   \n",
       "4  http://images.amazon.com/images/P/0380816792.0...   \n",
       "\n",
       "                                         image_url_m  \\\n",
       "0  http://images.amazon.com/images/P/0590085417.0...   \n",
       "1  http://images.amazon.com/images/P/068160204X.0...   \n",
       "2  http://images.amazon.com/images/P/068107468X.0...   \n",
       "3  http://images.amazon.com/images/P/0307124533.0...   \n",
       "4  http://images.amazon.com/images/P/0380816792.0...   \n",
       "\n",
       "                                         image_url_l  \\\n",
       "0  http://images.amazon.com/images/P/0590085417.0...   \n",
       "1  http://images.amazon.com/images/P/068160204X.0...   \n",
       "2  http://images.amazon.com/images/P/068107468X.0...   \n",
       "3  http://images.amazon.com/images/P/0307124533.0...   \n",
       "4  http://images.amazon.com/images/P/0380816792.0...   \n",
       "\n",
       "                                            subjects  \\\n",
       "0  [Johanna Spyri, Shirley Temple, Movie tie-in, ...   \n",
       "1                                                 []   \n",
       "2                          [American Fantasy poetry]   \n",
       "3                                                 []   \n",
       "4  [Fiction, Historical Fiction, Romance, Fiction...   \n",
       "\n",
       "                                  subjects_embedding  \n",
       "0  [0.0, 0.0, 0.0, 0.0, 0.0, 0.0, 0.0, 0.0, 0.0, ...  \n",
       "1  [0.0, 0.0, 0.0, 0.0, 0.0, 0.0, 0.0, 0.0, 0.0, ...  \n",
       "2  [0.0, 0.0, 0.0, 0.0, 0.0, 0.0, 0.0, 0.0, 0.0, ...  \n",
       "3  [0.0, 0.0, 0.0, 0.0, 0.0, 0.0, 0.0, 0.0, 0.0, ...  \n",
       "4  [0.0, 0.0, 0.0, 0.0, 0.0, 0.0, 0.0, 0.0, 0.0, ...  "
      ]
     },
     "execution_count": 244,
     "metadata": {},
     "output_type": "execute_result"
    }
   ],
   "source": [
    "# from gensim.models import KeyedVectors\n",
    "# from gensim.downloader import load\n",
    "\n",
    "# # Load pre-trained Word2Vec embeddings\n",
    "# word_vectors = load('word2vec-google-news-300')  # This is for Word2Vec; use appropriate model\n",
    "\n",
    "# # Define a function to convert a list of words to an average embedding\n",
    "# def get_average_embedding(words, model):\n",
    "#     valid_words = [word for word in words if word in model.key_to_index]\n",
    "#     if not valid_words:\n",
    "#         return np.zeros(model.vector_size)\n",
    "#     embeddings = np.array([model[word] for word in valid_words])\n",
    "#     return embeddings.mean(axis=0)\n",
    "\n",
    "# # Assuming df_clean is your DataFrame and 'subjects' column contains frozensets of topics\n",
    "# def convert_subjects_to_embeddings(df, column_name, model):\n",
    "#     # Convert frozensets to lists of words\n",
    "#     df[column_name] = df[column_name].apply(lambda x: list(x))\n",
    "#     # Apply function to get average embeddings\n",
    "#     df[column_name + '_embedding'] = df[column_name].apply(lambda x: get_average_embedding(x, model))\n",
    "#     return df\n",
    "\n",
    "# # Apply conversion\n",
    "# df_clean = convert_subjects_to_embeddings(df_clean, 'subjects', word_vectors)\n",
    "\n",
    "# # Now df_clean contains an additional column with embeddings\n",
    "# df_clean.head()\n"
   ]
  },
  {
   "cell_type": "code",
   "execution_count": 91,
   "metadata": {},
   "outputs": [],
   "source": [
    "# Now turn the frozensets into strings for the model:\n",
    "df_clean['subjects'] = df_clean['subjects'].apply(lambda x: ', '.join(sorted(x)))\n",
    "df_clean['subjects'] = df_clean['subjects'].str.replace(r',\\s*,+', ', ', regex=True)  # Remove double commas\n",
    "df_clean['subjects'] = df_clean['subjects'].str.strip()  # Remove leading/trailing spaces\n",
    "df_clean['subjects'] = df_clean['subjects'].str.replace(' +', ' ', regex=True)  # Replace multiple spaces with a single space\n"
   ]
  },
  {
   "cell_type": "code",
   "execution_count": 92,
   "metadata": {},
   "outputs": [
    {
     "data": {
      "text/html": [
       "<div>\n",
       "<style scoped>\n",
       "    .dataframe tbody tr th:only-of-type {\n",
       "        vertical-align: middle;\n",
       "    }\n",
       "\n",
       "    .dataframe tbody tr th {\n",
       "        vertical-align: top;\n",
       "    }\n",
       "\n",
       "    .dataframe thead th {\n",
       "        text-align: right;\n",
       "    }\n",
       "</style>\n",
       "<table border=\"1\" class=\"dataframe\">\n",
       "  <thead>\n",
       "    <tr style=\"text-align: right;\">\n",
       "      <th></th>\n",
       "      <th>isbn</th>\n",
       "      <th>book_title</th>\n",
       "      <th>book_author</th>\n",
       "      <th>year_of_publication</th>\n",
       "      <th>publisher</th>\n",
       "      <th>image_url_s</th>\n",
       "      <th>image_url_m</th>\n",
       "      <th>image_url_l</th>\n",
       "      <th>subjects</th>\n",
       "    </tr>\n",
       "  </thead>\n",
       "  <tbody>\n",
       "    <tr>\n",
       "      <th>0</th>\n",
       "      <td>0590085417</td>\n",
       "      <td>Heidi</td>\n",
       "      <td>Johanna Spyri</td>\n",
       "      <td>2021.0</td>\n",
       "      <td>Scholastic</td>\n",
       "      <td>http://images.amazon.com/images/P/0590085417.0...</td>\n",
       "      <td>http://images.amazon.com/images/P/0590085417.0...</td>\n",
       "      <td>http://images.amazon.com/images/P/0590085417.0...</td>\n",
       "      <td>Johanna Spyri, Shirley Temple, Movie tie-in, C...</td>\n",
       "    </tr>\n",
       "    <tr>\n",
       "      <th>1</th>\n",
       "      <td>068160204X</td>\n",
       "      <td>The Royals</td>\n",
       "      <td>Kitty Kelley</td>\n",
       "      <td>2020.0</td>\n",
       "      <td>Bausch &amp;amp; Lombard</td>\n",
       "      <td>http://images.amazon.com/images/P/068160204X.0...</td>\n",
       "      <td>http://images.amazon.com/images/P/068160204X.0...</td>\n",
       "      <td>http://images.amazon.com/images/P/068160204X.0...</td>\n",
       "      <td></td>\n",
       "    </tr>\n",
       "    <tr>\n",
       "      <th>2</th>\n",
       "      <td>068107468X</td>\n",
       "      <td>Edgar Allen Poe Collected Poems</td>\n",
       "      <td>Edgar Allan Poe</td>\n",
       "      <td>2020.0</td>\n",
       "      <td>Bausch &amp;amp; Lombard</td>\n",
       "      <td>http://images.amazon.com/images/P/068107468X.0...</td>\n",
       "      <td>http://images.amazon.com/images/P/068107468X.0...</td>\n",
       "      <td>http://images.amazon.com/images/P/068107468X.0...</td>\n",
       "      <td>American Fantasy poetry</td>\n",
       "    </tr>\n",
       "    <tr>\n",
       "      <th>3</th>\n",
       "      <td>0307124533</td>\n",
       "      <td>Owl's Amazing but True No. 2</td>\n",
       "      <td>Owl Magazine</td>\n",
       "      <td>2012.0</td>\n",
       "      <td>Golden Books</td>\n",
       "      <td>http://images.amazon.com/images/P/0307124533.0...</td>\n",
       "      <td>http://images.amazon.com/images/P/0307124533.0...</td>\n",
       "      <td>http://images.amazon.com/images/P/0307124533.0...</td>\n",
       "      <td></td>\n",
       "    </tr>\n",
       "    <tr>\n",
       "      <th>4</th>\n",
       "      <td>0380816792</td>\n",
       "      <td>A Rose in Winter</td>\n",
       "      <td>Kathleen E. Woodiwiss</td>\n",
       "      <td>2011.0</td>\n",
       "      <td>Harper Mass Market Paperbacks</td>\n",
       "      <td>http://images.amazon.com/images/P/0380816792.0...</td>\n",
       "      <td>http://images.amazon.com/images/P/0380816792.0...</td>\n",
       "      <td>http://images.amazon.com/images/P/0380816792.0...</td>\n",
       "      <td>Fiction, Historical Fiction, Romance, Fiction,...</td>\n",
       "    </tr>\n",
       "  </tbody>\n",
       "</table>\n",
       "</div>"
      ],
      "text/plain": [
       "         isbn                       book_title            book_author  \\\n",
       "0  0590085417                            Heidi          Johanna Spyri   \n",
       "1  068160204X                       The Royals           Kitty Kelley   \n",
       "2  068107468X  Edgar Allen Poe Collected Poems        Edgar Allan Poe   \n",
       "3  0307124533     Owl's Amazing but True No. 2           Owl Magazine   \n",
       "4  0380816792                 A Rose in Winter  Kathleen E. Woodiwiss   \n",
       "\n",
       "   year_of_publication                      publisher  \\\n",
       "0               2021.0                     Scholastic   \n",
       "1               2020.0           Bausch &amp; Lombard   \n",
       "2               2020.0           Bausch &amp; Lombard   \n",
       "3               2012.0                   Golden Books   \n",
       "4               2011.0  Harper Mass Market Paperbacks   \n",
       "\n",
       "                                         image_url_s  \\\n",
       "0  http://images.amazon.com/images/P/0590085417.0...   \n",
       "1  http://images.amazon.com/images/P/068160204X.0...   \n",
       "2  http://images.amazon.com/images/P/068107468X.0...   \n",
       "3  http://images.amazon.com/images/P/0307124533.0...   \n",
       "4  http://images.amazon.com/images/P/0380816792.0...   \n",
       "\n",
       "                                         image_url_m  \\\n",
       "0  http://images.amazon.com/images/P/0590085417.0...   \n",
       "1  http://images.amazon.com/images/P/068160204X.0...   \n",
       "2  http://images.amazon.com/images/P/068107468X.0...   \n",
       "3  http://images.amazon.com/images/P/0307124533.0...   \n",
       "4  http://images.amazon.com/images/P/0380816792.0...   \n",
       "\n",
       "                                         image_url_l  \\\n",
       "0  http://images.amazon.com/images/P/0590085417.0...   \n",
       "1  http://images.amazon.com/images/P/068160204X.0...   \n",
       "2  http://images.amazon.com/images/P/068107468X.0...   \n",
       "3  http://images.amazon.com/images/P/0307124533.0...   \n",
       "4  http://images.amazon.com/images/P/0380816792.0...   \n",
       "\n",
       "                                            subjects  \n",
       "0  Johanna Spyri, Shirley Temple, Movie tie-in, C...  \n",
       "1                                                     \n",
       "2                            American Fantasy poetry  \n",
       "3                                                     \n",
       "4  Fiction, Historical Fiction, Romance, Fiction,...  "
      ]
     },
     "execution_count": 92,
     "metadata": {},
     "output_type": "execute_result"
    }
   ],
   "source": [
    "df_clean.head()"
   ]
  },
  {
   "cell_type": "code",
   "execution_count": 93,
   "metadata": {},
   "outputs": [],
   "source": [
    "# Some final cleaning:\n",
    "from html import unescape\n",
    "\n",
    "def clean_string_column(df, column_name):\n",
    "    # Define a function to clean individual strings\n",
    "    def clean_string(s):\n",
    "        if pd.isna(s):  # Check for NaN values\n",
    "            return s\n",
    "        s = str(s)  # Ensure the input is a string\n",
    "        s = unescape(s)  # Replace HTML entities\n",
    "        s = re.sub(r'\\s+', ' ', s)  # Replace multiple spaces with a single space\n",
    "        s = re.sub(r',+', ',', s)  # Replace multiple commas with a single comma\n",
    "        s = s.strip()  # Remove leading and trailing spaces\n",
    "        return s\n",
    "\n",
    "    # Apply the cleaning function to the specified column\n",
    "    df[column_name] = df[column_name].apply(clean_string)\n",
    "\n",
    "clean_string_column(df_clean, 'publisher')\n",
    "clean_string_column(df_clean, 'book_author')\n",
    "clean_string_column(df_clean, 'book_title')"
   ]
  },
  {
   "cell_type": "code",
   "execution_count": 94,
   "metadata": {},
   "outputs": [],
   "source": [
    "# rename column 'subjects' back to 'genre':\n",
    "df_clean = df_clean.rename(columns={'subjects': 'genre'})\n",
    "\n",
    "# rename last column to 'genre_embedding':\n",
    "df_clean = df_clean.rename(columns={'subjects_embedding': 'genre_embedding'})"
   ]
  },
  {
   "cell_type": "code",
   "execution_count": 95,
   "metadata": {},
   "outputs": [
    {
     "data": {
      "text/html": [
       "<div>\n",
       "<style scoped>\n",
       "    .dataframe tbody tr th:only-of-type {\n",
       "        vertical-align: middle;\n",
       "    }\n",
       "\n",
       "    .dataframe tbody tr th {\n",
       "        vertical-align: top;\n",
       "    }\n",
       "\n",
       "    .dataframe thead th {\n",
       "        text-align: right;\n",
       "    }\n",
       "</style>\n",
       "<table border=\"1\" class=\"dataframe\">\n",
       "  <thead>\n",
       "    <tr style=\"text-align: right;\">\n",
       "      <th></th>\n",
       "      <th>isbn</th>\n",
       "      <th>book_title</th>\n",
       "      <th>book_author</th>\n",
       "      <th>year_of_publication</th>\n",
       "      <th>publisher</th>\n",
       "      <th>image_url_s</th>\n",
       "      <th>image_url_m</th>\n",
       "      <th>image_url_l</th>\n",
       "      <th>genre</th>\n",
       "    </tr>\n",
       "  </thead>\n",
       "  <tbody>\n",
       "    <tr>\n",
       "      <th>0</th>\n",
       "      <td>0590085417</td>\n",
       "      <td>Heidi</td>\n",
       "      <td>Johanna Spyri</td>\n",
       "      <td>2021.0</td>\n",
       "      <td>Scholastic</td>\n",
       "      <td>http://images.amazon.com/images/P/0590085417.0...</td>\n",
       "      <td>http://images.amazon.com/images/P/0590085417.0...</td>\n",
       "      <td>http://images.amazon.com/images/P/0590085417.0...</td>\n",
       "      <td>Johanna Spyri, Shirley Temple, Movie tie-in, C...</td>\n",
       "    </tr>\n",
       "    <tr>\n",
       "      <th>1</th>\n",
       "      <td>068160204X</td>\n",
       "      <td>The Royals</td>\n",
       "      <td>Kitty Kelley</td>\n",
       "      <td>2020.0</td>\n",
       "      <td>Bausch &amp; Lombard</td>\n",
       "      <td>http://images.amazon.com/images/P/068160204X.0...</td>\n",
       "      <td>http://images.amazon.com/images/P/068160204X.0...</td>\n",
       "      <td>http://images.amazon.com/images/P/068160204X.0...</td>\n",
       "      <td></td>\n",
       "    </tr>\n",
       "    <tr>\n",
       "      <th>2</th>\n",
       "      <td>068107468X</td>\n",
       "      <td>Edgar Allen Poe Collected Poems</td>\n",
       "      <td>Edgar Allan Poe</td>\n",
       "      <td>2020.0</td>\n",
       "      <td>Bausch &amp; Lombard</td>\n",
       "      <td>http://images.amazon.com/images/P/068107468X.0...</td>\n",
       "      <td>http://images.amazon.com/images/P/068107468X.0...</td>\n",
       "      <td>http://images.amazon.com/images/P/068107468X.0...</td>\n",
       "      <td>American Fantasy poetry</td>\n",
       "    </tr>\n",
       "    <tr>\n",
       "      <th>3</th>\n",
       "      <td>0307124533</td>\n",
       "      <td>Owl's Amazing but True No. 2</td>\n",
       "      <td>Owl Magazine</td>\n",
       "      <td>2012.0</td>\n",
       "      <td>Golden Books</td>\n",
       "      <td>http://images.amazon.com/images/P/0307124533.0...</td>\n",
       "      <td>http://images.amazon.com/images/P/0307124533.0...</td>\n",
       "      <td>http://images.amazon.com/images/P/0307124533.0...</td>\n",
       "      <td></td>\n",
       "    </tr>\n",
       "    <tr>\n",
       "      <th>4</th>\n",
       "      <td>0380816792</td>\n",
       "      <td>A Rose in Winter</td>\n",
       "      <td>Kathleen E. Woodiwiss</td>\n",
       "      <td>2011.0</td>\n",
       "      <td>Harper Mass Market Paperbacks</td>\n",
       "      <td>http://images.amazon.com/images/P/0380816792.0...</td>\n",
       "      <td>http://images.amazon.com/images/P/0380816792.0...</td>\n",
       "      <td>http://images.amazon.com/images/P/0380816792.0...</td>\n",
       "      <td>Fiction, Historical Fiction, Romance, Fiction,...</td>\n",
       "    </tr>\n",
       "  </tbody>\n",
       "</table>\n",
       "</div>"
      ],
      "text/plain": [
       "         isbn                       book_title            book_author  \\\n",
       "0  0590085417                            Heidi          Johanna Spyri   \n",
       "1  068160204X                       The Royals           Kitty Kelley   \n",
       "2  068107468X  Edgar Allen Poe Collected Poems        Edgar Allan Poe   \n",
       "3  0307124533     Owl's Amazing but True No. 2           Owl Magazine   \n",
       "4  0380816792                 A Rose in Winter  Kathleen E. Woodiwiss   \n",
       "\n",
       "   year_of_publication                      publisher  \\\n",
       "0               2021.0                     Scholastic   \n",
       "1               2020.0               Bausch & Lombard   \n",
       "2               2020.0               Bausch & Lombard   \n",
       "3               2012.0                   Golden Books   \n",
       "4               2011.0  Harper Mass Market Paperbacks   \n",
       "\n",
       "                                         image_url_s  \\\n",
       "0  http://images.amazon.com/images/P/0590085417.0...   \n",
       "1  http://images.amazon.com/images/P/068160204X.0...   \n",
       "2  http://images.amazon.com/images/P/068107468X.0...   \n",
       "3  http://images.amazon.com/images/P/0307124533.0...   \n",
       "4  http://images.amazon.com/images/P/0380816792.0...   \n",
       "\n",
       "                                         image_url_m  \\\n",
       "0  http://images.amazon.com/images/P/0590085417.0...   \n",
       "1  http://images.amazon.com/images/P/068160204X.0...   \n",
       "2  http://images.amazon.com/images/P/068107468X.0...   \n",
       "3  http://images.amazon.com/images/P/0307124533.0...   \n",
       "4  http://images.amazon.com/images/P/0380816792.0...   \n",
       "\n",
       "                                         image_url_l  \\\n",
       "0  http://images.amazon.com/images/P/0590085417.0...   \n",
       "1  http://images.amazon.com/images/P/068160204X.0...   \n",
       "2  http://images.amazon.com/images/P/068107468X.0...   \n",
       "3  http://images.amazon.com/images/P/0307124533.0...   \n",
       "4  http://images.amazon.com/images/P/0380816792.0...   \n",
       "\n",
       "                                               genre  \n",
       "0  Johanna Spyri, Shirley Temple, Movie tie-in, C...  \n",
       "1                                                     \n",
       "2                            American Fantasy poetry  \n",
       "3                                                     \n",
       "4  Fiction, Historical Fiction, Romance, Fiction,...  "
      ]
     },
     "execution_count": 95,
     "metadata": {},
     "output_type": "execute_result"
    }
   ],
   "source": [
    "df_clean.head()"
   ]
  },
  {
   "cell_type": "code",
   "execution_count": 96,
   "metadata": {},
   "outputs": [
    {
     "name": "stdout",
     "output_type": "stream",
     "text": [
      "<class 'pandas.core.frame.DataFrame'>\n",
      "Index: 226494 entries, 0 to 226494\n",
      "Data columns (total 9 columns):\n",
      " #   Column               Non-Null Count   Dtype  \n",
      "---  ------               --------------   -----  \n",
      " 0   isbn                 226494 non-null  object \n",
      " 1   book_title           226494 non-null  object \n",
      " 2   book_author          226494 non-null  object \n",
      " 3   year_of_publication  226494 non-null  float64\n",
      " 4   publisher            226494 non-null  object \n",
      " 5   image_url_s          226494 non-null  object \n",
      " 6   image_url_m          226494 non-null  object \n",
      " 7   image_url_l          226491 non-null  object \n",
      " 8   genre                226494 non-null  object \n",
      "dtypes: float64(1), object(8)\n",
      "memory usage: 17.3+ MB\n"
     ]
    }
   ],
   "source": [
    "df_clean.info()"
   ]
  },
  {
   "cell_type": "code",
   "execution_count": 252,
   "metadata": {},
   "outputs": [],
   "source": [
    "# df_clean.to_csv('data/test_big_cleaned.csv', index=False)"
   ]
  },
  {
   "cell_type": "code",
   "execution_count": 253,
   "metadata": {},
   "outputs": [],
   "source": [
    "# df_clean_no_emb = df_clean.drop(columns='genre_embedding')"
   ]
  },
  {
   "cell_type": "code",
   "execution_count": 97,
   "metadata": {},
   "outputs": [],
   "source": [
    "df_clean.to_csv('data/df_clean.csv', index=False)"
   ]
  },
  {
   "cell_type": "code",
   "execution_count": 98,
   "metadata": {},
   "outputs": [
    {
     "data": {
      "text/html": [
       "<div>\n",
       "<style scoped>\n",
       "    .dataframe tbody tr th:only-of-type {\n",
       "        vertical-align: middle;\n",
       "    }\n",
       "\n",
       "    .dataframe tbody tr th {\n",
       "        vertical-align: top;\n",
       "    }\n",
       "\n",
       "    .dataframe thead th {\n",
       "        text-align: right;\n",
       "    }\n",
       "</style>\n",
       "<table border=\"1\" class=\"dataframe\">\n",
       "  <thead>\n",
       "    <tr style=\"text-align: right;\">\n",
       "      <th></th>\n",
       "      <th>isbn</th>\n",
       "      <th>book_title</th>\n",
       "      <th>book_author</th>\n",
       "      <th>year_of_publication</th>\n",
       "      <th>publisher</th>\n",
       "      <th>image_url_s</th>\n",
       "      <th>image_url_m</th>\n",
       "      <th>image_url_l</th>\n",
       "      <th>genre</th>\n",
       "    </tr>\n",
       "  </thead>\n",
       "  <tbody>\n",
       "    <tr>\n",
       "      <th>0</th>\n",
       "      <td>0590085417</td>\n",
       "      <td>Heidi</td>\n",
       "      <td>Johanna Spyri</td>\n",
       "      <td>2021.0</td>\n",
       "      <td>Scholastic</td>\n",
       "      <td>http://images.amazon.com/images/P/0590085417.0...</td>\n",
       "      <td>http://images.amazon.com/images/P/0590085417.0...</td>\n",
       "      <td>http://images.amazon.com/images/P/0590085417.0...</td>\n",
       "      <td>Johanna Spyri, Shirley Temple, Movie tie-in, C...</td>\n",
       "    </tr>\n",
       "    <tr>\n",
       "      <th>1</th>\n",
       "      <td>068160204X</td>\n",
       "      <td>The Royals</td>\n",
       "      <td>Kitty Kelley</td>\n",
       "      <td>2020.0</td>\n",
       "      <td>Bausch &amp; Lombard</td>\n",
       "      <td>http://images.amazon.com/images/P/068160204X.0...</td>\n",
       "      <td>http://images.amazon.com/images/P/068160204X.0...</td>\n",
       "      <td>http://images.amazon.com/images/P/068160204X.0...</td>\n",
       "      <td></td>\n",
       "    </tr>\n",
       "    <tr>\n",
       "      <th>2</th>\n",
       "      <td>068107468X</td>\n",
       "      <td>Edgar Allen Poe Collected Poems</td>\n",
       "      <td>Edgar Allan Poe</td>\n",
       "      <td>2020.0</td>\n",
       "      <td>Bausch &amp; Lombard</td>\n",
       "      <td>http://images.amazon.com/images/P/068107468X.0...</td>\n",
       "      <td>http://images.amazon.com/images/P/068107468X.0...</td>\n",
       "      <td>http://images.amazon.com/images/P/068107468X.0...</td>\n",
       "      <td>American Fantasy poetry</td>\n",
       "    </tr>\n",
       "    <tr>\n",
       "      <th>3</th>\n",
       "      <td>0307124533</td>\n",
       "      <td>Owl's Amazing but True No. 2</td>\n",
       "      <td>Owl Magazine</td>\n",
       "      <td>2012.0</td>\n",
       "      <td>Golden Books</td>\n",
       "      <td>http://images.amazon.com/images/P/0307124533.0...</td>\n",
       "      <td>http://images.amazon.com/images/P/0307124533.0...</td>\n",
       "      <td>http://images.amazon.com/images/P/0307124533.0...</td>\n",
       "      <td></td>\n",
       "    </tr>\n",
       "    <tr>\n",
       "      <th>4</th>\n",
       "      <td>0380816792</td>\n",
       "      <td>A Rose in Winter</td>\n",
       "      <td>Kathleen E. Woodiwiss</td>\n",
       "      <td>2011.0</td>\n",
       "      <td>Harper Mass Market Paperbacks</td>\n",
       "      <td>http://images.amazon.com/images/P/0380816792.0...</td>\n",
       "      <td>http://images.amazon.com/images/P/0380816792.0...</td>\n",
       "      <td>http://images.amazon.com/images/P/0380816792.0...</td>\n",
       "      <td>Fiction, Historical Fiction, Romance, Fiction,...</td>\n",
       "    </tr>\n",
       "  </tbody>\n",
       "</table>\n",
       "</div>"
      ],
      "text/plain": [
       "         isbn                       book_title            book_author  \\\n",
       "0  0590085417                            Heidi          Johanna Spyri   \n",
       "1  068160204X                       The Royals           Kitty Kelley   \n",
       "2  068107468X  Edgar Allen Poe Collected Poems        Edgar Allan Poe   \n",
       "3  0307124533     Owl's Amazing but True No. 2           Owl Magazine   \n",
       "4  0380816792                 A Rose in Winter  Kathleen E. Woodiwiss   \n",
       "\n",
       "   year_of_publication                      publisher  \\\n",
       "0               2021.0                     Scholastic   \n",
       "1               2020.0               Bausch & Lombard   \n",
       "2               2020.0               Bausch & Lombard   \n",
       "3               2012.0                   Golden Books   \n",
       "4               2011.0  Harper Mass Market Paperbacks   \n",
       "\n",
       "                                         image_url_s  \\\n",
       "0  http://images.amazon.com/images/P/0590085417.0...   \n",
       "1  http://images.amazon.com/images/P/068160204X.0...   \n",
       "2  http://images.amazon.com/images/P/068107468X.0...   \n",
       "3  http://images.amazon.com/images/P/0307124533.0...   \n",
       "4  http://images.amazon.com/images/P/0380816792.0...   \n",
       "\n",
       "                                         image_url_m  \\\n",
       "0  http://images.amazon.com/images/P/0590085417.0...   \n",
       "1  http://images.amazon.com/images/P/068160204X.0...   \n",
       "2  http://images.amazon.com/images/P/068107468X.0...   \n",
       "3  http://images.amazon.com/images/P/0307124533.0...   \n",
       "4  http://images.amazon.com/images/P/0380816792.0...   \n",
       "\n",
       "                                         image_url_l  \\\n",
       "0  http://images.amazon.com/images/P/0590085417.0...   \n",
       "1  http://images.amazon.com/images/P/068160204X.0...   \n",
       "2  http://images.amazon.com/images/P/068107468X.0...   \n",
       "3  http://images.amazon.com/images/P/0307124533.0...   \n",
       "4  http://images.amazon.com/images/P/0380816792.0...   \n",
       "\n",
       "                                               genre  \n",
       "0  Johanna Spyri, Shirley Temple, Movie tie-in, C...  \n",
       "1                                                     \n",
       "2                            American Fantasy poetry  \n",
       "3                                                     \n",
       "4  Fiction, Historical Fiction, Romance, Fiction,...  "
      ]
     },
     "execution_count": 98,
     "metadata": {},
     "output_type": "execute_result"
    }
   ],
   "source": [
    "df_clean.head()"
   ]
  },
  {
   "cell_type": "code",
   "execution_count": 99,
   "metadata": {},
   "outputs": [
    {
     "name": "stdout",
     "output_type": "stream",
     "text": [
      "<class 'pandas.core.frame.DataFrame'>\n",
      "Index: 226494 entries, 0 to 226494\n",
      "Data columns (total 9 columns):\n",
      " #   Column               Non-Null Count   Dtype  \n",
      "---  ------               --------------   -----  \n",
      " 0   isbn                 226494 non-null  object \n",
      " 1   book_title           226494 non-null  object \n",
      " 2   book_author          226494 non-null  object \n",
      " 3   year_of_publication  226494 non-null  float64\n",
      " 4   publisher            226494 non-null  object \n",
      " 5   image_url_s          226494 non-null  object \n",
      " 6   image_url_m          226494 non-null  object \n",
      " 7   image_url_l          226491 non-null  object \n",
      " 8   genre                226494 non-null  object \n",
      "dtypes: float64(1), object(8)\n",
      "memory usage: 17.3+ MB\n"
     ]
    }
   ],
   "source": [
    "df_clean.info()"
   ]
  }
 ],
 "metadata": {
  "kernelspec": {
   "display_name": ".venv",
   "language": "python",
   "name": "python3"
  },
  "language_info": {
   "codemirror_mode": {
    "name": "ipython",
    "version": 3
   },
   "file_extension": ".py",
   "mimetype": "text/x-python",
   "name": "python",
   "nbconvert_exporter": "python",
   "pygments_lexer": "ipython3",
   "version": "3.11.3"
  }
 },
 "nbformat": 4,
 "nbformat_minor": 2
}
