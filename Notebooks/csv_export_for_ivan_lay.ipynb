{
 "cells": [
  {
   "cell_type": "markdown",
   "metadata": {},
   "source": [
    "## No Need To Run This Notebook!\n",
    "This notebook is only there to document what was done during the data preprocessing.\n",
    "In the absolute exceptional emergency of needing to run it again, please check file paths.\n",
    "Some may need adding \"../\" before them."
   ]
  },
  {
   "cell_type": "code",
   "execution_count": 2,
   "metadata": {},
   "outputs": [
    {
     "name": "stdout",
     "output_type": "stream",
     "text": [
      "Continuing with existing version of data folder\n",
      "Goodreads dataset loaded successfully as books_goodreads\n",
      "Pandas dataframes (books_goodreads, books_big, book, users, ratings) loaded successfully\n",
      "Columns in DataFrames 'users' and 'ratings' renamed\n",
      "You can use the DataFrames 'books' or 'books_big' - they are exactly the same (big) dataset\n",
      "Ready to go!\n"
     ]
    }
   ],
   "source": [
    "%run import_data"
   ]
  },
  {
   "cell_type": "code",
   "execution_count": 3,
   "metadata": {},
   "outputs": [
    {
     "name": "stdout",
     "output_type": "stream",
     "text": [
      "<class 'pandas.core.frame.DataFrame'>\n",
      "RangeIndex: 226493 entries, 0 to 226492\n",
      "Data columns (total 9 columns):\n",
      " #   Column               Non-Null Count   Dtype \n",
      "---  ------               --------------   ----- \n",
      " 0   isbn                 226493 non-null  object\n",
      " 1   book_title           226493 non-null  object\n",
      " 2   book_author          226322 non-null  object\n",
      " 3   year_of_publication  226493 non-null  int64 \n",
      " 4   publisher            226493 non-null  object\n",
      " 5   image_url_s          226493 non-null  object\n",
      " 6   image_url_m          226493 non-null  object\n",
      " 7   image_url_l          226493 non-null  object\n",
      " 8   genre                195719 non-null  object\n",
      "dtypes: int64(1), object(8)\n",
      "memory usage: 15.6+ MB\n"
     ]
    }
   ],
   "source": [
    "books.info()"
   ]
  },
  {
   "cell_type": "code",
   "execution_count": 4,
   "metadata": {},
   "outputs": [
    {
     "data": {
      "text/plain": [
       "(226493, 9)"
      ]
     },
     "execution_count": 4,
     "metadata": {},
     "output_type": "execute_result"
    }
   ],
   "source": [
    "books.shape"
   ]
  },
  {
   "cell_type": "code",
   "execution_count": 5,
   "metadata": {},
   "outputs": [],
   "source": [
    "# There are missing values in the columns 'book_author' and 'genre'\n",
    "# Both of them are string values\n",
    "# For the deployment, we will turn those into empty strings \"\"ArithmeticError\n",
    "books['genre'] = books['genre'].replace(pd.NA, \"\")\n",
    "books['book_author'] = books['book_author'].replace(pd.NA, \"\")"
   ]
  },
  {
   "cell_type": "code",
   "execution_count": 6,
   "metadata": {},
   "outputs": [
    {
     "name": "stdout",
     "output_type": "stream",
     "text": [
      "<class 'pandas.core.frame.DataFrame'>\n",
      "RangeIndex: 226493 entries, 0 to 226492\n",
      "Data columns (total 9 columns):\n",
      " #   Column               Non-Null Count   Dtype \n",
      "---  ------               --------------   ----- \n",
      " 0   isbn                 226493 non-null  object\n",
      " 1   book_title           226493 non-null  object\n",
      " 2   book_author          226493 non-null  object\n",
      " 3   year_of_publication  226493 non-null  int64 \n",
      " 4   publisher            226493 non-null  object\n",
      " 5   image_url_s          226493 non-null  object\n",
      " 6   image_url_m          226493 non-null  object\n",
      " 7   image_url_l          226493 non-null  object\n",
      " 8   genre                226493 non-null  object\n",
      "dtypes: int64(1), object(8)\n",
      "memory usage: 15.6+ MB\n"
     ]
    }
   ],
   "source": [
    "books.info()"
   ]
  },
  {
   "cell_type": "code",
   "execution_count": 7,
   "metadata": {},
   "outputs": [
    {
     "data": {
      "text/plain": [
       "count    226493.000000\n",
       "mean       1993.548105\n",
       "std           8.496009\n",
       "min        1806.000000\n",
       "25%        1989.000000\n",
       "50%        1996.000000\n",
       "75%        2000.000000\n",
       "max        2021.000000\n",
       "Name: year_of_publication, dtype: float64"
      ]
     },
     "execution_count": 7,
     "metadata": {},
     "output_type": "execute_result"
    }
   ],
   "source": [
    "books.year_of_publication.describe()"
   ]
  },
  {
   "cell_type": "code",
   "execution_count": 11,
   "metadata": {},
   "outputs": [],
   "source": [
    "books.to_csv(\"data/books_for_ivan.csv\", sep=';', encoding='utf-8', index=False)"
   ]
  },
  {
   "cell_type": "code",
   "execution_count": null,
   "metadata": {},
   "outputs": [],
   "source": []
  }
 ],
 "metadata": {
  "kernelspec": {
   "display_name": ".venv",
   "language": "python",
   "name": "python3"
  },
  "language_info": {
   "codemirror_mode": {
    "name": "ipython",
    "version": 3
   },
   "file_extension": ".py",
   "mimetype": "text/x-python",
   "name": "python",
   "nbconvert_exporter": "python",
   "pygments_lexer": "ipython3",
   "version": "3.11.3"
  }
 },
 "nbformat": 4,
 "nbformat_minor": 2
}
