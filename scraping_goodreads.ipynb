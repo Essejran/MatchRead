{
 "cells": [
  {
   "cell_type": "code",
   "execution_count": 1,
   "metadata": {},
   "outputs": [
    {
     "name": "stdout",
     "output_type": "stream",
     "text": [
      "Dataset books.csv loaded successfully\n",
      "isbn column dropped, isbn13 column kept\n",
      "Language codes eng, en-US, en-GB, en-CA unified to 'en'\n",
      "Missing publication dates filled in\n",
      "2nd (large) dataset is being downloaded...\n",
      "Dataset downloaded and saved as data/books2.csv\n",
      "Dataset downloaded and saved as data/users.csv\n",
      "Dataset downloaded and saved as data/ratings.csv\n",
      "Pandas dataframes (books_df, books_big, users, ratings) loaded successfully\n",
      "Columns renamed and dates converted to dtype: datetime\n",
      "Ready to go!\n"
     ]
    }
   ],
   "source": [
    "%run import_data.ipynb"
   ]
  },
  {
   "cell_type": "code",
   "execution_count": 29,
   "metadata": {},
   "outputs": [
    {
     "name": "stdout",
     "output_type": "stream",
     "text": [
      "Error fetching annotation\n"
     ]
    }
   ],
   "source": [
    "import requests\n",
    "import pandas as pd\n",
    "\n",
    "def get_book_annotation(isbn13):\n",
    "    # Define the API endpoint\n",
    "    url = f'https://www.googleapis.com/books/v1/volumes?q=isbn:{isbn13}'\n",
    "    \n",
    "    # Make the API request\n",
    "    response = requests.get(url)\n",
    "    \n",
    "    # Check if the request was successful\n",
    "    if response.status_code == 200:\n",
    "        data = response.json()\n",
    "        \n",
    "        # Check if any books were found\n",
    "        if 'items' in data:\n",
    "            # Extract the description from the first item\n",
    "            annotation = data['items'][0]['volumeInfo'].get('description', 'No annotation found')\n",
    "            return annotation\n",
    "        else:\n",
    "            return 'No annotation found'\n",
    "    else:\n",
    "        return 'Error fetching annotation'\n",
    "\n",
    "# Example usage:\n",
    "print(get_book_annotation('9780140449136'))  # Replace with an actual ISBN13\n"
   ]
  },
  {
   "cell_type": "code",
   "execution_count": 61,
   "metadata": {},
   "outputs": [],
   "source": [
    "import requests\n",
    "\n",
    "def get_book_genre(isbn13):\n",
    "    \"\"\"\n",
    "    Fetches the genre (category) of a book from Google Books API.\n",
    "\n",
    "    Parameters:\n",
    "        isbn13 (str): The ISBN13 of the book.\n",
    "\n",
    "    Returns:\n",
    "        list: A list of genres of the book.\n",
    "    \"\"\"\n",
    "    # Define the API endpoint\n",
    "    url = f'https://www.googleapis.com/books/v1/volumes?q=isbn:{isbn13}'\n",
    "    \n",
    "    # Make the API request\n",
    "    response = requests.get(url)\n",
    "    \n",
    "    # Initialize the genre list with a default value\n",
    "    genres = ['No genre found']\n",
    "    \n",
    "    # Check if the request was successful\n",
    "    if response.status_code == 200:\n",
    "        data = response.json()\n",
    "        \n",
    "        # Check if any books were found\n",
    "        if 'items' in data:\n",
    "            # Extract the first item\n",
    "            volume_info = data['items'][0]['volumeInfo']\n",
    "            \n",
    "            # Extract the genres (categories)\n",
    "            categories = volume_info.get('categories', [])\n",
    "            if categories:\n",
    "                genres = categories\n",
    "    \n",
    "    return genres"
   ]
  },
  {
   "cell_type": "code",
   "execution_count": 67,
   "metadata": {},
   "outputs": [
    {
     "name": "stdout",
     "output_type": "stream",
     "text": [
      "2003\n"
     ]
    }
   ],
   "source": [
    "def get_book_publishing_year(isbn13):\n",
    "    \"\"\"\n",
    "    Fetches the publishing year of a book from Google Books API.\n",
    "\n",
    "    Parameters:\n",
    "        isbn13 (str): The ISBN13 of the book.\n",
    "\n",
    "    Returns:\n",
    "        str: The publishing year of the book or a default message if not found.\n",
    "    \"\"\"\n",
    "    # Define the API endpoint\n",
    "    url = f'https://www.googleapis.com/books/v1/volumes?q=isbn:{isbn13}'\n",
    "    \n",
    "    # Make the API request\n",
    "    response = requests.get(url)\n",
    "    \n",
    "    # Initialize the publishing year with a default value\n",
    "    publishing_year = 'No publishing year found'\n",
    "    \n",
    "    # Check if the request was successful\n",
    "    if response.status_code == 200:\n",
    "        data = response.json()\n",
    "        \n",
    "        # Check if any books were found\n",
    "        if 'items' in data:\n",
    "            # Extract the first item\n",
    "            volume_info = data['items'][0]['volumeInfo']\n",
    "            \n",
    "            # Extract the publishing year from the `publishedDate` field\n",
    "            published_date = volume_info.get('publishedDate', '')\n",
    "            \n",
    "            # If a publishedDate is available, extract the year\n",
    "            if published_date:\n",
    "                # Extract the year part (assume format is YYYY-MM-DD or YYYY)\n",
    "                year = published_date.split('-')[0]  # Splits by '-' and takes the first part\n",
    "                publishing_year = year\n",
    "    \n",
    "    return publishing_year\n",
    "\n",
    "# Example usage:\n",
    "print(get_book_publishing_year('9780140449136'))  # Replace with an actual ISBN13\n"
   ]
  },
  {
   "cell_type": "code",
   "execution_count": 64,
   "metadata": {},
   "outputs": [
    {
     "name": "stdout",
     "output_type": "stream",
     "text": [
      "['Authors, American']\n"
     ]
    }
   ],
   "source": [
    "# Example usage:\n",
    "print(get_book_genre('9780385326506'))  # Replace with an actual ISBN13"
   ]
  },
  {
   "cell_type": "code",
   "execution_count": 36,
   "metadata": {},
   "outputs": [],
   "source": [
    "import numpy as np\n",
    "\n",
    "def split_df(df, n, prefix):\n",
    "    \"\"\"\n",
    "    Splits a DataFrame into n equal (or as equal as possible) parts and saves\n",
    "    each part into a new DataFrame with a specified prefix and consecutive numbers.\n",
    "\n",
    "    Parameters:\n",
    "        df (pd.DataFrame): The DataFrame to split.\n",
    "        n (int): The number of parts to split the DataFrame into.\n",
    "        prefix (str): The prefix for the new DataFrame names.\n",
    "\n",
    "    Returns:\n",
    "        List[str]: A list containing the names of the new DataFrames.\n",
    "    \"\"\"\n",
    "    # Calculate the number of rows in each split\n",
    "    split_sizes = [len(df) // n + (1 if i < len(df) % n else 0) for i in range(n)]\n",
    "    \n",
    "    # Use np.split to split the DataFrame\n",
    "    split_indices = np.cumsum(split_sizes)[:-1]\n",
    "    split_dfs = np.split(df, split_indices)\n",
    "    \n",
    "    # Create new DataFrames with the specified prefix\n",
    "    df_names = []\n",
    "    for i, split_df in enumerate(split_dfs):\n",
    "        df_name = f\"{prefix}{i+1}\"\n",
    "        globals()[df_name] = split_df\n",
    "        df_names.append(df_name)\n",
    "    \n",
    "    return df_names\n"
   ]
  },
  {
   "cell_type": "code",
   "execution_count": 38,
   "metadata": {},
   "outputs": [
    {
     "name": "stderr",
     "output_type": "stream",
     "text": [
      "/Users/laylanyrabia/neuefische/book_recommendation101/.venv/lib/python3.11/site-packages/numpy/core/fromnumeric.py:59: FutureWarning: 'DataFrame.swapaxes' is deprecated and will be removed in a future version. Please use 'DataFrame.transpose' instead.\n",
      "  return bound(*args, **kwds)\n"
     ]
    },
    {
     "data": {
      "text/plain": [
       "['goodreads1',\n",
       " 'goodreads2',\n",
       " 'goodreads3',\n",
       " 'goodreads4',\n",
       " 'goodreads5',\n",
       " 'goodreads6',\n",
       " 'goodreads7',\n",
       " 'goodreads8',\n",
       " 'goodreads9',\n",
       " 'goodreads10',\n",
       " 'goodreads11',\n",
       " 'goodreads12',\n",
       " 'goodreads13',\n",
       " 'goodreads14',\n",
       " 'goodreads15',\n",
       " 'goodreads16',\n",
       " 'goodreads17',\n",
       " 'goodreads18',\n",
       " 'goodreads19',\n",
       " 'goodreads20',\n",
       " 'goodreads21',\n",
       " 'goodreads22',\n",
       " 'goodreads23',\n",
       " 'goodreads24',\n",
       " 'goodreads25',\n",
       " 'goodreads26',\n",
       " 'goodreads27',\n",
       " 'goodreads28',\n",
       " 'goodreads29',\n",
       " 'goodreads30',\n",
       " 'goodreads31',\n",
       " 'goodreads32',\n",
       " 'goodreads33',\n",
       " 'goodreads34',\n",
       " 'goodreads35',\n",
       " 'goodreads36',\n",
       " 'goodreads37',\n",
       " 'goodreads38',\n",
       " 'goodreads39',\n",
       " 'goodreads40',\n",
       " 'goodreads41',\n",
       " 'goodreads42',\n",
       " 'goodreads43',\n",
       " 'goodreads44',\n",
       " 'goodreads45',\n",
       " 'goodreads46',\n",
       " 'goodreads47',\n",
       " 'goodreads48',\n",
       " 'goodreads49',\n",
       " 'goodreads50',\n",
       " 'goodreads51',\n",
       " 'goodreads52',\n",
       " 'goodreads53',\n",
       " 'goodreads54',\n",
       " 'goodreads55',\n",
       " 'goodreads56',\n",
       " 'goodreads57',\n",
       " 'goodreads58',\n",
       " 'goodreads59',\n",
       " 'goodreads60',\n",
       " 'goodreads61',\n",
       " 'goodreads62',\n",
       " 'goodreads63',\n",
       " 'goodreads64',\n",
       " 'goodreads65',\n",
       " 'goodreads66',\n",
       " 'goodreads67',\n",
       " 'goodreads68',\n",
       " 'goodreads69',\n",
       " 'goodreads70',\n",
       " 'goodreads71',\n",
       " 'goodreads72',\n",
       " 'goodreads73',\n",
       " 'goodreads74',\n",
       " 'goodreads75',\n",
       " 'goodreads76',\n",
       " 'goodreads77',\n",
       " 'goodreads78',\n",
       " 'goodreads79',\n",
       " 'goodreads80',\n",
       " 'goodreads81',\n",
       " 'goodreads82',\n",
       " 'goodreads83',\n",
       " 'goodreads84',\n",
       " 'goodreads85',\n",
       " 'goodreads86',\n",
       " 'goodreads87',\n",
       " 'goodreads88',\n",
       " 'goodreads89',\n",
       " 'goodreads90',\n",
       " 'goodreads91',\n",
       " 'goodreads92',\n",
       " 'goodreads93',\n",
       " 'goodreads94',\n",
       " 'goodreads95',\n",
       " 'goodreads96',\n",
       " 'goodreads97',\n",
       " 'goodreads98',\n",
       " 'goodreads99',\n",
       " 'goodreads100']"
      ]
     },
     "execution_count": 38,
     "metadata": {},
     "output_type": "execute_result"
    }
   ],
   "source": [
    "split_df(books_df, 100, 'goodreads')"
   ]
  },
  {
   "cell_type": "code",
   "execution_count": 40,
   "metadata": {},
   "outputs": [
    {
     "data": {
      "text/plain": [
       "(112, 11)"
      ]
     },
     "execution_count": 40,
     "metadata": {},
     "output_type": "execute_result"
    }
   ],
   "source": [
    "goodreads1.shape"
   ]
  },
  {
   "cell_type": "code",
   "execution_count": 48,
   "metadata": {},
   "outputs": [],
   "source": [
    "# Create a list of the DataFrames\n",
    "goodreads_list = [globals()[f\"goodreads{i}\"] for i in range(1, 101)]"
   ]
  },
  {
   "cell_type": "code",
   "execution_count": 70,
   "metadata": {},
   "outputs": [],
   "source": [
    "# Create an empty CSV file\n",
    "with open('goodreads_annotated.csv', 'w') as file:\n",
    "    pass  # This creates an empty file"
   ]
  },
  {
   "cell_type": "code",
   "execution_count": 71,
   "metadata": {},
   "outputs": [
    {
     "name": "stdout",
     "output_type": "stream",
     "text": [
      "1% done\n",
      "2% done\n",
      "3% done\n",
      "4% done\n",
      "5% done\n",
      "6% done\n",
      "7% done\n",
      "8% done\n",
      "9% done\n",
      "10% done\n",
      "11% done\n",
      "12% done\n",
      "13% done\n",
      "14% done\n",
      "15% done\n",
      "16% done\n",
      "17% done\n",
      "18% done\n",
      "19% done\n",
      "20% done\n",
      "21% done\n",
      "22% done\n",
      "23% done\n",
      "24% done\n",
      "25% done\n",
      "26% done\n",
      "27% done\n",
      "28% done\n",
      "29% done\n",
      "30% done\n",
      "31% done\n",
      "32% done\n",
      "33% done\n",
      "34% done\n",
      "35% done\n",
      "36% done\n",
      "37% done\n",
      "38% done\n",
      "39% done\n",
      "40% done\n",
      "41% done\n",
      "42% done\n",
      "43% done\n",
      "44% done\n",
      "45% done\n",
      "46% done\n",
      "47% done\n",
      "48% done\n",
      "49% done\n",
      "50% done\n",
      "51% done\n",
      "52% done\n",
      "53% done\n",
      "54% done\n",
      "55% done\n",
      "56% done\n",
      "57% done\n",
      "58% done\n",
      "59% done\n",
      "60% done\n",
      "61% done\n",
      "62% done\n",
      "63% done\n",
      "64% done\n",
      "65% done\n",
      "66% done\n",
      "67% done\n",
      "68% done\n",
      "69% done\n"
     ]
    }
   ],
   "source": [
    "counter = 0\n",
    "for df in goodreads_list:\n",
    "    df['annotation'] = df['isbn13'].apply(get_book_annotation)  # get annotation\n",
    "    df['genre'] = df['isbn13'].apply(get_book_genre)            # get genre\n",
    "    df.to_csv('goodreads_annotated.csv', mode='a', index=False, header=False) # save to csv\n",
    "    counter += 1\n",
    "    print(f\"{counter}% done\")"
   ]
  },
  {
   "cell_type": "code",
   "execution_count": 87,
   "metadata": {},
   "outputs": [],
   "source": [
    "columns_detailed = ['bookid', 'title', 'authors', 'average_rating', 'isbn13',\n",
    "       'language_code', 'num_pages', 'ratings_count', 'text_reviews_count',\n",
    "       'publication_date', 'publisher', 'annotation', 'genre', 'year']\n",
    "# add column names"
   ]
  },
  {
   "cell_type": "code",
   "execution_count": 13,
   "metadata": {},
   "outputs": [],
   "source": [
    "goodreads_detailed = pd.read_csv('goodreads_annotated.csv') # read the resulting csv"
   ]
  },
  {
   "cell_type": "code",
   "execution_count": null,
   "metadata": {},
   "outputs": [],
   "source": [
    "# clean up the dataframe before saving again as a csv:\n",
    "goodreads_detailed = goodreads_detailed.rename(columns={'language_code': 'language'}) # rename column\n",
    "goodreads_detailed = goodreads_detailed.sort_values(by='bookid') # sort by bookid\n",
    "goodreads_detailed['publication_date'] = pd.to_datetime(goodreads_detailed['publication_date'], errors='coerce') # convert to datetime\n",
    "goodreads_detailed['publication_date'] = goodreads_detailed['publication_date'].dt.year # extract year\n",
    "goodreads_detailed['authors'] = goodreads_detailed['authors'].str.split('/') # split authors into lists\n",
    "\n",
    "# bookid, isbn13, publication_date have unsuitable data types\n",
    "df.bookid = df.bookid.astype(str)\n",
    "df.isbn13 = df.isbn13.astype(str)"
   ]
  },
  {
   "cell_type": "code",
   "execution_count": 14,
   "metadata": {},
   "outputs": [
    {
     "data": {
      "text/html": [
       "<div>\n",
       "<style scoped>\n",
       "    .dataframe tbody tr th:only-of-type {\n",
       "        vertical-align: middle;\n",
       "    }\n",
       "\n",
       "    .dataframe tbody tr th {\n",
       "        vertical-align: top;\n",
       "    }\n",
       "\n",
       "    .dataframe thead th {\n",
       "        text-align: right;\n",
       "    }\n",
       "</style>\n",
       "<table border=\"1\" class=\"dataframe\">\n",
       "  <thead>\n",
       "    <tr style=\"text-align: right;\">\n",
       "      <th></th>\n",
       "      <th>bookid</th>\n",
       "      <th>title</th>\n",
       "      <th>authors</th>\n",
       "      <th>average_rating</th>\n",
       "      <th>isbn13</th>\n",
       "      <th>language</th>\n",
       "      <th>num_pages</th>\n",
       "      <th>ratings_count</th>\n",
       "      <th>text_reviews_count</th>\n",
       "      <th>publication_date</th>\n",
       "      <th>publisher</th>\n",
       "      <th>annotation</th>\n",
       "      <th>genre</th>\n",
       "    </tr>\n",
       "  </thead>\n",
       "  <tbody>\n",
       "    <tr>\n",
       "      <th>0</th>\n",
       "      <td>1</td>\n",
       "      <td>Harry Potter and the Half-Blood Prince (Harry ...</td>\n",
       "      <td>J.K. Rowling/Mary GrandPré</td>\n",
       "      <td>4.57</td>\n",
       "      <td>9780439785969</td>\n",
       "      <td>en</td>\n",
       "      <td>652</td>\n",
       "      <td>2095690</td>\n",
       "      <td>27591</td>\n",
       "      <td>2003</td>\n",
       "      <td>Scholastic Inc.</td>\n",
       "      <td>No annotation found</td>\n",
       "      <td>['No genre found']</td>\n",
       "    </tr>\n",
       "    <tr>\n",
       "      <th>1</th>\n",
       "      <td>2</td>\n",
       "      <td>Harry Potter and the Order of the Phoenix (Har...</td>\n",
       "      <td>J.K. Rowling/Mary GrandPré</td>\n",
       "      <td>4.49</td>\n",
       "      <td>9780439358071</td>\n",
       "      <td>en</td>\n",
       "      <td>870</td>\n",
       "      <td>2153167</td>\n",
       "      <td>29221</td>\n",
       "      <td>2003</td>\n",
       "      <td>Scholastic Inc.</td>\n",
       "      <td>Collects the complete series that relates the ...</td>\n",
       "      <td>['No genre found']</td>\n",
       "    </tr>\n",
       "    <tr>\n",
       "      <th>2</th>\n",
       "      <td>4</td>\n",
       "      <td>Harry Potter and the Chamber of Secrets (Harry...</td>\n",
       "      <td>J.K. Rowling</td>\n",
       "      <td>4.42</td>\n",
       "      <td>9780439554893</td>\n",
       "      <td>en</td>\n",
       "      <td>352</td>\n",
       "      <td>6333</td>\n",
       "      <td>244</td>\n",
       "      <td>2005</td>\n",
       "      <td>Scholastic</td>\n",
       "      <td>When the Chamber of Secrets is opened again at...</td>\n",
       "      <td>['Juvenile Fiction']</td>\n",
       "    </tr>\n",
       "    <tr>\n",
       "      <th>3</th>\n",
       "      <td>5</td>\n",
       "      <td>Harry Potter and the Prisoner of Azkaban (Harr...</td>\n",
       "      <td>J.K. Rowling/Mary GrandPré</td>\n",
       "      <td>4.56</td>\n",
       "      <td>9780439655484</td>\n",
       "      <td>en</td>\n",
       "      <td>435</td>\n",
       "      <td>2339585</td>\n",
       "      <td>36325</td>\n",
       "      <td>1993</td>\n",
       "      <td>Scholastic Inc.</td>\n",
       "      <td>During his third year at Hogwarts School for W...</td>\n",
       "      <td>['No genre found']</td>\n",
       "    </tr>\n",
       "    <tr>\n",
       "      <th>4</th>\n",
       "      <td>8</td>\n",
       "      <td>Harry Potter Boxed Set  Books 1-5 (Harry Potte...</td>\n",
       "      <td>J.K. Rowling/Mary GrandPré</td>\n",
       "      <td>4.78</td>\n",
       "      <td>9780439682589</td>\n",
       "      <td>en</td>\n",
       "      <td>2690</td>\n",
       "      <td>41428</td>\n",
       "      <td>164</td>\n",
       "      <td>1970</td>\n",
       "      <td>Scholastic</td>\n",
       "      <td>No annotation found</td>\n",
       "      <td>['No genre found']</td>\n",
       "    </tr>\n",
       "  </tbody>\n",
       "</table>\n",
       "</div>"
      ],
      "text/plain": [
       "   bookid                                              title  \\\n",
       "0       1  Harry Potter and the Half-Blood Prince (Harry ...   \n",
       "1       2  Harry Potter and the Order of the Phoenix (Har...   \n",
       "2       4  Harry Potter and the Chamber of Secrets (Harry...   \n",
       "3       5  Harry Potter and the Prisoner of Azkaban (Harr...   \n",
       "4       8  Harry Potter Boxed Set  Books 1-5 (Harry Potte...   \n",
       "\n",
       "                      authors  average_rating         isbn13 language  \\\n",
       "0  J.K. Rowling/Mary GrandPré            4.57  9780439785969       en   \n",
       "1  J.K. Rowling/Mary GrandPré            4.49  9780439358071       en   \n",
       "2                J.K. Rowling            4.42  9780439554893       en   \n",
       "3  J.K. Rowling/Mary GrandPré            4.56  9780439655484       en   \n",
       "4  J.K. Rowling/Mary GrandPré            4.78  9780439682589       en   \n",
       "\n",
       "   num_pages  ratings_count  text_reviews_count  publication_date  \\\n",
       "0        652        2095690               27591              2003   \n",
       "1        870        2153167               29221              2003   \n",
       "2        352           6333                 244              2005   \n",
       "3        435        2339585               36325              1993   \n",
       "4       2690          41428                 164              1970   \n",
       "\n",
       "         publisher                                         annotation  \\\n",
       "0  Scholastic Inc.                                No annotation found   \n",
       "1  Scholastic Inc.  Collects the complete series that relates the ...   \n",
       "2       Scholastic  When the Chamber of Secrets is opened again at...   \n",
       "3  Scholastic Inc.  During his third year at Hogwarts School for W...   \n",
       "4       Scholastic                                No annotation found   \n",
       "\n",
       "                  genre  \n",
       "0    ['No genre found']  \n",
       "1    ['No genre found']  \n",
       "2  ['Juvenile Fiction']  \n",
       "3    ['No genre found']  \n",
       "4    ['No genre found']  "
      ]
     },
     "execution_count": 14,
     "metadata": {},
     "output_type": "execute_result"
    }
   ],
   "source": [
    "goodreads_detailed.head()"
   ]
  },
  {
   "cell_type": "code",
   "execution_count": 15,
   "metadata": {},
   "outputs": [
    {
     "name": "stdout",
     "output_type": "stream",
     "text": [
      "<class 'pandas.core.frame.DataFrame'>\n",
      "RangeIndex: 11127 entries, 0 to 11126\n",
      "Data columns (total 13 columns):\n",
      " #   Column              Non-Null Count  Dtype  \n",
      "---  ------              --------------  -----  \n",
      " 0   bookid              11127 non-null  int64  \n",
      " 1   title               11127 non-null  object \n",
      " 2   authors             11127 non-null  object \n",
      " 3   average_rating      11127 non-null  float64\n",
      " 4   isbn13              11127 non-null  int64  \n",
      " 5   language            11127 non-null  object \n",
      " 6   num_pages           11127 non-null  int64  \n",
      " 7   ratings_count       11127 non-null  int64  \n",
      " 8   text_reviews_count  11127 non-null  int64  \n",
      " 9   publication_date    11127 non-null  int64  \n",
      " 10  publisher           11127 non-null  object \n",
      " 11  annotation          11127 non-null  object \n",
      " 12  genre               11127 non-null  object \n",
      "dtypes: float64(1), int64(6), object(6)\n",
      "memory usage: 1.1+ MB\n"
     ]
    }
   ],
   "source": [
    "goodreads_detailed.info()"
   ]
  },
  {
   "cell_type": "code",
   "execution_count": 4,
   "metadata": {},
   "outputs": [
    {
     "data": {
      "text/plain": [
       "(11127, 13)"
      ]
     },
     "execution_count": 4,
     "metadata": {},
     "output_type": "execute_result"
    }
   ],
   "source": [
    "goodreads_detailed.shape"
   ]
  },
  {
   "cell_type": "code",
   "execution_count": 111,
   "metadata": {},
   "outputs": [],
   "source": [
    "# Save the updated data to a new CSV file for future use\n",
    "goodreads_detailed.to_csv('data/goodreads_detailed.csv', index=False)"
   ]
  }
 ],
 "metadata": {
  "kernelspec": {
   "display_name": ".venv",
   "language": "python",
   "name": "python3"
  },
  "language_info": {
   "codemirror_mode": {
    "name": "ipython",
    "version": 3
   },
   "file_extension": ".py",
   "mimetype": "text/x-python",
   "name": "python",
   "nbconvert_exporter": "python",
   "pygments_lexer": "ipython3",
   "version": "3.11.3"
  }
 },
 "nbformat": 4,
 "nbformat_minor": 2
}
